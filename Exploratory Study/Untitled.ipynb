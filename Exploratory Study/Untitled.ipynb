{
 "cells": [
  {
   "cell_type": "markdown",
   "metadata": {
    "toc": true
   },
   "source": [
    "<h1>Table of Contents<span class=\"tocSkip\"></span></h1>\n",
    "<div class=\"toc\"><ul class=\"toc-item\"><li><span><a href=\"#only-patients-with-5-admissions\" data-toc-modified-id=\"only-patients-with-5-admissions-1\"><span class=\"toc-item-num\">1&nbsp;&nbsp;</span>only patients with 5 admissions</a></span></li></ul></div>"
   ]
  },
  {
   "cell_type": "code",
   "execution_count": 1,
   "metadata": {},
   "outputs": [],
   "source": [
    "import pandas as pd\n",
    "import numpy as np\n",
    "from matplotlib import pyplot as plt\n",
    "\n",
    "pd.options.display.max_rows = 400\n",
    "pd.options.display.max_columns = 50"
   ]
  },
  {
   "cell_type": "code",
   "execution_count": 5,
   "metadata": {},
   "outputs": [
    {
     "name": "stdout",
     "output_type": "stream",
     "text": [
      "/Users/jinchenxie/Desktop/datasets/processed\n"
     ]
    }
   ],
   "source": [
    "%cd ~/desktop/datasets/processed\n",
    "baseline = pd.read_excel('Data_noNA.xlsx', 'baseline')\n",
    "admission = pd.read_excel('Data_noNA.xlsx', 'admission')"
   ]
  },
  {
   "cell_type": "code",
   "execution_count": 7,
   "metadata": {},
   "outputs": [
    {
     "data": {
      "text/plain": [
       "Index(['rID', 'INDEX_HOSPITALIZATION', 'LOS_DAYS', 'AGE_ADMISSION',\n",
       "       'ADMISSION_SOURCE', 'IPOP', 'PATIENT_TYPE_DESCRIPTION', 'DISPOSITION',\n",
       "       'CABG', 'TAVR', 'SAVR_MECH', 'SAVR_BIO', 'SURG_AO_GRFT', 'ENDO_AO_GRFT',\n",
       "       'AO_VLV_REPAIR', 'SMVR', 'SPVR', 'STVR', 'POST_VAD', 'POST_TRANSPLANT',\n",
       "       'RHC_FOUND', 'NONCARDIACFLAG', 'CARDIACFLAG', 'MIFLAG', 'HFFLAG',\n",
       "       'H_STROKEFLAG', 'I_STROKEFLAG', 'BLEEDFLAG', 'AFIBFLAG', 'CKDFLAG',\n",
       "       'ARRESTFLAG', 'VTACHFLAG', 'VFIBFLAG', 'PCI', 'IMPELLA', 'IABP', 'ECMO',\n",
       "       'ABLATION', 'PACEMAKER_IMPLANT', 'ICD_IMPLANT', 'BIV_ICD_IMPLANT',\n",
       "       'CRT_IMPLANT', 'admission_times', 'last_adm', 'readmission_days_btw',\n",
       "       'readmit_30_label', 'inhospital_ctb_label', 'ctb_label'],\n",
       "      dtype='object')"
      ]
     },
     "execution_count": 7,
     "metadata": {},
     "output_type": "execute_result"
    }
   ],
   "source": [
    "admission.columns"
   ]
  },
  {
   "cell_type": "code",
   "execution_count": 23,
   "metadata": {},
   "outputs": [],
   "source": [
    "df_for_corr1 = admission.copy()"
   ]
  },
  {
   "cell_type": "code",
   "execution_count": 24,
   "metadata": {},
   "outputs": [],
   "source": [
    "df_for_corr1 = admission.drop(columns=['INDEX_HOSPITALIZATION','last_adm',\n",
    "                                       'inhospital_ctb_label'])"
   ]
  },
  {
   "cell_type": "code",
   "execution_count": 16,
   "metadata": {},
   "outputs": [
    {
     "data": {
      "image/png": "[encoded data removed]",
      "text/plain": [
       "<Figure size 288x288 with 1 Axes>"
      ]
     },
     "metadata": {
      "needs_background": "light"
     },
     "output_type": "display_data"
    }
   ],
   "source": [
    "plt.matshow(df_for_corr1.corr())\n",
    "plt.show()"
   ]
  },
  {
   "cell_type": "markdown",
   "metadata": {},
   "source": [
    "# only patients with 5 admissions"
   ]
  },
  {
   "cell_type": "code",
   "execution_count": 25,
   "metadata": {},
   "outputs": [],
   "source": [
    "df1 = df_for_corr1.copy()"
   ]
  },
  {
   "cell_type": "code",
   "execution_count": 26,
   "metadata": {},
   "outputs": [
    {
     "data": {
      "text/plain": [
       "1     2521\n",
       "2     2083\n",
       "3     1638\n",
       "4     1297\n",
       "5     1051\n",
       "6      853\n",
       "7      702\n",
       "8      554\n",
       "9      438\n",
       "10     350\n",
       "11     288\n",
       "12     239\n",
       "13     206\n",
       "14     168\n",
       "15     137\n",
       "Name: admission_times, dtype: int64"
      ]
     },
     "execution_count": 26,
     "metadata": {},
     "output_type": "execute_result"
    }
   ],
   "source": [
    "df1['admission_times'].value_counts()"
   ]
  },
  {
   "cell_type": "code",
   "execution_count": 27,
   "metadata": {},
   "outputs": [],
   "source": [
    "rid_ = df1.loc[df1['admission_times']==5].rID"
   ]
  },
  {
   "cell_type": "code",
   "execution_count": 28,
   "metadata": {},
   "outputs": [],
   "source": [
    "df2 = df1.loc[df1['rID'].isin(rid_1)]"
   ]
  },
  {
   "cell_type": "code",
   "execution_count": 29,
   "metadata": {},
   "outputs": [
    {
     "data": {
      "text/plain": [
       "5     1051\n",
       "4     1051\n",
       "3     1051\n",
       "2     1051\n",
       "1     1051\n",
       "6      853\n",
       "7      702\n",
       "8      554\n",
       "9      438\n",
       "10     350\n",
       "11     288\n",
       "12     239\n",
       "13     206\n",
       "14     168\n",
       "15     137\n",
       "Name: admission_times, dtype: int64"
      ]
     },
     "execution_count": 29,
     "metadata": {},
     "output_type": "execute_result"
    }
   ],
   "source": [
    "df2['admission_times'].value_counts()"
   ]
  },
  {
   "cell_type": "code",
   "execution_count": null,
   "metadata": {},
   "outputs": [],
   "source": []
  }
 ],
 "metadata": {
  "kernelspec": {
   "display_name": "Python 3",
   "language": "python",
   "name": "python3"
  },
  "language_info": {
   "codemirror_mode": {
    "name": "ipython",
    "version": 3
   },
   "file_extension": ".py",
   "mimetype": "text/x-python",
   "name": "python",
   "nbconvert_exporter": "python",
   "pygments_lexer": "ipython3",
   "version": "3.6.9"
  },
  "toc": {
   "base_numbering": 1,
   "nav_menu": {},
   "number_sections": true,
   "sideBar": true,
   "skip_h1_title": false,
   "title_cell": "Table of Contents",
   "title_sidebar": "Contents",
   "toc_cell": true,
   "toc_position": {},
   "toc_section_display": true,
   "toc_window_display": true
  }
 },
 "nbformat": 4,
 "nbformat_minor": 4
}
