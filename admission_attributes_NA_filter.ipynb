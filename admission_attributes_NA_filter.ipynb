{
 "cells": [
  {
   "cell_type": "markdown",
   "metadata": {
    "toc": true
   },
   "source": [
    "<h1>Table of Contents<span class=\"tocSkip\"></span></h1>\n",
    "<div class=\"toc\"><ul class=\"toc-item\"><li><span><a href=\"#Encounters-that-have-too-many-NA\" data-toc-modified-id=\"Encounters-that-have-too-many-NA-1\"><span class=\"toc-item-num\">1&nbsp;&nbsp;</span>Encounters that have too many NA</a></span></li><li><span><a href=\"#Examine-some-attributes\" data-toc-modified-id=\"Examine-some-attributes-2\"><span class=\"toc-item-num\">2&nbsp;&nbsp;</span>Examine some attributes</a></span></li><li><span><a href=\"#drop-some-unnecessary-attributes\" data-toc-modified-id=\"drop-some-unnecessary-attributes-3\"><span class=\"toc-item-num\">3&nbsp;&nbsp;</span>drop some unnecessary attributes</a></span></li><li><span><a href=\"#Determine-NA-tolerance\" data-toc-modified-id=\"Determine-NA-tolerance-4\"><span class=\"toc-item-num\">4&nbsp;&nbsp;</span>Determine NA tolerance</a></span></li><li><span><a href=\"#Remove-attributes-with->50%-NA\" data-toc-modified-id=\"Remove-attributes-with->50%-NA-5\"><span class=\"toc-item-num\">5&nbsp;&nbsp;</span>Remove attributes with &gt;50% NA</a></span></li><li><span><a href=\"#Drop-attributes->20%-&amp;->30%\" data-toc-modified-id=\"Drop-attributes->20%-&amp;->30%-6\"><span class=\"toc-item-num\">6&nbsp;&nbsp;</span>Drop attributes &gt;20% &amp; &gt;30%</a></span></li><li><span><a href=\"#Save-the-filtered-admission-dataset\" data-toc-modified-id=\"Save-the-filtered-admission-dataset-7\"><span class=\"toc-item-num\">7&nbsp;&nbsp;</span>Save the filtered admission dataset</a></span></li></ul></div>"
   ]
  },
  {
   "cell_type": "code",
   "execution_count": 1,
   "metadata": {},
   "outputs": [],
   "source": [
    "import pandas as pd\n",
    "import numpy as np\n",
    "from matplotlib import pyplot as plt\n",
    "\n",
    "pd.options.display.max_rows = 400\n",
    "pd.options.display.max_columns = 50"
   ]
  },
  {
   "cell_type": "code",
   "execution_count": 2,
   "metadata": {},
   "outputs": [
    {
     "name": "stdout",
     "output_type": "stream",
     "text": [
      "/Users/jinchenxie/Desktop/datasets/processed\n"
     ]
    }
   ],
   "source": [
    "%cd /Users/jinchenxie/Desktop/datasets/processed"
   ]
  },
  {
   "cell_type": "code",
   "execution_count": 3,
   "metadata": {},
   "outputs": [],
   "source": [
    "admission = pd.read_excel('VAD potential cohort admissions V2.xlsx', \n",
    "                          'cohort admission')"
   ]
  },
  {
   "cell_type": "code",
   "execution_count": 4,
   "metadata": {},
   "outputs": [
    {
     "name": "stdout",
     "output_type": "stream",
     "text": [
      "[Errno 2] No such file or directory: '/Users/jinchenxie/desktop/HF_Research/datasets/processed'\n",
      "/Users/jinchenxie/Desktop/datasets/processed\n"
     ]
    }
   ],
   "source": [
    "%cd ~/desktop/HF_Research/datasets/processed\n",
    "baseline_trunc30 = pd.read_excel('Filtered Attributes Baseline.xlsx', 'NA30_filtered_baseline')"
   ]
  },
  {
   "cell_type": "code",
   "execution_count": 5,
   "metadata": {},
   "outputs": [],
   "source": [
    "admission = admission[admission['admission_count']<=15]"
   ]
  },
  {
   "cell_type": "code",
   "execution_count": 6,
   "metadata": {},
   "outputs": [
    {
     "data": {
      "text/plain": [
       "(13414, 170)"
      ]
     },
     "execution_count": 6,
     "metadata": {},
     "output_type": "execute_result"
    }
   ],
   "source": [
    "admission.shape"
   ]
  },
  {
   "cell_type": "markdown",
   "metadata": {},
   "source": [
    "# Encounters that have too many NA"
   ]
  },
  {
   "cell_type": "code",
   "execution_count": 7,
   "metadata": {},
   "outputs": [],
   "source": [
    "admission_NA = []\n",
    "for i in range(len(admission.index)) :\n",
    "    admission_NA.append(admission.iloc[i].isna().sum()/(len(admission.iloc[0])-1))\n",
    "#     print(\"rID\", baseline.iloc[i,0] , \" : \" ,  baseline.iloc[i].isnull().sum()/(len(baseline.iloc[0])-1))"
   ]
  },
  {
   "cell_type": "code",
   "execution_count": 8,
   "metadata": {},
   "outputs": [
    {
     "name": "stdout",
     "output_type": "stream",
     "text": [
      "More than 90.0 % NA:  0\n",
      "More than 80.0 % NA:  0\n",
      "More than 70.0 % NA:  0\n",
      "More than 60.0 % NA:  87\n",
      "More than 50.0 % NA:  973\n",
      "More than 40.0 % NA:  8419\n",
      "More than 30.0 % NA:  12643\n"
     ]
    }
   ],
   "source": [
    "for j in [0.9, 0.8, 0.7, 0.6, 0.5, 0.4, 0.3]:\n",
    "    temp_list = [i for i in admission_NA if i>j]\n",
    "    print('More than', j*100, \"% NA: \", len(temp_list))"
   ]
  },
  {
   "cell_type": "code",
   "execution_count": 9,
   "metadata": {},
   "outputs": [
    {
     "data": {
      "text/plain": [
       "[134,\n",
       " 312,\n",
       " 476,\n",
       " 806,\n",
       " 873,\n",
       " 1306,\n",
       " 1367,\n",
       " 1443,\n",
       " 1450,\n",
       " 1455,\n",
       " 1651,\n",
       " 1662,\n",
       " 1808,\n",
       " 1924,\n",
       " 1980,\n",
       " 2075,\n",
       " 2187,\n",
       " 2480,\n",
       " 2799,\n",
       " 2896,\n",
       " 2992,\n",
       " 3332,\n",
       " 3358,\n",
       " 3533,\n",
       " 3709,\n",
       " 3805,\n",
       " 3958,\n",
       " 3983,\n",
       " 4320,\n",
       " 4381,\n",
       " 4382,\n",
       " 4602,\n",
       " 4624,\n",
       " 4678,\n",
       " 4813,\n",
       " 4858,\n",
       " 4892,\n",
       " 4986,\n",
       " 4990,\n",
       " 5194,\n",
       " 5513,\n",
       " 5786,\n",
       " 5818,\n",
       " 5940,\n",
       " 6221,\n",
       " 6326,\n",
       " 7746,\n",
       " 8325,\n",
       " 8697,\n",
       " 8797,\n",
       " 8799,\n",
       " 9213,\n",
       " 9269,\n",
       " 9397,\n",
       " 9398,\n",
       " 9428,\n",
       " 9483,\n",
       " 9566,\n",
       " 9585,\n",
       " 9599,\n",
       " 9886,\n",
       " 9941,\n",
       " 10135,\n",
       " 10149,\n",
       " 10251,\n",
       " 10263,\n",
       " 10331,\n",
       " 10407,\n",
       " 10733,\n",
       " 10757,\n",
       " 10803,\n",
       " 11213,\n",
       " 11227,\n",
       " 11322,\n",
       " 11444,\n",
       " 11528,\n",
       " 11741,\n",
       " 12046,\n",
       " 12191,\n",
       " 12253,\n",
       " 12846,\n",
       " 12893,\n",
       " 13079,\n",
       " 13087,\n",
       " 13155,\n",
       " 13187,\n",
       " 13194]"
      ]
     },
     "execution_count": 9,
     "metadata": {},
     "output_type": "execute_result"
    }
   ],
   "source": [
    "# encounters index for encounters who have more than 50% missing values\n",
    "[index for index,i in enumerate(admission_NA) if i>0.6]"
   ]
  },
  {
   "cell_type": "markdown",
   "metadata": {},
   "source": [
    "# Examine some attributes"
   ]
  },
  {
   "cell_type": "code",
   "execution_count": 10,
   "metadata": {},
   "outputs": [
    {
     "data": {
      "text/plain": [
       "I     12994\n",
       "S       398\n",
       "E        20\n",
       "DO        2\n",
       "Name: PATIENT_TYPE_CODE, dtype: int64"
      ]
     },
     "execution_count": 10,
     "metadata": {},
     "output_type": "execute_result"
    }
   ],
   "source": [
    "admission['PATIENT_TYPE_CODE'].value_counts()"
   ]
  },
  {
   "cell_type": "code",
   "execution_count": 11,
   "metadata": {},
   "outputs": [
    {
     "data": {
      "text/plain": [
       "I     12994\n",
       "S       398\n",
       "E        20\n",
       "DO        2\n",
       "Name: PATIENT_TYPE_CODE, dtype: int64"
      ]
     },
     "execution_count": 11,
     "metadata": {},
     "output_type": "execute_result"
    }
   ],
   "source": [
    "admission['PATIENT_TYPE_CODE'].value_counts()"
   ]
  },
  {
   "cell_type": "code",
   "execution_count": 12,
   "metadata": {},
   "outputs": [
    {
     "data": {
      "text/plain": [
       "I  INPATIENT        12994\n",
       "S  SAME DAY SERV      398\n",
       "EMERGENCY DEPT         20\n",
       "DO DIRECT OBS           2\n",
       "Name: PATIENT_TYPE_DESCRIPTION, dtype: int64"
      ]
     },
     "execution_count": 12,
     "metadata": {},
     "output_type": "execute_result"
    }
   ],
   "source": [
    "admission['PATIENT_TYPE_DESCRIPTION'].value_counts()"
   ]
  },
  {
   "cell_type": "code",
   "execution_count": 13,
   "metadata": {},
   "outputs": [
    {
     "data": {
      "text/plain": [
       "IP ACUTE            12994\n",
       "SAME DAY SERVICE      398\n",
       "EMERGENCY              20\n",
       "DIRECT OBS ADMIT        2\n",
       "Name: PATIENT_TYPE_GROUP, dtype: int64"
      ]
     },
     "execution_count": 13,
     "metadata": {},
     "output_type": "execute_result"
    }
   ],
   "source": [
    "admission['PATIENT_TYPE_GROUP'].value_counts()"
   ]
  },
  {
   "cell_type": "code",
   "execution_count": 14,
   "metadata": {},
   "outputs": [
    {
     "data": {
      "text/plain": [
       "MEDICAL REFERRAL      11566\n",
       "HOSPITAL TRANSFER      1555\n",
       "TRANS FRM SNF/ICF       188\n",
       "CLINIC REFERRAL          46\n",
       "XFER OTH HLTH CR F       37\n",
       "NON STAFF REFERRAL       10\n",
       "XFER FRM AC SAME H        7\n",
       "PGH CANCER INSTITU        5\n",
       "Name: ADMISSION_SOURCE, dtype: int64"
      ]
     },
     "execution_count": 14,
     "metadata": {},
     "output_type": "execute_result"
    }
   ],
   "source": [
    "admission['ADMISSION_SOURCE'].value_counts()"
   ]
  },
  {
   "cell_type": "code",
   "execution_count": 15,
   "metadata": {},
   "outputs": [
    {
     "data": {
      "text/plain": [
       "0    12221\n",
       "1     1193\n",
       "Name: RHC_FOUND, dtype: int64"
      ]
     },
     "execution_count": 15,
     "metadata": {},
     "output_type": "execute_result"
    }
   ],
   "source": [
    "admission['RHC_FOUND'].value_counts()"
   ]
  },
  {
   "cell_type": "code",
   "execution_count": 16,
   "metadata": {},
   "outputs": [
    {
     "data": {
      "text/plain": [
       "428.23    971\n",
       "428.0     939\n",
       "I13.0     683\n",
       "I50.23    521\n",
       "428.43    459\n",
       "         ... \n",
       "112.84      1\n",
       "359.9       1\n",
       "599.71      1\n",
       "M34.9       1\n",
       "C64.1       1\n",
       "Name: PRIMARY_DIAGNOSIS_CODE, Length: 1613, dtype: int64"
      ]
     },
     "execution_count": 16,
     "metadata": {},
     "output_type": "execute_result"
    }
   ],
   "source": [
    "admission['PRIMARY_DIAGNOSIS_CODE'].value_counts()"
   ]
  },
  {
   "cell_type": "code",
   "execution_count": 17,
   "metadata": {},
   "outputs": [
    {
     "data": {
      "text/plain": [
       "9     6903\n",
       "10    6511\n",
       "Name: PRIMARY_DIAGNOSIS_CODE_TYPE, dtype: int64"
      ]
     },
     "execution_count": 17,
     "metadata": {},
     "output_type": "execute_result"
    }
   ],
   "source": [
    "admission['PRIMARY_DIAGNOSIS_CODE_TYPE'].value_counts()"
   ]
  },
  {
   "cell_type": "code",
   "execution_count": 18,
   "metadata": {},
   "outputs": [
    {
     "data": {
      "text/plain": [
       "AC-CHR SYSTOL HRT FAIL                                         971\n",
       "CONGESTVE HRT FAILUR NOS                                       939\n",
       "HYP HRT & CHR KDNY DIS W HRT FAIL AND STG 1-4/UNSP CHR KDNY    683\n",
       "ACUTE ON CHRONIC SYSTOLIC (CONGESTIVE) HEART FAILURE           521\n",
       "AC-CHR COMB S/D HRT FAIL                                       459\n",
       "                                                              ... \n",
       "OTHER GASTRITIS WITH BLEEDING                                    1\n",
       "CRYST ARTHROP NEC-MULT                                           1\n",
       "DEGENERATIVE SKIN DISORD                                         1\n",
       "POSTPROC HEMATOMA OF A MS STRUCTURE FOL OTHER PROCEDURE          1\n",
       "UNSPECIFIED INJURY OF URETHRA, INITIAL ENCOUNTER                 1\n",
       "Name: PRIMARY_DIAGNOSIS_DESCRIPTION, Length: 1588, dtype: int64"
      ]
     },
     "execution_count": 18,
     "metadata": {},
     "output_type": "execute_result"
    }
   ],
   "source": [
    "admission['PRIMARY_DIAGNOSIS_DESCRIPTION'].value_counts()"
   ]
  },
  {
   "cell_type": "markdown",
   "metadata": {},
   "source": [
    "# drop some unnecessary attributes"
   ]
  },
  {
   "cell_type": "code",
   "execution_count": 19,
   "metadata": {},
   "outputs": [],
   "source": [
    "drop_attri = ['FINANCIAL_CLASS_CODE','FINANCIAL_CLASS','HOSP_ROLLUP_GROUPING1',\n",
    "             'HOSP_ROLLUP_GROUPING2','HOSPITAL','PATIENT_TYPE_CODE',\n",
    "             'PATIENT_TYPE_GROUP']"
   ]
  },
  {
   "cell_type": "code",
   "execution_count": 20,
   "metadata": {},
   "outputs": [],
   "source": [
    "admission_trunc = admission.drop(columns=drop_attri)"
   ]
  },
  {
   "cell_type": "markdown",
   "metadata": {},
   "source": [
    "# Determine NA tolerance"
   ]
  },
  {
   "cell_type": "code",
   "execution_count": 21,
   "metadata": {},
   "outputs": [],
   "source": [
    "cutoffs = np.arange(11,41,1)/100"
   ]
  },
  {
   "cell_type": "code",
   "execution_count": 22,
   "metadata": {},
   "outputs": [],
   "source": [
    "cutoffs_broad = np.arange(1,51,1)/100"
   ]
  },
  {
   "cell_type": "code",
   "execution_count": 23,
   "metadata": {},
   "outputs": [],
   "source": [
    "admission_na_series = admission_trunc.isna().sum()/admission_trunc.shape[0]"
   ]
  },
  {
   "cell_type": "code",
   "execution_count": 24,
   "metadata": {},
   "outputs": [],
   "source": [
    "num_attri_remain = []\n",
    "for i in cutoffs:\n",
    "    num_attri_remain.append(admission_trunc.shape[1]-\n",
    "                            len(admission_na_series[admission_na_series>=i]))"
   ]
  },
  {
   "cell_type": "code",
   "execution_count": 25,
   "metadata": {},
   "outputs": [],
   "source": [
    "num_attri_remain_broad = []\n",
    "for i in cutoffs_broad:\n",
    "    num_attri_remain_broad.append(admission_trunc.shape[1]-\n",
    "                                  len(admission_na_series[admission_na_series>=i]))"
   ]
  },
  {
   "cell_type": "code",
   "execution_count": 26,
   "metadata": {},
   "outputs": [
    {
     "data": {
      "image/png": "[encoded data removed]",
      "text/plain": [
       "<Figure size 432x288 with 1 Axes>"
      ]
     },
     "metadata": {
      "needs_background": "light"
     },
     "output_type": "display_data"
    }
   ],
   "source": [
    "plt.plot(cutoffs, num_attri_remain,'s-',color = 'g',label=\"NA proportion\")\n",
    "plt.xlabel(\"NA tolerance\")\n",
    "plt.ylabel(\"# of attributes remain\")\n",
    "plt.grid()\n",
    "plt.savefig('/Users/jinchenxie/Desktop/HF_Research/Plots/admission_NA_cutoffs')\n",
    "plt.show()"
   ]
  },
  {
   "cell_type": "code",
   "execution_count": 27,
   "metadata": {},
   "outputs": [
    {
     "data": {
      "image/png": "[encoded data removed]",
      "text/plain": [
       "<Figure size 432x288 with 1 Axes>"
      ]
     },
     "metadata": {
      "needs_background": "light"
     },
     "output_type": "display_data"
    }
   ],
   "source": [
    "plt.plot(cutoffs_broad, num_attri_remain_broad,'s-',color = 'g',label=\"NA proportion\")\n",
    "plt.xlabel(\"NA tolerance\")\n",
    "plt.ylabel(\"# of attributes remain\")\n",
    "plt.grid()\n",
    "plt.savefig('/Users/jinchenxie/Desktop/HF_Research/Plots/broader_admission_NA_cutoffs')\n",
    "plt.show()"
   ]
  },
  {
   "cell_type": "code",
   "execution_count": 28,
   "metadata": {},
   "outputs": [],
   "source": [
    "cutoffs = np.arange(18,30)/100"
   ]
  },
  {
   "cell_type": "code",
   "execution_count": 29,
   "metadata": {},
   "outputs": [
    {
     "name": "stdout",
     "output_type": "stream",
     "text": [
      "0.18 to 0.19 : ['READMISSION_DAYS']\n",
      "0.19 to 0.2 : ['HOSP_INR']\n",
      "0.2 to 0.21 : []\n",
      "0.21 to 0.22 : []\n",
      "0.22 to 0.23 : []\n",
      "0.23 to 0.24 : []\n",
      "0.24 to 0.25 : []\n",
      "0.25 to 0.26 : []\n",
      "0.26 to 0.27 : []\n",
      "0.27 to 0.28 : []\n",
      "0.28 to 0.29 : []\n"
     ]
    }
   ],
   "source": [
    "for i in range(len(cutoffs)-1):\n",
    "    na_attri_s = admission_na_series[admission_na_series>=cutoffs[i]].index\n",
    "    na_attri_l = admission_na_series[admission_na_series>=cutoffs[i+1]].index\n",
    "    na_s_l = [i for i in na_attri_s if i not in na_attri_l]\n",
    "    print(cutoffs[i], 'to', cutoffs[i+1],':', na_s_l)"
   ]
  },
  {
   "cell_type": "code",
   "execution_count": 30,
   "metadata": {},
   "outputs": [],
   "source": [
    "cutoffs = [0.19, 0.2, 0.21, 0.32, 0.33, 0.42, 0.43,0.44, 0.45,0.46]"
   ]
  },
  {
   "cell_type": "code",
   "execution_count": 31,
   "metadata": {},
   "outputs": [
    {
     "name": "stdout",
     "output_type": "stream",
     "text": [
      "0.19 to 0.2 : ['HOSP_INR']\n",
      "0.2 to 0.21 : []\n",
      "0.21 to 0.32 : []\n",
      "0.32 to 0.33 : ['HOSP_BILI']\n",
      "0.33 to 0.42 : ['INR', 'INR_DAYS', 'HOSPITAL_MELD', 'MELD_EST_MORTALITY']\n",
      "0.42 to 0.43 : []\n",
      "0.43 to 0.44 : []\n",
      "0.44 to 0.45 : ['ALBUMIN', 'ALBUMIN_DAYS']\n",
      "0.45 to 0.46 : []\n"
     ]
    }
   ],
   "source": [
    "for i in range(len(cutoffs)-1):\n",
    "    na_attri_s = admission_na_series[admission_na_series>=cutoffs[i]].index\n",
    "    na_attri_l = admission_na_series[admission_na_series>=cutoffs[i+1]].index\n",
    "    na_s_l = [i for i in na_attri_s if i not in na_attri_l]\n",
    "    print(cutoffs[i], 'to', cutoffs[i+1],':', na_s_l)"
   ]
  },
  {
   "cell_type": "markdown",
   "metadata": {},
   "source": [
    "# Remove attributes with >50% NA"
   ]
  },
  {
   "cell_type": "code",
   "execution_count": 32,
   "metadata": {},
   "outputs": [],
   "source": [
    "drop_attris_50 = list(admission_na_series[admission_na_series>=0.50].index)"
   ]
  },
  {
   "cell_type": "code",
   "execution_count": 33,
   "metadata": {},
   "outputs": [
    {
     "data": {
      "text/plain": [
       "74"
      ]
     },
     "execution_count": 33,
     "metadata": {},
     "output_type": "execute_result"
    }
   ],
   "source": [
    "len(drop_attris_50)"
   ]
  },
  {
   "cell_type": "code",
   "execution_count": 34,
   "metadata": {},
   "outputs": [
    {
     "data": {
      "text/plain": [
       "['DC_MILRINONE',\n",
       " 'DC_DOBUTAMINE',\n",
       " 'DC_DOPAMINE',\n",
       " 'LVEF',\n",
       " 'CLOSEST_LVEF_DAYS',\n",
       " 'RV_FUNC',\n",
       " 'CLOSEST_RV_FUNC_DAYS',\n",
       " 'AR',\n",
       " 'CLOSEST_AR_DAYS',\n",
       " 'MR',\n",
       " 'CLOSEST_MR_DAYS',\n",
       " 'PR',\n",
       " 'CLOSEST_PR_DAYS',\n",
       " 'TR',\n",
       " 'CLOSEST_TR_DAYS',\n",
       " 'AS',\n",
       " 'CLOSEST_AS_DAYS',\n",
       " 'MS',\n",
       " 'CLOSEST_MS_DAYS',\n",
       " 'PS',\n",
       " 'CLOSEST_PS_DAYS',\n",
       " 'TS',\n",
       " 'CLOSEST_TS_DAYS',\n",
       " 'CABG_DAYS',\n",
       " 'TAVR_DAYS',\n",
       " 'SAVR_MECH_DAYS',\n",
       " 'SAVR_BIO_DAYS',\n",
       " 'SURG_AO_GRFT_DAYS',\n",
       " 'ENDO_AO_GRFT_DAYS',\n",
       " 'AO_VLV_REPAIR_DAYS',\n",
       " 'SMVR_DAYS',\n",
       " 'SPVR_DAYS',\n",
       " 'STVR_DAYS',\n",
       " 'POST_VAD_DAYS',\n",
       " 'POST_TRANSPLANT_DAYS',\n",
       " 'HEMOGLOBIN_A1C',\n",
       " 'HEMOGLOBIN_A1C_DAYS',\n",
       " 'CHOLESTEROL',\n",
       " 'CHOLESTEROL_DAYS',\n",
       " 'LDL',\n",
       " 'LDL_DAYS',\n",
       " 'HDL',\n",
       " 'HDL_DAYS',\n",
       " 'TRIGLYCERIDE',\n",
       " 'TRIGLYCERIDE_DAYS',\n",
       " 'PREALBUMIN',\n",
       " 'PREALBUMIN_DAYS',\n",
       " 'BUN',\n",
       " 'BUN_DAYS',\n",
       " 'BNP',\n",
       " 'BNP_DAYS',\n",
       " 'BILI',\n",
       " 'BILI_DAYS',\n",
       " 'RA_MEAN_PRESSURE',\n",
       " 'RA_MEAN_PRESSURE_DAYS',\n",
       " 'THERMAL_CARDIAC_INDEX',\n",
       " 'THERMAL_CARDIAC_INDEX_DAYS',\n",
       " 'FICK_CARDIAC_INDEX',\n",
       " 'FICK_CARDIAC_INDEX_DAYS',\n",
       " 'PA_SATURATION',\n",
       " 'PA_SATURATION_DAYS',\n",
       " 'WEDGE_MEAN_PRESSURE',\n",
       " 'WEDGE_MEAN_PRESSURE_DAYS',\n",
       " 'PULM_ART_SYS_PRESSURE',\n",
       " 'PULM_ART_SYS_PRESSURE_DAYS',\n",
       " 'PCI_DAYS',\n",
       " 'IMPELLA_DAYS',\n",
       " 'IABP_DAYS',\n",
       " 'ECMO_DAYS',\n",
       " 'ABLATION_DAYS',\n",
       " 'PACEMAKER_IMPLANT_DAYS',\n",
       " 'ICD_IMPLANT_DAYS',\n",
       " 'BIV_ICD_IMPLANT_DAYS',\n",
       " 'CRT_IMPLANT_DAYS']"
      ]
     },
     "execution_count": 34,
     "metadata": {},
     "output_type": "execute_result"
    }
   ],
   "source": [
    "drop_attris_50"
   ]
  },
  {
   "cell_type": "code",
   "execution_count": 35,
   "metadata": {},
   "outputs": [],
   "source": [
    "procedure_days = ['CABG_DAYS',\n",
    " 'TAVR_DAYS',\n",
    " 'SAVR_MECH_DAYS',\n",
    " 'SAVR_BIO_DAYS',\n",
    " 'SURG_AO_GRFT_DAYS',\n",
    " 'ENDO_AO_GRFT_DAYS',\n",
    " 'AO_VLV_REPAIR_DAYS',\n",
    " 'SMVR_DAYS',\n",
    " 'SPVR_DAYS',\n",
    " 'STVR_DAYS',\n",
    " 'POST_VAD_DAYS',\n",
    " 'POST_TRANSPLANT_DAYS',\n",
    " 'PCI_DAYS',\n",
    " 'IMPELLA_DAYS',\n",
    " 'IABP_DAYS',\n",
    " 'ECMO_DAYS',\n",
    " 'ABLATION_DAYS',\n",
    " 'PACEMAKER_IMPLANT_DAYS',\n",
    " 'ICD_IMPLANT_DAYS',\n",
    " 'BIV_ICD_IMPLANT_DAYS',\n",
    " 'CRT_IMPLANT_DAYS' ]"
   ]
  },
  {
   "cell_type": "code",
   "execution_count": 36,
   "metadata": {},
   "outputs": [],
   "source": [
    "for i in procedure_days:\n",
    "    drop_attris_50.remove(i)"
   ]
  },
  {
   "cell_type": "code",
   "execution_count": 37,
   "metadata": {},
   "outputs": [
    {
     "data": {
      "text/plain": [
       "53"
      ]
     },
     "execution_count": 37,
     "metadata": {},
     "output_type": "execute_result"
    }
   ],
   "source": [
    "len(drop_attris_50)"
   ]
  },
  {
   "cell_type": "code",
   "execution_count": 38,
   "metadata": {},
   "outputs": [],
   "source": [
    "admission_trunc.drop(columns = drop_attris_50, inplace=True)"
   ]
  },
  {
   "cell_type": "code",
   "execution_count": 39,
   "metadata": {},
   "outputs": [
    {
     "data": {
      "text/plain": [
       "(13414, 110)"
      ]
     },
     "execution_count": 39,
     "metadata": {},
     "output_type": "execute_result"
    }
   ],
   "source": [
    "admission_trunc.shape"
   ]
  },
  {
   "cell_type": "code",
   "execution_count": 40,
   "metadata": {},
   "outputs": [],
   "source": [
    "admission_na_trunc_series = admission_trunc.isna().sum()/admission_trunc.shape[0]"
   ]
  },
  {
   "cell_type": "markdown",
   "metadata": {},
   "source": [
    "# Drop attributes >20% & >30%"
   ]
  },
  {
   "cell_type": "code",
   "execution_count": 41,
   "metadata": {},
   "outputs": [],
   "source": [
    "drop_attris_20 = list(admission_na_trunc_series[(admission_na_trunc_series>0.20)\n",
    "                                               &(admission_na_trunc_series<0.50)].index)"
   ]
  },
  {
   "cell_type": "code",
   "execution_count": 42,
   "metadata": {},
   "outputs": [
    {
     "data": {
      "text/plain": [
       "['HOSP_BILI',\n",
       " 'ALBUMIN',\n",
       " 'ALBUMIN_DAYS',\n",
       " 'INR',\n",
       " 'INR_DAYS',\n",
       " 'HOSPITAL_MELD',\n",
       " 'MELD_EST_MORTALITY']"
      ]
     },
     "execution_count": 42,
     "metadata": {},
     "output_type": "execute_result"
    }
   ],
   "source": [
    "drop_attris_20"
   ]
  },
  {
   "cell_type": "code",
   "execution_count": 43,
   "metadata": {},
   "outputs": [
    {
     "data": {
      "text/plain": [
       "'HOSP_BILI'"
      ]
     },
     "execution_count": 43,
     "metadata": {},
     "output_type": "execute_result"
    }
   ],
   "source": [
    "drop_attris_20.pop(0)"
   ]
  },
  {
   "cell_type": "code",
   "execution_count": 44,
   "metadata": {},
   "outputs": [
    {
     "data": {
      "text/plain": [
       "['ALBUMIN',\n",
       " 'ALBUMIN_DAYS',\n",
       " 'INR',\n",
       " 'INR_DAYS',\n",
       " 'HOSPITAL_MELD',\n",
       " 'MELD_EST_MORTALITY']"
      ]
     },
     "execution_count": 44,
     "metadata": {},
     "output_type": "execute_result"
    }
   ],
   "source": [
    "drop_attris_20"
   ]
  },
  {
   "cell_type": "code",
   "execution_count": 45,
   "metadata": {},
   "outputs": [],
   "source": [
    "drop_attris_30 = list(admission_na_trunc_series[(admission_na_trunc_series>=0.30)\n",
    "                                               &(admission_na_trunc_series<0.50)].index)"
   ]
  },
  {
   "cell_type": "code",
   "execution_count": 46,
   "metadata": {},
   "outputs": [
    {
     "data": {
      "text/plain": [
       "['HOSP_BILI',\n",
       " 'ALBUMIN',\n",
       " 'ALBUMIN_DAYS',\n",
       " 'INR',\n",
       " 'INR_DAYS',\n",
       " 'HOSPITAL_MELD',\n",
       " 'MELD_EST_MORTALITY']"
      ]
     },
     "execution_count": 46,
     "metadata": {},
     "output_type": "execute_result"
    }
   ],
   "source": [
    "drop_attris_30"
   ]
  },
  {
   "cell_type": "code",
   "execution_count": 47,
   "metadata": {},
   "outputs": [],
   "source": [
    "admission_trunc.drop(columns = drop_attris_30, inplace=True)"
   ]
  },
  {
   "cell_type": "code",
   "execution_count": 48,
   "metadata": {},
   "outputs": [
    {
     "data": {
      "text/plain": [
       "(13414, 103)"
      ]
     },
     "execution_count": 48,
     "metadata": {},
     "output_type": "execute_result"
    }
   ],
   "source": [
    "admission_trunc.shape"
   ]
  },
  {
   "cell_type": "code",
   "execution_count": 49,
   "metadata": {},
   "outputs": [
    {
     "data": {
      "text/plain": [
       "82"
      ]
     },
     "execution_count": 49,
     "metadata": {},
     "output_type": "execute_result"
    }
   ],
   "source": [
    "len(admission_na_trunc_series[admission_na_trunc_series<=0.20].index)"
   ]
  },
  {
   "cell_type": "markdown",
   "metadata": {},
   "source": [
    "# Save the filtered admission dataset"
   ]
  },
  {
   "cell_type": "code",
   "execution_count": 50,
   "metadata": {},
   "outputs": [
    {
     "name": "stdout",
     "output_type": "stream",
     "text": [
      "/Users/jinchenxie/Desktop/datasets/processed\n"
     ]
    }
   ],
   "source": [
    "%cd ~/desktop/datasets/processed"
   ]
  },
  {
   "cell_type": "code",
   "execution_count": 52,
   "metadata": {},
   "outputs": [
    {
     "name": "stdout",
     "output_type": "stream",
     "text": [
      "DataFrame is written successfully to Excel File.\n"
     ]
    }
   ],
   "source": [
    "writer = pd.ExcelWriter('Filtered Attributes Admission v2.xlsx')\n",
    "admission_trunc.to_excel(writer, 'NA30_filtered_admission', index=False)\n",
    "writer.save()\n",
    "print('DataFrame is written successfully to Excel File.')"
   ]
  },
  {
   "cell_type": "code",
   "execution_count": null,
   "metadata": {},
   "outputs": [],
   "source": []
  }
 ],
 "metadata": {
  "kernelspec": {
   "display_name": "Python 3",
   "language": "python",
   "name": "python3"
  },
  "language_info": {
   "codemirror_mode": {
    "name": "ipython",
    "version": 3
   },
   "file_extension": ".py",
   "mimetype": "text/x-python",
   "name": "python",
   "nbconvert_exporter": "python",
   "pygments_lexer": "ipython3",
   "version": "3.6.9"
  },
  "toc": {
   "base_numbering": 1,
   "nav_menu": {},
   "number_sections": true,
   "sideBar": true,
   "skip_h1_title": false,
   "title_cell": "Table of Contents",
   "title_sidebar": "Contents",
   "toc_cell": true,
   "toc_position": {},
   "toc_section_display": true,
   "toc_window_display": true
  }
 },
 "nbformat": 4,
 "nbformat_minor": 4
}
