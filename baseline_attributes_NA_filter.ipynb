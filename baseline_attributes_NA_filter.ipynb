{
 "cells": [
  {
   "cell_type": "markdown",
   "metadata": {
    "toc": true
   },
   "source": [
    "<h1>Table of Contents<span class=\"tocSkip\"></span></h1>\n",
    "<div class=\"toc\"><ul class=\"toc-item\"><li><span><a href=\"#Import-data\" data-toc-modified-id=\"Import-data-1\"><span class=\"toc-item-num\">1&nbsp;&nbsp;</span>Import data</a></span></li><li><span><a href=\"#Determine-NA-tolerance-for-baseline-dataset\" data-toc-modified-id=\"Determine-NA-tolerance-for-baseline-dataset-2\"><span class=\"toc-item-num\">2&nbsp;&nbsp;</span>Determine NA tolerance for baseline dataset</a></span></li><li><span><a href=\"#drop-some-unnecessary-attributes\" data-toc-modified-id=\"drop-some-unnecessary-attributes-3\"><span class=\"toc-item-num\">3&nbsp;&nbsp;</span>drop some unnecessary attributes</a></span><ul class=\"toc-item\"><li><span><a href=\"#Drop-attributes-with->50%-missing-values-for-sure.\" data-toc-modified-id=\"Drop-attributes-with->50%-missing-values-for-sure.-3.1\"><span class=\"toc-item-num\">3.1&nbsp;&nbsp;</span>Drop attributes with &gt;50% missing values for sure.</a></span></li><li><span><a href=\"#drop-prescription-related-attributes\" data-toc-modified-id=\"drop-prescription-related-attributes-3.2\"><span class=\"toc-item-num\">3.2&nbsp;&nbsp;</span>drop prescription related attributes</a></span></li><li><span><a href=\"#drop-attributes->20%-or->30%-missing-values\" data-toc-modified-id=\"drop-attributes->20%-or->30%-missing-values-3.3\"><span class=\"toc-item-num\">3.3&nbsp;&nbsp;</span>drop attributes &gt;20% or &gt;30% missing values</a></span><ul class=\"toc-item\"><li><span><a href=\"#What-attributes-are-dropped-from-0.18---0.29\" data-toc-modified-id=\"What-attributes-are-dropped-from-0.18---0.29-3.3.1\"><span class=\"toc-item-num\">3.3.1&nbsp;&nbsp;</span>What attributes are dropped from 0.18 - 0.29</a></span></li></ul></li><li><span><a href=\"#drop-&quot;POST_&quot;-attributes\" data-toc-modified-id=\"drop-&quot;POST_&quot;-attributes-3.4\"><span class=\"toc-item-num\">3.4&nbsp;&nbsp;</span>drop \"POST_\" attributes</a></span></li><li><span><a href=\"#drop-unnecessary-attributres\" data-toc-modified-id=\"drop-unnecessary-attributres-3.5\"><span class=\"toc-item-num\">3.5&nbsp;&nbsp;</span>drop unnecessary attributres</a></span></li><li><span><a href=\"#NA-tolerance-0.20-and-0.30\" data-toc-modified-id=\"NA-tolerance-0.20-and-0.30-3.6\"><span class=\"toc-item-num\">3.6&nbsp;&nbsp;</span>NA tolerance 0.20 and 0.30</a></span></li><li><span><a href=\"#drop-&quot;_DAYS&quot;-attributes-for-now\" data-toc-modified-id=\"drop-&quot;_DAYS&quot;-attributes-for-now-3.7\"><span class=\"toc-item-num\">3.7&nbsp;&nbsp;</span>drop \"_DAYS\" attributes for now</a></span></li></ul></li><li><span><a href=\"#Save-'Filtered-Attrributes-Baseline'-excel-file\" data-toc-modified-id=\"Save-'Filtered-Attrributes-Baseline'-excel-file-4\"><span class=\"toc-item-num\">4&nbsp;&nbsp;</span>Save 'Filtered Attrributes Baseline' excel file</a></span></li><li><span><a href=\"#Proportion-needs-to-be-imputed\" data-toc-modified-id=\"Proportion-needs-to-be-imputed-5\"><span class=\"toc-item-num\">5&nbsp;&nbsp;</span>Proportion needs to be imputed</a></span></li></ul></div>"
   ]
  },
  {
   "cell_type": "code",
   "execution_count": 186,
   "metadata": {},
   "outputs": [],
   "source": [
    "import pandas as pd\n",
    "import numpy as np\n",
    "from matplotlib import pyplot as plt\n",
    "\n",
    "pd.options.display.max_rows = 400\n",
    "pd.options.display.max_columns = 50"
   ]
  },
  {
   "cell_type": "markdown",
   "metadata": {},
   "source": [
    "# Import data \n",
    "Patients from the cohort and their admissions up to 15th admission."
   ]
  },
  {
   "cell_type": "code",
   "execution_count": 187,
   "metadata": {},
   "outputs": [
    {
     "name": "stdout",
     "output_type": "stream",
     "text": [
      "/Users/jinchenxie/Desktop/HF_Research/datasets\n"
     ]
    }
   ],
   "source": [
    "%cd ~/desktop/HF_Research/datasets\n",
    "\n",
    "baseline = pd.read_excel('Advanced Therapy Potential Cohort.xlsx', 'cohort baseline')"
   ]
  },
  {
   "cell_type": "code",
   "execution_count": 188,
   "metadata": {},
   "outputs": [],
   "source": [
    "admission = pd.read_excel('Advanced Therapy Potential Cohort.xlsx', 'admission (upto 15th)')"
   ]
  },
  {
   "cell_type": "code",
   "execution_count": 189,
   "metadata": {},
   "outputs": [],
   "source": [
    "baseline.drop(columns=['Unnamed: 0'], inplace=True)"
   ]
  },
  {
   "cell_type": "code",
   "execution_count": 190,
   "metadata": {},
   "outputs": [],
   "source": [
    "admission.drop(columns=['Unnamed: 0'], inplace=True)"
   ]
  },
  {
   "cell_type": "code",
   "execution_count": 191,
   "metadata": {},
   "outputs": [
    {
     "data": {
      "text/plain": [
       "(2521, 289)"
      ]
     },
     "execution_count": 191,
     "metadata": {},
     "output_type": "execute_result"
    }
   ],
   "source": [
    "baseline.shape"
   ]
  },
  {
   "cell_type": "code",
   "execution_count": 192,
   "metadata": {},
   "outputs": [
    {
     "data": {
      "text/plain": [
       "(12525, 174)"
      ]
     },
     "execution_count": 192,
     "metadata": {},
     "output_type": "execute_result"
    }
   ],
   "source": [
    "admission.shape"
   ]
  },
  {
   "cell_type": "markdown",
   "metadata": {},
   "source": [
    "# Determine NA tolerance for baseline dataset"
   ]
  },
  {
   "cell_type": "markdown",
   "metadata": {},
   "source": [
    "First, let's see if there are any patients with a large portion of NA values (>90% NA)  \n",
    "If there are, we would like to remove these patients first."
   ]
  },
  {
   "cell_type": "code",
   "execution_count": 193,
   "metadata": {},
   "outputs": [],
   "source": [
    "patients_NA = []\n",
    "for i in range(len(baseline.index)) :\n",
    "    patients_NA.append(baseline.iloc[i].isna().sum()/(len(baseline.iloc[0])-1))\n",
    "#     print(\"rID\", baseline.iloc[i,0] , \" : \" ,  baseline.iloc[i].isnull().sum()/(len(baseline.iloc[0])-1))"
   ]
  },
  {
   "cell_type": "code",
   "execution_count": 194,
   "metadata": {},
   "outputs": [
    {
     "name": "stdout",
     "output_type": "stream",
     "text": [
      "cut-off= 0.9 :  0\n",
      "cut-off= 0.8 :  0\n",
      "cut-off= 0.7 :  0\n",
      "cut-off= 0.6 :  0\n",
      "cut-off= 0.5 :  8\n",
      "cut-off= 0.4 :  171\n"
     ]
    }
   ],
   "source": [
    "for j in [0.9, 0.8, 0.7, 0.6, 0.5, 0.4]:\n",
    "    temp_list = [i for i in patients_NA if i>j]\n",
    "    print('cut-off=', j, \": \", len(temp_list))"
   ]
  },
  {
   "cell_type": "code",
   "execution_count": 195,
   "metadata": {},
   "outputs": [
    {
     "data": {
      "text/plain": [
       "[282, 307, 899, 1250, 1456, 1537, 1736, 2416]"
      ]
     },
     "execution_count": 195,
     "metadata": {},
     "output_type": "execute_result"
    }
   ],
   "source": [
    "# patients index for patients who have more than 50% missing values\n",
    "[index for index,i in enumerate(patients_NA) if i>0.5]"
   ]
  },
  {
   "cell_type": "markdown",
   "metadata": {},
   "source": [
    "There's no patients with more than 60% missing values in baseline records.  \n",
    "There are 8 patients with more than 50% missing values, however, they have full history, comorbidities, and other demographic information.  \n",
    "So I decided not to remove any patients at this stage."
   ]
  },
  {
   "cell_type": "code",
   "execution_count": 196,
   "metadata": {},
   "outputs": [],
   "source": [
    "cutoffs = np.arange(1,31,1)/100"
   ]
  },
  {
   "cell_type": "code",
   "execution_count": 197,
   "metadata": {},
   "outputs": [],
   "source": [
    "cutoffs_broad = np.arange(1,51,1)/100"
   ]
  },
  {
   "cell_type": "code",
   "execution_count": 198,
   "metadata": {},
   "outputs": [],
   "source": [
    "baseline_na_series = baseline.isna().sum()/baseline.shape[0]"
   ]
  },
  {
   "cell_type": "code",
   "execution_count": 199,
   "metadata": {},
   "outputs": [],
   "source": [
    "num_attri_remain = []\n",
    "for i in cutoffs:\n",
    "    num_attri_remain.append(baseline.shape[1]-len(baseline_na_series[baseline_na_series>=i]))"
   ]
  },
  {
   "cell_type": "code",
   "execution_count": 200,
   "metadata": {},
   "outputs": [],
   "source": [
    "num_attri_remain_broad = []\n",
    "for i in cutoffs_broad:\n",
    "    num_attri_remain_broad.append(baseline.shape[1]-len(baseline_na_series[baseline_na_series>=i]))"
   ]
  },
  {
   "cell_type": "code",
   "execution_count": 201,
   "metadata": {},
   "outputs": [
    {
     "data": {
      "image/png": "[encoded data removed]",
      "text/plain": [
       "<Figure size 432x288 with 1 Axes>"
      ]
     },
     "metadata": {
      "needs_background": "light"
     },
     "output_type": "display_data"
    }
   ],
   "source": [
    "plt.plot(cutoffs, num_attri_remain,'s-',color = 'g',label=\"NA proportion\")\n",
    "plt.xlabel(\"NA tolerance\")\n",
    "plt.ylabel(\"# of attributes remain\")\n",
    "plt.grid()\n",
    "plt.savefig('/Users/jinchenxie/Desktop/HF_Research/Plots/baseline_NA_cutoffs')\n",
    "plt.show()"
   ]
  },
  {
   "cell_type": "code",
   "execution_count": 202,
   "metadata": {},
   "outputs": [
    {
     "data": {
      "image/png": "[encoded data removed]",
      "text/plain": [
       "<Figure size 432x288 with 1 Axes>"
      ]
     },
     "metadata": {
      "needs_background": "light"
     },
     "output_type": "display_data"
    }
   ],
   "source": [
    "plt.plot(cutoffs_broad, num_attri_remain_broad,'s-',color = 'g',label=\"NA proportion\")\n",
    "plt.xlabel(\"NA tolerance\")\n",
    "plt.ylabel(\"# of attributes remain\")\n",
    "plt.grid()\n",
    "plt.savefig('/Users/jinchenxie/Desktop/HF_Research/Plots/broader_baseline_NA_cutoffs')\n",
    "plt.show()"
   ]
  },
  {
   "cell_type": "markdown",
   "metadata": {},
   "source": [
    "There seems to be a flatten curve from 0.12 - 0.17.  \n",
    "I would like to take a closer look from 0.12 - 0.17:  \n",
    "- What attributes are left out from 0.12- 0.17\n",
    "- Is 0.12 a good choice?"
   ]
  },
  {
   "cell_type": "code",
   "execution_count": 203,
   "metadata": {},
   "outputs": [],
   "source": [
    "na_attri_12 = baseline_na_series[baseline_na_series>=0.12].index\n",
    "na_attri_13 = baseline_na_series[baseline_na_series>=0.13].index\n",
    "na_attri_14 = baseline_na_series[baseline_na_series>=0.14].index\n",
    "na_attri_15 = baseline_na_series[baseline_na_series>=0.15].index\n",
    "na_attri_16 = baseline_na_series[baseline_na_series>=0.16].index\n",
    "na_attri_17 = baseline_na_series[baseline_na_series>=0.17].index\n",
    "na_attri_20 = baseline_na_series[baseline_na_series>=0.20].index"
   ]
  },
  {
   "cell_type": "code",
   "execution_count": 204,
   "metadata": {},
   "outputs": [],
   "source": [
    "na_12_13 = [i for i in na_attri_12 if i not in na_attri_13]\n",
    "na_13_14 = [i for i in na_attri_13 if i not in na_attri_14]\n",
    "na_14_15 = [i for i in na_attri_14 if i not in na_attri_15]\n",
    "na_15_16 = [i for i in na_attri_15 if i not in na_attri_16]\n",
    "na_16_17 = [i for i in na_attri_16 if i not in na_attri_17]\n",
    "na_17_20 = [i for i in na_attri_17 if i not in na_attri_20]"
   ]
  },
  {
   "cell_type": "code",
   "execution_count": 205,
   "metadata": {},
   "outputs": [
    {
     "name": "stdout",
     "output_type": "stream",
     "text": [
      "['MR', 'CLOSEST_MR_DAYS'] \n",
      " ['TR', 'CLOSEST_TR_DAYS'] \n",
      " ['RV_FUNC', 'CLOSEST_RV_FUNC_DAYS'] \n",
      " [] \n",
      " ['HOSP_INR', 'PULSE'] \n",
      " ['AR', 'CLOSEST_AR_DAYS', 'PR', 'CLOSEST_PR_DAYS', 'ASA_12', 'WARFARIN_12', 'NOAC_12', 'APT_12', 'BB_12', 'ACE_ARB_12', 'AAD_CLASS_I_12', 'AAD_CLASS_III_12', 'INSULIN_12', 'METFORMIN_12', 'SGLT2_INHIBITORS_12', 'DPP4_INHIBTOR_12', 'TZD_12', 'GLP1_12', 'SULFONYLUREA_12']\n"
     ]
    }
   ],
   "source": [
    "print(na_12_13,'\\n', na_13_14,'\\n', na_14_15, '\\n',na_15_16,'\\n', na_16_17,'\\n', na_17_20)"
   ]
  },
  {
   "cell_type": "markdown",
   "metadata": {},
   "source": [
    "Evaluate the several big jumps:  \n",
    "- 0.17 -> 0.18\n",
    "- 0.29 -> 0.30\n",
    "- 0.39 -> 0.40"
   ]
  },
  {
   "cell_type": "code",
   "execution_count": 206,
   "metadata": {},
   "outputs": [],
   "source": [
    "na_attri_29 = baseline_na_series[baseline_na_series>=0.29].index\n",
    "na_attri_30 = baseline_na_series[baseline_na_series>=0.30].index\n",
    "na_attri_18 = baseline_na_series[baseline_na_series>=0.18].index\n",
    "na_attri_39 = baseline_na_series[baseline_na_series>=0.39].index\n",
    "na_attri_40 = baseline_na_series[baseline_na_series>=0.40].index"
   ]
  },
  {
   "cell_type": "code",
   "execution_count": 207,
   "metadata": {},
   "outputs": [],
   "source": [
    "na_29_30 = [i for i in na_attri_29 if i not in na_attri_30]\n",
    "na_17_18 = [i for i in na_attri_17 if i not in na_attri_18]\n",
    "na_39_40 = [i for i in na_attri_39 if i not in na_attri_40]"
   ]
  },
  {
   "cell_type": "code",
   "execution_count": 208,
   "metadata": {},
   "outputs": [
    {
     "name": "stdout",
     "output_type": "stream",
     "text": [
      "['ASA_12', 'WARFARIN_12', 'NOAC_12', 'APT_12', 'BB_12', 'ACE_ARB_12', 'AAD_CLASS_I_12', 'AAD_CLASS_III_12', 'INSULIN_12', 'METFORMIN_12', 'SGLT2_INHIBITORS_12', 'DPP4_INHIBTOR_12', 'TZD_12', 'GLP1_12', 'SULFONYLUREA_12'] \n",
      " ['HOSP_BILI', 'ASA_24', 'WARFARIN_24', 'NOAC_24', 'APT_24', 'BB_24', 'ACE_ARB_24', 'AAD_CLASS_I_24', 'AAD_CLASS_III_24', 'INSULIN_24', 'METFORMIN_24', 'SGLT2_INHIBITORS_24', 'DPP4_INHIBTOR_24', 'TZD_24', 'GLP1_24', 'SULFONYLUREA_24'] \n",
      " ['ASA_36', 'WARFARIN_36', 'NOAC_36', 'APT_36', 'BB_36', 'ACE_ARB_36', 'AAD_CLASS_I_36', 'AAD_CLASS_III_36', 'INSULIN_36', 'METFORMIN_36', 'SGLT2_INHIBITORS_36', 'DPP4_INHIBTOR_36', 'TZD_36', 'GLP1_36', 'SULFONYLUREA_36'] \n",
      "\n"
     ]
    }
   ],
   "source": [
    "print(na_17_18, '\\n', na_29_30, '\\n', na_39_40, '\\n',)"
   ]
  },
  {
   "cell_type": "code",
   "execution_count": 209,
   "metadata": {},
   "outputs": [
    {
     "data": {
      "text/plain": [
       "289"
      ]
     },
     "execution_count": 209,
     "metadata": {},
     "output_type": "execute_result"
    }
   ],
   "source": [
    "baseline.shape[1]"
   ]
  },
  {
   "cell_type": "code",
   "execution_count": 210,
   "metadata": {},
   "outputs": [
    {
     "data": {
      "text/plain": [
       "174"
      ]
     },
     "execution_count": 210,
     "metadata": {},
     "output_type": "execute_result"
    }
   ],
   "source": [
    "baseline.shape[1]-len(baseline_na_series[baseline_na_series>=0.15])"
   ]
  },
  {
   "cell_type": "markdown",
   "metadata": {},
   "source": [
    "# drop some unnecessary attributes"
   ]
  },
  {
   "cell_type": "code",
   "execution_count": 211,
   "metadata": {},
   "outputs": [],
   "source": [
    "baseline_trunc = baseline.drop(columns = ['PRE_VAD', 'PRE_TRANSPLANT'])\n",
    "baseline_trunc.drop(columns = ['ORD'], inplace=True)"
   ]
  },
  {
   "cell_type": "markdown",
   "metadata": {},
   "source": [
    "## Drop attributes with >50% missing values for sure. "
   ]
  },
  {
   "cell_type": "code",
   "execution_count": 212,
   "metadata": {},
   "outputs": [],
   "source": [
    "drop_attris = list(baseline_na_series[baseline_na_series>=0.50].index)"
   ]
  },
  {
   "cell_type": "code",
   "execution_count": 213,
   "metadata": {},
   "outputs": [
    {
     "data": {
      "text/plain": [
       "['AS',\n",
       " 'CLOSEST_AS_DAYS',\n",
       " 'MS',\n",
       " 'CLOSEST_MS_DAYS',\n",
       " 'PS',\n",
       " 'CLOSEST_PS_DAYS',\n",
       " 'TS',\n",
       " 'CLOSEST_TS_DAYS',\n",
       " 'PRE_CRT_DAYS',\n",
       " 'PRE_VAD_DAYS',\n",
       " 'PRE_TRANSPLANT_DAYS',\n",
       " 'PRIOR_PCI_DAYS',\n",
       " 'PRIOR_CABG_DAYS',\n",
       " 'PRIOR_TAVR_DAYS',\n",
       " 'PRIOR_SAVR_MECH_DAYS',\n",
       " 'PRIOR_SAVR_BIO_DAYS',\n",
       " 'PRIOR_SURG_AO_GRFT_DAYS',\n",
       " 'PRIOR_ENDO_AO_GRFT_DAYS',\n",
       " 'PRIOR_AO_VLV_REPAIR_DAYS',\n",
       " 'PRIOR_SMVR_DAYS',\n",
       " 'PRIOR_SPVR_DAYS',\n",
       " 'PRIOR_STVR_DAYS',\n",
       " 'POST_CRT_DAYS',\n",
       " 'POST_VAD_DAYS',\n",
       " 'POST_TRANSPLANT_DAYS',\n",
       " 'HEMOGLOBIN_A1C',\n",
       " 'HEMOGLOBIN_A1C_DAYS',\n",
       " 'CHOLESTEROL',\n",
       " 'CHOLESTEROL_DAYS',\n",
       " 'LDL',\n",
       " 'LDL_DAYS',\n",
       " 'HDL',\n",
       " 'HDL_DAYS',\n",
       " 'TRIGLYCERIDE',\n",
       " 'TRIGLYCERIDE_DAYS',\n",
       " 'PREALBUMIN',\n",
       " 'PREALBUMIN_DAYS',\n",
       " 'BUN',\n",
       " 'BUN_DAYS',\n",
       " 'BLOOD_TYPE',\n",
       " 'RA_MEAN_PRESSURE',\n",
       " 'RA_MEAN_PRESSURE_DAYS',\n",
       " 'THERMAL_CARDIAC_INDEX',\n",
       " 'THERMAL_CARDIAC_INDEX_DAYS',\n",
       " 'FICK_CARDIAC_INDEX',\n",
       " 'FICK_CARDIAC_INDEX_DAYS',\n",
       " 'PA_SATURATION',\n",
       " 'PA_SATURATION_DAYS',\n",
       " 'WEDGE_MEAN_PRESSURE',\n",
       " 'WEDGE_MEAN_PRESSURE_DAYS',\n",
       " 'PULM_ART_SYS_PRESSURE',\n",
       " 'PULM_ART_SYS_PRESSURE_DAYS']"
      ]
     },
     "execution_count": 213,
     "metadata": {},
     "output_type": "execute_result"
    }
   ],
   "source": [
    "drop_attris"
   ]
  },
  {
   "cell_type": "code",
   "execution_count": 214,
   "metadata": {},
   "outputs": [],
   "source": [
    "baseline_trunc.drop(columns = drop_attris, inplace=True)"
   ]
  },
  {
   "cell_type": "code",
   "execution_count": 215,
   "metadata": {},
   "outputs": [
    {
     "data": {
      "text/plain": [
       "(2521, 234)"
      ]
     },
     "execution_count": 215,
     "metadata": {},
     "output_type": "execute_result"
    }
   ],
   "source": [
    "baseline_trunc.shape"
   ]
  },
  {
   "cell_type": "markdown",
   "metadata": {},
   "source": [
    "New baseline dataset needed to be saved:  \n",
    "*baseline_trunc: removed attributes with more than 50% missing values*"
   ]
  },
  {
   "cell_type": "code",
   "execution_count": 216,
   "metadata": {},
   "outputs": [],
   "source": [
    "baseline_trunc_na = baseline_trunc.isna().sum()/baseline_trunc.shape[0]"
   ]
  },
  {
   "cell_type": "code",
   "execution_count": 217,
   "metadata": {},
   "outputs": [
    {
     "data": {
      "text/plain": [
       "Index(['HOSP_BILI', 'HOSP_INR', 'PULSE', 'AR', 'CLOSEST_AR_DAYS', 'PR',\n",
       "       'CLOSEST_PR_DAYS', 'ASA_12', 'ASA_24', 'ASA_36', 'WARFARIN_12',\n",
       "       'WARFARIN_24', 'WARFARIN_36', 'NOAC_12', 'NOAC_24', 'NOAC_36', 'APT_12',\n",
       "       'APT_24', 'APT_36', 'BB_12', 'BB_24', 'BB_36', 'ACE_ARB_12',\n",
       "       'ACE_ARB_24', 'ACE_ARB_36', 'AAD_CLASS_I_12', 'AAD_CLASS_I_24',\n",
       "       'AAD_CLASS_I_36', 'AAD_CLASS_III_12', 'AAD_CLASS_III_24',\n",
       "       'AAD_CLASS_III_36', 'INSULIN_12', 'INSULIN_24', 'INSULIN_36',\n",
       "       'METFORMIN_12', 'METFORMIN_24', 'METFORMIN_36', 'SGLT2_INHIBITORS_12',\n",
       "       'SGLT2_INHIBITORS_24', 'SGLT2_INHIBITORS_36', 'DPP4_INHIBTOR_12',\n",
       "       'DPP4_INHIBTOR_24', 'DPP4_INHIBTOR_36', 'TZD_12', 'TZD_24', 'TZD_36',\n",
       "       'GLP1_12', 'GLP1_24', 'GLP1_36', 'SULFONYLUREA_12', 'SULFONYLUREA_24',\n",
       "       'SULFONYLUREA_36', 'ALBUMIN', 'ALBUMIN_DAYS', 'BNP', 'BNP_DAYS', 'BILI',\n",
       "       'BILI_DAYS', 'INR', 'INR_DAYS', 'CLOSEST_MELD', 'VERIFIED_MELD',\n",
       "       'MELD_EST_MORTALITY'],\n",
       "      dtype='object')"
      ]
     },
     "execution_count": 217,
     "metadata": {},
     "output_type": "execute_result"
    }
   ],
   "source": [
    "baseline_trunc_na[baseline_trunc_na>=0.15]\n",
    "baseline_trunc_na[baseline_trunc_na>=0.15].index"
   ]
  },
  {
   "cell_type": "markdown",
   "metadata": {},
   "source": [
    "## drop prescription related attributes"
   ]
  },
  {
   "cell_type": "markdown",
   "metadata": {},
   "source": [
    "Out of the attributes left out at 15% missing value tolerance cutoff,  \n",
    "there are __ related to prescriptions 12, 24, 36 months after office visit."
   ]
  },
  {
   "cell_type": "code",
   "execution_count": 218,
   "metadata": {},
   "outputs": [],
   "source": [
    "prescription_12_24_36 = ['ASA_12', 'ASA_24', 'ASA_36', 'WARFARIN_12',\n",
    "       'WARFARIN_24', 'WARFARIN_36', 'NOAC_12', 'NOAC_24', 'NOAC_36', 'APT_12',\n",
    "       'APT_24', 'APT_36', 'BB_12', 'BB_24', 'BB_36', 'ACE_ARB_12',\n",
    "       'ACE_ARB_24', 'ACE_ARB_36', 'AAD_CLASS_I_12', 'AAD_CLASS_I_24',\n",
    "       'AAD_CLASS_I_36', 'AAD_CLASS_III_12', 'AAD_CLASS_III_24',\n",
    "       'AAD_CLASS_III_36', 'INSULIN_12', 'INSULIN_24', 'INSULIN_36',\n",
    "       'METFORMIN_12', 'METFORMIN_24', 'METFORMIN_36', 'SGLT2_INHIBITORS_12',\n",
    "       'SGLT2_INHIBITORS_24', 'SGLT2_INHIBITORS_36', 'DPP4_INHIBTOR_12',\n",
    "       'DPP4_INHIBTOR_24', 'DPP4_INHIBTOR_36', 'TZD_12', 'TZD_24', 'TZD_36',\n",
    "       'GLP1_12', 'GLP1_24', 'GLP1_36', 'SULFONYLUREA_12', 'SULFONYLUREA_24',\n",
    "       'SULFONYLUREA_36']"
   ]
  },
  {
   "cell_type": "markdown",
   "metadata": {},
   "source": [
    "I think it's sufficient to only include the presciption on the day of office visit. \n",
    "prescription 3, 6, 12, 24, 36 months after visit is not static feature anymore, and need to be carefully evaluate where they lie on each patient's timeline, which is highly variable. "
   ]
  },
  {
   "cell_type": "markdown",
   "metadata": {},
   "source": [
    "So, as now, I remove these prescription attributes (_12, _24, _36) first. "
   ]
  },
  {
   "cell_type": "code",
   "execution_count": 219,
   "metadata": {},
   "outputs": [],
   "source": [
    "baseline_trunc.drop(columns = prescription_12_24_36, inplace=True)"
   ]
  },
  {
   "cell_type": "code",
   "execution_count": 220,
   "metadata": {},
   "outputs": [
    {
     "data": {
      "text/plain": [
       "(2521, 189)"
      ]
     },
     "execution_count": 220,
     "metadata": {},
     "output_type": "execute_result"
    }
   ],
   "source": [
    "baseline_trunc.shape"
   ]
  },
  {
   "cell_type": "code",
   "execution_count": 221,
   "metadata": {},
   "outputs": [
    {
     "data": {
      "text/plain": [
       "Index(['HOSP_BILI', 'HOSP_INR', 'PULSE', 'AR', 'CLOSEST_AR_DAYS', 'PR',\n",
       "       'CLOSEST_PR_DAYS', 'ALBUMIN', 'ALBUMIN_DAYS', 'BNP', 'BNP_DAYS', 'BILI',\n",
       "       'BILI_DAYS', 'INR', 'INR_DAYS', 'CLOSEST_MELD', 'VERIFIED_MELD',\n",
       "       'MELD_EST_MORTALITY'],\n",
       "      dtype='object')"
      ]
     },
     "execution_count": 221,
     "metadata": {},
     "output_type": "execute_result"
    }
   ],
   "source": [
    "baseline_trunc_na = baseline_trunc.isna().sum()/baseline_trunc.shape[0]\n",
    "baseline_trunc_na[baseline_trunc_na>=0.15].index"
   ]
  },
  {
   "cell_type": "code",
   "execution_count": 222,
   "metadata": {},
   "outputs": [
    {
     "data": {
      "text/plain": [
       "HOSP_BILI             0.291551\n",
       "ALBUMIN               0.261008\n",
       "ALBUMIN_DAYS          0.261008\n",
       "BNP                   0.258231\n",
       "BNP_DAYS              0.258231\n",
       "BILI                  0.279651\n",
       "BILI_DAYS             0.279651\n",
       "INR                   0.213011\n",
       "INR_DAYS              0.213011\n",
       "CLOSEST_MELD          0.274098\n",
       "VERIFIED_MELD         0.274098\n",
       "MELD_EST_MORTALITY    0.274098\n",
       "dtype: float64"
      ]
     },
     "execution_count": 222,
     "metadata": {},
     "output_type": "execute_result"
    }
   ],
   "source": [
    "baseline_trunc[baseline_trunc_na[baseline_trunc_na>=0.20].index].isna().sum()/baseline_trunc.shape[0]"
   ]
  },
  {
   "cell_type": "code",
   "execution_count": 223,
   "metadata": {},
   "outputs": [],
   "source": [
    "prescription_03_06 = ['ASA_03', 'ASA_06', 'WARFARIN_03',\n",
    "       'WARFARIN_06', 'NOAC_03', 'NOAC_06', 'APT_03',\n",
    "       'APT_06', 'BB_03', 'BB_06', 'ACE_ARB_03',\n",
    "       'ACE_ARB_06', 'AAD_CLASS_I_03', 'AAD_CLASS_I_06',\n",
    "       'AAD_CLASS_III_03', 'AAD_CLASS_III_06',\n",
    "       'INSULIN_03', 'INSULIN_06',\n",
    "       'METFORMIN_03', 'METFORMIN_06', 'SGLT2_INHIBITORS_03',\n",
    "       'SGLT2_INHIBITORS_06', 'DPP4_INHIBTOR_03',\n",
    "       'DPP4_INHIBTOR_06', 'TZD_03', 'TZD_06',\n",
    "       'GLP1_03', 'GLP1_06', 'SULFONYLUREA_03', 'SULFONYLUREA_06']"
   ]
  },
  {
   "cell_type": "code",
   "execution_count": 224,
   "metadata": {},
   "outputs": [],
   "source": [
    "baseline_trunc.drop(columns = prescription_03_06, inplace=True)"
   ]
  },
  {
   "cell_type": "code",
   "execution_count": 225,
   "metadata": {},
   "outputs": [
    {
     "data": {
      "text/plain": [
       "(2521, 159)"
      ]
     },
     "execution_count": 225,
     "metadata": {},
     "output_type": "execute_result"
    }
   ],
   "source": [
    "baseline_trunc.shape"
   ]
  },
  {
   "cell_type": "code",
   "execution_count": 226,
   "metadata": {},
   "outputs": [
    {
     "data": {
      "text/plain": [
       "HOSP_BILI             0.291551\n",
       "HOSP_INR              0.161444\n",
       "PULSE                 0.162237\n",
       "AR                    0.191987\n",
       "CLOSEST_AR_DAYS       0.191987\n",
       "PR                    0.194367\n",
       "CLOSEST_PR_DAYS       0.194367\n",
       "ALBUMIN               0.261008\n",
       "ALBUMIN_DAYS          0.261008\n",
       "BNP                   0.258231\n",
       "BNP_DAYS              0.258231\n",
       "BILI                  0.279651\n",
       "BILI_DAYS             0.279651\n",
       "INR                   0.213011\n",
       "INR_DAYS              0.213011\n",
       "CLOSEST_MELD          0.274098\n",
       "VERIFIED_MELD         0.274098\n",
       "MELD_EST_MORTALITY    0.274098\n",
       "dtype: float64"
      ]
     },
     "execution_count": 226,
     "metadata": {},
     "output_type": "execute_result"
    }
   ],
   "source": [
    "baseline_trunc_na = baseline_trunc.isna().sum()/baseline_trunc.shape[0]\n",
    "baseline_trunc[baseline_trunc_na[baseline_trunc_na>=0.15].index].isna().sum()/baseline_trunc.shape[0]"
   ]
  },
  {
   "cell_type": "code",
   "execution_count": 227,
   "metadata": {},
   "outputs": [
    {
     "data": {
      "text/plain": [
       "HOSP_BILI             0.291551\n",
       "ALBUMIN               0.261008\n",
       "ALBUMIN_DAYS          0.261008\n",
       "BNP                   0.258231\n",
       "BNP_DAYS              0.258231\n",
       "BILI                  0.279651\n",
       "BILI_DAYS             0.279651\n",
       "INR                   0.213011\n",
       "INR_DAYS              0.213011\n",
       "CLOSEST_MELD          0.274098\n",
       "VERIFIED_MELD         0.274098\n",
       "MELD_EST_MORTALITY    0.274098\n",
       "dtype: float64"
      ]
     },
     "execution_count": 227,
     "metadata": {},
     "output_type": "execute_result"
    }
   ],
   "source": [
    "baseline_trunc[baseline_trunc_na[baseline_trunc_na>=0.20].index].isna().sum()/baseline_trunc.shape[0]"
   ]
  },
  {
   "cell_type": "markdown",
   "metadata": {},
   "source": [
    "## drop attributes >20% or >30% missing values\n",
    "baseline_trunc_20"
   ]
  },
  {
   "cell_type": "markdown",
   "metadata": {},
   "source": [
    "### What attributes are dropped from 0.18 - 0.29"
   ]
  },
  {
   "cell_type": "code",
   "execution_count": 228,
   "metadata": {},
   "outputs": [],
   "source": [
    "cutoffs = np.arange(18,30)/100"
   ]
  },
  {
   "cell_type": "code",
   "execution_count": 229,
   "metadata": {},
   "outputs": [
    {
     "name": "stdout",
     "output_type": "stream",
     "text": [
      "0.18 to 0.19 : []\n",
      "0.19 to 0.2 : ['AR', 'CLOSEST_AR_DAYS', 'PR', 'CLOSEST_PR_DAYS']\n",
      "0.2 to 0.21 : []\n",
      "0.21 to 0.22 : ['INR', 'INR_DAYS']\n",
      "0.22 to 0.23 : []\n",
      "0.23 to 0.24 : []\n",
      "0.24 to 0.25 : []\n",
      "0.25 to 0.26 : ['BNP', 'BNP_DAYS']\n",
      "0.26 to 0.27 : ['ALBUMIN', 'ALBUMIN_DAYS']\n",
      "0.27 to 0.28 : ['BILI', 'BILI_DAYS', 'CLOSEST_MELD', 'VERIFIED_MELD', 'MELD_EST_MORTALITY']\n",
      "0.28 to 0.29 : []\n"
     ]
    }
   ],
   "source": [
    "for i in range(len(cutoffs)-1):\n",
    "    na_attri_s = baseline_na_series[baseline_na_series>=cutoffs[i]].index\n",
    "    na_attri_l = baseline_na_series[baseline_na_series>=cutoffs[i+1]].index\n",
    "    na_s_l = [i for i in na_attri_s if i not in na_attri_l]\n",
    "    print(cutoffs[i], 'to', cutoffs[i+1],':', na_s_l)"
   ]
  },
  {
   "cell_type": "markdown",
   "metadata": {},
   "source": [
    "Drop attributes with >20% missing values. "
   ]
  },
  {
   "cell_type": "code",
   "execution_count": 230,
   "metadata": {},
   "outputs": [],
   "source": [
    "baseline_trunc.drop(columns = ['CLOSEST_MELD', 'MELD_EST_MORTALITY'], inplace=True)"
   ]
  },
  {
   "cell_type": "code",
   "execution_count": 231,
   "metadata": {},
   "outputs": [],
   "source": [
    "baseline_na_trunc_series = baseline_trunc.isna().sum()/baseline_trunc.shape[0]"
   ]
  },
  {
   "cell_type": "code",
   "execution_count": 232,
   "metadata": {},
   "outputs": [],
   "source": [
    "drop_attris_20 = list(baseline_na_trunc_series[baseline_na_trunc_series>=0.20].index)"
   ]
  },
  {
   "cell_type": "code",
   "execution_count": 244,
   "metadata": {},
   "outputs": [
    {
     "data": {
      "text/plain": [
       "['HOSP_BILI',\n",
       " 'ALBUMIN',\n",
       " 'ALBUMIN_DAYS',\n",
       " 'BNP',\n",
       " 'BNP_DAYS',\n",
       " 'BILI',\n",
       " 'BILI_DAYS',\n",
       " 'INR',\n",
       " 'INR_DAYS',\n",
       " 'VERIFIED_MELD']"
      ]
     },
     "execution_count": 244,
     "metadata": {},
     "output_type": "execute_result"
    }
   ],
   "source": [
    "drop_attris_20"
   ]
  },
  {
   "cell_type": "code",
   "execution_count": 245,
   "metadata": {},
   "outputs": [],
   "source": [
    "drop_attris_30 = list(baseline_na_trunc_series[baseline_na_trunc_series>=0.30].index)"
   ]
  },
  {
   "cell_type": "code",
   "execution_count": 246,
   "metadata": {},
   "outputs": [
    {
     "data": {
      "text/plain": [
       "[]"
      ]
     },
     "execution_count": 246,
     "metadata": {},
     "output_type": "execute_result"
    }
   ],
   "source": [
    "drop_attris_30"
   ]
  },
  {
   "cell_type": "markdown",
   "metadata": {},
   "source": [
    "## drop \"POST_\" attributes"
   ]
  },
  {
   "cell_type": "markdown",
   "metadata": {},
   "source": [
    "POST_CRT   \n",
    "POST_VAD \n",
    "POST_TRANSPLANT"
   ]
  },
  {
   "cell_type": "markdown",
   "metadata": {},
   "source": [
    "These 3 attributes are varied with admissions and are not static.  \n",
    "Moreover, the information are contained in admission dataset already. "
   ]
  },
  {
   "cell_type": "code",
   "execution_count": 236,
   "metadata": {},
   "outputs": [],
   "source": [
    "post_attris = ['POST_CRT', 'POST_VAD', 'POST_TRANSPLANT']"
   ]
  },
  {
   "cell_type": "code",
   "execution_count": 237,
   "metadata": {},
   "outputs": [
    {
     "data": {
      "text/plain": [
       "(2521, 154)"
      ]
     },
     "execution_count": 237,
     "metadata": {},
     "output_type": "execute_result"
    }
   ],
   "source": [
    "baseline_trunc.drop(columns = post_attris, inplace=True)\n",
    "baseline_trunc.shape"
   ]
  },
  {
   "cell_type": "markdown",
   "metadata": {},
   "source": [
    "## drop unnecessary attributres"
   ]
  },
  {
   "cell_type": "code",
   "execution_count": 238,
   "metadata": {
    "code_folding": [
     0
    ]
   },
   "outputs": [],
   "source": [
    "drop_attris_2 = ['AGE_OFFICE_VISIT', 'ETHNIC_GROUP', 'TOBACCO_STATUS', \n",
    "                 'HF_ETIOLOGY','CCI_MALIG_NO_SKIN',\n",
    "                 'CCI_SEVERE_LIVER_DISEASE', 'CCI_MATASTATIC_TUMOR']"
   ]
  },
  {
   "cell_type": "code",
   "execution_count": 239,
   "metadata": {},
   "outputs": [],
   "source": [
    "baseline_trunc.drop(columns = drop_attris_2, inplace=True)"
   ]
  },
  {
   "cell_type": "code",
   "execution_count": 240,
   "metadata": {},
   "outputs": [],
   "source": [
    "baseline_trunc.drop(columns = ['WEIGHT_KG'], inplace=True)"
   ]
  },
  {
   "cell_type": "code",
   "execution_count": 241,
   "metadata": {},
   "outputs": [],
   "source": [
    "baseline_trunc.drop(columns = ['total_adms'], inplace=True)"
   ]
  },
  {
   "cell_type": "code",
   "execution_count": 265,
   "metadata": {},
   "outputs": [],
   "source": [
    "baseline_trunc.drop(columns = ['AGE_CENSOR'], inplace=True)"
   ]
  },
  {
   "cell_type": "code",
   "execution_count": 278,
   "metadata": {},
   "outputs": [],
   "source": [
    "baseline_trunc.drop(columns = ['DEPARTMENT_NAME', 'EXTERNAL_DEPARTMENT_NAME'], inplace=True)"
   ]
  },
  {
   "cell_type": "markdown",
   "metadata": {},
   "source": [
    "## NA tolerance 0.20 and 0.30\n"
   ]
  },
  {
   "cell_type": "code",
   "execution_count": 279,
   "metadata": {},
   "outputs": [],
   "source": [
    "baseline_trunc20 = baseline_trunc.drop(columns = drop_attris_20)"
   ]
  },
  {
   "cell_type": "code",
   "execution_count": 280,
   "metadata": {},
   "outputs": [
    {
     "data": {
      "text/plain": [
       "(2521, 132)"
      ]
     },
     "execution_count": 280,
     "metadata": {},
     "output_type": "execute_result"
    }
   ],
   "source": [
    "baseline_trunc20.shape"
   ]
  },
  {
   "cell_type": "code",
   "execution_count": 281,
   "metadata": {},
   "outputs": [],
   "source": [
    "baseline_trunc30 = baseline_trunc.drop(columns = drop_attris_30)"
   ]
  },
  {
   "cell_type": "code",
   "execution_count": 282,
   "metadata": {},
   "outputs": [
    {
     "data": {
      "text/plain": [
       "(2521, 142)"
      ]
     },
     "execution_count": 282,
     "metadata": {},
     "output_type": "execute_result"
    }
   ],
   "source": [
    "baseline_trunc30.shape"
   ]
  },
  {
   "cell_type": "markdown",
   "metadata": {},
   "source": [
    "## drop \"_DAYS\" attributes for now"
   ]
  },
  {
   "cell_type": "code",
   "execution_count": 283,
   "metadata": {},
   "outputs": [],
   "source": [
    "days_office_visit = ['WBC_DAYS','HGB_DAYS','CR_DAYS','EGFR_DAYS',\n",
    "                    'K_DAYS','NA_DAYS','GLUCOSE_DAYS','PLATELETS_DAYS',\n",
    "                    'HCT_DAYS']"
   ]
  },
  {
   "cell_type": "code",
   "execution_count": 284,
   "metadata": {},
   "outputs": [],
   "source": [
    "baseline_trunc20_noday = baseline_trunc20.drop(columns = days_office_visit)"
   ]
  },
  {
   "cell_type": "code",
   "execution_count": 285,
   "metadata": {},
   "outputs": [],
   "source": [
    "baseline_trunc30_noday = baseline_trunc30.drop(columns = days_office_visit)"
   ]
  },
  {
   "cell_type": "markdown",
   "metadata": {},
   "source": [
    "# Save 'Filtered Attrributes Baseline' excel file"
   ]
  },
  {
   "cell_type": "code",
   "execution_count": 286,
   "metadata": {},
   "outputs": [
    {
     "name": "stdout",
     "output_type": "stream",
     "text": [
      "/Users/jinchenxie/Desktop/HF_Research/datasets/processed\n"
     ]
    }
   ],
   "source": [
    "%cd ~/desktop/HF_Research/datasets/processed"
   ]
  },
  {
   "cell_type": "code",
   "execution_count": 287,
   "metadata": {},
   "outputs": [
    {
     "name": "stdout",
     "output_type": "stream",
     "text": [
      "DataFrame is written successfully to Excel File.\n"
     ]
    }
   ],
   "source": [
    "writer = pd.ExcelWriter('Filtered Attributes Baseline.xlsx')\n",
    "baseline_trunc20.to_excel(writer, 'NA20_filtered_baseline', index=False)\n",
    "baseline_trunc30.to_excel(writer, 'NA30_filtered_baseline', index=False)\n",
    "baseline_trunc20_noday.to_excel(writer, 'NA20_filtered_baseline_noDays', index=False)\n",
    "baseline_trunc30_noday.to_excel(writer, 'NA30_filtered_baseline_noDays', index=False)\n",
    "writer.save()\n",
    "print('DataFrame is written successfully to Excel File.')"
   ]
  },
  {
   "cell_type": "markdown",
   "metadata": {},
   "source": [
    "# Proportion needs to be imputed"
   ]
  },
  {
   "cell_type": "code",
   "execution_count": 103,
   "metadata": {},
   "outputs": [],
   "source": [
    "trunc20_na_series = baseline_trunc20.isna().sum()/baseline_trunc20.shape[0]"
   ]
  },
  {
   "cell_type": "code",
   "execution_count": 125,
   "metadata": {},
   "outputs": [
    {
     "data": {
      "text/plain": [
       "135"
      ]
     },
     "execution_count": 125,
     "metadata": {},
     "output_type": "execute_result"
    }
   ],
   "source": [
    "len(trunc20_na_series[trunc20_na_series<=0.30].index)"
   ]
  },
  {
   "cell_type": "code",
   "execution_count": 126,
   "metadata": {},
   "outputs": [],
   "source": [
    "trunc30_na_series = baseline_trunc30.isna().sum()/baseline_trunc30.shape[0]"
   ]
  },
  {
   "cell_type": "code",
   "execution_count": 127,
   "metadata": {},
   "outputs": [
    {
     "data": {
      "text/plain": [
       "147"
      ]
     },
     "execution_count": 127,
     "metadata": {},
     "output_type": "execute_result"
    }
   ],
   "source": [
    "len(trunc30_na_series[trunc30_na_series <=0.30].index)"
   ]
  },
  {
   "cell_type": "code",
   "execution_count": 288,
   "metadata": {},
   "outputs": [
    {
     "data": {
      "text/plain": [
       "0       Commercial\n",
       "1         Medicare\n",
       "2         Medicare\n",
       "3         Medicare\n",
       "4         Medicare\n",
       "           ...    \n",
       "2516    Commercial\n",
       "2517      Medicaid\n",
       "2518      Medicaid\n",
       "2519      Medicare\n",
       "2520      Medicare\n",
       "Name: HOSP_ROLLUP_GROUPING2, Length: 2521, dtype: object"
      ]
     },
     "execution_count": 288,
     "metadata": {},
     "output_type": "execute_result"
    }
   ],
   "source": [
    "baseline_trunc20['HOSP_ROLLUP_GROUPING2']"
   ]
  },
  {
   "cell_type": "code",
   "execution_count": null,
   "metadata": {},
   "outputs": [],
   "source": []
  }
 ],
 "metadata": {
  "kernelspec": {
   "display_name": "Python 3",
   "language": "python",
   "name": "python3"
  },
  "language_info": {
   "codemirror_mode": {
    "name": "ipython",
    "version": 3
   },
   "file_extension": ".py",
   "mimetype": "text/x-python",
   "name": "python",
   "nbconvert_exporter": "python",
   "pygments_lexer": "ipython3",
   "version": "3.6.9"
  },
  "toc": {
   "base_numbering": 1,
   "nav_menu": {},
   "number_sections": true,
   "sideBar": true,
   "skip_h1_title": false,
   "title_cell": "Table of Contents",
   "title_sidebar": "Contents",
   "toc_cell": true,
   "toc_position": {
    "height": "679.091px",
    "left": "49px",
    "top": "134.423px",
    "width": "264.716px"
   },
   "toc_section_display": true,
   "toc_window_display": true
  }
 },
 "nbformat": 4,
 "nbformat_minor": 4
}
