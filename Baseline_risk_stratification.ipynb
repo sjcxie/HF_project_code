{
 "cells": [
  {
   "cell_type": "markdown",
   "metadata": {
    "toc": true
   },
   "source": [
    "<h1>Table of Contents<span class=\"tocSkip\"></span></h1>\n",
    "<div class=\"toc\"><ul class=\"toc-item\"><li><span><a href=\"#Import-data\" data-toc-modified-id=\"Import-data-1\"><span class=\"toc-item-num\">1&nbsp;&nbsp;</span>Import data</a></span></li><li><span><a href=\"#create-'readmit_30'-label-in-baseline-data\" data-toc-modified-id=\"create-'readmit_30'-label-in-baseline-data-2\"><span class=\"toc-item-num\">2&nbsp;&nbsp;</span>create 'readmit_30' label in baseline data</a></span></li><li><span><a href=\"#Extract-only-attributes-in-the-'Static-Characteristic'-dict\" data-toc-modified-id=\"Extract-only-attributes-in-the-'Static-Characteristic'-dict-3\"><span class=\"toc-item-num\">3&nbsp;&nbsp;</span>Extract only attributes in the 'Static Characteristic' dict</a></span></li><li><span><a href=\"#Normalize-numeric-attributes\" data-toc-modified-id=\"Normalize-numeric-attributes-4\"><span class=\"toc-item-num\">4&nbsp;&nbsp;</span>Normalize numeric attributes</a></span></li><li><span><a href=\"#One-hot-representation-for-categorical-attributes\" data-toc-modified-id=\"One-hot-representation-for-categorical-attributes-5\"><span class=\"toc-item-num\">5&nbsp;&nbsp;</span>One-hot representation for categorical attributes</a></span><ul class=\"toc-item\"><li><span><a href=\"#RACE\" data-toc-modified-id=\"RACE-5.1\"><span class=\"toc-item-num\">5.1&nbsp;&nbsp;</span>RACE</a></span></li><li><span><a href=\"#TOBACCO-STATUS\" data-toc-modified-id=\"TOBACCO-STATUS-5.2\"><span class=\"toc-item-num\">5.2&nbsp;&nbsp;</span>TOBACCO STATUS</a></span></li><li><span><a href=\"#Insurance-Payer\" data-toc-modified-id=\"Insurance-Payer-5.3\"><span class=\"toc-item-num\">5.3&nbsp;&nbsp;</span>Insurance Payer</a></span></li></ul></li><li><span><a href=\"#Mean-Imputation-on-BMI\" data-toc-modified-id=\"Mean-Imputation-on-BMI-6\"><span class=\"toc-item-num\">6&nbsp;&nbsp;</span>Mean Imputation on BMI</a></span></li><li><span><a href=\"#Save-the-cleaned-and-processed-dataset\" data-toc-modified-id=\"Save-the-cleaned-and-processed-dataset-7\"><span class=\"toc-item-num\">7&nbsp;&nbsp;</span>Save the cleaned and processed dataset</a></span></li><li><span><a href=\"#Split-to-training-and-validation-set\" data-toc-modified-id=\"Split-to-training-and-validation-set-8\"><span class=\"toc-item-num\">8&nbsp;&nbsp;</span>Split to training and validation set</a></span></li><li><span><a href=\"#Logistic-Regression\" data-toc-modified-id=\"Logistic-Regression-9\"><span class=\"toc-item-num\">9&nbsp;&nbsp;</span>Logistic Regression</a></span></li><li><span><a href=\"#Random-Forest\" data-toc-modified-id=\"Random-Forest-10\"><span class=\"toc-item-num\">10&nbsp;&nbsp;</span>Random Forest</a></span></li></ul></div>"
   ]
  },
  {
   "cell_type": "code",
   "execution_count": 3,
   "metadata": {},
   "outputs": [],
   "source": [
    "import pandas as pd\n",
    "import numpy as np\n",
    "from matplotlib import pyplot as plt\n",
    "\n",
    "pd.options.display.max_rows = 400\n",
    "pd.options.display.max_columns = 50"
   ]
  },
  {
   "cell_type": "markdown",
   "metadata": {},
   "source": [
    "# Import data"
   ]
  },
  {
   "cell_type": "code",
   "execution_count": 4,
   "metadata": {},
   "outputs": [
    {
     "name": "stdout",
     "output_type": "stream",
     "text": [
      "/Users/jinchenxie/Desktop/HF_Research/datasets\n"
     ]
    }
   ],
   "source": [
    "%cd ~/desktop/HF_Research/datasets"
   ]
  },
  {
   "cell_type": "code",
   "execution_count": 5,
   "metadata": {},
   "outputs": [],
   "source": [
    "baseline = pd.read_excel('Filtered Attributes Baseline.xlsx', \n",
    "                               'NA_filt_base_without_days')"
   ]
  },
  {
   "cell_type": "code",
   "execution_count": 6,
   "metadata": {},
   "outputs": [],
   "source": [
    "admission = pd.read_excel('Advanced Therapy Potential Cohort.xlsx', \n",
    "                          'admission (upto 15th)')"
   ]
  },
  {
   "cell_type": "markdown",
   "metadata": {},
   "source": [
    "# create 'readmit_30' label in baseline data\n",
    "This label only considers the 30-day readmission after the index admission. "
   ]
  },
  {
   "cell_type": "code",
   "execution_count": 9,
   "metadata": {},
   "outputs": [],
   "source": [
    "baseline.drop(columns=['Unnamed: 0', 'Unnamed: 0.1'], inplace=True)"
   ]
  },
  {
   "cell_type": "code",
   "execution_count": 10,
   "metadata": {},
   "outputs": [],
   "source": [
    "admission_1 = admission[admission['INDEX_HOSPITALIZATION']==1]"
   ]
  },
  {
   "cell_type": "code",
   "execution_count": 13,
   "metadata": {},
   "outputs": [],
   "source": [
    "readmit_30_label = admission_1.readmit_30_label\n",
    "readmit_30_label.reset_index(drop=True, inplace=True)"
   ]
  },
  {
   "cell_type": "code",
   "execution_count": 16,
   "metadata": {},
   "outputs": [],
   "source": [
    "baseline['readmit_30'] = readmit_30_label"
   ]
  },
  {
   "cell_type": "markdown",
   "metadata": {},
   "source": [
    "# Extract only attributes in the 'Static Characteristic' dict\n"
   ]
  },
  {
   "cell_type": "code",
   "execution_count": 19,
   "metadata": {},
   "outputs": [],
   "source": [
    "attris_1 = ['AGE_ADMISSION','FEMALE','RACE',\n",
    "            'TOBACCO_STATUS_LABEL','BMI','HOSP_ROLLUP_GROUPING2']\n",
    "\n",
    "attris_his = ['HTN_HST','HYPERLIPIDEMIA_HST','DIAB_HST','COPD_HST','CAD_HST',\n",
    "'CHF_HST','AFIB_HST','PH_HST','PE_HST','CARDIAC_ARREST_HST','VTVF_HST',\n",
    "'VASCULARDISEASE_HST','DVT_HST','STROKE_HST','HEMO_STROKE_HST',\n",
    "'MAJOR_BLEED_HST','CKD_HST','ESRD_HST','CIRRHOSIS_HST','HX_SEPTIC_SHOCK',\n",
    "'HX_SEPSIS','HX_CAROTID_OCCLUSION','RESTRICTIVE_CARDIOMYOPATHY',\n",
    "'HYPERTROPHIC_CARDIOMYOPATHY','ISCHEMIC_CARDIOMYOPATHY','PERIPARTUM_CARDIOMYOPATHY',\n",
    "'VIRAL_CARDIOMYOPATHY','DILATED_CARDIOMYOPATHY','ALCOHOLIC_CARDIOMYOPATHY']\n",
    "\n",
    "attris_cci = ['CCI_MI','CCI_CHF','CCI_PERIPHERAL_VASC','CCI_CEREBROVASCULAR',\n",
    "              'CCI_DEMENTIA','CCI_COPD','CCI_RHEUMATIC_DISEASE',\n",
    "              'CCI_PEPTIC_ULCER','CCI_MILD_LIVER_DISEASE','CCI_DM_NO_CC',\n",
    "              'CCI_DM_WITH_CC','CCI_HEMIPLEGIA','CCI_RENAL_DISEASE',\n",
    "              'CCI_AIDS_HIV','CCI_TOTAL_SCORE']\n",
    "\n",
    "label = ['readmit_30']"
   ]
  },
  {
   "cell_type": "code",
   "execution_count": 24,
   "metadata": {},
   "outputs": [
    {
     "data": {
      "text/plain": [
       "[None]"
      ]
     },
     "execution_count": 24,
     "metadata": {},
     "output_type": "execute_result"
    }
   ],
   "source": [
    "attris_all = ['rID']\n",
    "[attris_all.append(i) for i in attris_1]\n",
    "[attris_all.append(i) for i in attris_his]\n",
    "[attris_all.append(i) for i in attris_cci]\n",
    "[attris_all.append(i) for i in label]"
   ]
  },
  {
   "cell_type": "code",
   "execution_count": 31,
   "metadata": {},
   "outputs": [],
   "source": [
    "data_raw = baseline[attris_all]"
   ]
  },
  {
   "cell_type": "code",
   "execution_count": 39,
   "metadata": {},
   "outputs": [
    {
     "data": {
      "text/html": [
       "<div>\n",
       "<style scoped>\n",
       "    .dataframe tbody tr th:only-of-type {\n",
       "        vertical-align: middle;\n",
       "    }\n",
       "\n",
       "    .dataframe tbody tr th {\n",
       "        vertical-align: top;\n",
       "    }\n",
       "\n",
       "    .dataframe thead th {\n",
       "        text-align: right;\n",
       "    }\n",
       "</style>\n",
       "<table border=\"1\" class=\"dataframe\">\n",
       "  <thead>\n",
       "    <tr style=\"text-align: right;\">\n",
       "      <th></th>\n",
       "      <th>rID</th>\n",
       "      <th>AGE_ADMISSION</th>\n",
       "      <th>FEMALE</th>\n",
       "      <th>BMI</th>\n",
       "      <th>HTN_HST</th>\n",
       "      <th>HYPERLIPIDEMIA_HST</th>\n",
       "      <th>DIAB_HST</th>\n",
       "      <th>COPD_HST</th>\n",
       "      <th>CAD_HST</th>\n",
       "      <th>CHF_HST</th>\n",
       "      <th>AFIB_HST</th>\n",
       "      <th>PH_HST</th>\n",
       "      <th>PE_HST</th>\n",
       "      <th>CARDIAC_ARREST_HST</th>\n",
       "      <th>VTVF_HST</th>\n",
       "      <th>VASCULARDISEASE_HST</th>\n",
       "      <th>DVT_HST</th>\n",
       "      <th>STROKE_HST</th>\n",
       "      <th>HEMO_STROKE_HST</th>\n",
       "      <th>MAJOR_BLEED_HST</th>\n",
       "      <th>CKD_HST</th>\n",
       "      <th>ESRD_HST</th>\n",
       "      <th>CIRRHOSIS_HST</th>\n",
       "      <th>HX_SEPTIC_SHOCK</th>\n",
       "      <th>HX_SEPSIS</th>\n",
       "      <th>HX_CAROTID_OCCLUSION</th>\n",
       "      <th>RESTRICTIVE_CARDIOMYOPATHY</th>\n",
       "      <th>HYPERTROPHIC_CARDIOMYOPATHY</th>\n",
       "      <th>ISCHEMIC_CARDIOMYOPATHY</th>\n",
       "      <th>PERIPARTUM_CARDIOMYOPATHY</th>\n",
       "      <th>VIRAL_CARDIOMYOPATHY</th>\n",
       "      <th>DILATED_CARDIOMYOPATHY</th>\n",
       "      <th>ALCOHOLIC_CARDIOMYOPATHY</th>\n",
       "      <th>CCI_MI</th>\n",
       "      <th>CCI_CHF</th>\n",
       "      <th>CCI_PERIPHERAL_VASC</th>\n",
       "      <th>CCI_CEREBROVASCULAR</th>\n",
       "      <th>CCI_DEMENTIA</th>\n",
       "      <th>CCI_COPD</th>\n",
       "      <th>CCI_RHEUMATIC_DISEASE</th>\n",
       "      <th>CCI_PEPTIC_ULCER</th>\n",
       "      <th>CCI_MILD_LIVER_DISEASE</th>\n",
       "      <th>CCI_DM_NO_CC</th>\n",
       "      <th>CCI_DM_WITH_CC</th>\n",
       "      <th>CCI_HEMIPLEGIA</th>\n",
       "      <th>CCI_RENAL_DISEASE</th>\n",
       "      <th>CCI_AIDS_HIV</th>\n",
       "      <th>CCI_TOTAL_SCORE</th>\n",
       "      <th>readmit_30</th>\n",
       "    </tr>\n",
       "  </thead>\n",
       "  <tbody>\n",
       "    <tr>\n",
       "      <td>count</td>\n",
       "      <td>2521.000000</td>\n",
       "      <td>2521.000000</td>\n",
       "      <td>2521.000000</td>\n",
       "      <td>2290.000000</td>\n",
       "      <td>2521.000000</td>\n",
       "      <td>2521.000000</td>\n",
       "      <td>2521.000000</td>\n",
       "      <td>2521.000000</td>\n",
       "      <td>2521.000000</td>\n",
       "      <td>2521.000000</td>\n",
       "      <td>2521.000000</td>\n",
       "      <td>2521.000000</td>\n",
       "      <td>2521.000000</td>\n",
       "      <td>2521.000000</td>\n",
       "      <td>2521.000000</td>\n",
       "      <td>2521.000000</td>\n",
       "      <td>2521.000000</td>\n",
       "      <td>2521.000000</td>\n",
       "      <td>2521.000000</td>\n",
       "      <td>2521.000000</td>\n",
       "      <td>2521.000000</td>\n",
       "      <td>2521.000000</td>\n",
       "      <td>2521.000000</td>\n",
       "      <td>2521.000000</td>\n",
       "      <td>2521.000000</td>\n",
       "      <td>2521.000000</td>\n",
       "      <td>2521.000000</td>\n",
       "      <td>2521.000000</td>\n",
       "      <td>2521.000000</td>\n",
       "      <td>2521.000000</td>\n",
       "      <td>2521.000000</td>\n",
       "      <td>2521.000000</td>\n",
       "      <td>2521.000000</td>\n",
       "      <td>2521.000000</td>\n",
       "      <td>2521.000000</td>\n",
       "      <td>2521.000000</td>\n",
       "      <td>2521.000000</td>\n",
       "      <td>2521.000000</td>\n",
       "      <td>2521.000000</td>\n",
       "      <td>2521.000000</td>\n",
       "      <td>2521.000000</td>\n",
       "      <td>2521.000000</td>\n",
       "      <td>2521.000000</td>\n",
       "      <td>2521.000000</td>\n",
       "      <td>2521.000000</td>\n",
       "      <td>2521.000000</td>\n",
       "      <td>2521.000000</td>\n",
       "      <td>2521.000000</td>\n",
       "      <td>2521.000000</td>\n",
       "    </tr>\n",
       "    <tr>\n",
       "      <td>mean</td>\n",
       "      <td>6256.639825</td>\n",
       "      <td>60.913923</td>\n",
       "      <td>0.353828</td>\n",
       "      <td>31.238799</td>\n",
       "      <td>0.550972</td>\n",
       "      <td>0.421658</td>\n",
       "      <td>0.391908</td>\n",
       "      <td>0.182071</td>\n",
       "      <td>0.447838</td>\n",
       "      <td>0.669972</td>\n",
       "      <td>0.268148</td>\n",
       "      <td>0.023007</td>\n",
       "      <td>0.036493</td>\n",
       "      <td>0.009520</td>\n",
       "      <td>0.138834</td>\n",
       "      <td>0.107497</td>\n",
       "      <td>0.026180</td>\n",
       "      <td>0.080524</td>\n",
       "      <td>0.007537</td>\n",
       "      <td>0.089647</td>\n",
       "      <td>0.112257</td>\n",
       "      <td>0.035303</td>\n",
       "      <td>0.014280</td>\n",
       "      <td>0.000397</td>\n",
       "      <td>0.007537</td>\n",
       "      <td>0.034907</td>\n",
       "      <td>0.000397</td>\n",
       "      <td>0.003173</td>\n",
       "      <td>0.074177</td>\n",
       "      <td>0.002777</td>\n",
       "      <td>0.000397</td>\n",
       "      <td>0.038873</td>\n",
       "      <td>0.006347</td>\n",
       "      <td>0.085680</td>\n",
       "      <td>0.644982</td>\n",
       "      <td>0.319318</td>\n",
       "      <td>0.099960</td>\n",
       "      <td>0.003967</td>\n",
       "      <td>0.192384</td>\n",
       "      <td>0.025387</td>\n",
       "      <td>0.014280</td>\n",
       "      <td>0.027370</td>\n",
       "      <td>0.270528</td>\n",
       "      <td>0.132487</td>\n",
       "      <td>0.004760</td>\n",
       "      <td>0.163427</td>\n",
       "      <td>0.002777</td>\n",
       "      <td>2.301864</td>\n",
       "      <td>0.237207</td>\n",
       "    </tr>\n",
       "    <tr>\n",
       "      <td>std</td>\n",
       "      <td>3527.603018</td>\n",
       "      <td>10.898928</td>\n",
       "      <td>0.478251</td>\n",
       "      <td>8.171759</td>\n",
       "      <td>0.497494</td>\n",
       "      <td>0.493922</td>\n",
       "      <td>0.488273</td>\n",
       "      <td>0.385979</td>\n",
       "      <td>0.497370</td>\n",
       "      <td>0.470316</td>\n",
       "      <td>0.443083</td>\n",
       "      <td>0.149955</td>\n",
       "      <td>0.187552</td>\n",
       "      <td>0.097124</td>\n",
       "      <td>0.345842</td>\n",
       "      <td>0.309806</td>\n",
       "      <td>0.159702</td>\n",
       "      <td>0.272156</td>\n",
       "      <td>0.086504</td>\n",
       "      <td>0.285732</td>\n",
       "      <td>0.315745</td>\n",
       "      <td>0.184582</td>\n",
       "      <td>0.118666</td>\n",
       "      <td>0.019917</td>\n",
       "      <td>0.086504</td>\n",
       "      <td>0.183580</td>\n",
       "      <td>0.019917</td>\n",
       "      <td>0.056254</td>\n",
       "      <td>0.262111</td>\n",
       "      <td>0.052631</td>\n",
       "      <td>0.019917</td>\n",
       "      <td>0.193332</td>\n",
       "      <td>0.079429</td>\n",
       "      <td>0.279947</td>\n",
       "      <td>0.478614</td>\n",
       "      <td>0.466305</td>\n",
       "      <td>0.300007</td>\n",
       "      <td>0.062869</td>\n",
       "      <td>0.394251</td>\n",
       "      <td>0.157328</td>\n",
       "      <td>0.118666</td>\n",
       "      <td>0.163192</td>\n",
       "      <td>0.444321</td>\n",
       "      <td>0.339087</td>\n",
       "      <td>0.068842</td>\n",
       "      <td>0.369828</td>\n",
       "      <td>0.052631</td>\n",
       "      <td>1.791213</td>\n",
       "      <td>0.425455</td>\n",
       "    </tr>\n",
       "    <tr>\n",
       "      <td>min</td>\n",
       "      <td>5.000000</td>\n",
       "      <td>19.000000</td>\n",
       "      <td>0.000000</td>\n",
       "      <td>13.230000</td>\n",
       "      <td>0.000000</td>\n",
       "      <td>0.000000</td>\n",
       "      <td>0.000000</td>\n",
       "      <td>0.000000</td>\n",
       "      <td>0.000000</td>\n",
       "      <td>0.000000</td>\n",
       "      <td>0.000000</td>\n",
       "      <td>0.000000</td>\n",
       "      <td>0.000000</td>\n",
       "      <td>0.000000</td>\n",
       "      <td>0.000000</td>\n",
       "      <td>0.000000</td>\n",
       "      <td>0.000000</td>\n",
       "      <td>0.000000</td>\n",
       "      <td>0.000000</td>\n",
       "      <td>0.000000</td>\n",
       "      <td>0.000000</td>\n",
       "      <td>0.000000</td>\n",
       "      <td>0.000000</td>\n",
       "      <td>0.000000</td>\n",
       "      <td>0.000000</td>\n",
       "      <td>0.000000</td>\n",
       "      <td>0.000000</td>\n",
       "      <td>0.000000</td>\n",
       "      <td>0.000000</td>\n",
       "      <td>0.000000</td>\n",
       "      <td>0.000000</td>\n",
       "      <td>0.000000</td>\n",
       "      <td>0.000000</td>\n",
       "      <td>0.000000</td>\n",
       "      <td>0.000000</td>\n",
       "      <td>0.000000</td>\n",
       "      <td>0.000000</td>\n",
       "      <td>0.000000</td>\n",
       "      <td>0.000000</td>\n",
       "      <td>0.000000</td>\n",
       "      <td>0.000000</td>\n",
       "      <td>0.000000</td>\n",
       "      <td>0.000000</td>\n",
       "      <td>0.000000</td>\n",
       "      <td>0.000000</td>\n",
       "      <td>0.000000</td>\n",
       "      <td>0.000000</td>\n",
       "      <td>0.000000</td>\n",
       "      <td>0.000000</td>\n",
       "    </tr>\n",
       "    <tr>\n",
       "      <td>25%</td>\n",
       "      <td>3200.000000</td>\n",
       "      <td>55.000000</td>\n",
       "      <td>0.000000</td>\n",
       "      <td>25.417500</td>\n",
       "      <td>0.000000</td>\n",
       "      <td>0.000000</td>\n",
       "      <td>0.000000</td>\n",
       "      <td>0.000000</td>\n",
       "      <td>0.000000</td>\n",
       "      <td>0.000000</td>\n",
       "      <td>0.000000</td>\n",
       "      <td>0.000000</td>\n",
       "      <td>0.000000</td>\n",
       "      <td>0.000000</td>\n",
       "      <td>0.000000</td>\n",
       "      <td>0.000000</td>\n",
       "      <td>0.000000</td>\n",
       "      <td>0.000000</td>\n",
       "      <td>0.000000</td>\n",
       "      <td>0.000000</td>\n",
       "      <td>0.000000</td>\n",
       "      <td>0.000000</td>\n",
       "      <td>0.000000</td>\n",
       "      <td>0.000000</td>\n",
       "      <td>0.000000</td>\n",
       "      <td>0.000000</td>\n",
       "      <td>0.000000</td>\n",
       "      <td>0.000000</td>\n",
       "      <td>0.000000</td>\n",
       "      <td>0.000000</td>\n",
       "      <td>0.000000</td>\n",
       "      <td>0.000000</td>\n",
       "      <td>0.000000</td>\n",
       "      <td>0.000000</td>\n",
       "      <td>0.000000</td>\n",
       "      <td>0.000000</td>\n",
       "      <td>0.000000</td>\n",
       "      <td>0.000000</td>\n",
       "      <td>0.000000</td>\n",
       "      <td>0.000000</td>\n",
       "      <td>0.000000</td>\n",
       "      <td>0.000000</td>\n",
       "      <td>0.000000</td>\n",
       "      <td>0.000000</td>\n",
       "      <td>0.000000</td>\n",
       "      <td>0.000000</td>\n",
       "      <td>0.000000</td>\n",
       "      <td>1.000000</td>\n",
       "      <td>0.000000</td>\n",
       "    </tr>\n",
       "    <tr>\n",
       "      <td>50%</td>\n",
       "      <td>6391.000000</td>\n",
       "      <td>63.000000</td>\n",
       "      <td>0.000000</td>\n",
       "      <td>29.820000</td>\n",
       "      <td>1.000000</td>\n",
       "      <td>0.000000</td>\n",
       "      <td>0.000000</td>\n",
       "      <td>0.000000</td>\n",
       "      <td>0.000000</td>\n",
       "      <td>1.000000</td>\n",
       "      <td>0.000000</td>\n",
       "      <td>0.000000</td>\n",
       "      <td>0.000000</td>\n",
       "      <td>0.000000</td>\n",
       "      <td>0.000000</td>\n",
       "      <td>0.000000</td>\n",
       "      <td>0.000000</td>\n",
       "      <td>0.000000</td>\n",
       "      <td>0.000000</td>\n",
       "      <td>0.000000</td>\n",
       "      <td>0.000000</td>\n",
       "      <td>0.000000</td>\n",
       "      <td>0.000000</td>\n",
       "      <td>0.000000</td>\n",
       "      <td>0.000000</td>\n",
       "      <td>0.000000</td>\n",
       "      <td>0.000000</td>\n",
       "      <td>0.000000</td>\n",
       "      <td>0.000000</td>\n",
       "      <td>0.000000</td>\n",
       "      <td>0.000000</td>\n",
       "      <td>0.000000</td>\n",
       "      <td>0.000000</td>\n",
       "      <td>0.000000</td>\n",
       "      <td>1.000000</td>\n",
       "      <td>0.000000</td>\n",
       "      <td>0.000000</td>\n",
       "      <td>0.000000</td>\n",
       "      <td>0.000000</td>\n",
       "      <td>0.000000</td>\n",
       "      <td>0.000000</td>\n",
       "      <td>0.000000</td>\n",
       "      <td>0.000000</td>\n",
       "      <td>0.000000</td>\n",
       "      <td>0.000000</td>\n",
       "      <td>0.000000</td>\n",
       "      <td>0.000000</td>\n",
       "      <td>2.000000</td>\n",
       "      <td>0.000000</td>\n",
       "    </tr>\n",
       "    <tr>\n",
       "      <td>75%</td>\n",
       "      <td>9282.000000</td>\n",
       "      <td>69.000000</td>\n",
       "      <td>1.000000</td>\n",
       "      <td>35.667500</td>\n",
       "      <td>1.000000</td>\n",
       "      <td>1.000000</td>\n",
       "      <td>1.000000</td>\n",
       "      <td>0.000000</td>\n",
       "      <td>1.000000</td>\n",
       "      <td>1.000000</td>\n",
       "      <td>1.000000</td>\n",
       "      <td>0.000000</td>\n",
       "      <td>0.000000</td>\n",
       "      <td>0.000000</td>\n",
       "      <td>0.000000</td>\n",
       "      <td>0.000000</td>\n",
       "      <td>0.000000</td>\n",
       "      <td>0.000000</td>\n",
       "      <td>0.000000</td>\n",
       "      <td>0.000000</td>\n",
       "      <td>0.000000</td>\n",
       "      <td>0.000000</td>\n",
       "      <td>0.000000</td>\n",
       "      <td>0.000000</td>\n",
       "      <td>0.000000</td>\n",
       "      <td>0.000000</td>\n",
       "      <td>0.000000</td>\n",
       "      <td>0.000000</td>\n",
       "      <td>0.000000</td>\n",
       "      <td>0.000000</td>\n",
       "      <td>0.000000</td>\n",
       "      <td>0.000000</td>\n",
       "      <td>0.000000</td>\n",
       "      <td>0.000000</td>\n",
       "      <td>1.000000</td>\n",
       "      <td>1.000000</td>\n",
       "      <td>0.000000</td>\n",
       "      <td>0.000000</td>\n",
       "      <td>0.000000</td>\n",
       "      <td>0.000000</td>\n",
       "      <td>0.000000</td>\n",
       "      <td>0.000000</td>\n",
       "      <td>1.000000</td>\n",
       "      <td>0.000000</td>\n",
       "      <td>0.000000</td>\n",
       "      <td>0.000000</td>\n",
       "      <td>0.000000</td>\n",
       "      <td>3.000000</td>\n",
       "      <td>0.000000</td>\n",
       "    </tr>\n",
       "    <tr>\n",
       "      <td>max</td>\n",
       "      <td>12280.000000</td>\n",
       "      <td>75.000000</td>\n",
       "      <td>1.000000</td>\n",
       "      <td>74.920000</td>\n",
       "      <td>1.000000</td>\n",
       "      <td>1.000000</td>\n",
       "      <td>1.000000</td>\n",
       "      <td>1.000000</td>\n",
       "      <td>1.000000</td>\n",
       "      <td>1.000000</td>\n",
       "      <td>1.000000</td>\n",
       "      <td>1.000000</td>\n",
       "      <td>1.000000</td>\n",
       "      <td>1.000000</td>\n",
       "      <td>1.000000</td>\n",
       "      <td>1.000000</td>\n",
       "      <td>1.000000</td>\n",
       "      <td>1.000000</td>\n",
       "      <td>1.000000</td>\n",
       "      <td>1.000000</td>\n",
       "      <td>1.000000</td>\n",
       "      <td>1.000000</td>\n",
       "      <td>1.000000</td>\n",
       "      <td>1.000000</td>\n",
       "      <td>1.000000</td>\n",
       "      <td>1.000000</td>\n",
       "      <td>1.000000</td>\n",
       "      <td>1.000000</td>\n",
       "      <td>1.000000</td>\n",
       "      <td>1.000000</td>\n",
       "      <td>1.000000</td>\n",
       "      <td>1.000000</td>\n",
       "      <td>1.000000</td>\n",
       "      <td>1.000000</td>\n",
       "      <td>1.000000</td>\n",
       "      <td>1.000000</td>\n",
       "      <td>1.000000</td>\n",
       "      <td>1.000000</td>\n",
       "      <td>1.000000</td>\n",
       "      <td>1.000000</td>\n",
       "      <td>1.000000</td>\n",
       "      <td>1.000000</td>\n",
       "      <td>1.000000</td>\n",
       "      <td>1.000000</td>\n",
       "      <td>1.000000</td>\n",
       "      <td>1.000000</td>\n",
       "      <td>1.000000</td>\n",
       "      <td>10.000000</td>\n",
       "      <td>1.000000</td>\n",
       "    </tr>\n",
       "  </tbody>\n",
       "</table>\n",
       "</div>"
      ],
      "text/plain": [
       "                rID  AGE_ADMISSION       FEMALE          BMI      HTN_HST  \\\n",
       "count   2521.000000    2521.000000  2521.000000  2290.000000  2521.000000   \n",
       "mean    6256.639825      60.913923     0.353828    31.238799     0.550972   \n",
       "std     3527.603018      10.898928     0.478251     8.171759     0.497494   \n",
       "min        5.000000      19.000000     0.000000    13.230000     0.000000   \n",
       "25%     3200.000000      55.000000     0.000000    25.417500     0.000000   \n",
       "50%     6391.000000      63.000000     0.000000    29.820000     1.000000   \n",
       "75%     9282.000000      69.000000     1.000000    35.667500     1.000000   \n",
       "max    12280.000000      75.000000     1.000000    74.920000     1.000000   \n",
       "\n",
       "       HYPERLIPIDEMIA_HST     DIAB_HST     COPD_HST      CAD_HST      CHF_HST  \\\n",
       "count         2521.000000  2521.000000  2521.000000  2521.000000  2521.000000   \n",
       "mean             0.421658     0.391908     0.182071     0.447838     0.669972   \n",
       "std              0.493922     0.488273     0.385979     0.497370     0.470316   \n",
       "min              0.000000     0.000000     0.000000     0.000000     0.000000   \n",
       "25%              0.000000     0.000000     0.000000     0.000000     0.000000   \n",
       "50%              0.000000     0.000000     0.000000     0.000000     1.000000   \n",
       "75%              1.000000     1.000000     0.000000     1.000000     1.000000   \n",
       "max              1.000000     1.000000     1.000000     1.000000     1.000000   \n",
       "\n",
       "          AFIB_HST       PH_HST       PE_HST  CARDIAC_ARREST_HST     VTVF_HST  \\\n",
       "count  2521.000000  2521.000000  2521.000000         2521.000000  2521.000000   \n",
       "mean      0.268148     0.023007     0.036493            0.009520     0.138834   \n",
       "std       0.443083     0.149955     0.187552            0.097124     0.345842   \n",
       "min       0.000000     0.000000     0.000000            0.000000     0.000000   \n",
       "25%       0.000000     0.000000     0.000000            0.000000     0.000000   \n",
       "50%       0.000000     0.000000     0.000000            0.000000     0.000000   \n",
       "75%       1.000000     0.000000     0.000000            0.000000     0.000000   \n",
       "max       1.000000     1.000000     1.000000            1.000000     1.000000   \n",
       "\n",
       "       VASCULARDISEASE_HST      DVT_HST   STROKE_HST  HEMO_STROKE_HST  \\\n",
       "count          2521.000000  2521.000000  2521.000000      2521.000000   \n",
       "mean              0.107497     0.026180     0.080524         0.007537   \n",
       "std               0.309806     0.159702     0.272156         0.086504   \n",
       "min               0.000000     0.000000     0.000000         0.000000   \n",
       "25%               0.000000     0.000000     0.000000         0.000000   \n",
       "50%               0.000000     0.000000     0.000000         0.000000   \n",
       "75%               0.000000     0.000000     0.000000         0.000000   \n",
       "max               1.000000     1.000000     1.000000         1.000000   \n",
       "\n",
       "       MAJOR_BLEED_HST      CKD_HST     ESRD_HST  CIRRHOSIS_HST  \\\n",
       "count      2521.000000  2521.000000  2521.000000    2521.000000   \n",
       "mean          0.089647     0.112257     0.035303       0.014280   \n",
       "std           0.285732     0.315745     0.184582       0.118666   \n",
       "min           0.000000     0.000000     0.000000       0.000000   \n",
       "25%           0.000000     0.000000     0.000000       0.000000   \n",
       "50%           0.000000     0.000000     0.000000       0.000000   \n",
       "75%           0.000000     0.000000     0.000000       0.000000   \n",
       "max           1.000000     1.000000     1.000000       1.000000   \n",
       "\n",
       "       HX_SEPTIC_SHOCK    HX_SEPSIS  HX_CAROTID_OCCLUSION  \\\n",
       "count      2521.000000  2521.000000           2521.000000   \n",
       "mean          0.000397     0.007537              0.034907   \n",
       "std           0.019917     0.086504              0.183580   \n",
       "min           0.000000     0.000000              0.000000   \n",
       "25%           0.000000     0.000000              0.000000   \n",
       "50%           0.000000     0.000000              0.000000   \n",
       "75%           0.000000     0.000000              0.000000   \n",
       "max           1.000000     1.000000              1.000000   \n",
       "\n",
       "       RESTRICTIVE_CARDIOMYOPATHY  HYPERTROPHIC_CARDIOMYOPATHY  \\\n",
       "count                 2521.000000                  2521.000000   \n",
       "mean                     0.000397                     0.003173   \n",
       "std                      0.019917                     0.056254   \n",
       "min                      0.000000                     0.000000   \n",
       "25%                      0.000000                     0.000000   \n",
       "50%                      0.000000                     0.000000   \n",
       "75%                      0.000000                     0.000000   \n",
       "max                      1.000000                     1.000000   \n",
       "\n",
       "       ISCHEMIC_CARDIOMYOPATHY  PERIPARTUM_CARDIOMYOPATHY  \\\n",
       "count              2521.000000                2521.000000   \n",
       "mean                  0.074177                   0.002777   \n",
       "std                   0.262111                   0.052631   \n",
       "min                   0.000000                   0.000000   \n",
       "25%                   0.000000                   0.000000   \n",
       "50%                   0.000000                   0.000000   \n",
       "75%                   0.000000                   0.000000   \n",
       "max                   1.000000                   1.000000   \n",
       "\n",
       "       VIRAL_CARDIOMYOPATHY  DILATED_CARDIOMYOPATHY  ALCOHOLIC_CARDIOMYOPATHY  \\\n",
       "count           2521.000000             2521.000000               2521.000000   \n",
       "mean               0.000397                0.038873                  0.006347   \n",
       "std                0.019917                0.193332                  0.079429   \n",
       "min                0.000000                0.000000                  0.000000   \n",
       "25%                0.000000                0.000000                  0.000000   \n",
       "50%                0.000000                0.000000                  0.000000   \n",
       "75%                0.000000                0.000000                  0.000000   \n",
       "max                1.000000                1.000000                  1.000000   \n",
       "\n",
       "            CCI_MI      CCI_CHF  CCI_PERIPHERAL_VASC  CCI_CEREBROVASCULAR  \\\n",
       "count  2521.000000  2521.000000          2521.000000          2521.000000   \n",
       "mean      0.085680     0.644982             0.319318             0.099960   \n",
       "std       0.279947     0.478614             0.466305             0.300007   \n",
       "min       0.000000     0.000000             0.000000             0.000000   \n",
       "25%       0.000000     0.000000             0.000000             0.000000   \n",
       "50%       0.000000     1.000000             0.000000             0.000000   \n",
       "75%       0.000000     1.000000             1.000000             0.000000   \n",
       "max       1.000000     1.000000             1.000000             1.000000   \n",
       "\n",
       "       CCI_DEMENTIA     CCI_COPD  CCI_RHEUMATIC_DISEASE  CCI_PEPTIC_ULCER  \\\n",
       "count   2521.000000  2521.000000            2521.000000       2521.000000   \n",
       "mean       0.003967     0.192384               0.025387          0.014280   \n",
       "std        0.062869     0.394251               0.157328          0.118666   \n",
       "min        0.000000     0.000000               0.000000          0.000000   \n",
       "25%        0.000000     0.000000               0.000000          0.000000   \n",
       "50%        0.000000     0.000000               0.000000          0.000000   \n",
       "75%        0.000000     0.000000               0.000000          0.000000   \n",
       "max        1.000000     1.000000               1.000000          1.000000   \n",
       "\n",
       "       CCI_MILD_LIVER_DISEASE  CCI_DM_NO_CC  CCI_DM_WITH_CC  CCI_HEMIPLEGIA  \\\n",
       "count             2521.000000   2521.000000     2521.000000     2521.000000   \n",
       "mean                 0.027370      0.270528        0.132487        0.004760   \n",
       "std                  0.163192      0.444321        0.339087        0.068842   \n",
       "min                  0.000000      0.000000        0.000000        0.000000   \n",
       "25%                  0.000000      0.000000        0.000000        0.000000   \n",
       "50%                  0.000000      0.000000        0.000000        0.000000   \n",
       "75%                  0.000000      1.000000        0.000000        0.000000   \n",
       "max                  1.000000      1.000000        1.000000        1.000000   \n",
       "\n",
       "       CCI_RENAL_DISEASE  CCI_AIDS_HIV  CCI_TOTAL_SCORE   readmit_30  \n",
       "count        2521.000000   2521.000000      2521.000000  2521.000000  \n",
       "mean            0.163427      0.002777         2.301864     0.237207  \n",
       "std             0.369828      0.052631         1.791213     0.425455  \n",
       "min             0.000000      0.000000         0.000000     0.000000  \n",
       "25%             0.000000      0.000000         1.000000     0.000000  \n",
       "50%             0.000000      0.000000         2.000000     0.000000  \n",
       "75%             0.000000      0.000000         3.000000     0.000000  \n",
       "max             1.000000      1.000000        10.000000     1.000000  "
      ]
     },
     "execution_count": 39,
     "metadata": {},
     "output_type": "execute_result"
    }
   ],
   "source": [
    "data_raw.describe()"
   ]
  },
  {
   "cell_type": "markdown",
   "metadata": {},
   "source": [
    "# Normalize numeric attributes"
   ]
  },
  {
   "cell_type": "markdown",
   "metadata": {},
   "source": [
    "Normalization:  \n",
    "(x - min(x)) / (max(x) - min(x))  \n",
    "data_norm"
   ]
  },
  {
   "cell_type": "code",
   "execution_count": 40,
   "metadata": {},
   "outputs": [],
   "source": [
    "attris_numeric = ['AGE_ADMISSION','BMI','CCI_TOTAL_SCORE']"
   ]
  },
  {
   "cell_type": "code",
   "execution_count": 49,
   "metadata": {},
   "outputs": [],
   "source": [
    "data_norm = data_raw.copy()\n",
    "for attri in attris_numeric:\n",
    "    data_norm[attri] = ((data_raw[attri]-data_raw[attri].min())/\n",
    "                       (data_raw[attri].max()-data_raw[attri].min()))"
   ]
  },
  {
   "cell_type": "markdown",
   "metadata": {},
   "source": [
    "# One-hot representation for categorical attributes"
   ]
  },
  {
   "cell_type": "code",
   "execution_count": 52,
   "metadata": {},
   "outputs": [],
   "source": [
    "attris_cat = ['RACE', 'TOBACCO_STATUS_LABEL','HOSP_ROLLUP_GROUPING2']"
   ]
  },
  {
   "cell_type": "code",
   "execution_count": 53,
   "metadata": {},
   "outputs": [
    {
     "data": {
      "text/html": [
       "<div>\n",
       "<style scoped>\n",
       "    .dataframe tbody tr th:only-of-type {\n",
       "        vertical-align: middle;\n",
       "    }\n",
       "\n",
       "    .dataframe tbody tr th {\n",
       "        vertical-align: top;\n",
       "    }\n",
       "\n",
       "    .dataframe thead th {\n",
       "        text-align: right;\n",
       "    }\n",
       "</style>\n",
       "<table border=\"1\" class=\"dataframe\">\n",
       "  <thead>\n",
       "    <tr style=\"text-align: right;\">\n",
       "      <th></th>\n",
       "      <th>RACE</th>\n",
       "      <th>TOBACCO_STATUS_LABEL</th>\n",
       "      <th>HOSP_ROLLUP_GROUPING2</th>\n",
       "    </tr>\n",
       "  </thead>\n",
       "  <tbody>\n",
       "    <tr>\n",
       "      <td>0</td>\n",
       "      <td>Black</td>\n",
       "      <td>CURRENT</td>\n",
       "      <td>Commercial</td>\n",
       "    </tr>\n",
       "    <tr>\n",
       "      <td>1</td>\n",
       "      <td>White</td>\n",
       "      <td>NEVER</td>\n",
       "      <td>Medicare</td>\n",
       "    </tr>\n",
       "    <tr>\n",
       "      <td>2</td>\n",
       "      <td>White</td>\n",
       "      <td>NEVER</td>\n",
       "      <td>Medicare</td>\n",
       "    </tr>\n",
       "    <tr>\n",
       "      <td>3</td>\n",
       "      <td>White</td>\n",
       "      <td>QUIT (UNKNOWN TIMEFRAME)</td>\n",
       "      <td>Medicare</td>\n",
       "    </tr>\n",
       "    <tr>\n",
       "      <td>4</td>\n",
       "      <td>White</td>\n",
       "      <td>CURRENT</td>\n",
       "      <td>Medicare</td>\n",
       "    </tr>\n",
       "    <tr>\n",
       "      <td>...</td>\n",
       "      <td>...</td>\n",
       "      <td>...</td>\n",
       "      <td>...</td>\n",
       "    </tr>\n",
       "    <tr>\n",
       "      <td>2516</td>\n",
       "      <td>Black</td>\n",
       "      <td>REMOTE (MORE THAN 12 MONTHS)</td>\n",
       "      <td>Commercial</td>\n",
       "    </tr>\n",
       "    <tr>\n",
       "      <td>2517</td>\n",
       "      <td>White</td>\n",
       "      <td>CURRENT</td>\n",
       "      <td>Medicaid</td>\n",
       "    </tr>\n",
       "    <tr>\n",
       "      <td>2518</td>\n",
       "      <td>White</td>\n",
       "      <td>NEVER</td>\n",
       "      <td>Medicaid</td>\n",
       "    </tr>\n",
       "    <tr>\n",
       "      <td>2519</td>\n",
       "      <td>White</td>\n",
       "      <td>QUIT (UNKNOWN TIMEFRAME)</td>\n",
       "      <td>Medicare</td>\n",
       "    </tr>\n",
       "    <tr>\n",
       "      <td>2520</td>\n",
       "      <td>White</td>\n",
       "      <td>CURRENT</td>\n",
       "      <td>Medicare</td>\n",
       "    </tr>\n",
       "  </tbody>\n",
       "</table>\n",
       "<p>2521 rows × 3 columns</p>\n",
       "</div>"
      ],
      "text/plain": [
       "       RACE          TOBACCO_STATUS_LABEL HOSP_ROLLUP_GROUPING2\n",
       "0     Black                       CURRENT            Commercial\n",
       "1     White                         NEVER              Medicare\n",
       "2     White                         NEVER              Medicare\n",
       "3     White      QUIT (UNKNOWN TIMEFRAME)              Medicare\n",
       "4     White                       CURRENT              Medicare\n",
       "...     ...                           ...                   ...\n",
       "2516  Black  REMOTE (MORE THAN 12 MONTHS)            Commercial\n",
       "2517  White                       CURRENT              Medicaid\n",
       "2518  White                         NEVER              Medicaid\n",
       "2519  White      QUIT (UNKNOWN TIMEFRAME)              Medicare\n",
       "2520  White                       CURRENT              Medicare\n",
       "\n",
       "[2521 rows x 3 columns]"
      ]
     },
     "execution_count": 53,
     "metadata": {},
     "output_type": "execute_result"
    }
   ],
   "source": [
    "data_norm[attris_cat]"
   ]
  },
  {
   "cell_type": "markdown",
   "metadata": {},
   "source": [
    "## RACE"
   ]
  },
  {
   "cell_type": "markdown",
   "metadata": {},
   "source": [
    "alter RACE to binary with 'White' 1 and 'Others' 0."
   ]
  },
  {
   "cell_type": "code",
   "execution_count": 177,
   "metadata": {},
   "outputs": [],
   "source": [
    "data_processed = data_norm.copy()"
   ]
  },
  {
   "cell_type": "code",
   "execution_count": 178,
   "metadata": {},
   "outputs": [],
   "source": [
    "data_processed = pd.get_dummies(data=data_processed, columns=['RACE'])\n",
    "\n",
    "data_processed.drop(columns=['RACE_America','RACE_Chinese','RACE_Decline','RACE_Indian',\n",
    "                            'RACE_Not Spe', 'RACE_Other A','RACE_Vietnam','RACE_Black'],inplace=True)"
   ]
  },
  {
   "cell_type": "markdown",
   "metadata": {},
   "source": [
    "## TOBACCO STATUS"
   ]
  },
  {
   "cell_type": "code",
   "execution_count": 147,
   "metadata": {},
   "outputs": [
    {
     "data": {
      "text/plain": [
       "QUIT (UNKNOWN TIMEFRAME)        951\n",
       "NEVER                           732\n",
       "CURRENT                         434\n",
       "RECENT (WITHIN 12 MONTHS)       148\n",
       "REMOTE (MORE THAN 12 MONTHS)    129\n",
       "UNKNOWN                          97\n",
       "NEVER ASKED                      21\n",
       "PASSIVE                           9\n",
       "Name: TOBACCO_STATUS_LABEL, dtype: int64"
      ]
     },
     "execution_count": 147,
     "metadata": {},
     "output_type": "execute_result"
    }
   ],
   "source": [
    "data_processed['TOBACCO_STATUS_LABEL'].value_counts()"
   ]
  },
  {
   "cell_type": "markdown",
   "metadata": {},
   "source": [
    "3 LEVEL OF SMOKING STATUS\n",
    "- QUIT/REMOTE\n",
    "- NEVER\n",
    "- CURRENT/RECENT"
   ]
  },
  {
   "cell_type": "code",
   "execution_count": 179,
   "metadata": {},
   "outputs": [
    {
     "name": "stderr",
     "output_type": "stream",
     "text": [
      "/Users/jinchenxie/miniconda3/envs/research_env/lib/python3.6/site-packages/ipykernel_launcher.py:9: SettingWithCopyWarning: \n",
      "A value is trying to be set on a copy of a slice from a DataFrame\n",
      "\n",
      "See the caveats in the documentation: http://pandas.pydata.org/pandas-docs/stable/user_guide/indexing.html#returning-a-view-versus-a-copy\n",
      "  if __name__ == '__main__':\n",
      "/Users/jinchenxie/miniconda3/envs/research_env/lib/python3.6/site-packages/ipykernel_launcher.py:11: SettingWithCopyWarning: \n",
      "A value is trying to be set on a copy of a slice from a DataFrame\n",
      "\n",
      "See the caveats in the documentation: http://pandas.pydata.org/pandas-docs/stable/user_guide/indexing.html#returning-a-view-versus-a-copy\n",
      "  # This is added back by InteractiveShellApp.init_path()\n",
      "/Users/jinchenxie/miniconda3/envs/research_env/lib/python3.6/site-packages/ipykernel_launcher.py:6: SettingWithCopyWarning: \n",
      "A value is trying to be set on a copy of a slice from a DataFrame\n",
      "\n",
      "See the caveats in the documentation: http://pandas.pydata.org/pandas-docs/stable/user_guide/indexing.html#returning-a-view-versus-a-copy\n",
      "  \n",
      "/Users/jinchenxie/miniconda3/envs/research_env/lib/python3.6/site-packages/ipykernel_launcher.py:13: SettingWithCopyWarning: \n",
      "A value is trying to be set on a copy of a slice from a DataFrame\n",
      "\n",
      "See the caveats in the documentation: http://pandas.pydata.org/pandas-docs/stable/user_guide/indexing.html#returning-a-view-versus-a-copy\n",
      "  del sys.path[0]\n"
     ]
    }
   ],
   "source": [
    "temp_series = data_processed['TOBACCO_STATUS_LABEL']\n",
    "\n",
    "for i in range(len(temp_series)):\n",
    "    if (temp_series[i]=='QUIT (UNKNOWN TIMEFRAME)' or \n",
    "       temp_series[i]=='REMOTE (MORE THAN 12 MONTHS)'):\n",
    "        temp_series[i] = 'Q/Remote'\n",
    "    elif (temp_series[i]=='CURRENT' or \n",
    "       temp_series[i]=='RECENT (WITHIN 12 MONTHS)'):\n",
    "        temp_series[i] = 'C/Recent'\n",
    "    elif (temp_series[i]=='NEVER'):\n",
    "        temp_series[i] = 'Never'\n",
    "    else:\n",
    "        temp_series[i] = 'NA'"
   ]
  },
  {
   "cell_type": "code",
   "execution_count": 180,
   "metadata": {},
   "outputs": [],
   "source": [
    "data_processed['TOBACCO_STATUS_LABEL'] = temp_series"
   ]
  },
  {
   "cell_type": "code",
   "execution_count": 181,
   "metadata": {},
   "outputs": [
    {
     "data": {
      "text/plain": [
       "Q/Remote    1080\n",
       "Never        732\n",
       "C/Recent     582\n",
       "NA           127\n",
       "Name: TOBACCO_STATUS_LABEL, dtype: int64"
      ]
     },
     "execution_count": 181,
     "metadata": {},
     "output_type": "execute_result"
    }
   ],
   "source": [
    "temp_series.value_counts()"
   ]
  },
  {
   "cell_type": "code",
   "execution_count": 182,
   "metadata": {},
   "outputs": [],
   "source": [
    "data_processed = pd.get_dummies(data=data_processed,\n",
    "                               columns=['TOBACCO_STATUS_LABEL'],\n",
    "                               prefix=['TOBACCO']\n",
    "                               )\n",
    "data_processed.drop('TOBACCO_NA',1,inplace=True)"
   ]
  },
  {
   "cell_type": "markdown",
   "metadata": {},
   "source": [
    "## Insurance Payer"
   ]
  },
  {
   "cell_type": "code",
   "execution_count": 152,
   "metadata": {},
   "outputs": [
    {
     "data": {
      "text/plain": [
       "Medicare        1457\n",
       "Commercial       617\n",
       "Medicaid         377\n",
       "Self Pay/ Ot      70\n",
       "Name: HOSP_ROLLUP_GROUPING2, dtype: int64"
      ]
     },
     "execution_count": 152,
     "metadata": {},
     "output_type": "execute_result"
    }
   ],
   "source": [
    "data_processed['HOSP_ROLLUP_GROUPING2'].value_counts()"
   ]
  },
  {
   "cell_type": "code",
   "execution_count": 183,
   "metadata": {},
   "outputs": [],
   "source": [
    "data_processed = pd.get_dummies(data=data_processed,\n",
    "                               columns=['HOSP_ROLLUP_GROUPING2'],\n",
    "                               prefix=['INSUR']\n",
    "                               )"
   ]
  },
  {
   "cell_type": "markdown",
   "metadata": {},
   "source": [
    "# Mean Imputation on BMI"
   ]
  },
  {
   "cell_type": "markdown",
   "metadata": {},
   "source": [
    "Use the mean of same gender people to fill the NA values."
   ]
  },
  {
   "cell_type": "code",
   "execution_count": 184,
   "metadata": {},
   "outputs": [],
   "source": [
    "data_filled = data_processed.copy()"
   ]
  },
  {
   "cell_type": "code",
   "execution_count": 185,
   "metadata": {},
   "outputs": [],
   "source": [
    "bmi_na = data_filled.loc[data_filled['BMI'].isna()]"
   ]
  },
  {
   "cell_type": "code",
   "execution_count": 186,
   "metadata": {},
   "outputs": [
    {
     "data": {
      "text/plain": [
       "0    130\n",
       "1    101\n",
       "Name: FEMALE, dtype: int64"
      ]
     },
     "execution_count": 186,
     "metadata": {},
     "output_type": "execute_result"
    }
   ],
   "source": [
    "bmi_na.FEMALE.value_counts()"
   ]
  },
  {
   "cell_type": "code",
   "execution_count": 189,
   "metadata": {},
   "outputs": [],
   "source": [
    "# data_filled exclude patients with missing BMI\n",
    "na_rid = bmi_na.rID\n",
    "filtered_rid = [i for i in data_filled.rID if i not in na_rid]\n",
    "data_filtered = data_filled.loc[data_filled['rID'].isin(filtered_rid)]"
   ]
  },
  {
   "cell_type": "code",
   "execution_count": 192,
   "metadata": {},
   "outputs": [],
   "source": [
    "female_bmi_mean = data_filtered.loc[data_filtered['FEMALE']==1]['BMI'].mean()\n",
    "male_bmi_mean = data_filtered.loc[data_filtered['FEMALE']==0]['BMI'].mean()"
   ]
  },
  {
   "cell_type": "code",
   "execution_count": 195,
   "metadata": {},
   "outputs": [],
   "source": [
    "data_filled.loc[(data_filled['FEMALE']==1) & (data_filled['rID'].isin(na_rid)),'BMI']=female_bmi_mean\n",
    "\n",
    "data_filled.loc[(data_filled['FEMALE']==0) & (data_filled['rID'].isin(na_rid)),'BMI']=male_bmi_mean"
   ]
  },
  {
   "cell_type": "markdown",
   "metadata": {},
   "source": [
    "# Save the cleaned and processed dataset"
   ]
  },
  {
   "cell_type": "code",
   "execution_count": 238,
   "metadata": {},
   "outputs": [
    {
     "name": "stdout",
     "output_type": "stream",
     "text": [
      "/Users/jinchenxie/Desktop/HF_Research/datasets/processed\n"
     ]
    }
   ],
   "source": [
    "%pwd\n",
    "%cd processed"
   ]
  },
  {
   "cell_type": "code",
   "execution_count": 239,
   "metadata": {},
   "outputs": [
    {
     "name": "stdout",
     "output_type": "stream",
     "text": [
      "DataFrame is written successfully to Excel File.\n"
     ]
    }
   ],
   "source": [
    "writer = pd.ExcelWriter('Static Characteristics.xlsx')\n",
    "data_filled.to_excel(writer, 'static')\n",
    "writer.save()\n",
    "print('DataFrame is written successfully to Excel File.')"
   ]
  },
  {
   "cell_type": "markdown",
   "metadata": {},
   "source": [
    "# Split to training and validation set"
   ]
  },
  {
   "cell_type": "code",
   "execution_count": 240,
   "metadata": {},
   "outputs": [],
   "source": [
    "y = baseline['CTB']"
   ]
  },
  {
   "cell_type": "code",
   "execution_count": 207,
   "metadata": {},
   "outputs": [],
   "source": [
    "data_filled.drop('rID', 1, inplace=True)"
   ]
  },
  {
   "cell_type": "code",
   "execution_count": 208,
   "metadata": {},
   "outputs": [],
   "source": [
    "import sklearn.model_selection as model_selection"
   ]
  },
  {
   "cell_type": "code",
   "execution_count": 262,
   "metadata": {},
   "outputs": [],
   "source": [
    "X_train, X_test, y_train, y_test = model_selection.train_test_split(data_filled, y, \n",
    "                                        train_size=0.80, test_size=0.20, random_state=1)"
   ]
  },
  {
   "cell_type": "code",
   "execution_count": null,
   "metadata": {},
   "outputs": [],
   "source": []
  },
  {
   "cell_type": "markdown",
   "metadata": {},
   "source": [
    "# Logistic Regression"
   ]
  },
  {
   "cell_type": "code",
   "execution_count": 252,
   "metadata": {},
   "outputs": [],
   "source": [
    "from sklearn.linear_model import LogisticRegressionCV\n",
    "from sklearn.metrics import accuracy_score"
   ]
  },
  {
   "cell_type": "code",
   "execution_count": 264,
   "metadata": {},
   "outputs": [
    {
     "name": "stderr",
     "output_type": "stream",
     "text": [
      "/Users/jinchenxie/miniconda3/envs/research_env/lib/python3.6/site-packages/sklearn/model_selection/_split.py:1978: FutureWarning: The default value of cv will change from 3 to 5 in version 0.22. Specify it explicitly to silence this warning.\n",
      "  warnings.warn(CV_WARNING, FutureWarning)\n"
     ]
    },
    {
     "data": {
      "text/plain": [
       "LogisticRegressionCV(Cs=10, class_weight=None, cv='warn', dual=False,\n",
       "                     fit_intercept=True, intercept_scaling=1.0, l1_ratios=None,\n",
       "                     max_iter=500, multi_class='warn', n_jobs=None,\n",
       "                     penalty='l2', random_state=None, refit=True, scoring=None,\n",
       "                     solver='lbfgs', tol=0.0001, verbose=0)"
      ]
     },
     "execution_count": 264,
     "metadata": {},
     "output_type": "execute_result"
    }
   ],
   "source": [
    "model_lr = LogisticRegressionCV(10, max_iter=500)\n",
    "model_lr.fit(X_train, y_train)"
   ]
  },
  {
   "cell_type": "code",
   "execution_count": 265,
   "metadata": {},
   "outputs": [],
   "source": [
    "LR_predicted = model_lr.predict(X_test)\n",
    "LR_accuracy = accuracy_score(y_test, LR_predicted)"
   ]
  },
  {
   "cell_type": "code",
   "execution_count": 266,
   "metadata": {},
   "outputs": [
    {
     "data": {
      "text/plain": [
       "0.6138613861386139"
      ]
     },
     "execution_count": 266,
     "metadata": {},
     "output_type": "execute_result"
    }
   ],
   "source": [
    "LR_accuracy"
   ]
  },
  {
   "cell_type": "code",
   "execution_count": 267,
   "metadata": {},
   "outputs": [
    {
     "data": {
      "text/plain": [
       "1    0.516832\n",
       "0    0.483168\n",
       "Name: CTB, dtype: float64"
      ]
     },
     "execution_count": 267,
     "metadata": {},
     "output_type": "execute_result"
    }
   ],
   "source": [
    "y_test.value_counts()/len(y_test)"
   ]
  },
  {
   "cell_type": "markdown",
   "metadata": {},
   "source": [
    "# Random Forest"
   ]
  },
  {
   "cell_type": "code",
   "execution_count": 223,
   "metadata": {},
   "outputs": [],
   "source": [
    "from sklearn.ensemble import RandomForestClassifier"
   ]
  },
  {
   "cell_type": "code",
   "execution_count": 268,
   "metadata": {},
   "outputs": [],
   "source": [
    "model_rf = RandomForestClassifier(n_estimators = 50, random_state = 0, max_depth=30)"
   ]
  },
  {
   "cell_type": "code",
   "execution_count": 269,
   "metadata": {},
   "outputs": [
    {
     "data": {
      "text/plain": [
       "RandomForestClassifier(bootstrap=True, class_weight=None, criterion='gini',\n",
       "                       max_depth=30, max_features='auto', max_leaf_nodes=None,\n",
       "                       min_impurity_decrease=0.0, min_impurity_split=None,\n",
       "                       min_samples_leaf=1, min_samples_split=2,\n",
       "                       min_weight_fraction_leaf=0.0, n_estimators=50,\n",
       "                       n_jobs=None, oob_score=False, random_state=0, verbose=0,\n",
       "                       warm_start=False)"
      ]
     },
     "execution_count": 269,
     "metadata": {},
     "output_type": "execute_result"
    }
   ],
   "source": [
    "model_rf.fit(X_train, y_train)"
   ]
  },
  {
   "cell_type": "code",
   "execution_count": 270,
   "metadata": {},
   "outputs": [],
   "source": [
    "RF_predicted = model_rf.predict(X_test)\n",
    "RF_accuracy = accuracy_score(y_test, RF_predicted)"
   ]
  },
  {
   "cell_type": "code",
   "execution_count": 271,
   "metadata": {},
   "outputs": [
    {
     "data": {
      "text/plain": [
       "0.6079207920792079"
      ]
     },
     "execution_count": 271,
     "metadata": {},
     "output_type": "execute_result"
    }
   ],
   "source": [
    "RF_accuracy"
   ]
  },
  {
   "cell_type": "code",
   "execution_count": null,
   "metadata": {},
   "outputs": [],
   "source": []
  }
 ],
 "metadata": {
  "kernelspec": {
   "display_name": "Python 3",
   "language": "python",
   "name": "python3"
  },
  "language_info": {
   "codemirror_mode": {
    "name": "ipython",
    "version": 3
   },
   "file_extension": ".py",
   "mimetype": "text/x-python",
   "name": "python",
   "nbconvert_exporter": "python",
   "pygments_lexer": "ipython3",
   "version": "3.6.9"
  },
  "toc": {
   "base_numbering": 1,
   "nav_menu": {},
   "number_sections": true,
   "sideBar": true,
   "skip_h1_title": false,
   "title_cell": "Table of Contents",
   "title_sidebar": "Contents",
   "toc_cell": true,
   "toc_position": {},
   "toc_section_display": true,
   "toc_window_display": true
  }
 },
 "nbformat": 4,
 "nbformat_minor": 4
}
