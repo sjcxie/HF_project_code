{
 "cells": [
  {
   "cell_type": "markdown",
   "metadata": {
    "toc": true
   },
   "source": [
    "<h1>Table of Contents<span class=\"tocSkip\"></span></h1>\n",
    "<div class=\"toc\"><ul class=\"toc-item\"></ul></div>"
   ]
  },
  {
   "cell_type": "code",
   "execution_count": 1,
   "metadata": {},
   "outputs": [],
   "source": [
    "import pandas as pd\n",
    "import numpy as np\n",
    "from matplotlib import pyplot as plt\n",
    "\n",
    "pd.options.display.max_rows = 400\n",
    "pd.options.display.max_columns = 100"
   ]
  },
  {
   "cell_type": "code",
   "execution_count": 2,
   "metadata": {},
   "outputs": [
    {
     "name": "stdout",
     "output_type": "stream",
     "text": [
      "/Users/jinchenxie/Desktop/datasets/processed\n"
     ]
    }
   ],
   "source": [
    "%cd ~/desktop/datasets/processed\n",
    "baseline = pd.read_excel('Filtered Attributes Baseline.xlsx', 'updated_folup_NA30_baseline')\n",
    "admission = pd.read_excel('Data_v1.xlsx', 'admission_all')"
   ]
  },
  {
   "cell_type": "code",
   "execution_count": 21,
   "metadata": {},
   "outputs": [
    {
     "name": "stdout",
     "output_type": "stream",
     "text": [
      "baseline shape: (2521, 90)\n",
      "admission shape: (12525, 48)\n"
     ]
    }
   ],
   "source": [
    "# remove attributes with any missing values\n",
    "baseline.drop(columns=['Unnamed: 0'],inplace=True)\n",
    "baseline.dropna(axis=1, inplace=True)\n",
    "print('baseline shape:', baseline.shape)\n",
    "\n",
    "admission.drop(columns=['Unnamed: 0','Unnamed: 0.1'],inplace=True)\n",
    "admission.dropna(axis=1, inplace=True)\n",
    "print('admission shape:', admission.shape)"
   ]
  },
  {
   "cell_type": "code",
   "execution_count": 23,
   "metadata": {},
   "outputs": [
    {
     "name": "stdout",
     "output_type": "stream",
     "text": [
      "DataFrame is written successfully to Excel File.\n"
     ]
    }
   ],
   "source": [
    "writer = pd.ExcelWriter('Data_noNA.xlsx')\n",
    "baseline.to_excel(writer,'baseline',index=False)\n",
    "admission.to_excel(writer,'admission',index=False)\n",
    "writer.save()\n",
    "print('DataFrame is written successfully to Excel File.')"
   ]
  },
  {
   "cell_type": "code",
   "execution_count": null,
   "metadata": {},
   "outputs": [],
   "source": []
  }
 ],
 "metadata": {
  "kernelspec": {
   "display_name": "Python 3",
   "language": "python",
   "name": "python3"
  },
  "language_info": {
   "codemirror_mode": {
    "name": "ipython",
    "version": 3
   },
   "file_extension": ".py",
   "mimetype": "text/x-python",
   "name": "python",
   "nbconvert_exporter": "python",
   "pygments_lexer": "ipython3",
   "version": "3.6.9"
  },
  "toc": {
   "base_numbering": 1,
   "nav_menu": {},
   "number_sections": true,
   "sideBar": true,
   "skip_h1_title": false,
   "title_cell": "Table of Contents",
   "title_sidebar": "Contents",
   "toc_cell": true,
   "toc_position": {
    "height": "calc(100% - 180px)",
    "left": "10px",
    "top": "150px",
    "width": "240.909px"
   },
   "toc_section_display": true,
   "toc_window_display": true
  }
 },
 "nbformat": 4,
 "nbformat_minor": 4
}
