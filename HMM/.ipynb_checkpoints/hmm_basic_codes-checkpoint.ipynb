{
 "cells": [
  {
   "cell_type": "markdown",
   "metadata": {
    "toc": true
   },
   "source": [
    "<h1>Table of Contents<span class=\"tocSkip\"></span></h1>\n",
    "<div class=\"toc\"><ul class=\"toc-item\"></ul></div>"
   ]
  },
  {
   "cell_type": "code",
   "execution_count": 78,
   "metadata": {},
   "outputs": [],
   "source": [
    "import numpy as np\n",
    "import pandas as pd\n",
    "from hmmlearn.hmm import MultinomialHMM"
   ]
  },
  {
   "cell_type": "code",
   "execution_count": 83,
   "metadata": {},
   "outputs": [],
   "source": [
    "from itertools import product\n",
    "from functools import reduce"
   ]
  },
  {
   "cell_type": "code",
   "execution_count": 113,
   "metadata": {},
   "outputs": [],
   "source": [
    "import matplotlib.pyplot as plt"
   ]
  },
  {
   "cell_type": "code",
   "execution_count": 3,
   "metadata": {},
   "outputs": [],
   "source": [
    "import warnings\n",
    "warnings.filterwarnings('ignore')"
   ]
  },
  {
   "cell_type": "code",
   "execution_count": 59,
   "metadata": {
    "code_folding": [
     0
    ]
   },
   "outputs": [],
   "source": [
    "class ProbabilityVector:\n",
    "#     probability vector is initialized as dictionary\n",
    "    def __init__(self, probabilities: dict):\n",
    "        states = probabilities.keys()\n",
    "        probs = probabilities.values()\n",
    "        \n",
    "        assert len(states) == len(probs),\\\n",
    "        \"The probabilities must match the states.\"\n",
    "        assert len(states) == len(set(states)),\\\n",
    "        \"The states must be unique.\"\n",
    "        assert abs(sum(probs) - 1.0) < 1e-12,\\\n",
    "        \"Probabilities must sum up to 1.\"\n",
    "        assert len(list(filter(lambda x: 0 <= x <= 1, probs))) == len(probs),\\\n",
    "        \"Probabilities must be numbers from [0,1] interval.\"\n",
    "        \n",
    "        self.states = sorted(probabilities)\n",
    "        self.values = np.array(list(map(lambda x: \n",
    "                                       probabilities[x], self.states))).reshape(1,-1)\n",
    "        \n",
    "    @classmethod\n",
    "    def initialize(cls, states: list):\n",
    "        size = len(states)\n",
    "        rand = np.random.rand(size)/(size**2) + 1/size\n",
    "        rand /= rand.sum(axis=0)\n",
    "        return cls(dict(zip(states, rand)))\n",
    "    \n",
    "    @classmethod\n",
    "    def from_numpy(cls, array: np.ndarray, state: list):\n",
    "        return cls(dict(zip(states, list(array))))\n",
    "\n",
    "    @property\n",
    "    def dict(self):\n",
    "        return {k:v for k, v in zip(self.states, list(self.values.flatten()))}\n",
    "\n",
    "    @property\n",
    "    def df(self):\n",
    "        return pd.DataFrame(self.values, columns=self.states, index=['probability'])\n",
    "\n",
    "    def __repr__(self):\n",
    "        return \"P({}) = {}.\".format(self.states, self.values)\n",
    "\n",
    "    def __eq__(self, other):\n",
    "        if not isinstance(other, ProbabilityVector):\n",
    "            raise NotImplementedError\n",
    "        if (self.states == other.states) and (self.values == other.values).all():\n",
    "            return True\n",
    "        return False\n",
    "\n",
    "    def __getitem__(self, state: str) -> float:\n",
    "        if state not in self.states:\n",
    "            raise ValueError(\"Requesting unknown probability state from vector.\")\n",
    "        index = self.states.index(state)\n",
    "        return float(self.values[0, index])\n",
    "\n",
    "    def __mul__(self, other) -> np.ndarray:\n",
    "        if isinstance(other, ProbabilityVector):\n",
    "            return self.values * other.values\n",
    "        elif isinstance(other, (int, float)):\n",
    "            return self.values * other\n",
    "        else:\n",
    "            NotImplementedError\n",
    "\n",
    "    def __rmul__(self, other) -> np.ndarray:\n",
    "        return self.__mul__(other)\n",
    "\n",
    "    def __matmul__(self, other) -> np.ndarray:\n",
    "        if isinstance(other, ProbabilityMatrix):\n",
    "            return self.values @ other.values\n",
    "\n",
    "    def __truediv__(self, number) -> np.ndarray:\n",
    "        if not isinstance(number, (int, float)):\n",
    "            raise NotImplementedError\n",
    "        x = self.values\n",
    "        return x / number if number != 0 else x / (number + 1e-12)\n",
    "\n",
    "    def argmax(self):\n",
    "        index = self.values.argmax()\n",
    "        return self.states[index]"
   ]
  },
  {
   "cell_type": "code",
   "execution_count": 79,
   "metadata": {
    "code_folding": [
     0
    ]
   },
   "outputs": [],
   "source": [
    "class ProbabilityMatrix:\n",
    "    def __init__(self, prob_vec_dict: dict):\n",
    "        assert len(prob_vec_dict) > 1,\\\n",
    "        \"The number of input probability vector must be greater than one.\"\n",
    "        assert len(set([str(x.states) for x in prob_vec_dict.values()])) == 1, \\\n",
    "            \"All internal states of all the vectors must be indentical.\"\n",
    "        assert len(prob_vec_dict.keys()) == len(set(prob_vec_dict.keys())), \\\n",
    "            \"All observables must be unique.\"\n",
    "        \n",
    "        self.states      = sorted(prob_vec_dict)\n",
    "        self.observables = prob_vec_dict[self.states[0]].states\n",
    "        self.values      = np.stack([prob_vec_dict[x].values \\\n",
    "                           for x in self.states]).squeeze()\n",
    "        \n",
    "    @classmethod\n",
    "    def initialize(cls, states: list, observables: list):\n",
    "        size = len(states)\n",
    "        rand = np.random.rand(size, len(observables)) \\\n",
    "             / (size**2) + 1 / size\n",
    "        rand /= rand.sum(axis=1).reshape(-1, 1)\n",
    "        aggr = [dict(zip(observables, rand[i, :])) for i in range(len(states))]\n",
    "        pvec = [ProbabilityVector(x) for x in aggr]\n",
    "        return cls(dict(zip(states, pvec)))\n",
    "\n",
    "    @classmethod\n",
    "    def from_numpy(cls, array: \n",
    "                  np.ndarray, \n",
    "                  states: list, \n",
    "                  observables: list):\n",
    "        p_vecs = [ProbabilityVector(dict(zip(observables, x))) \\\n",
    "                  for x in array]\n",
    "        return cls(dict(zip(states, p_vecs)))\n",
    "\n",
    "    @property\n",
    "    def dict(self):\n",
    "        return self.df.to_dict()\n",
    "\n",
    "    @property\n",
    "    def df(self):\n",
    "        return pd.DataFrame(self.values, \n",
    "               columns=self.observables, index=self.states)\n",
    "\n",
    "    def __repr__(self):\n",
    "        return \"PM {} states: {} -> obs: {}.\".format(\n",
    "            self.values.shape, self.states, self.observables)\n",
    "\n",
    "    def __getitem__(self, observable: str) -> np.ndarray:\n",
    "        if observable not in self.observables:\n",
    "            raise ValueError(\"Requesting unknown probability observable from the matrix.\")\n",
    "        index = self.observables.index(observable)\n",
    "        return self.values[:, index].reshape(-1, 1)"
   ]
  },
  {
   "cell_type": "code",
   "execution_count": 75,
   "metadata": {},
   "outputs": [],
   "source": [
    "P = ProbabilityMatrix.initialize([1,2,3], [0,1])"
   ]
  },
  {
   "cell_type": "code",
   "execution_count": 107,
   "metadata": {
    "code_folding": [
     0
    ]
   },
   "outputs": [
    {
     "name": "stdout",
     "output_type": "stream",
     "text": [
      "          1L        2C        3H\n",
      "1L  0.307885  0.374178  0.317937\n",
      "2C  0.350313  0.329957  0.319729\n",
      "3H  0.319595  0.332898  0.347507\n",
      "           0         1\n",
      "1L  0.476855  0.523145\n",
      "2C  0.469735  0.530265\n",
      "3H  0.501499  0.498501\n"
     ]
    }
   ],
   "source": [
    "# MY OWN TOY EXAMPLE\n",
    "a = ProbabilityMatrix.initialize(['1L','2C','3H'], ['1L','2C','3H'])\n",
    "\n",
    "b = ProbabilityMatrix.initialize(['1L','2C','3H'], [0,1])\n",
    "# state transition matrix\n",
    "print(a.df)\n",
    "# emission probability matrix\n",
    "print(b.df)"
   ]
  },
  {
   "cell_type": "code",
   "execution_count": 109,
   "metadata": {
    "code_folding": [
     0
    ]
   },
   "outputs": [
    {
     "name": "stdout",
     "output_type": "stream",
     "text": [
      "     1H   2C\n",
      "1H  0.7  0.3\n",
      "2C  0.4  0.6\n",
      "     1S   2M   3L\n",
      "1H  0.1  0.4  0.5\n",
      "2C  0.7  0.2  0.1\n"
     ]
    }
   ],
   "source": [
    "# TUTORIAL EXAMPLE\n",
    "a1 = ProbabilityVector({'1H': 0.7, '2C': 0.3})\n",
    "a2 = ProbabilityVector({'1H': 0.4, '2C': 0.6})\n",
    "\n",
    "b1 = ProbabilityVector({'1S': 0.1, '2M': 0.4, '3L': 0.5})\n",
    "b2 = ProbabilityVector({'1S': 0.7, '2M': 0.2, '3L': 0.1})\n",
    "\n",
    "A = ProbabilityMatrix({'1H': a1, '2C': a2})\n",
    "B = ProbabilityMatrix({'1H': b1, '2C': b2})\n",
    "pi = ProbabilityVector({'1H': 0.6, '2C': 0.4})\n",
    "\n",
    "print(A.df)\n",
    "print(B.df)"
   ]
  },
  {
   "cell_type": "code",
   "execution_count": 84,
   "metadata": {
    "code_folding": [
     0
    ]
   },
   "outputs": [],
   "source": [
    "class HiddenMarkovChain:\n",
    "    def __init__(self, T, E, pi):\n",
    "        self.T = T  # transmission matrix A\n",
    "        self.E = E  # emission matrix B\n",
    "        self.pi = pi\n",
    "        self.states = pi.states\n",
    "        self.observables = E.observables\n",
    "    \n",
    "    def __repr__(self):\n",
    "        return \"HML states: {} -> observables: {}.\".format(\n",
    "            len(self.states), len(self.observables))\n",
    "    \n",
    "    @classmethod\n",
    "    def initialize(cls, states: list, observables: list):\n",
    "        T = ProbabilityMatrix.initialize(states, states)\n",
    "        E = ProbabilityMatrix.initialize(states, observables)\n",
    "        pi = ProbabilityVector.initialize(states)\n",
    "        return cls(T, E, pi)\n",
    "    \n",
    "    def _create_all_chains(self, chain_length):\n",
    "        return list(product(*(self.states,) * chain_length))\n",
    "    \n",
    "    def score(self, observations: list) -> float:\n",
    "        def mul(x, y): return x * y\n",
    "        \n",
    "        score = 0\n",
    "        all_chains = self._create_all_chains(len(observations))\n",
    "        for idx, chain in enumerate(all_chains):\n",
    "            expanded_chain = list(zip(chain, [self.T.states[0]] + list(chain)))\n",
    "            expanded_obser = list(zip(observations, chain))\n",
    "            \n",
    "            p_observations = list(map(lambda x: self.E.df.loc[x[1], x[0]], expanded_obser))\n",
    "            p_hidden_state = list(map(lambda x: self.T.df.loc[x[1], x[0]], expanded_chain))\n",
    "            p_hidden_state[0] = self.pi[chain[0]]\n",
    "            \n",
    "            score += reduce(mul, p_observations) * reduce(mul, p_hidden_state)\n",
    "        return score"
   ]
  },
  {
   "cell_type": "code",
   "execution_count": 89,
   "metadata": {
    "code_folding": [
     0
    ]
   },
   "outputs": [],
   "source": [
    "class HiddenMarkovChain_FP(HiddenMarkovChain):\n",
    "    def _alphas(self, observations: list) -> np.ndarray:\n",
    "        alphas = np.zeros((len(observations), len(self.states)))\n",
    "        alphas[0, :] = self.pi.values * self.E[observations[0]].T\n",
    "        for t in range(1, len(observations)):\n",
    "            alphas[t, :] = (alphas[t - 1, :].reshape(1, -1) \n",
    "                         @ self.T.values) * self.E[observations[t]].T\n",
    "        return alphas"
   ]
  },
  {
   "cell_type": "code",
   "execution_count": 110,
   "metadata": {},
   "outputs": [
    {
     "name": "stdout",
     "output_type": "stream",
     "text": [
      "Score for ['1S', '2M', '3L', '2M', '1S'] is 0.003482.\n"
     ]
    }
   ],
   "source": [
    "hmc_fp = HiddenMarkovChain_FP(A, B, pi)\n",
    "observations = ['1S','2M','3L','2M','1S']\n",
    "print(\"Score for {} is {:f}.\".format(observations, hmc_fp.score(observations)))"
   ]
  },
  {
   "cell_type": "code",
   "execution_count": 111,
   "metadata": {
    "code_folding": [
     0
    ]
   },
   "outputs": [],
   "source": [
    "class HiddenMarkovChain_Simulation(HiddenMarkovChain):\n",
    "    def run(self, length: int) -> (list, list):\n",
    "        assert length >= 0, \"The chain needs to be a non-negative number.\"\n",
    "        s_history = [0] * (length + 1)\n",
    "        o_history = [0] * (length + 1)\n",
    "        \n",
    "        prb = self.pi.values\n",
    "        obs = prb @ self.E.values\n",
    "        s_history[0] = np.random.choice(self.states, p=prb.flatten())\n",
    "        o_history[0] = np.random.choice(self.observables, p=obs.flatten())\n",
    "        \n",
    "        for t in range(1, length + 1):\n",
    "            prb = prb @ self.T.values\n",
    "            obs = prb @ self.E.values\n",
    "            s_history[t] = np.random.choice(self.states, p=prb.flatten())\n",
    "            o_history[t] = np.random.choice(self.observables, p=obs.flatten())\n",
    "        \n",
    "        return o_history, s_history"
   ]
  },
  {
   "cell_type": "code",
   "execution_count": 115,
   "metadata": {
    "code_folding": [
     0
    ]
   },
   "outputs": [],
   "source": [
    "class HiddenMarkovChain_Uncover(HiddenMarkovChain_Simulation):\n",
    "    def _alphas(self, observations: list) -> np.ndarray:\n",
    "        alphas = np.zeros((len(observations), len(self.states)))\n",
    "        alphas[0, :] = self.pi.values * self.E[observations[0]].T\n",
    "        for t in range(1, len(observations)):\n",
    "            alphas[t, :] = (alphas[t - 1, :].reshape(1, -1) @ self.T.values) \\\n",
    "                         * self.E[observations[t]].T\n",
    "        return alphas\n",
    "    \n",
    "    def _betas(self, observations: list) -> np.ndarray:\n",
    "        betas = np.zeros((len(observations), len(self.states)))\n",
    "        betas[-1, :] = 1\n",
    "        for t in range(len(observations) - 2, -1, -1):\n",
    "            betas[t, :] = (self.T.values @ (self.E[observations[t + 1]] \\\n",
    "                        * betas[t + 1, :].reshape(-1, 1))).reshape(1, -1)\n",
    "        return betas\n",
    "    \n",
    "    def uncover(self, observations: list) -> list:\n",
    "        alphas = self._alphas(observations)\n",
    "        betas = self._betas(observations)\n",
    "        maxargs = (alphas * betas).argmax(axis=1)\n",
    "        return list(map(lambda x: self.states[x], maxargs))"
   ]
  },
  {
   "cell_type": "code",
   "execution_count": 116,
   "metadata": {
    "code_folding": [
     0
    ]
   },
   "outputs": [],
   "source": [
    "class HiddenMarkovLayer(HiddenMarkovChain_Uncover):\n",
    "    def _digammas(self, observations: list) -> np.ndarray:\n",
    "        L, N = len(observations), len(self.states)\n",
    "        digammas = np.zeros((L - 1, N, N))\n",
    "\n",
    "        alphas = self._alphas(observations)\n",
    "        betas = self._betas(observations)\n",
    "        score = self.score(observations)\n",
    "        for t in range(L - 1):\n",
    "            P1 = (alphas[t, :].reshape(-1, 1) * self.T.values)\n",
    "            P2 = self.E[observations[t + 1]].T * betas[t + 1].reshape(1, -1)\n",
    "            digammas[t, :, :] = P1 * P2 / score\n",
    "        return digammas"
   ]
  },
  {
   "cell_type": "code",
   "execution_count": 124,
   "metadata": {},
   "outputs": [],
   "source": [
    "class HiddenMarkovModel:\n",
    "    def __init__(self, hml: HiddenMarkovLayer):\n",
    "        self.layer = hml\n",
    "        self._score_init = 0\n",
    "        self.score_history = []\n",
    "        \n",
    "    @classmethod\n",
    "    def initialize(cls, states: list, observables: list):\n",
    "        layer = HiddenMarkovLayer.initialize(states, observables)\n",
    "        return cls(layer)\n",
    "    \n",
    "    def update(self, observations: list) -> float:\n",
    "        alpha = self.layer._alphas(observations)\n",
    "        beta = self.layer._betas(observations)\n",
    "        digamma = self.layer._digammas(observations)\n",
    "        score = alpha[-1].sum()\n",
    "        gamma = alpha * beta / score\n",
    "        \n",
    "        L = len(alpha)\n",
    "        obs_idx = [self.layer.observables.index(x) \\\n",
    "                  for x in observations]\n",
    "        capture = np.zeros((L, len(self.layer.states), len(self.layer.observables)))\n",
    "        for t in range(L):\n",
    "            capture[t, :, obs_idx[t]] = 1.0\n",
    "\n",
    "        pi = gamma[0]\n",
    "        T = digamma.sum(axis=0) / gamma[:-1].sum(axis=0).reshape(-1, 1)\n",
    "        E = (capture * gamma[:, :, np.newaxis]).sum(axis=0) / gamma.sum(axis=0).reshape(-1, 1)\n",
    "\n",
    "        self.layer.pi = ProbabilityVector.from_numpy(pi, self.layer.states)\n",
    "        self.layer.T = ProbabilityMatrix.from_numpy(T, self.layer.states, self.layer.states)\n",
    "        self.layer.E = ProbabilityMatrix.from_numpy(E, self.layer.states, self.layer.observables)\n",
    "            \n",
    "        return score\n",
    "\n",
    "    def train(self, observations: list, epochs: int, tol=None):\n",
    "        self._score_init = 0\n",
    "        self.score_history = (epochs + 1) * [0]\n",
    "        early_stopping = isinstance(tol, (int, float))\n",
    "\n",
    "        for epoch in range(1, epochs + 1):\n",
    "            score = self.update(observations)\n",
    "            print(\"Training... epoch = {} out of {}, score = {}.\".format(epoch, epochs, score))\n",
    "            if early_stopping and abs(self._score_init - score) / score < tol:\n",
    "                print(\"Early stopping.\")\n",
    "                break\n",
    "            self._score_init = score\n",
    "            self.score_history[epoch] = score"
   ]
  },
  {
   "cell_type": "code",
   "execution_count": 118,
   "metadata": {},
   "outputs": [],
   "source": []
  },
  {
   "cell_type": "code",
   "execution_count": 119,
   "metadata": {},
   "outputs": [
    {
     "data": {
      "text/plain": [
       "12345"
      ]
     },
     "execution_count": 119,
     "metadata": {},
     "output_type": "execute_result"
    }
   ],
   "source": [
    "x.i"
   ]
  },
  {
   "cell_type": "code",
   "execution_count": 123,
   "metadata": {},
   "outputs": [
    {
     "data": {
      "text/plain": [
       "'hello world'"
      ]
     },
     "execution_count": 123,
     "metadata": {},
     "output_type": "execute_result"
    }
   ],
   "source": [
    "x.f()"
   ]
  },
  {
   "cell_type": "code",
   "execution_count": null,
   "metadata": {},
   "outputs": [],
   "source": []
  }
 ],
 "metadata": {
  "kernelspec": {
   "display_name": "Python 3",
   "language": "python",
   "name": "python3"
  },
  "language_info": {
   "codemirror_mode": {
    "name": "ipython",
    "version": 3
   },
   "file_extension": ".py",
   "mimetype": "text/x-python",
   "name": "python",
   "nbconvert_exporter": "python",
   "pygments_lexer": "ipython3",
   "version": "3.6.9"
  },
  "toc": {
   "base_numbering": 1,
   "nav_menu": {},
   "number_sections": true,
   "sideBar": true,
   "skip_h1_title": false,
   "title_cell": "Table of Contents",
   "title_sidebar": "Contents",
   "toc_cell": true,
   "toc_position": {
    "height": "679.091px",
    "left": "95px",
    "top": "49.7728px",
    "width": "295.625px"
   },
   "toc_section_display": true,
   "toc_window_display": true
  }
 },
 "nbformat": 4,
 "nbformat_minor": 4
}
