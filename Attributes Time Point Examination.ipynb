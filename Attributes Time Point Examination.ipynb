{
 "cells": [
  {
   "cell_type": "markdown",
   "metadata": {
    "toc": true
   },
   "source": [
    "<h1>Table of Contents<span class=\"tocSkip\"></span></h1>\n",
    "<div class=\"toc\"><ul class=\"toc-item\"><li><span><a href=\"#Import-Data\" data-toc-modified-id=\"Import-Data-1\"><span class=\"toc-item-num\">1&nbsp;&nbsp;</span>Import Data</a></span></li><li><span><a href=\"#Update-corrected-FOLLOWUP_DAYS\" data-toc-modified-id=\"Update-corrected-FOLLOWUP_DAYS-2\"><span class=\"toc-item-num\">2&nbsp;&nbsp;</span>Update corrected FOLLOWUP_DAYS</a></span></li><li><span><a href=\"#Add-self-created-labels-and-attributes\" data-toc-modified-id=\"Add-self-created-labels-and-attributes-3\"><span class=\"toc-item-num\">3&nbsp;&nbsp;</span>Add self created labels and attributes</a></span></li><li><span><a href=\"#Create-a-df-that-contains-all-time-related-attributes\" data-toc-modified-id=\"Create-a-df-that-contains-all-time-related-attributes-4\"><span class=\"toc-item-num\">4&nbsp;&nbsp;</span>Create a df that contains all time related attributes</a></span></li><li><span><a href=\"#Understand-FOLLOWUP_DAYS\" data-toc-modified-id=\"Understand-FOLLOWUP_DAYS-5\"><span class=\"toc-item-num\">5&nbsp;&nbsp;</span>Understand FOLLOWUP_DAYS</a></span></li><li><span><a href=\"#Add-attribute-CTB_days\" data-toc-modified-id=\"Add-attribute-CTB_days-6\"><span class=\"toc-item-num\">6&nbsp;&nbsp;</span>Add attribute CTB_days</a></span></li><li><span><a href=\"#save-an-updated-version-of-baseline-dataset\" data-toc-modified-id=\"save-an-updated-version-of-baseline-dataset-7\"><span class=\"toc-item-num\">7&nbsp;&nbsp;</span>save an updated version of baseline dataset</a></span></li><li><span><a href=\"#Understand-DAYS_TO_CLOSEST_OFFICE_VISIT\" data-toc-modified-id=\"Understand-DAYS_TO_CLOSEST_OFFICE_VISIT-8\"><span class=\"toc-item-num\">8&nbsp;&nbsp;</span>Understand DAYS_TO_CLOSEST_OFFICE_VISIT</a></span></li></ul></div>"
   ]
  },
  {
   "cell_type": "code",
   "execution_count": 3,
   "metadata": {},
   "outputs": [],
   "source": [
    "import pandas as pd\n",
    "import numpy as np\n",
    "from matplotlib import pyplot as plt\n",
    "\n",
    "pd.options.display.max_rows = 400\n",
    "pd.options.display.max_columns = 5"
   ]
  },
  {
   "cell_type": "markdown",
   "metadata": {},
   "source": [
    "# Import Data"
   ]
  },
  {
   "cell_type": "code",
   "execution_count": 2,
   "metadata": {},
   "outputs": [
    {
     "name": "stdout",
     "output_type": "stream",
     "text": [
      "/Users/jinchenxie/Desktop/HF_Research/datasets/processed\n"
     ]
    }
   ],
   "source": [
    "%cd ~/desktop/HF_Research/datasets/processed\n",
    "\n",
    "admission = pd.read_excel('Filtered Attributes Admission.xlsx', \n",
    "                          'NA2030_filtered_admission')"
   ]
  },
  {
   "cell_type": "code",
   "execution_count": 6,
   "metadata": {},
   "outputs": [
    {
     "name": "stdout",
     "output_type": "stream",
     "text": [
      "/Users/jinchenxie/Desktop/datasets/processed\n"
     ]
    }
   ],
   "source": [
    "%cd ~/desktop/datasets/processed\n",
    "baseline = pd.read_excel('Filtered Attributes Baseline.xlsx', \n",
    "                          'Sheet 1')"
   ]
  },
  {
   "cell_type": "code",
   "execution_count": 5,
   "metadata": {},
   "outputs": [
    {
     "name": "stdout",
     "output_type": "stream",
     "text": [
      "/Users/jinchenxie/Desktop/HF_Research/datasets\n"
     ]
    }
   ],
   "source": [
    "%cd ~/desktop/HF_Research/datasets"
   ]
  },
  {
   "cell_type": "code",
   "execution_count": 6,
   "metadata": {},
   "outputs": [],
   "source": [
    "raw_admission = pd.read_excel('Advanced Therapy Potential Cohort.xlsx', \n",
    "                          'admission (upto 15th)')"
   ]
  },
  {
   "cell_type": "markdown",
   "metadata": {},
   "source": [
    "# Update corrected FOLLOWUP_DAYS\n"
   ]
  },
  {
   "cell_type": "code",
   "execution_count": 8,
   "metadata": {},
   "outputs": [
    {
     "name": "stdout",
     "output_type": "stream",
     "text": [
      "/Users/jinchenxie/Desktop/HF_Research/datasets/processed\n"
     ]
    }
   ],
   "source": [
    "%cd ~/desktop/HF_Research/datasets/processed\n",
    "updated_folup = pd.read_excel('Corrected_Followup.xlsx', \n",
    "                          '00480_Baseline_Key_20200115_NA')"
   ]
  },
  {
   "cell_type": "markdown",
   "metadata": {},
   "source": [
    "We only need to extract and update the rID in the filtered baseline data"
   ]
  },
  {
   "cell_type": "code",
   "execution_count": 9,
   "metadata": {},
   "outputs": [],
   "source": [
    "list_rid = list(baseline['rID'])\n",
    "folup_extracted = updated_folup.loc[updated_folup['rID'].isin(list_rid)]"
   ]
  },
  {
   "cell_type": "code",
   "execution_count": 11,
   "metadata": {},
   "outputs": [],
   "source": [
    "folup_series = folup_extracted['Corrected_Followup_Days']\n",
    "folup_series.reset_index(drop=True, inplace=True)\n",
    "baseline['FOLLOWUP_DAYS'] = folup_series"
   ]
  },
  {
   "cell_type": "markdown",
   "metadata": {},
   "source": [
    "# Add self created labels and attributes"
   ]
  },
  {
   "cell_type": "code",
   "execution_count": 12,
   "metadata": {},
   "outputs": [],
   "source": [
    "attris_extracted = raw_admission.loc[raw_admission['rID'].isin(list_rid)]"
   ]
  },
  {
   "cell_type": "code",
   "execution_count": 13,
   "metadata": {},
   "outputs": [],
   "source": [
    "attris_extracted = attris_extracted[['admission_times', 'last_adm',\n",
    "       'readmission_days_btw', 'readmit_30_label', 'inhospital_ctb_label',\n",
    "       'ctb_label']]"
   ]
  },
  {
   "cell_type": "code",
   "execution_count": 14,
   "metadata": {},
   "outputs": [],
   "source": [
    "admission = pd.concat([admission, attris_extracted], axis=1)"
   ]
  },
  {
   "cell_type": "code",
   "execution_count": 15,
   "metadata": {},
   "outputs": [
    {
     "data": {
      "text/plain": [
       "Index(['rID', 'INDEX_HOSPITALIZATION', 'READMISSION_DAYS', 'LOS_DAYS',\n",
       "       'HOSP_CR', 'HOSP_INR', 'HOSP_NA', 'HOSP_EGFR', 'AGE_ADMISSION',\n",
       "       'ADMISSION_SOURCE', 'IPOP', 'PATIENT_TYPE_DESCRIPTION', 'DISPOSITION',\n",
       "       'CABG', 'CABG_DAYS', 'TAVR', 'TAVR_DAYS', 'SAVR_MECH', 'SAVR_MECH_DAYS',\n",
       "       'SAVR_BIO', 'SAVR_BIO_DAYS', 'SURG_AO_GRFT', 'SURG_AO_GRFT_DAYS',\n",
       "       'ENDO_AO_GRFT', 'ENDO_AO_GRFT_DAYS', 'AO_VLV_REPAIR',\n",
       "       'AO_VLV_REPAIR_DAYS', 'SMVR', 'SMVR_DAYS', 'SPVR', 'SPVR_DAYS', 'STVR',\n",
       "       'STVR_DAYS', 'POST_VAD', 'POST_VAD_DAYS', 'POST_TRANSPLANT',\n",
       "       'POST_TRANSPLANT_DAYS', 'WBC', 'WBC_DAYS', 'HGB', 'HGB_DAYS', 'CR',\n",
       "       'CR_DAYS', 'EGFR', 'EGFR_DAYS', 'K', 'K_DAYS', 'NA', 'NA_DAYS',\n",
       "       'GLUCOSE', 'GLUCOSE_DAYS', 'PLATELETS', 'PLATELETS_DAYS', 'HCT',\n",
       "       'HCT_DAYS', 'RHC_FOUND', 'NONCARDIACFLAG', 'CARDIACFLAG', 'MIFLAG',\n",
       "       'HFFLAG', 'H_STROKEFLAG', 'I_STROKEFLAG', 'BLEEDFLAG', 'AFIBFLAG',\n",
       "       'CKDFLAG', 'ARRESTFLAG', 'VTACHFLAG', 'VFIBFLAG', 'PCI', 'PCI_DAYS',\n",
       "       'IMPELLA', 'IMPELLA_DAYS', 'IABP', 'IABP_DAYS', 'ECMO', 'ECMO_DAYS',\n",
       "       'ABLATION', 'ABLATION_DAYS', 'PACEMAKER_IMPLANT',\n",
       "       'PACEMAKER_IMPLANT_DAYS', 'ICD_IMPLANT', 'ICD_IMPLANT_DAYS',\n",
       "       'BIV_ICD_IMPLANT', 'BIV_ICD_IMPLANT_DAYS', 'CRT_IMPLANT',\n",
       "       'CRT_IMPLANT_DAYS', 'admission_times', 'last_adm',\n",
       "       'readmission_days_btw', 'readmit_30_label', 'inhospital_ctb_label',\n",
       "       'ctb_label'],\n",
       "      dtype='object')"
      ]
     },
     "execution_count": 15,
     "metadata": {},
     "output_type": "execute_result"
    }
   ],
   "source": [
    "admission.columns"
   ]
  },
  {
   "cell_type": "code",
   "execution_count": 16,
   "metadata": {},
   "outputs": [
    {
     "data": {
      "text/plain": [
       "(12525, 92)"
      ]
     },
     "execution_count": 16,
     "metadata": {},
     "output_type": "execute_result"
    }
   ],
   "source": [
    "admission.shape"
   ]
  },
  {
   "cell_type": "code",
   "execution_count": 17,
   "metadata": {},
   "outputs": [
    {
     "data": {
      "text/plain": [
       "(12525, 175)"
      ]
     },
     "execution_count": 17,
     "metadata": {},
     "output_type": "execute_result"
    }
   ],
   "source": [
    "raw_admission.shape"
   ]
  },
  {
   "cell_type": "code",
   "execution_count": 18,
   "metadata": {},
   "outputs": [
    {
     "name": "stdout",
     "output_type": "stream",
     "text": [
      "/Users/jinchenxie/Desktop/HF_Research/datasets/processed\n",
      "DataFrame is written successfully to Excel File.\n"
     ]
    }
   ],
   "source": [
    "%cd ~/desktop/HF_Research/datasets/processed\n",
    "writer = pd.ExcelWriter('Filtered Attributes Admission.xlsx')\n",
    "admission.to_excel(writer, 'NA2030_filtered_admission')\n",
    "writer.save()\n",
    "print('DataFrame is written successfully to Excel File.')"
   ]
  },
  {
   "cell_type": "markdown",
   "metadata": {},
   "source": [
    "# Create a df that contains all time related attributes"
   ]
  },
  {
   "cell_type": "code",
   "execution_count": 76,
   "metadata": {},
   "outputs": [],
   "source": [
    "admission_time_attris = admission[['rID','LOS_DAYS','READMISSION_DAYS',\n",
    "                                   'readmission_days_btw','DISPOSITION']]\n",
    "baseline_time_attris = baseline[['rID','DAYS_TO_CLOSEST_OFFICE_VISIT','FOLLOWUP_DAYS']]"
   ]
  },
  {
   "cell_type": "markdown",
   "metadata": {},
   "source": [
    "# Understand FOLLOWUP_DAYS"
   ]
  },
  {
   "cell_type": "markdown",
   "metadata": {},
   "source": [
    "rID: 120"
   ]
  },
  {
   "cell_type": "code",
   "execution_count": 77,
   "metadata": {},
   "outputs": [
    {
     "data": {
      "text/html": [
       "<div>\n",
       "<style scoped>\n",
       "    .dataframe tbody tr th:only-of-type {\n",
       "        vertical-align: middle;\n",
       "    }\n",
       "\n",
       "    .dataframe tbody tr th {\n",
       "        vertical-align: top;\n",
       "    }\n",
       "\n",
       "    .dataframe thead th {\n",
       "        text-align: right;\n",
       "    }\n",
       "</style>\n",
       "<table border=\"1\" class=\"dataframe\">\n",
       "  <thead>\n",
       "    <tr style=\"text-align: right;\">\n",
       "      <th></th>\n",
       "      <th>rID</th>\n",
       "      <th>LOS_DAYS</th>\n",
       "      <th>READMISSION_DAYS</th>\n",
       "      <th>readmission_days_btw</th>\n",
       "      <th>DISPOSITION</th>\n",
       "    </tr>\n",
       "  </thead>\n",
       "  <tbody>\n",
       "    <tr>\n",
       "      <td>90</td>\n",
       "      <td>120</td>\n",
       "      <td>3.927</td>\n",
       "      <td>NaN</td>\n",
       "      <td>24.299</td>\n",
       "      <td>HOME/SELF CARE</td>\n",
       "    </tr>\n",
       "    <tr>\n",
       "      <td>91</td>\n",
       "      <td>120</td>\n",
       "      <td>4.781</td>\n",
       "      <td>24.299</td>\n",
       "      <td>9.987</td>\n",
       "      <td>HOME/SELF CARE</td>\n",
       "    </tr>\n",
       "    <tr>\n",
       "      <td>92</td>\n",
       "      <td>120</td>\n",
       "      <td>9.832</td>\n",
       "      <td>39.067</td>\n",
       "      <td>44.874</td>\n",
       "      <td>HOME HEALTH AGENCY</td>\n",
       "    </tr>\n",
       "    <tr>\n",
       "      <td>93</td>\n",
       "      <td>120</td>\n",
       "      <td>33.253</td>\n",
       "      <td>93.773</td>\n",
       "      <td>0.000</td>\n",
       "      <td>CTB</td>\n",
       "    </tr>\n",
       "  </tbody>\n",
       "</table>\n",
       "</div>"
      ],
      "text/plain": [
       "    rID  LOS_DAYS  READMISSION_DAYS  readmission_days_btw         DISPOSITION\n",
       "90  120     3.927               NaN                24.299      HOME/SELF CARE\n",
       "91  120     4.781            24.299                 9.987      HOME/SELF CARE\n",
       "92  120     9.832            39.067                44.874  HOME HEALTH AGENCY\n",
       "93  120    33.253            93.773                 0.000                 CTB"
      ]
     },
     "execution_count": 77,
     "metadata": {},
     "output_type": "execute_result"
    }
   ],
   "source": [
    "admission_time_attris.loc[admission_time_attris['rID']==120]"
   ]
  },
  {
   "cell_type": "code",
   "execution_count": 78,
   "metadata": {},
   "outputs": [
    {
     "data": {
      "text/html": [
       "<div>\n",
       "<style scoped>\n",
       "    .dataframe tbody tr th:only-of-type {\n",
       "        vertical-align: middle;\n",
       "    }\n",
       "\n",
       "    .dataframe tbody tr th {\n",
       "        vertical-align: top;\n",
       "    }\n",
       "\n",
       "    .dataframe thead th {\n",
       "        text-align: right;\n",
       "    }\n",
       "</style>\n",
       "<table border=\"1\" class=\"dataframe\">\n",
       "  <thead>\n",
       "    <tr style=\"text-align: right;\">\n",
       "      <th></th>\n",
       "      <th>rID</th>\n",
       "      <th>DAYS_TO_CLOSEST_OFFICE_VISIT</th>\n",
       "      <th>FOLLOWUP_DAYS</th>\n",
       "    </tr>\n",
       "  </thead>\n",
       "  <tbody>\n",
       "    <tr>\n",
       "      <td>19</td>\n",
       "      <td>120</td>\n",
       "      <td>81</td>\n",
       "      <td>131.0</td>\n",
       "    </tr>\n",
       "  </tbody>\n",
       "</table>\n",
       "</div>"
      ],
      "text/plain": [
       "    rID  DAYS_TO_CLOSEST_OFFICE_VISIT  FOLLOWUP_DAYS\n",
       "19  120                            81          131.0"
      ]
     },
     "execution_count": 78,
     "metadata": {},
     "output_type": "execute_result"
    }
   ],
   "source": [
    "baseline_time_attris[baseline_time_attris['rID']==120]"
   ]
  },
  {
   "cell_type": "markdown",
   "metadata": {},
   "source": [
    "rID: 16"
   ]
  },
  {
   "cell_type": "code",
   "execution_count": 88,
   "metadata": {},
   "outputs": [
    {
     "data": {
      "text/html": [
       "<div>\n",
       "<style scoped>\n",
       "    .dataframe tbody tr th:only-of-type {\n",
       "        vertical-align: middle;\n",
       "    }\n",
       "\n",
       "    .dataframe tbody tr th {\n",
       "        vertical-align: top;\n",
       "    }\n",
       "\n",
       "    .dataframe thead th {\n",
       "        text-align: right;\n",
       "    }\n",
       "</style>\n",
       "<table border=\"1\" class=\"dataframe\">\n",
       "  <thead>\n",
       "    <tr style=\"text-align: right;\">\n",
       "      <th></th>\n",
       "      <th>rID</th>\n",
       "      <th>LOS_DAYS</th>\n",
       "      <th>READMISSION_DAYS</th>\n",
       "      <th>readmission_days_btw</th>\n",
       "      <th>DISPOSITION</th>\n",
       "    </tr>\n",
       "  </thead>\n",
       "  <tbody>\n",
       "    <tr>\n",
       "      <td>6</td>\n",
       "      <td>16</td>\n",
       "      <td>9.145</td>\n",
       "      <td>NaN</td>\n",
       "      <td>93.290</td>\n",
       "      <td>REHAB/INPT REHAB UNT</td>\n",
       "    </tr>\n",
       "    <tr>\n",
       "      <td>7</td>\n",
       "      <td>16</td>\n",
       "      <td>3.655</td>\n",
       "      <td>93.290</td>\n",
       "      <td>28.808</td>\n",
       "      <td>REHAB/INPT REHAB UNT</td>\n",
       "    </tr>\n",
       "    <tr>\n",
       "      <td>8</td>\n",
       "      <td>16</td>\n",
       "      <td>5.087</td>\n",
       "      <td>125.753</td>\n",
       "      <td>89.773</td>\n",
       "      <td>SKILLED NURS FACIL</td>\n",
       "    </tr>\n",
       "    <tr>\n",
       "      <td>9</td>\n",
       "      <td>16</td>\n",
       "      <td>1.377</td>\n",
       "      <td>220.613</td>\n",
       "      <td>63.213</td>\n",
       "      <td>SKILLED NURS FACIL</td>\n",
       "    </tr>\n",
       "    <tr>\n",
       "      <td>10</td>\n",
       "      <td>16</td>\n",
       "      <td>2.816</td>\n",
       "      <td>285.203</td>\n",
       "      <td>0.000</td>\n",
       "      <td>SKILLED NURS FACIL</td>\n",
       "    </tr>\n",
       "  </tbody>\n",
       "</table>\n",
       "</div>"
      ],
      "text/plain": [
       "    rID  LOS_DAYS  READMISSION_DAYS  readmission_days_btw  \\\n",
       "6    16     9.145               NaN                93.290   \n",
       "7    16     3.655            93.290                28.808   \n",
       "8    16     5.087           125.753                89.773   \n",
       "9    16     1.377           220.613                63.213   \n",
       "10   16     2.816           285.203                 0.000   \n",
       "\n",
       "             DISPOSITION  \n",
       "6   REHAB/INPT REHAB UNT  \n",
       "7   REHAB/INPT REHAB UNT  \n",
       "8     SKILLED NURS FACIL  \n",
       "9     SKILLED NURS FACIL  \n",
       "10    SKILLED NURS FACIL  "
      ]
     },
     "execution_count": 88,
     "metadata": {},
     "output_type": "execute_result"
    }
   ],
   "source": [
    "admission_time_attris.loc[admission_time_attris['rID']==16]"
   ]
  },
  {
   "cell_type": "code",
   "execution_count": 89,
   "metadata": {},
   "outputs": [
    {
     "data": {
      "text/html": [
       "<div>\n",
       "<style scoped>\n",
       "    .dataframe tbody tr th:only-of-type {\n",
       "        vertical-align: middle;\n",
       "    }\n",
       "\n",
       "    .dataframe tbody tr th {\n",
       "        vertical-align: top;\n",
       "    }\n",
       "\n",
       "    .dataframe thead th {\n",
       "        text-align: right;\n",
       "    }\n",
       "</style>\n",
       "<table border=\"1\" class=\"dataframe\">\n",
       "  <thead>\n",
       "    <tr style=\"text-align: right;\">\n",
       "      <th></th>\n",
       "      <th>rID</th>\n",
       "      <th>DAYS_TO_CLOSEST_OFFICE_VISIT</th>\n",
       "      <th>FOLLOWUP_DAYS</th>\n",
       "    </tr>\n",
       "  </thead>\n",
       "  <tbody>\n",
       "    <tr>\n",
       "      <td>2</td>\n",
       "      <td>16</td>\n",
       "      <td>0</td>\n",
       "      <td>515.0</td>\n",
       "    </tr>\n",
       "  </tbody>\n",
       "</table>\n",
       "</div>"
      ],
      "text/plain": [
       "   rID  DAYS_TO_CLOSEST_OFFICE_VISIT  FOLLOWUP_DAYS\n",
       "2   16                             0          515.0"
      ]
     },
     "execution_count": 89,
     "metadata": {},
     "output_type": "execute_result"
    }
   ],
   "source": [
    "baseline_time_attris[baseline_time_attris['rID']==16]"
   ]
  },
  {
   "cell_type": "code",
   "execution_count": 90,
   "metadata": {},
   "outputs": [
    {
     "data": {
      "text/plain": [
       "288.01899999999995"
      ]
     },
     "execution_count": 90,
     "metadata": {},
     "output_type": "execute_result"
    }
   ],
   "source": [
    "285.203 + 2.816"
   ]
  },
  {
   "cell_type": "code",
   "execution_count": 93,
   "metadata": {},
   "outputs": [
    {
     "data": {
      "text/html": [
       "<div>\n",
       "<style scoped>\n",
       "    .dataframe tbody tr th:only-of-type {\n",
       "        vertical-align: middle;\n",
       "    }\n",
       "\n",
       "    .dataframe tbody tr th {\n",
       "        vertical-align: top;\n",
       "    }\n",
       "\n",
       "    .dataframe thead th {\n",
       "        text-align: right;\n",
       "    }\n",
       "</style>\n",
       "<table border=\"1\" class=\"dataframe\">\n",
       "  <thead>\n",
       "    <tr style=\"text-align: right;\">\n",
       "      <th></th>\n",
       "      <th>rID</th>\n",
       "      <th>LOS_DAYS</th>\n",
       "      <th>READMISSION_DAYS</th>\n",
       "      <th>readmission_days_btw</th>\n",
       "      <th>DISPOSITION</th>\n",
       "    </tr>\n",
       "  </thead>\n",
       "  <tbody>\n",
       "    <tr>\n",
       "      <td>12</td>\n",
       "      <td>31</td>\n",
       "      <td>3.409</td>\n",
       "      <td>NaN</td>\n",
       "      <td>6.731</td>\n",
       "      <td>HOME/SELF CARE</td>\n",
       "    </tr>\n",
       "    <tr>\n",
       "      <td>13</td>\n",
       "      <td>31</td>\n",
       "      <td>6.273</td>\n",
       "      <td>6.731</td>\n",
       "      <td>1825.602</td>\n",
       "      <td>HOME HEALTH AGENCY</td>\n",
       "    </tr>\n",
       "    <tr>\n",
       "      <td>14</td>\n",
       "      <td>31</td>\n",
       "      <td>1.416</td>\n",
       "      <td>1838.606</td>\n",
       "      <td>22.520</td>\n",
       "      <td>HOME HEALTH AGENCY</td>\n",
       "    </tr>\n",
       "    <tr>\n",
       "      <td>15</td>\n",
       "      <td>31</td>\n",
       "      <td>4.474</td>\n",
       "      <td>1862.542</td>\n",
       "      <td>0.000</td>\n",
       "      <td>HOME/SELF CARE</td>\n",
       "    </tr>\n",
       "  </tbody>\n",
       "</table>\n",
       "</div>"
      ],
      "text/plain": [
       "    rID  LOS_DAYS  READMISSION_DAYS  readmission_days_btw         DISPOSITION\n",
       "12   31     3.409               NaN                 6.731      HOME/SELF CARE\n",
       "13   31     6.273             6.731              1825.602  HOME HEALTH AGENCY\n",
       "14   31     1.416          1838.606                22.520  HOME HEALTH AGENCY\n",
       "15   31     4.474          1862.542                 0.000      HOME/SELF CARE"
      ]
     },
     "execution_count": 93,
     "metadata": {},
     "output_type": "execute_result"
    }
   ],
   "source": [
    "admission_time_attris.loc[admission_time_attris['rID']==31]"
   ]
  },
  {
   "cell_type": "code",
   "execution_count": 92,
   "metadata": {},
   "outputs": [
    {
     "data": {
      "text/html": [
       "<div>\n",
       "<style scoped>\n",
       "    .dataframe tbody tr th:only-of-type {\n",
       "        vertical-align: middle;\n",
       "    }\n",
       "\n",
       "    .dataframe tbody tr th {\n",
       "        vertical-align: top;\n",
       "    }\n",
       "\n",
       "    .dataframe thead th {\n",
       "        text-align: right;\n",
       "    }\n",
       "</style>\n",
       "<table border=\"1\" class=\"dataframe\">\n",
       "  <thead>\n",
       "    <tr style=\"text-align: right;\">\n",
       "      <th></th>\n",
       "      <th>rID</th>\n",
       "      <th>DAYS_TO_CLOSEST_OFFICE_VISIT</th>\n",
       "      <th>FOLLOWUP_DAYS</th>\n",
       "    </tr>\n",
       "  </thead>\n",
       "  <tbody>\n",
       "    <tr>\n",
       "      <td>4</td>\n",
       "      <td>31</td>\n",
       "      <td>8</td>\n",
       "      <td>2025.0</td>\n",
       "    </tr>\n",
       "  </tbody>\n",
       "</table>\n",
       "</div>"
      ],
      "text/plain": [
       "   rID  DAYS_TO_CLOSEST_OFFICE_VISIT  FOLLOWUP_DAYS\n",
       "4   31                             8         2025.0"
      ]
     },
     "execution_count": 92,
     "metadata": {},
     "output_type": "execute_result"
    }
   ],
   "source": [
    "baseline_time_attris[baseline_time_attris['rID']==31]"
   ]
  },
  {
   "cell_type": "code",
   "execution_count": 94,
   "metadata": {},
   "outputs": [
    {
     "data": {
      "text/plain": [
       "1867.0159999999998"
      ]
     },
     "execution_count": 94,
     "metadata": {},
     "output_type": "execute_result"
    }
   ],
   "source": [
    "1862.542 + 4.474"
   ]
  },
  {
   "cell_type": "markdown",
   "metadata": {},
   "source": [
    "# Add attribute CTB_days \n",
    "CTB_days = mortality date - last discharge date"
   ]
  },
  {
   "cell_type": "code",
   "execution_count": 106,
   "metadata": {},
   "outputs": [],
   "source": [
    "baseline['CTB_days'] = np.nan\n",
    "list_rid = admission.loc[admission['DISPOSITION']=='CTB'].rID\n",
    "inhos_ctb_baseline = baseline.loc[baseline['rID'].isin(list_rid)]\n",
    "baseline.set_value(inhos_ctb_baseline.index, 'CTB_days', 0)\n",
    "\n",
    "# For mortality patients but not inhospital mortality, for more than 1 hospitalization CTB_days = FOLLOWUP_DAYS - (READMISSION_DAYS for last admission + LOS_DAYS for last admission)   \n",
    "# for only 1 hospitalization, CTB_days = FOLLOWUP_DAYS\n",
    "\n",
    "list_rid = list(admission.loc[(admission['INDEX_HOSPITALIZATION']==0) &\n",
    "                               (admission['last_adm']==1) & (admission['DISPOSITION']!='CTB')].rID)\n",
    "\n",
    "ctb_rid = list(baseline.loc[baseline['CTB']==1].rID)\n",
    "\n",
    "list_rid_2 = [i for i in list_rid if i in ctb_rid]\n",
    "\n",
    "out_ctb_baseline = baseline.loc[baseline['rID'].isin(list_rid_2)]\n",
    "\n",
    "out_ctb_admission = admission.loc[(admission['last_adm']==1) & (admission['rID'].isin(list_rid_2))]\n",
    "\n",
    "out_ctb_df = out_ctb_admission[['rID','LOS_DAYS','READMISSION_DAYS']]\n",
    "\n",
    "out_ctb_df.fillna(value=0, inplace=True)\n",
    "\n",
    "out_ctb_df['last_discharge_days'] = out_ctb_df['LOS_DAYS'] + out_ctb_df['READMISSION_DAYS']\n",
    "\n",
    "out_ctb_series = out_ctb_df['last_discharge_days']\n",
    "out_ctb_series.reset_index(drop=True, inplace=True)\n",
    "out_ctb_list = list(out_ctb_series)\n",
    "\n",
    "out_ctb_baseline[['rID','FOLLOWUP_DAYS']]\n",
    "\n",
    "out_ctb_baseline['last_discharge_days'] = out_ctb_list\n",
    "\n",
    "out_ctb_baseline[['rID','FOLLOWUP_DAYS','last_discharge_days']]\n",
    "\n",
    "out_ctb_baseline['ctb_days'] = out_ctb_baseline['FOLLOWUP_DAYS'] - out_ctb_baseline['last_discharge_days']\n",
    "\n",
    "out_ctb_baseline[['FOLLOWUP_DAYS','last_discharge_days','ctb_days']]\n",
    "\n",
    "baseline.set_value(out_ctb_baseline.index, 'CTB_days', out_ctb_baseline['ctb_days'])\n",
    "\n",
    "list_rid = list(admission.loc[(admission['INDEX_HOSPITALIZATION']==1) &\n",
    "                               (admission['last_adm']==1) & (admission['DISPOSITION']!='CTB')].rID)\n",
    "\n",
    "list_rid_2 = [i for i in list_rid if i in ctb_rid]\n",
    "\n",
    "out_ctb_baseline_only1 = baseline.loc[baseline['rID'].isin(list_rid_2)]\n",
    "out_ctb_admission_only1 = admission.loc[(admission['last_adm']==1) & (admission['rID'].isin(list_rid_2))]\n",
    "\n",
    "out_ctb_baseline_only1['ctb_days'] = out_ctb_baseline_only1['FOLLOWUP_DAYS']\n",
    "\n",
    "out_ctb_baseline_only1[['rID','FOLLOWUP_DAYS','ctb_days']]\n",
    "\n",
    "baseline.set_value(out_ctb_baseline_only1.index, 'CTB_days', out_ctb_baseline_only1['ctb_days'])"
   ]
  },
  {
   "cell_type": "code",
   "execution_count": 7,
   "metadata": {},
   "outputs": [
    {
     "data": {
      "text/plain": [
       "(1228, 145)"
      ]
     },
     "execution_count": 7,
     "metadata": {},
     "output_type": "execute_result"
    }
   ],
   "source": [
    "baseline[baseline['CTB']==1].shape"
   ]
  },
  {
   "cell_type": "code",
   "execution_count": 8,
   "metadata": {},
   "outputs": [
    {
     "data": {
      "text/plain": [
       "1093"
      ]
     },
     "execution_count": 8,
     "metadata": {},
     "output_type": "execute_result"
    }
   ],
   "source": [
    "baseline.shape[0]-baseline[baseline['CTB_days'].isna()].shape[0]"
   ]
  },
  {
   "cell_type": "code",
   "execution_count": 231,
   "metadata": {},
   "outputs": [
    {
     "data": {
      "text/html": [
       "<div>\n",
       "<style scoped>\n",
       "    .dataframe tbody tr th:only-of-type {\n",
       "        vertical-align: middle;\n",
       "    }\n",
       "\n",
       "    .dataframe tbody tr th {\n",
       "        vertical-align: top;\n",
       "    }\n",
       "\n",
       "    .dataframe thead th {\n",
       "        text-align: right;\n",
       "    }\n",
       "</style>\n",
       "<table border=\"1\" class=\"dataframe\">\n",
       "  <thead>\n",
       "    <tr style=\"text-align: right;\">\n",
       "      <th></th>\n",
       "      <th>rID</th>\n",
       "      <th>CTB_days</th>\n",
       "    </tr>\n",
       "  </thead>\n",
       "  <tbody>\n",
       "    <tr>\n",
       "      <td>322</td>\n",
       "      <td>1533</td>\n",
       "      <td>-0.020</td>\n",
       "    </tr>\n",
       "    <tr>\n",
       "      <td>512</td>\n",
       "      <td>2580</td>\n",
       "      <td>-0.110</td>\n",
       "    </tr>\n",
       "    <tr>\n",
       "      <td>1585</td>\n",
       "      <td>7925</td>\n",
       "      <td>-0.029</td>\n",
       "    </tr>\n",
       "    <tr>\n",
       "      <td>1865</td>\n",
       "      <td>9143</td>\n",
       "      <td>-0.058</td>\n",
       "    </tr>\n",
       "  </tbody>\n",
       "</table>\n",
       "</div>"
      ],
      "text/plain": [
       "       rID  CTB_days\n",
       "322   1533    -0.020\n",
       "512   2580    -0.110\n",
       "1585  7925    -0.029\n",
       "1865  9143    -0.058"
      ]
     },
     "execution_count": 231,
     "metadata": {},
     "output_type": "execute_result"
    }
   ],
   "source": [
    "baseline[baseline['rID'].isin([1533,2580,7925,9143])][['rID','CTB_days']]"
   ]
  },
  {
   "cell_type": "markdown",
   "metadata": {},
   "source": [
    "# save an updated version of baseline dataset"
   ]
  },
  {
   "cell_type": "code",
   "execution_count": 229,
   "metadata": {},
   "outputs": [
    {
     "name": "stdout",
     "output_type": "stream",
     "text": [
      "/Users/jinchenxie/Desktop/HF_Research/datasets/processed\n",
      "DataFrame is written successfully to Excel File.\n"
     ]
    }
   ],
   "source": [
    "%cd ~/desktop/HF_Research/datasets/processed\n",
    "writer = pd.ExcelWriter('Filtered Attributes Baseline.xlsx')\n",
    "baseline.to_excel(writer, 'updated_folup_NA30_baseline')\n",
    "writer.save()\n",
    "print('DataFrame is written successfully to Excel File.')"
   ]
  },
  {
   "cell_type": "markdown",
   "metadata": {},
   "source": [
    "# Understand DAYS_TO_CLOSEST_OFFICE_VISIT\n",
    "initial admission date - office visit date"
   ]
  },
  {
   "cell_type": "code",
   "execution_count": 232,
   "metadata": {},
   "outputs": [
    {
     "data": {
      "text/html": [
       "<div>\n",
       "<style scoped>\n",
       "    .dataframe tbody tr th:only-of-type {\n",
       "        vertical-align: middle;\n",
       "    }\n",
       "\n",
       "    .dataframe tbody tr th {\n",
       "        vertical-align: top;\n",
       "    }\n",
       "\n",
       "    .dataframe thead th {\n",
       "        text-align: right;\n",
       "    }\n",
       "</style>\n",
       "<table border=\"1\" class=\"dataframe\">\n",
       "  <thead>\n",
       "    <tr style=\"text-align: right;\">\n",
       "      <th></th>\n",
       "      <th>rID</th>\n",
       "      <th>DAYS_TO_CLOSEST_OFFICE_VISIT</th>\n",
       "    </tr>\n",
       "  </thead>\n",
       "  <tbody>\n",
       "    <tr>\n",
       "      <td>0</td>\n",
       "      <td>5</td>\n",
       "      <td>-63</td>\n",
       "    </tr>\n",
       "    <tr>\n",
       "      <td>1</td>\n",
       "      <td>10</td>\n",
       "      <td>-3</td>\n",
       "    </tr>\n",
       "    <tr>\n",
       "      <td>2</td>\n",
       "      <td>16</td>\n",
       "      <td>0</td>\n",
       "    </tr>\n",
       "    <tr>\n",
       "      <td>3</td>\n",
       "      <td>28</td>\n",
       "      <td>6</td>\n",
       "    </tr>\n",
       "    <tr>\n",
       "      <td>4</td>\n",
       "      <td>31</td>\n",
       "      <td>8</td>\n",
       "    </tr>\n",
       "    <tr>\n",
       "      <td>...</td>\n",
       "      <td>...</td>\n",
       "      <td>...</td>\n",
       "    </tr>\n",
       "    <tr>\n",
       "      <td>2516</td>\n",
       "      <td>12247</td>\n",
       "      <td>-2</td>\n",
       "    </tr>\n",
       "    <tr>\n",
       "      <td>2517</td>\n",
       "      <td>12253</td>\n",
       "      <td>7</td>\n",
       "    </tr>\n",
       "    <tr>\n",
       "      <td>2518</td>\n",
       "      <td>12260</td>\n",
       "      <td>51</td>\n",
       "    </tr>\n",
       "    <tr>\n",
       "      <td>2519</td>\n",
       "      <td>12263</td>\n",
       "      <td>61</td>\n",
       "    </tr>\n",
       "    <tr>\n",
       "      <td>2520</td>\n",
       "      <td>12280</td>\n",
       "      <td>24</td>\n",
       "    </tr>\n",
       "  </tbody>\n",
       "</table>\n",
       "<p>2521 rows × 2 columns</p>\n",
       "</div>"
      ],
      "text/plain": [
       "        rID  DAYS_TO_CLOSEST_OFFICE_VISIT\n",
       "0         5                           -63\n",
       "1        10                            -3\n",
       "2        16                             0\n",
       "3        28                             6\n",
       "4        31                             8\n",
       "...     ...                           ...\n",
       "2516  12247                            -2\n",
       "2517  12253                             7\n",
       "2518  12260                            51\n",
       "2519  12263                            61\n",
       "2520  12280                            24\n",
       "\n",
       "[2521 rows x 2 columns]"
      ]
     },
     "execution_count": 232,
     "metadata": {},
     "output_type": "execute_result"
    }
   ],
   "source": [
    "baseline[['rID','DAYS_TO_CLOSEST_OFFICE_VISIT']]"
   ]
  },
  {
   "cell_type": "markdown",
   "metadata": {},
   "source": [
    "POSITIVE or ZERO DAYS_TO_CLOSEST_OFFICE_VISIT means the office visit happens before initial admissions, it's the simple and clear situation.  \n",
    "____\n",
    "___\n",
    "We need to pay special attention to negative DAYS_TO_CLOSEST_OFFICE_VISIT values."
   ]
  },
  {
   "cell_type": "code",
   "execution_count": 233,
   "metadata": {},
   "outputs": [],
   "source": [
    "neg_office_baseline = baseline.loc[baseline['DAYS_TO_CLOSEST_OFFICE_VISIT']<0]\n",
    "neg_office_rid = neg_office_baseline.rID\n",
    "neg_office_admission = admission.loc[admission['rID'].isin(neg_office_rid)]"
   ]
  },
  {
   "cell_type": "code",
   "execution_count": 242,
   "metadata": {},
   "outputs": [
    {
     "data": {
      "text/plain": [
       "(835, 143)"
      ]
     },
     "execution_count": 242,
     "metadata": {},
     "output_type": "execute_result"
    }
   ],
   "source": [
    "neg_office_baseline.shape"
   ]
  },
  {
   "cell_type": "code",
   "execution_count": 240,
   "metadata": {},
   "outputs": [
    {
     "data": {
      "text/html": [
       "<div>\n",
       "<style scoped>\n",
       "    .dataframe tbody tr th:only-of-type {\n",
       "        vertical-align: middle;\n",
       "    }\n",
       "\n",
       "    .dataframe tbody tr th {\n",
       "        vertical-align: top;\n",
       "    }\n",
       "\n",
       "    .dataframe thead th {\n",
       "        text-align: right;\n",
       "    }\n",
       "</style>\n",
       "<table border=\"1\" class=\"dataframe\">\n",
       "  <thead>\n",
       "    <tr style=\"text-align: right;\">\n",
       "      <th></th>\n",
       "      <th>rID</th>\n",
       "      <th>LOS_DAYS</th>\n",
       "      <th>DAYS_TO_CLOSEST_OFFICE_VISIT</th>\n",
       "    </tr>\n",
       "  </thead>\n",
       "  <tbody>\n",
       "    <tr>\n",
       "      <td>0</td>\n",
       "      <td>5</td>\n",
       "      <td>3.121</td>\n",
       "      <td>-63</td>\n",
       "    </tr>\n",
       "    <tr>\n",
       "      <td>1</td>\n",
       "      <td>10</td>\n",
       "      <td>3.860</td>\n",
       "      <td>-3</td>\n",
       "    </tr>\n",
       "    <tr>\n",
       "      <td>8</td>\n",
       "      <td>52</td>\n",
       "      <td>5.285</td>\n",
       "      <td>-13</td>\n",
       "    </tr>\n",
       "    <tr>\n",
       "      <td>9</td>\n",
       "      <td>55</td>\n",
       "      <td>34.153</td>\n",
       "      <td>-1</td>\n",
       "    </tr>\n",
       "    <tr>\n",
       "      <td>11</td>\n",
       "      <td>77</td>\n",
       "      <td>2.015</td>\n",
       "      <td>-10</td>\n",
       "    </tr>\n",
       "    <tr>\n",
       "      <td>17</td>\n",
       "      <td>114</td>\n",
       "      <td>0.896</td>\n",
       "      <td>-14</td>\n",
       "    </tr>\n",
       "    <tr>\n",
       "      <td>27</td>\n",
       "      <td>163</td>\n",
       "      <td>1.363</td>\n",
       "      <td>-1</td>\n",
       "    </tr>\n",
       "    <tr>\n",
       "      <td>28</td>\n",
       "      <td>165</td>\n",
       "      <td>31.144</td>\n",
       "      <td>-10</td>\n",
       "    </tr>\n",
       "    <tr>\n",
       "      <td>29</td>\n",
       "      <td>167</td>\n",
       "      <td>15.960</td>\n",
       "      <td>-8</td>\n",
       "    </tr>\n",
       "    <tr>\n",
       "      <td>32</td>\n",
       "      <td>175</td>\n",
       "      <td>3.363</td>\n",
       "      <td>-77</td>\n",
       "    </tr>\n",
       "  </tbody>\n",
       "</table>\n",
       "</div>"
      ],
      "text/plain": [
       "    rID  LOS_DAYS  DAYS_TO_CLOSEST_OFFICE_VISIT\n",
       "0     5     3.121                           -63\n",
       "1    10     3.860                            -3\n",
       "8    52     5.285                           -13\n",
       "9    55    34.153                            -1\n",
       "11   77     2.015                           -10\n",
       "17  114     0.896                           -14\n",
       "27  163     1.363                            -1\n",
       "28  165    31.144                           -10\n",
       "29  167    15.960                            -8\n",
       "32  175     3.363                           -77"
      ]
     },
     "execution_count": 240,
     "metadata": {},
     "output_type": "execute_result"
    }
   ],
   "source": [
    "neg_office_baseline[['rID','LOS_DAYS','DAYS_TO_CLOSEST_OFFICE_VISIT']][:10]"
   ]
  },
  {
   "cell_type": "code",
   "execution_count": 241,
   "metadata": {},
   "outputs": [
    {
     "data": {
      "text/html": [
       "<div>\n",
       "<style scoped>\n",
       "    .dataframe tbody tr th:only-of-type {\n",
       "        vertical-align: middle;\n",
       "    }\n",
       "\n",
       "    .dataframe tbody tr th {\n",
       "        vertical-align: top;\n",
       "    }\n",
       "\n",
       "    .dataframe thead th {\n",
       "        text-align: right;\n",
       "    }\n",
       "</style>\n",
       "<table border=\"1\" class=\"dataframe\">\n",
       "  <thead>\n",
       "    <tr style=\"text-align: right;\">\n",
       "      <th></th>\n",
       "      <th>rID</th>\n",
       "      <th>LOS_DAYS</th>\n",
       "      <th>READMISSION_DAYS</th>\n",
       "      <th>readmission_days_btw</th>\n",
       "    </tr>\n",
       "  </thead>\n",
       "  <tbody>\n",
       "    <tr>\n",
       "      <td>0</td>\n",
       "      <td>5</td>\n",
       "      <td>3.121</td>\n",
       "      <td>NaN</td>\n",
       "      <td>58.847</td>\n",
       "    </tr>\n",
       "    <tr>\n",
       "      <td>1</td>\n",
       "      <td>5</td>\n",
       "      <td>2.394</td>\n",
       "      <td>58.847</td>\n",
       "      <td>539.732</td>\n",
       "    </tr>\n",
       "    <tr>\n",
       "      <td>2</td>\n",
       "      <td>5</td>\n",
       "      <td>2.194</td>\n",
       "      <td>600.973</td>\n",
       "      <td>94.125</td>\n",
       "    </tr>\n",
       "    <tr>\n",
       "      <td>3</td>\n",
       "      <td>5</td>\n",
       "      <td>0.892</td>\n",
       "      <td>697.292</td>\n",
       "      <td>0.000</td>\n",
       "    </tr>\n",
       "    <tr>\n",
       "      <td>4</td>\n",
       "      <td>10</td>\n",
       "      <td>3.860</td>\n",
       "      <td>NaN</td>\n",
       "      <td>1126.127</td>\n",
       "    </tr>\n",
       "    <tr>\n",
       "      <td>5</td>\n",
       "      <td>10</td>\n",
       "      <td>2.214</td>\n",
       "      <td>1126.127</td>\n",
       "      <td>0.000</td>\n",
       "    </tr>\n",
       "    <tr>\n",
       "      <td>29</td>\n",
       "      <td>52</td>\n",
       "      <td>5.285</td>\n",
       "      <td>NaN</td>\n",
       "      <td>37.047</td>\n",
       "    </tr>\n",
       "    <tr>\n",
       "      <td>30</td>\n",
       "      <td>52</td>\n",
       "      <td>0.896</td>\n",
       "      <td>37.047</td>\n",
       "      <td>15.558</td>\n",
       "    </tr>\n",
       "    <tr>\n",
       "      <td>31</td>\n",
       "      <td>52</td>\n",
       "      <td>3.552</td>\n",
       "      <td>53.501</td>\n",
       "      <td>27.732</td>\n",
       "    </tr>\n",
       "    <tr>\n",
       "      <td>32</td>\n",
       "      <td>52</td>\n",
       "      <td>1.365</td>\n",
       "      <td>84.785</td>\n",
       "      <td>12.440</td>\n",
       "    </tr>\n",
       "    <tr>\n",
       "      <td>33</td>\n",
       "      <td>52</td>\n",
       "      <td>3.487</td>\n",
       "      <td>98.590</td>\n",
       "      <td>52.775</td>\n",
       "    </tr>\n",
       "    <tr>\n",
       "      <td>34</td>\n",
       "      <td>52</td>\n",
       "      <td>3.276</td>\n",
       "      <td>154.852</td>\n",
       "      <td>5.619</td>\n",
       "    </tr>\n",
       "    <tr>\n",
       "      <td>35</td>\n",
       "      <td>52</td>\n",
       "      <td>6.178</td>\n",
       "      <td>163.747</td>\n",
       "      <td>71.939</td>\n",
       "    </tr>\n",
       "    <tr>\n",
       "      <td>36</td>\n",
       "      <td>52</td>\n",
       "      <td>3.472</td>\n",
       "      <td>241.864</td>\n",
       "      <td>2.149</td>\n",
       "    </tr>\n",
       "    <tr>\n",
       "      <td>37</td>\n",
       "      <td>52</td>\n",
       "      <td>6.640</td>\n",
       "      <td>247.485</td>\n",
       "      <td>0.000</td>\n",
       "    </tr>\n",
       "    <tr>\n",
       "      <td>38</td>\n",
       "      <td>55</td>\n",
       "      <td>34.153</td>\n",
       "      <td>NaN</td>\n",
       "      <td>0.000</td>\n",
       "    </tr>\n",
       "    <tr>\n",
       "      <td>41</td>\n",
       "      <td>77</td>\n",
       "      <td>2.015</td>\n",
       "      <td>NaN</td>\n",
       "      <td>3.580</td>\n",
       "    </tr>\n",
       "    <tr>\n",
       "      <td>42</td>\n",
       "      <td>77</td>\n",
       "      <td>3.483</td>\n",
       "      <td>3.580</td>\n",
       "      <td>3.481</td>\n",
       "    </tr>\n",
       "    <tr>\n",
       "      <td>43</td>\n",
       "      <td>77</td>\n",
       "      <td>6.422</td>\n",
       "      <td>10.544</td>\n",
       "      <td>26.686</td>\n",
       "    </tr>\n",
       "    <tr>\n",
       "      <td>44</td>\n",
       "      <td>77</td>\n",
       "      <td>3.447</td>\n",
       "      <td>43.652</td>\n",
       "      <td>11.669</td>\n",
       "    </tr>\n",
       "    <tr>\n",
       "      <td>45</td>\n",
       "      <td>77</td>\n",
       "      <td>30.443</td>\n",
       "      <td>58.768</td>\n",
       "      <td>45.815</td>\n",
       "    </tr>\n",
       "    <tr>\n",
       "      <td>46</td>\n",
       "      <td>77</td>\n",
       "      <td>3.177</td>\n",
       "      <td>135.026</td>\n",
       "      <td>45.919</td>\n",
       "    </tr>\n",
       "    <tr>\n",
       "      <td>47</td>\n",
       "      <td>77</td>\n",
       "      <td>2.986</td>\n",
       "      <td>184.122</td>\n",
       "      <td>22.877</td>\n",
       "    </tr>\n",
       "    <tr>\n",
       "      <td>48</td>\n",
       "      <td>77</td>\n",
       "      <td>5.095</td>\n",
       "      <td>209.985</td>\n",
       "      <td>72.978</td>\n",
       "    </tr>\n",
       "    <tr>\n",
       "      <td>49</td>\n",
       "      <td>77</td>\n",
       "      <td>35.999</td>\n",
       "      <td>288.058</td>\n",
       "      <td>0.000</td>\n",
       "    </tr>\n",
       "    <tr>\n",
       "      <td>72</td>\n",
       "      <td>114</td>\n",
       "      <td>0.896</td>\n",
       "      <td>NaN</td>\n",
       "      <td>36.111</td>\n",
       "    </tr>\n",
       "    <tr>\n",
       "      <td>73</td>\n",
       "      <td>114</td>\n",
       "      <td>1.090</td>\n",
       "      <td>36.111</td>\n",
       "      <td>1027.753</td>\n",
       "    </tr>\n",
       "    <tr>\n",
       "      <td>74</td>\n",
       "      <td>114</td>\n",
       "      <td>2.197</td>\n",
       "      <td>1064.954</td>\n",
       "      <td>31.946</td>\n",
       "    </tr>\n",
       "    <tr>\n",
       "      <td>75</td>\n",
       "      <td>114</td>\n",
       "      <td>1.935</td>\n",
       "      <td>1099.097</td>\n",
       "      <td>1007.440</td>\n",
       "    </tr>\n",
       "    <tr>\n",
       "      <td>76</td>\n",
       "      <td>114</td>\n",
       "      <td>1.646</td>\n",
       "      <td>2108.472</td>\n",
       "      <td>50.172</td>\n",
       "    </tr>\n",
       "  </tbody>\n",
       "</table>\n",
       "</div>"
      ],
      "text/plain": [
       "    rID  LOS_DAYS  READMISSION_DAYS  readmission_days_btw\n",
       "0     5     3.121               NaN                58.847\n",
       "1     5     2.394            58.847               539.732\n",
       "2     5     2.194           600.973                94.125\n",
       "3     5     0.892           697.292                 0.000\n",
       "4    10     3.860               NaN              1126.127\n",
       "5    10     2.214          1126.127                 0.000\n",
       "29   52     5.285               NaN                37.047\n",
       "30   52     0.896            37.047                15.558\n",
       "31   52     3.552            53.501                27.732\n",
       "32   52     1.365            84.785                12.440\n",
       "33   52     3.487            98.590                52.775\n",
       "34   52     3.276           154.852                 5.619\n",
       "35   52     6.178           163.747                71.939\n",
       "36   52     3.472           241.864                 2.149\n",
       "37   52     6.640           247.485                 0.000\n",
       "38   55    34.153               NaN                 0.000\n",
       "41   77     2.015               NaN                 3.580\n",
       "42   77     3.483             3.580                 3.481\n",
       "43   77     6.422            10.544                26.686\n",
       "44   77     3.447            43.652                11.669\n",
       "45   77    30.443            58.768                45.815\n",
       "46   77     3.177           135.026                45.919\n",
       "47   77     2.986           184.122                22.877\n",
       "48   77     5.095           209.985                72.978\n",
       "49   77    35.999           288.058                 0.000\n",
       "72  114     0.896               NaN                36.111\n",
       "73  114     1.090            36.111              1027.753\n",
       "74  114     2.197          1064.954                31.946\n",
       "75  114     1.935          1099.097              1007.440\n",
       "76  114     1.646          2108.472                50.172"
      ]
     },
     "execution_count": 241,
     "metadata": {},
     "output_type": "execute_result"
    }
   ],
   "source": [
    "neg_office_admission[['rID','LOS_DAYS','READMISSION_DAYS','readmission_days_btw']][:30]"
   ]
  },
  {
   "cell_type": "code",
   "execution_count": 244,
   "metadata": {},
   "outputs": [
    {
     "data": {
      "text/plain": [
       "64.36200000000001"
      ]
     },
     "execution_count": 244,
     "metadata": {},
     "output_type": "execute_result"
    }
   ],
   "source": [
    "3.121+58.847+2.394"
   ]
  },
  {
   "cell_type": "code",
   "execution_count": null,
   "metadata": {},
   "outputs": [],
   "source": []
  }
 ],
 "metadata": {
  "kernelspec": {
   "display_name": "Python 3",
   "language": "python",
   "name": "python3"
  },
  "language_info": {
   "codemirror_mode": {
    "name": "ipython",
    "version": 3
   },
   "file_extension": ".py",
   "mimetype": "text/x-python",
   "name": "python",
   "nbconvert_exporter": "python",
   "pygments_lexer": "ipython3",
   "version": "3.6.9"
  },
  "toc": {
   "base_numbering": 1,
   "nav_menu": {},
   "number_sections": true,
   "sideBar": true,
   "skip_h1_title": false,
   "title_cell": "Table of Contents",
   "title_sidebar": "Contents",
   "toc_cell": true,
   "toc_position": {},
   "toc_section_display": true,
   "toc_window_display": true
  }
 },
 "nbformat": 4,
 "nbformat_minor": 4
}
