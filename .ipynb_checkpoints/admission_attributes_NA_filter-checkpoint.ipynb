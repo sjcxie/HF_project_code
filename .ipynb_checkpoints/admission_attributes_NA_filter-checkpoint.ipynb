{
 "cells": [
  {
   "cell_type": "markdown",
   "metadata": {
    "toc": true
   },
   "source": [
    "<h1>Table of Contents<span class=\"tocSkip\"></span></h1>\n",
    "<div class=\"toc\"><ul class=\"toc-item\"><li><span><a href=\"#Encounters-that-have-too-many-NA\" data-toc-modified-id=\"Encounters-that-have-too-many-NA-1\"><span class=\"toc-item-num\">1&nbsp;&nbsp;</span>Encounters that have too many NA</a></span></li><li><span><a href=\"#Examine-some-attributes\" data-toc-modified-id=\"Examine-some-attributes-2\"><span class=\"toc-item-num\">2&nbsp;&nbsp;</span>Examine some attributes</a></span></li><li><span><a href=\"#drop-some-unnecessary-attributes\" data-toc-modified-id=\"drop-some-unnecessary-attributes-3\"><span class=\"toc-item-num\">3&nbsp;&nbsp;</span>drop some unnecessary attributes</a></span></li><li><span><a href=\"#Determine-NA-tolerance\" data-toc-modified-id=\"Determine-NA-tolerance-4\"><span class=\"toc-item-num\">4&nbsp;&nbsp;</span>Determine NA tolerance</a></span></li><li><span><a href=\"#Remove-attributes-with->50%-NA\" data-toc-modified-id=\"Remove-attributes-with->50%-NA-5\"><span class=\"toc-item-num\">5&nbsp;&nbsp;</span>Remove attributes with &gt;50% NA</a></span></li><li><span><a href=\"#Drop-attributes->20%-&amp;->30%\" data-toc-modified-id=\"Drop-attributes->20%-&amp;->30%-6\"><span class=\"toc-item-num\">6&nbsp;&nbsp;</span>Drop attributes &gt;20% &amp; &gt;30%</a></span></li><li><span><a href=\"#Save-the-filtered-admission-dataset\" data-toc-modified-id=\"Save-the-filtered-admission-dataset-7\"><span class=\"toc-item-num\">7&nbsp;&nbsp;</span>Save the filtered admission dataset</a></span></li></ul></div>"
   ]
  },
  {
   "cell_type": "code",
   "execution_count": 1,
   "metadata": {},
   "outputs": [],
   "source": [
    "import pandas as pd\n",
    "import numpy as np\n",
    "from matplotlib import pyplot as plt\n",
    "\n",
    "pd.options.display.max_rows = 400\n",
    "pd.options.display.max_columns = 50"
   ]
  },
  {
   "cell_type": "code",
   "execution_count": 2,
   "metadata": {},
   "outputs": [
    {
     "name": "stdout",
     "output_type": "stream",
     "text": [
      "/Users/jinchenxie/Desktop/datasets\n"
     ]
    }
   ],
   "source": [
    "%cd ~/desktop/datasets"
   ]
  },
  {
   "cell_type": "code",
   "execution_count": 3,
   "metadata": {},
   "outputs": [],
   "source": [
    "admission = pd.read_excel('Advanced Therapy Potential Cohort.xlsx', \n",
    "                          'cohort admission')"
   ]
  },
  {
   "cell_type": "code",
   "execution_count": 15,
   "metadata": {},
   "outputs": [
    {
     "name": "stdout",
     "output_type": "stream",
     "text": [
      "/Users/jinchenxie/Desktop/HF_Research/datasets/processed\n"
     ]
    }
   ],
   "source": [
    "%cd ~/desktop/HF_Research/datasets/processed\n",
    "baseline_trunc30 = pd.read_excel('Filtered Attributes Baseline.xlsx', 'NA30_filtered_baseline')"
   ]
  },
  {
   "cell_type": "code",
   "execution_count": 8,
   "metadata": {},
   "outputs": [],
   "source": [
    "admission = admission[admission['admission_count']<=15]"
   ]
  },
  {
   "cell_type": "code",
   "execution_count": 13,
   "metadata": {},
   "outputs": [
    {
     "data": {
      "text/plain": [
       "(12525, 170)"
      ]
     },
     "execution_count": 13,
     "metadata": {},
     "output_type": "execute_result"
    }
   ],
   "source": [
    "admission.shape"
   ]
  },
  {
   "cell_type": "markdown",
   "metadata": {},
   "source": [
    "# Encounters that have too many NA"
   ]
  },
  {
   "cell_type": "code",
   "execution_count": 14,
   "metadata": {},
   "outputs": [],
   "source": [
    "admission_NA = []\n",
    "for i in range(len(admission.index)) :\n",
    "    admission_NA.append(admission.iloc[i].isna().sum()/(len(admission.iloc[0])-1))\n",
    "#     print(\"rID\", baseline.iloc[i,0] , \" : \" ,  baseline.iloc[i].isnull().sum()/(len(baseline.iloc[0])-1))"
   ]
  },
  {
   "cell_type": "code",
   "execution_count": 15,
   "metadata": {},
   "outputs": [
    {
     "name": "stdout",
     "output_type": "stream",
     "text": [
      "More than 90.0 % NA:  0\n",
      "More than 80.0 % NA:  0\n",
      "More than 70.0 % NA:  0\n",
      "More than 60.0 % NA:  83\n",
      "More than 50.0 % NA:  957\n",
      "More than 40.0 % NA:  7933\n",
      "More than 30.0 % NA:  11839\n"
     ]
    }
   ],
   "source": [
    "for j in [0.9, 0.8, 0.7, 0.6, 0.5, 0.4, 0.3]:\n",
    "    temp_list = [i for i in admission_NA if i>j]\n",
    "    print('More than', j*100, \"% NA: \", len(temp_list))"
   ]
  },
  {
   "cell_type": "code",
   "execution_count": 16,
   "metadata": {
    "collapsed": true
   },
   "outputs": [
    {
     "data": {
      "text/plain": [
       "[120,\n",
       " 275,\n",
       " 424,\n",
       " 733,\n",
       " 795,\n",
       " 1262,\n",
       " 1336,\n",
       " 1343,\n",
       " 1348,\n",
       " 1542,\n",
       " 1553,\n",
       " 1693,\n",
       " 1797,\n",
       " 1836,\n",
       " 1931,\n",
       " 2037,\n",
       " 2310,\n",
       " 2701,\n",
       " 2796,\n",
       " 3105,\n",
       " 3130,\n",
       " 3287,\n",
       " 3447,\n",
       " 3671,\n",
       " 3696,\n",
       " 4010,\n",
       " 4071,\n",
       " 4072,\n",
       " 4292,\n",
       " 4314,\n",
       " 4356,\n",
       " 4478,\n",
       " 4521,\n",
       " 4555,\n",
       " 4623,\n",
       " 4627,\n",
       " 4823,\n",
       " 5140,\n",
       " 5393,\n",
       " 5527,\n",
       " 5783,\n",
       " 5885,\n",
       " 7246,\n",
       " 7769,\n",
       " 8132,\n",
       " 8227,\n",
       " 8229,\n",
       " 8605,\n",
       " 8652,\n",
       " 8768,\n",
       " 8769,\n",
       " 8799,\n",
       " 8854,\n",
       " 8937,\n",
       " 8956,\n",
       " 8968,\n",
       " 9229,\n",
       " 9280,\n",
       " 9462,\n",
       " 9476,\n",
       " 9574,\n",
       " 9586,\n",
       " 9648,\n",
       " 9718,\n",
       " 10024,\n",
       " 10045,\n",
       " 10091,\n",
       " 10471,\n",
       " 10485,\n",
       " 10574,\n",
       " 10672,\n",
       " 10755,\n",
       " 10949,\n",
       " 11246,\n",
       " 11378,\n",
       " 11438,\n",
       " 11984,\n",
       " 12031,\n",
       " 12200,\n",
       " 12208,\n",
       " 12276,\n",
       " 12308,\n",
       " 12315]"
      ]
     },
     "execution_count": 16,
     "metadata": {},
     "output_type": "execute_result"
    }
   ],
   "source": [
    "# encounters index for encounters who have more than 50% missing values\n",
    "[index for index,i in enumerate(admission_NA) if i>0.6]"
   ]
  },
  {
   "cell_type": "markdown",
   "metadata": {},
   "source": [
    "# Examine some attributes"
   ]
  },
  {
   "cell_type": "code",
   "execution_count": 34,
   "metadata": {},
   "outputs": [
    {
     "data": {
      "text/plain": [
       "I     12114\n",
       "S       389\n",
       "E        20\n",
       "DO        2\n",
       "Name: PATIENT_TYPE_CODE, dtype: int64"
      ]
     },
     "execution_count": 34,
     "metadata": {},
     "output_type": "execute_result"
    }
   ],
   "source": [
    "admission['PATIENT_TYPE_CODE'].value_counts()"
   ]
  },
  {
   "cell_type": "code",
   "execution_count": 17,
   "metadata": {},
   "outputs": [
    {
     "data": {
      "text/plain": [
       "I     12114\n",
       "S       389\n",
       "E        20\n",
       "DO        2\n",
       "Name: PATIENT_TYPE_CODE, dtype: int64"
      ]
     },
     "execution_count": 17,
     "metadata": {},
     "output_type": "execute_result"
    }
   ],
   "source": [
    "admission['PATIENT_TYPE_CODE'].value_counts()"
   ]
  },
  {
   "cell_type": "code",
   "execution_count": 18,
   "metadata": {},
   "outputs": [
    {
     "data": {
      "text/plain": [
       "I  INPATIENT        12114\n",
       "S  SAME DAY SERV      389\n",
       "EMERGENCY DEPT         20\n",
       "DO DIRECT OBS           2\n",
       "Name: PATIENT_TYPE_DESCRIPTION, dtype: int64"
      ]
     },
     "execution_count": 18,
     "metadata": {},
     "output_type": "execute_result"
    }
   ],
   "source": [
    "admission['PATIENT_TYPE_DESCRIPTION'].value_counts()"
   ]
  },
  {
   "cell_type": "code",
   "execution_count": 19,
   "metadata": {},
   "outputs": [
    {
     "data": {
      "text/plain": [
       "IP ACUTE            12114\n",
       "SAME DAY SERVICE      389\n",
       "EMERGENCY              20\n",
       "DIRECT OBS ADMIT        2\n",
       "Name: PATIENT_TYPE_GROUP, dtype: int64"
      ]
     },
     "execution_count": 19,
     "metadata": {},
     "output_type": "execute_result"
    }
   ],
   "source": [
    "admission['PATIENT_TYPE_GROUP'].value_counts()"
   ]
  },
  {
   "cell_type": "code",
   "execution_count": 20,
   "metadata": {},
   "outputs": [
    {
     "data": {
      "text/plain": [
       "MEDICAL REFERRAL      10876\n",
       "HOSPITAL TRANSFER      1377\n",
       "TRANS FRM SNF/ICF       181\n",
       "XFER OTH HLTH CR F       37\n",
       "CLINIC REFERRAL          34\n",
       "NON STAFF REFERRAL        9\n",
       "XFER FRM AC SAME H        6\n",
       "PGH CANCER INSTITU        5\n",
       "Name: ADMISSION_SOURCE, dtype: int64"
      ]
     },
     "execution_count": 20,
     "metadata": {},
     "output_type": "execute_result"
    }
   ],
   "source": [
    "admission['ADMISSION_SOURCE'].value_counts()"
   ]
  },
  {
   "cell_type": "code",
   "execution_count": 21,
   "metadata": {},
   "outputs": [
    {
     "data": {
      "text/plain": [
       "0    11509\n",
       "1     1016\n",
       "Name: RHC_FOUND, dtype: int64"
      ]
     },
     "execution_count": 21,
     "metadata": {},
     "output_type": "execute_result"
    }
   ],
   "source": [
    "admission['RHC_FOUND'].value_counts()"
   ]
  },
  {
   "cell_type": "code",
   "execution_count": 22,
   "metadata": {},
   "outputs": [
    {
     "data": {
      "text/plain": [
       "428.23      971\n",
       "428.0       925\n",
       "I13.0       675\n",
       "I50.23      518\n",
       "428.43      459\n",
       "           ... \n",
       "B44.9         1\n",
       "C64.1         1\n",
       "618.00        1\n",
       "T84.093A      1\n",
       "S12.500A      1\n",
       "Name: PRIMARY_DIAGNOSIS_CODE, Length: 1501, dtype: int64"
      ]
     },
     "execution_count": 22,
     "metadata": {},
     "output_type": "execute_result"
    }
   ],
   "source": [
    "admission['PRIMARY_DIAGNOSIS_CODE'].value_counts()"
   ]
  },
  {
   "cell_type": "code",
   "execution_count": 51,
   "metadata": {},
   "outputs": [
    {
     "data": {
      "text/plain": [
       "9     6488\n",
       "10    6037\n",
       "Name: PRIMARY_DIAGNOSIS_CODE_TYPE, dtype: int64"
      ]
     },
     "execution_count": 51,
     "metadata": {},
     "output_type": "execute_result"
    }
   ],
   "source": [
    "admission['PRIMARY_DIAGNOSIS_CODE_TYPE'].value_counts()"
   ]
  },
  {
   "cell_type": "code",
   "execution_count": 52,
   "metadata": {},
   "outputs": [
    {
     "data": {
      "text/plain": [
       "AC-CHR SYSTOL HRT FAIL                                         971\n",
       "CONGESTVE HRT FAILUR NOS                                       925\n",
       "HYP HRT & CHR KDNY DIS W HRT FAIL AND STG 1-4/UNSP CHR KDNY    675\n",
       "ACUTE ON CHRONIC SYSTOLIC (CONGESTIVE) HEART FAILURE           518\n",
       "AC-CHR COMB S/D HRT FAIL                                       459\n",
       "                                                              ... \n",
       "BENIGN NEO PARATHYROID                                           1\n",
       "CHRONIC FOOT ULCER NEC                                           1\n",
       "SEPSIS DUE TO STREPTOCOCCUS, GROUP A                             1\n",
       "CHR DUODEN ULC HEM/PERF                                          1\n",
       "TOXIC EFFECT OF UNSP SUBSTANCE, ACCIDENTAL, INIT                 1\n",
       "Name: PRIMARY_DIAGNOSIS_DESCRIPTION, Length: 1478, dtype: int64"
      ]
     },
     "execution_count": 52,
     "metadata": {},
     "output_type": "execute_result"
    }
   ],
   "source": [
    "admission['PRIMARY_DIAGNOSIS_DESCRIPTION'].value_counts()"
   ]
  },
  {
   "cell_type": "markdown",
   "metadata": {},
   "source": [
    "# drop some unnecessary attributes"
   ]
  },
  {
   "cell_type": "code",
   "execution_count": 23,
   "metadata": {},
   "outputs": [],
   "source": [
    "drop_attri = ['FINANCIAL_CLASS_CODE','FINANCIAL_CLASS','HOSP_ROLLUP_GROUPING1',\n",
    "             'HOSP_ROLLUP_GROUPING2','HOSPITAL','PATIENT_TYPE_CODE',\n",
    "             'PATIENT_TYPE_GROUP']"
   ]
  },
  {
   "cell_type": "code",
   "execution_count": 24,
   "metadata": {},
   "outputs": [],
   "source": [
    "admission_trunc = admission.drop(columns=drop_attri)"
   ]
  },
  {
   "cell_type": "markdown",
   "metadata": {},
   "source": [
    "# Determine NA tolerance"
   ]
  },
  {
   "cell_type": "code",
   "execution_count": 25,
   "metadata": {},
   "outputs": [],
   "source": [
    "cutoffs = np.arange(11,41,1)/100"
   ]
  },
  {
   "cell_type": "code",
   "execution_count": 26,
   "metadata": {},
   "outputs": [],
   "source": [
    "cutoffs_broad = np.arange(1,51,1)/100"
   ]
  },
  {
   "cell_type": "code",
   "execution_count": 27,
   "metadata": {},
   "outputs": [],
   "source": [
    "admission_na_series = admission_trunc.isna().sum()/admission_trunc.shape[0]"
   ]
  },
  {
   "cell_type": "code",
   "execution_count": 28,
   "metadata": {},
   "outputs": [],
   "source": [
    "num_attri_remain = []\n",
    "for i in cutoffs:\n",
    "    num_attri_remain.append(admission_trunc.shape[1]-\n",
    "                            len(admission_na_series[admission_na_series>=i]))"
   ]
  },
  {
   "cell_type": "code",
   "execution_count": 29,
   "metadata": {},
   "outputs": [],
   "source": [
    "num_attri_remain_broad = []\n",
    "for i in cutoffs_broad:\n",
    "    num_attri_remain_broad.append(admission_trunc.shape[1]-\n",
    "                                  len(admission_na_series[admission_na_series>=i]))"
   ]
  },
  {
   "cell_type": "code",
   "execution_count": 30,
   "metadata": {},
   "outputs": [
    {
     "data": {
      "image/png": "[encoded data removed]",
      "text/plain": [
       "<Figure size 432x288 with 1 Axes>"
      ]
     },
     "metadata": {
      "needs_background": "light"
     },
     "output_type": "display_data"
    }
   ],
   "source": [
    "plt.plot(cutoffs, num_attri_remain,'s-',color = 'g',label=\"NA proportion\")\n",
    "plt.xlabel(\"NA tolerance\")\n",
    "plt.ylabel(\"# of attributes remain\")\n",
    "plt.grid()\n",
    "plt.savefig('/Users/jinchenxie/Desktop/HF_Research/Plots/admission_NA_cutoffs')\n",
    "plt.show()"
   ]
  },
  {
   "cell_type": "code",
   "execution_count": 31,
   "metadata": {},
   "outputs": [
    {
     "data": {
      "image/png": "[encoded data removed]",
      "text/plain": [
       "<Figure size 432x288 with 1 Axes>"
      ]
     },
     "metadata": {
      "needs_background": "light"
     },
     "output_type": "display_data"
    }
   ],
   "source": [
    "plt.plot(cutoffs_broad, num_attri_remain_broad,'s-',color = 'g',label=\"NA proportion\")\n",
    "plt.xlabel(\"NA tolerance\")\n",
    "plt.ylabel(\"# of attributes remain\")\n",
    "plt.grid()\n",
    "plt.savefig('/Users/jinchenxie/Desktop/HF_Research/Plots/broader_admission_NA_cutoffs')\n",
    "plt.show()"
   ]
  },
  {
   "cell_type": "code",
   "execution_count": 32,
   "metadata": {},
   "outputs": [],
   "source": [
    "cutoffs = np.arange(18,30)/100"
   ]
  },
  {
   "cell_type": "code",
   "execution_count": 33,
   "metadata": {},
   "outputs": [
    {
     "name": "stdout",
     "output_type": "stream",
     "text": [
      "0.18 to 0.19 : []\n",
      "0.19 to 0.2 : ['HOSP_INR']\n",
      "0.2 to 0.21 : ['READMISSION_DAYS']\n",
      "0.21 to 0.22 : []\n",
      "0.22 to 0.23 : []\n",
      "0.23 to 0.24 : []\n",
      "0.24 to 0.25 : []\n",
      "0.25 to 0.26 : []\n",
      "0.26 to 0.27 : []\n",
      "0.27 to 0.28 : []\n",
      "0.28 to 0.29 : []\n"
     ]
    }
   ],
   "source": [
    "for i in range(len(cutoffs)-1):\n",
    "    na_attri_s = admission_na_series[admission_na_series>=cutoffs[i]].index\n",
    "    na_attri_l = admission_na_series[admission_na_series>=cutoffs[i+1]].index\n",
    "    na_s_l = [i for i in na_attri_s if i not in na_attri_l]\n",
    "    print(cutoffs[i], 'to', cutoffs[i+1],':', na_s_l)"
   ]
  },
  {
   "cell_type": "code",
   "execution_count": 34,
   "metadata": {},
   "outputs": [],
   "source": [
    "cutoffs = [0.19, 0.2, 0.21, 0.32, 0.33, 0.42, 0.43,0.44, 0.45,0.46]"
   ]
  },
  {
   "cell_type": "code",
   "execution_count": 35,
   "metadata": {},
   "outputs": [
    {
     "name": "stdout",
     "output_type": "stream",
     "text": [
      "0.19 to 0.2 : ['HOSP_INR']\n",
      "0.2 to 0.21 : ['READMISSION_DAYS']\n",
      "0.21 to 0.32 : []\n",
      "0.32 to 0.33 : ['HOSP_BILI']\n",
      "0.33 to 0.42 : []\n",
      "0.42 to 0.43 : ['HOSPITAL_MELD', 'MELD_EST_MORTALITY']\n",
      "0.43 to 0.44 : ['INR', 'INR_DAYS']\n",
      "0.44 to 0.45 : []\n",
      "0.45 to 0.46 : ['ALBUMIN', 'ALBUMIN_DAYS']\n"
     ]
    }
   ],
   "source": [
    "for i in range(len(cutoffs)-1):\n",
    "    na_attri_s = admission_na_series[admission_na_series>=cutoffs[i]].index\n",
    "    na_attri_l = admission_na_series[admission_na_series>=cutoffs[i+1]].index\n",
    "    na_s_l = [i for i in na_attri_s if i not in na_attri_l]\n",
    "    print(cutoffs[i], 'to', cutoffs[i+1],':', na_s_l)"
   ]
  },
  {
   "cell_type": "markdown",
   "metadata": {},
   "source": [
    "# Remove attributes with >50% NA"
   ]
  },
  {
   "cell_type": "code",
   "execution_count": 36,
   "metadata": {},
   "outputs": [],
   "source": [
    "drop_attris_50 = list(admission_na_series[admission_na_series>=0.50].index)"
   ]
  },
  {
   "cell_type": "code",
   "execution_count": 37,
   "metadata": {},
   "outputs": [
    {
     "data": {
      "text/plain": [
       "74"
      ]
     },
     "execution_count": 37,
     "metadata": {},
     "output_type": "execute_result"
    }
   ],
   "source": [
    "len(drop_attris_50)"
   ]
  },
  {
   "cell_type": "code",
   "execution_count": 39,
   "metadata": {},
   "outputs": [
    {
     "data": {
      "text/plain": [
       "['DC_MILRINONE',\n",
       " 'DC_DOBUTAMINE',\n",
       " 'DC_DOPAMINE',\n",
       " 'LVEF',\n",
       " 'CLOSEST_LVEF_DAYS',\n",
       " 'RV_FUNC',\n",
       " 'CLOSEST_RV_FUNC_DAYS',\n",
       " 'AR',\n",
       " 'CLOSEST_AR_DAYS',\n",
       " 'MR',\n",
       " 'CLOSEST_MR_DAYS',\n",
       " 'PR',\n",
       " 'CLOSEST_PR_DAYS',\n",
       " 'TR',\n",
       " 'CLOSEST_TR_DAYS',\n",
       " 'AS',\n",
       " 'CLOSEST_AS_DAYS',\n",
       " 'MS',\n",
       " 'CLOSEST_MS_DAYS',\n",
       " 'PS',\n",
       " 'CLOSEST_PS_DAYS',\n",
       " 'TS',\n",
       " 'CLOSEST_TS_DAYS',\n",
       " 'CABG_DAYS',\n",
       " 'TAVR_DAYS',\n",
       " 'SAVR_MECH_DAYS',\n",
       " 'SAVR_BIO_DAYS',\n",
       " 'SURG_AO_GRFT_DAYS',\n",
       " 'ENDO_AO_GRFT_DAYS',\n",
       " 'AO_VLV_REPAIR_DAYS',\n",
       " 'SMVR_DAYS',\n",
       " 'SPVR_DAYS',\n",
       " 'STVR_DAYS',\n",
       " 'POST_VAD_DAYS',\n",
       " 'POST_TRANSPLANT_DAYS',\n",
       " 'HEMOGLOBIN_A1C',\n",
       " 'HEMOGLOBIN_A1C_DAYS',\n",
       " 'CHOLESTEROL',\n",
       " 'CHOLESTEROL_DAYS',\n",
       " 'LDL',\n",
       " 'LDL_DAYS',\n",
       " 'HDL',\n",
       " 'HDL_DAYS',\n",
       " 'TRIGLYCERIDE',\n",
       " 'TRIGLYCERIDE_DAYS',\n",
       " 'PREALBUMIN',\n",
       " 'PREALBUMIN_DAYS',\n",
       " 'BUN',\n",
       " 'BUN_DAYS',\n",
       " 'BNP',\n",
       " 'BNP_DAYS',\n",
       " 'BILI',\n",
       " 'BILI_DAYS',\n",
       " 'RA_MEAN_PRESSURE',\n",
       " 'RA_MEAN_PRESSURE_DAYS',\n",
       " 'THERMAL_CARDIAC_INDEX',\n",
       " 'THERMAL_CARDIAC_INDEX_DAYS',\n",
       " 'FICK_CARDIAC_INDEX',\n",
       " 'FICK_CARDIAC_INDEX_DAYS',\n",
       " 'PA_SATURATION',\n",
       " 'PA_SATURATION_DAYS',\n",
       " 'WEDGE_MEAN_PRESSURE',\n",
       " 'WEDGE_MEAN_PRESSURE_DAYS',\n",
       " 'PULM_ART_SYS_PRESSURE',\n",
       " 'PULM_ART_SYS_PRESSURE_DAYS',\n",
       " 'PCI_DAYS',\n",
       " 'IMPELLA_DAYS',\n",
       " 'IABP_DAYS',\n",
       " 'ECMO_DAYS',\n",
       " 'ABLATION_DAYS',\n",
       " 'PACEMAKER_IMPLANT_DAYS',\n",
       " 'ICD_IMPLANT_DAYS',\n",
       " 'BIV_ICD_IMPLANT_DAYS',\n",
       " 'CRT_IMPLANT_DAYS']"
      ]
     },
     "execution_count": 39,
     "metadata": {},
     "output_type": "execute_result"
    }
   ],
   "source": [
    "drop_attris_50"
   ]
  },
  {
   "cell_type": "code",
   "execution_count": 40,
   "metadata": {},
   "outputs": [],
   "source": [
    "procedure_days = ['CABG_DAYS',\n",
    " 'TAVR_DAYS',\n",
    " 'SAVR_MECH_DAYS',\n",
    " 'SAVR_BIO_DAYS',\n",
    " 'SURG_AO_GRFT_DAYS',\n",
    " 'ENDO_AO_GRFT_DAYS',\n",
    " 'AO_VLV_REPAIR_DAYS',\n",
    " 'SMVR_DAYS',\n",
    " 'SPVR_DAYS',\n",
    " 'STVR_DAYS',\n",
    " 'POST_VAD_DAYS',\n",
    " 'POST_TRANSPLANT_DAYS',\n",
    " 'PCI_DAYS',\n",
    " 'IMPELLA_DAYS',\n",
    " 'IABP_DAYS',\n",
    " 'ECMO_DAYS',\n",
    " 'ABLATION_DAYS',\n",
    " 'PACEMAKER_IMPLANT_DAYS',\n",
    " 'ICD_IMPLANT_DAYS',\n",
    " 'BIV_ICD_IMPLANT_DAYS',\n",
    " 'CRT_IMPLANT_DAYS' ]"
   ]
  },
  {
   "cell_type": "code",
   "execution_count": 41,
   "metadata": {},
   "outputs": [],
   "source": [
    "for i in procedure_days:\n",
    "    drop_attris_50.remove(i)"
   ]
  },
  {
   "cell_type": "code",
   "execution_count": 42,
   "metadata": {},
   "outputs": [
    {
     "data": {
      "text/plain": [
       "53"
      ]
     },
     "execution_count": 42,
     "metadata": {},
     "output_type": "execute_result"
    }
   ],
   "source": [
    "len(drop_attris_50)"
   ]
  },
  {
   "cell_type": "code",
   "execution_count": 43,
   "metadata": {},
   "outputs": [],
   "source": [
    "admission_trunc.drop(columns = drop_attris_50, inplace=True)"
   ]
  },
  {
   "cell_type": "code",
   "execution_count": 44,
   "metadata": {},
   "outputs": [
    {
     "data": {
      "text/plain": [
       "(12525, 110)"
      ]
     },
     "execution_count": 44,
     "metadata": {},
     "output_type": "execute_result"
    }
   ],
   "source": [
    "admission_trunc.shape"
   ]
  },
  {
   "cell_type": "code",
   "execution_count": 45,
   "metadata": {},
   "outputs": [],
   "source": [
    "admission_na_trunc_series = admission_trunc.isna().sum()/admission_trunc.shape[0]"
   ]
  },
  {
   "cell_type": "markdown",
   "metadata": {},
   "source": [
    "# Drop attributes >20% & >30%"
   ]
  },
  {
   "cell_type": "code",
   "execution_count": 52,
   "metadata": {},
   "outputs": [],
   "source": [
    "drop_attris_20 = list(admission_na_trunc_series[(admission_na_trunc_series>0.20)\n",
    "                                               &(admission_na_trunc_series<0.50)].index)"
   ]
  },
  {
   "cell_type": "code",
   "execution_count": 53,
   "metadata": {},
   "outputs": [
    {
     "data": {
      "text/plain": [
       "['READMISSION_DAYS',\n",
       " 'HOSP_BILI',\n",
       " 'ALBUMIN',\n",
       " 'ALBUMIN_DAYS',\n",
       " 'INR',\n",
       " 'INR_DAYS',\n",
       " 'HOSPITAL_MELD',\n",
       " 'MELD_EST_MORTALITY']"
      ]
     },
     "execution_count": 53,
     "metadata": {},
     "output_type": "execute_result"
    }
   ],
   "source": [
    "drop_attris_20"
   ]
  },
  {
   "cell_type": "code",
   "execution_count": 54,
   "metadata": {},
   "outputs": [
    {
     "data": {
      "text/plain": [
       "'READMISSION_DAYS'"
      ]
     },
     "execution_count": 54,
     "metadata": {},
     "output_type": "execute_result"
    }
   ],
   "source": [
    "drop_attris_20.pop(0)"
   ]
  },
  {
   "cell_type": "code",
   "execution_count": 55,
   "metadata": {},
   "outputs": [
    {
     "data": {
      "text/plain": [
       "['HOSP_BILI',\n",
       " 'ALBUMIN',\n",
       " 'ALBUMIN_DAYS',\n",
       " 'INR',\n",
       " 'INR_DAYS',\n",
       " 'HOSPITAL_MELD',\n",
       " 'MELD_EST_MORTALITY']"
      ]
     },
     "execution_count": 55,
     "metadata": {},
     "output_type": "execute_result"
    }
   ],
   "source": [
    "drop_attris_20"
   ]
  },
  {
   "cell_type": "code",
   "execution_count": 56,
   "metadata": {},
   "outputs": [],
   "source": [
    "drop_attris_30 = list(admission_na_trunc_series[(admission_na_trunc_series>=0.30)\n",
    "                                               &(admission_na_trunc_series<0.50)].index)"
   ]
  },
  {
   "cell_type": "code",
   "execution_count": 57,
   "metadata": {},
   "outputs": [
    {
     "data": {
      "text/plain": [
       "['HOSP_BILI',\n",
       " 'ALBUMIN',\n",
       " 'ALBUMIN_DAYS',\n",
       " 'INR',\n",
       " 'INR_DAYS',\n",
       " 'HOSPITAL_MELD',\n",
       " 'MELD_EST_MORTALITY']"
      ]
     },
     "execution_count": 57,
     "metadata": {},
     "output_type": "execute_result"
    }
   ],
   "source": [
    "drop_attris_30"
   ]
  },
  {
   "cell_type": "code",
   "execution_count": 58,
   "metadata": {},
   "outputs": [],
   "source": [
    "admission_trunc.drop(columns = drop_attris_30, inplace=True)"
   ]
  },
  {
   "cell_type": "code",
   "execution_count": 59,
   "metadata": {},
   "outputs": [
    {
     "data": {
      "text/plain": [
       "(12525, 103)"
      ]
     },
     "execution_count": 59,
     "metadata": {},
     "output_type": "execute_result"
    }
   ],
   "source": [
    "admission_trunc.shape"
   ]
  },
  {
   "cell_type": "code",
   "execution_count": 60,
   "metadata": {},
   "outputs": [
    {
     "data": {
      "text/plain": [
       "81"
      ]
     },
     "execution_count": 60,
     "metadata": {},
     "output_type": "execute_result"
    }
   ],
   "source": [
    "len(admission_na_trunc_series[admission_na_trunc_series<=0.20].index)"
   ]
  },
  {
   "cell_type": "markdown",
   "metadata": {},
   "source": [
    "# Save the filtered admission dataset"
   ]
  },
  {
   "cell_type": "code",
   "execution_count": 61,
   "metadata": {},
   "outputs": [
    {
     "name": "stdout",
     "output_type": "stream",
     "text": [
      "/Users/jinchenxie/Desktop/datasets/processed\n"
     ]
    }
   ],
   "source": [
    "%cd ~/desktop/datasets/processed"
   ]
  },
  {
   "cell_type": "code",
   "execution_count": 63,
   "metadata": {},
   "outputs": [
    {
     "name": "stdout",
     "output_type": "stream",
     "text": [
      "DataFrame is written successfully to Excel File.\n"
     ]
    }
   ],
   "source": [
    "writer = pd.ExcelWriter('Filtered Attributes Admission.xlsx')\n",
    "admission_trunc.to_excel(writer, 'NA30_filtered_admission', index=False)\n",
    "writer.save()\n",
    "print('DataFrame is written successfully to Excel File.')"
   ]
  },
  {
   "cell_type": "code",
   "execution_count": null,
   "metadata": {},
   "outputs": [],
   "source": []
  }
 ],
 "metadata": {
  "kernelspec": {
   "display_name": "Python 3",
   "language": "python",
   "name": "python3"
  },
  "language_info": {
   "codemirror_mode": {
    "name": "ipython",
    "version": 3
   },
   "file_extension": ".py",
   "mimetype": "text/x-python",
   "name": "python",
   "nbconvert_exporter": "python",
   "pygments_lexer": "ipython3",
   "version": "3.6.9"
  },
  "toc": {
   "base_numbering": 1,
   "nav_menu": {},
   "number_sections": true,
   "sideBar": true,
   "skip_h1_title": false,
   "title_cell": "Table of Contents",
   "title_sidebar": "Contents",
   "toc_cell": true,
   "toc_position": {},
   "toc_section_display": true,
   "toc_window_display": true
  }
 },
 "nbformat": 4,
 "nbformat_minor": 4
}
