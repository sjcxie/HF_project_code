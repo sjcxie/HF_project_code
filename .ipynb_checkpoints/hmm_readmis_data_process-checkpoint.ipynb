{
 "cells": [
  {
   "cell_type": "markdown",
   "metadata": {
    "toc": true
   },
   "source": [
    "<h1>Table of Contents<span class=\"tocSkip\"></span></h1>\n",
    "<div class=\"toc\"><ul class=\"toc-item\"><li><span><a href=\"#Import-Data\" data-toc-modified-id=\"Import-Data-1\"><span class=\"toc-item-num\">1&nbsp;&nbsp;</span>Import Data</a></span></li><li><span><a href=\"#Manually-coded-abnormal-patients-records\" data-toc-modified-id=\"Manually-coded-abnormal-patients-records-2\"><span class=\"toc-item-num\">2&nbsp;&nbsp;</span>Manually coded abnormal patients records</a></span></li><li><span><a href=\"#save-the-removed-last-admission-dataset\" data-toc-modified-id=\"save-the-removed-last-admission-dataset-3\"><span class=\"toc-item-num\">3&nbsp;&nbsp;</span>save the removed last admission dataset</a></span><ul class=\"toc-item\"><li><span><a href=\"#baseline\" data-toc-modified-id=\"baseline-3.1\"><span class=\"toc-item-num\">3.1&nbsp;&nbsp;</span>baseline</a></span></li></ul></li></ul></div>"
   ]
  },
  {
   "cell_type": "code",
   "execution_count": 2,
   "metadata": {},
   "outputs": [],
   "source": [
    "import pandas as pd\n",
    "import numpy as np\n",
    "from matplotlib import pyplot as plt\n",
    "\n",
    "pd.options.display.max_rows = 400\n",
    "pd.options.display.max_columns = 50"
   ]
  },
  {
   "cell_type": "markdown",
   "metadata": {},
   "source": [
    "# Import Data"
   ]
  },
  {
   "cell_type": "code",
   "execution_count": 3,
   "metadata": {},
   "outputs": [
    {
     "name": "stdout",
     "output_type": "stream",
     "text": [
      "/Users/jinchenxie/Desktop/datasets/processed\n"
     ]
    }
   ],
   "source": [
    "%cd ~/desktop/datasets/processed\n",
    "baseline = pd.read_excel('Filtered Attributes Baseline.xlsx', 'updated_folup_NA30_baseline')\n",
    "admission = pd.read_excel('Filtered Attributes Admission.xlsx', 'NA2030_filtered_admission')"
   ]
  },
  {
   "cell_type": "code",
   "execution_count": 66,
   "metadata": {},
   "outputs": [],
   "source": [
    "combined_data = pd.read_excel('Filtered Combined Dataset.xlsx','Filtered_combined')"
   ]
  },
  {
   "cell_type": "markdown",
   "metadata": {},
   "source": [
    "# Manually coded abnormal patients records"
   ]
  },
  {
   "cell_type": "code",
   "execution_count": 4,
   "metadata": {},
   "outputs": [
    {
     "name": "stderr",
     "output_type": "stream",
     "text": [
      "/Users/jinchenxie/miniconda3/envs/research_env/lib/python3.6/site-packages/ipykernel_launcher.py:2: FutureWarning: set_value is deprecated and will be removed in a future release. Please use .at[] or .iat[] accessors instead\n",
      "  \n",
      "/Users/jinchenxie/miniconda3/envs/research_env/lib/python3.6/site-packages/ipykernel_launcher.py:4: FutureWarning: set_value is deprecated and will be removed in a future release. Please use .at[] or .iat[] accessors instead\n",
      "  after removing the cwd from sys.path.\n"
     ]
    }
   ],
   "source": [
    "admission = admission.set_value(admission[admission['rID']==167].index,'admission_times',\n",
    "                                 [2,1,3])\n",
    "admission = admission.set_value(admission[admission['rID']==167].index,'last_adm',\n",
    "                                 [0,0,1])"
   ]
  },
  {
   "cell_type": "code",
   "execution_count": 5,
   "metadata": {},
   "outputs": [
    {
     "name": "stderr",
     "output_type": "stream",
     "text": [
      "/Users/jinchenxie/miniconda3/envs/research_env/lib/python3.6/site-packages/ipykernel_launcher.py:2: FutureWarning: set_value is deprecated and will be removed in a future release. Please use .at[] or .iat[] accessors instead\n",
      "  \n",
      "/Users/jinchenxie/miniconda3/envs/research_env/lib/python3.6/site-packages/ipykernel_launcher.py:4: FutureWarning: set_value is deprecated and will be removed in a future release. Please use .at[] or .iat[] accessors instead\n",
      "  after removing the cwd from sys.path.\n"
     ]
    }
   ],
   "source": [
    "admission = admission.set_value(admission[admission['rID']==480].index,'admission_times',\n",
    "                                 [5,1,2,3,4])\n",
    "admission = admission.set_value(admission[admission['rID']==480].index,'last_adm',\n",
    "                                 [1,0,0,0,0])"
   ]
  },
  {
   "cell_type": "code",
   "execution_count": 6,
   "metadata": {},
   "outputs": [
    {
     "name": "stderr",
     "output_type": "stream",
     "text": [
      "/Users/jinchenxie/miniconda3/envs/research_env/lib/python3.6/site-packages/ipykernel_launcher.py:2: FutureWarning: set_value is deprecated and will be removed in a future release. Please use .at[] or .iat[] accessors instead\n",
      "  \n",
      "/Users/jinchenxie/miniconda3/envs/research_env/lib/python3.6/site-packages/ipykernel_launcher.py:4: FutureWarning: set_value is deprecated and will be removed in a future release. Please use .at[] or .iat[] accessors instead\n",
      "  after removing the cwd from sys.path.\n"
     ]
    }
   ],
   "source": [
    "admission = admission.set_value(admission[admission['rID']==718].index,'admission_times',\n",
    "                                 [15,1,2,3,4,5,6,7,8,9,10,11,12,13,14])\n",
    "admission = admission.set_value(admission[admission['rID']==718].index,'last_adm',\n",
    "                                 [1,0,0,0,0,0,0,0,0,0,0,0,0,0,0])"
   ]
  },
  {
   "cell_type": "code",
   "execution_count": 7,
   "metadata": {},
   "outputs": [
    {
     "name": "stderr",
     "output_type": "stream",
     "text": [
      "/Users/jinchenxie/miniconda3/envs/research_env/lib/python3.6/site-packages/ipykernel_launcher.py:2: FutureWarning: set_value is deprecated and will be removed in a future release. Please use .at[] or .iat[] accessors instead\n",
      "  \n",
      "/Users/jinchenxie/miniconda3/envs/research_env/lib/python3.6/site-packages/ipykernel_launcher.py:4: FutureWarning: set_value is deprecated and will be removed in a future release. Please use .at[] or .iat[] accessors instead\n",
      "  after removing the cwd from sys.path.\n"
     ]
    }
   ],
   "source": [
    "admission = admission.set_value(admission[admission['rID']==1426].index,'admission_times',\n",
    "                                 [7,1,2,3,4,5,6])\n",
    "admission = admission.set_value(admission[admission['rID']==1426].index,'last_adm',\n",
    "                                 [1,0,0,0,0,0,0])"
   ]
  },
  {
   "cell_type": "code",
   "execution_count": 8,
   "metadata": {},
   "outputs": [
    {
     "name": "stderr",
     "output_type": "stream",
     "text": [
      "/Users/jinchenxie/miniconda3/envs/research_env/lib/python3.6/site-packages/ipykernel_launcher.py:2: FutureWarning: set_value is deprecated and will be removed in a future release. Please use .at[] or .iat[] accessors instead\n",
      "  \n"
     ]
    }
   ],
   "source": [
    "admission = admission.set_value(admission[admission['rID']==1499].index,'admission_times',\n",
    "                                 [2,1,3,4,5,6,7])"
   ]
  },
  {
   "cell_type": "code",
   "execution_count": 9,
   "metadata": {},
   "outputs": [
    {
     "name": "stderr",
     "output_type": "stream",
     "text": [
      "/Users/jinchenxie/miniconda3/envs/research_env/lib/python3.6/site-packages/ipykernel_launcher.py:2: FutureWarning: set_value is deprecated and will be removed in a future release. Please use .at[] or .iat[] accessors instead\n",
      "  \n",
      "/Users/jinchenxie/miniconda3/envs/research_env/lib/python3.6/site-packages/ipykernel_launcher.py:4: FutureWarning: set_value is deprecated and will be removed in a future release. Please use .at[] or .iat[] accessors instead\n",
      "  after removing the cwd from sys.path.\n"
     ]
    }
   ],
   "source": [
    "admission = admission.set_value(admission[admission['rID']==1942].index,'admission_times',\n",
    "                                 [3,1,2])\n",
    "admission = admission.set_value(admission[admission['rID']==1942].index,'last_adm',\n",
    "                                 [1,0,0])"
   ]
  },
  {
   "cell_type": "code",
   "execution_count": 10,
   "metadata": {},
   "outputs": [
    {
     "name": "stderr",
     "output_type": "stream",
     "text": [
      "/Users/jinchenxie/miniconda3/envs/research_env/lib/python3.6/site-packages/ipykernel_launcher.py:2: FutureWarning: set_value is deprecated and will be removed in a future release. Please use .at[] or .iat[] accessors instead\n",
      "  \n",
      "/Users/jinchenxie/miniconda3/envs/research_env/lib/python3.6/site-packages/ipykernel_launcher.py:4: FutureWarning: set_value is deprecated and will be removed in a future release. Please use .at[] or .iat[] accessors instead\n",
      "  after removing the cwd from sys.path.\n"
     ]
    }
   ],
   "source": [
    "admission = admission.set_value(admission[admission['rID']==2916].index,'admission_times',\n",
    "                                 [8,1,2,3,4,5,6,7])\n",
    "admission = admission.set_value(admission[admission['rID']==2916].index,'last_adm',\n",
    "                                 [1,0,0,0,0,0,0,0])"
   ]
  },
  {
   "cell_type": "code",
   "execution_count": 11,
   "metadata": {},
   "outputs": [
    {
     "name": "stderr",
     "output_type": "stream",
     "text": [
      "/Users/jinchenxie/miniconda3/envs/research_env/lib/python3.6/site-packages/ipykernel_launcher.py:2: FutureWarning: set_value is deprecated and will be removed in a future release. Please use .at[] or .iat[] accessors instead\n",
      "  \n",
      "/Users/jinchenxie/miniconda3/envs/research_env/lib/python3.6/site-packages/ipykernel_launcher.py:4: FutureWarning: set_value is deprecated and will be removed in a future release. Please use .at[] or .iat[] accessors instead\n",
      "  after removing the cwd from sys.path.\n"
     ]
    }
   ],
   "source": [
    "admission = admission.set_value(admission[admission['rID']==3305].index,'admission_times',\n",
    "                                 [6,1,2,3,4,5])\n",
    "admission = admission.set_value(admission[admission['rID']==3305].index,'last_adm',\n",
    "                                 [1,0,0,0,0,0])"
   ]
  },
  {
   "cell_type": "code",
   "execution_count": 12,
   "metadata": {},
   "outputs": [
    {
     "name": "stderr",
     "output_type": "stream",
     "text": [
      "/Users/jinchenxie/miniconda3/envs/research_env/lib/python3.6/site-packages/ipykernel_launcher.py:2: FutureWarning: set_value is deprecated and will be removed in a future release. Please use .at[] or .iat[] accessors instead\n",
      "  \n"
     ]
    }
   ],
   "source": [
    "admission = admission.set_value(admission[admission['rID']==4894].index,'admission_times',\n",
    "                                 [3,1,2,4,5])"
   ]
  },
  {
   "cell_type": "code",
   "execution_count": 13,
   "metadata": {},
   "outputs": [
    {
     "name": "stderr",
     "output_type": "stream",
     "text": [
      "/Users/jinchenxie/miniconda3/envs/research_env/lib/python3.6/site-packages/ipykernel_launcher.py:2: FutureWarning: set_value is deprecated and will be removed in a future release. Please use .at[] or .iat[] accessors instead\n",
      "  \n"
     ]
    }
   ],
   "source": [
    "admission = admission.set_value(admission[admission['rID']==7651].index,'admission_times',\n",
    "                                 [2,1,3])"
   ]
  },
  {
   "cell_type": "code",
   "execution_count": 14,
   "metadata": {},
   "outputs": [
    {
     "name": "stderr",
     "output_type": "stream",
     "text": [
      "/Users/jinchenxie/miniconda3/envs/research_env/lib/python3.6/site-packages/ipykernel_launcher.py:2: FutureWarning: set_value is deprecated and will be removed in a future release. Please use .at[] or .iat[] accessors instead\n",
      "  \n",
      "/Users/jinchenxie/miniconda3/envs/research_env/lib/python3.6/site-packages/ipykernel_launcher.py:4: FutureWarning: set_value is deprecated and will be removed in a future release. Please use .at[] or .iat[] accessors instead\n",
      "  after removing the cwd from sys.path.\n"
     ]
    }
   ],
   "source": [
    "admission = admission.set_value(admission[admission['rID']==8405].index,'admission_times',\n",
    "                                 [15,1,2,3,4,5,6,7,8,9,10,11,12,13,14])\n",
    "admission = admission.set_value(admission[admission['rID']==8405].index,'last_adm',\n",
    "                                 [1,0,0,0,0,0,0,0,0,0,0,0,0,0,0])"
   ]
  },
  {
   "cell_type": "code",
   "execution_count": 15,
   "metadata": {},
   "outputs": [
    {
     "name": "stderr",
     "output_type": "stream",
     "text": [
      "/Users/jinchenxie/miniconda3/envs/research_env/lib/python3.6/site-packages/ipykernel_launcher.py:2: FutureWarning: set_value is deprecated and will be removed in a future release. Please use .at[] or .iat[] accessors instead\n",
      "  \n",
      "/Users/jinchenxie/miniconda3/envs/research_env/lib/python3.6/site-packages/ipykernel_launcher.py:4: FutureWarning: set_value is deprecated and will be removed in a future release. Please use .at[] or .iat[] accessors instead\n",
      "  after removing the cwd from sys.path.\n"
     ]
    }
   ],
   "source": [
    "admission = admission.set_value(admission[admission['rID']==234].index,'admission_times',\n",
    "                                 [2,1])\n",
    "admission = admission.set_value(admission[admission['rID']==234].index,'last_adm',\n",
    "                                 [1,0])"
   ]
  },
  {
   "cell_type": "code",
   "execution_count": 16,
   "metadata": {},
   "outputs": [],
   "source": [
    "attris_extracted = admission[['admission_times', 'last_adm',\n",
    "       'readmission_days_btw', 'readmit_30_label', 'inhospital_ctb_label',\n",
    "       'ctb_label']]"
   ]
  },
  {
   "cell_type": "code",
   "execution_count": 85,
   "metadata": {},
   "outputs": [],
   "source": [
    "combined_update = pd.concat([combined_data, attris_extracted], axis=1)"
   ]
  },
  {
   "cell_type": "markdown",
   "metadata": {},
   "source": [
    "# save the removed last admission dataset"
   ]
  },
  {
   "cell_type": "markdown",
   "metadata": {},
   "source": [
    "_______________________\n",
    "Remove the last admission of every patients, the dataset is saved into new dataset \"hmm_readmit_data_1\""
   ]
  },
  {
   "cell_type": "code",
   "execution_count": 18,
   "metadata": {},
   "outputs": [
    {
     "name": "stdout",
     "output_type": "stream",
     "text": [
      "/Users/jinchenxie/Desktop/datasets/processed\n",
      "DataFrame is written successfully to Excel File.\n"
     ]
    }
   ],
   "source": [
    "%cd ~/desktop/datasets/processed\n",
    "writer = pd.ExcelWriter('Data_v1.xlsx')\n",
    "admission.to_excel(writer,'admission_all')\n",
    "writer.save()\n",
    "print('DataFrame is written successfully to Excel File.')"
   ]
  },
  {
   "cell_type": "code",
   "execution_count": 86,
   "metadata": {},
   "outputs": [],
   "source": [
    "hmm_data1 =  combined_update.loc[combined_update['last_adm']==0]\n",
    "admission_data1 = admission.loc[admission['last_adm']==0]"
   ]
  },
  {
   "cell_type": "code",
   "execution_count": 87,
   "metadata": {},
   "outputs": [
    {
     "name": "stdout",
     "output_type": "stream",
     "text": [
      "/Users/jinchenxie/Desktop/HF_Research/datasets/processed\n",
      "DataFrame is written successfully to Excel File.\n"
     ]
    }
   ],
   "source": [
    "%cd ~/desktop/datasets/processed\n",
    "writer = pd.ExcelWriter('Data_for_hmm_v1.xlsx')\n",
    "hmm_data1.to_excel(writer, 'hmm_readmit_data_1')\n",
    "admission_data1.to_excel(writer,'hmm_readmit_admission_1')\n",
    "writer.save()\n",
    "print('DataFrame is written successfully to Excel File.')"
   ]
  },
  {
   "cell_type": "code",
   "execution_count": 37,
   "metadata": {},
   "outputs": [
    {
     "data": {
      "text/plain": [
       "(10294, 233)"
      ]
     },
     "execution_count": 37,
     "metadata": {},
     "output_type": "execute_result"
    }
   ],
   "source": [
    "hmm_data1.shape"
   ]
  },
  {
   "cell_type": "markdown",
   "metadata": {},
   "source": [
    "_____\n",
    "hmm_data1 exclueded patients with only 1 admission."
   ]
  },
  {
   "cell_type": "code",
   "execution_count": 38,
   "metadata": {},
   "outputs": [
    {
     "data": {
      "text/plain": [
       "2132"
      ]
     },
     "execution_count": 38,
     "metadata": {},
     "output_type": "execute_result"
    }
   ],
   "source": [
    "len(hmm_data1.rID.unique())"
   ]
  },
  {
   "cell_type": "markdown",
   "metadata": {},
   "source": [
    "## baseline"
   ]
  },
  {
   "cell_type": "code",
   "execution_count": 42,
   "metadata": {},
   "outputs": [
    {
     "data": {
      "text/plain": [
       "0.32824946570817953"
      ]
     },
     "execution_count": 42,
     "metadata": {},
     "output_type": "execute_result"
    }
   ],
   "source": [
    "admission_data1['readmit_30_label'].sum()/admission_data1.shape[0]"
   ]
  },
  {
   "cell_type": "code",
   "execution_count": 44,
   "metadata": {},
   "outputs": [
    {
     "name": "stderr",
     "output_type": "stream",
     "text": [
      "/Users/jinchenxie/miniconda3/envs/research_env/lib/python3.6/site-packages/pandas/core/frame.py:4102: SettingWithCopyWarning: \n",
      "A value is trying to be set on a copy of a slice from a DataFrame\n",
      "\n",
      "See the caveats in the documentation: http://pandas.pydata.org/pandas-docs/stable/user_guide/indexing.html#returning-a-view-versus-a-copy\n",
      "  errors=errors,\n"
     ]
    }
   ],
   "source": [
    "admission_data1.drop(columns=['Unnamed: 0'], inplace=True)"
   ]
  },
  {
   "cell_type": "code",
   "execution_count": 46,
   "metadata": {},
   "outputs": [
    {
     "data": {
      "text/html": [
       "<div>\n",
       "<style scoped>\n",
       "    .dataframe tbody tr th:only-of-type {\n",
       "        vertical-align: middle;\n",
       "    }\n",
       "\n",
       "    .dataframe tbody tr th {\n",
       "        vertical-align: top;\n",
       "    }\n",
       "\n",
       "    .dataframe thead th {\n",
       "        text-align: right;\n",
       "    }\n",
       "</style>\n",
       "<table border=\"1\" class=\"dataframe\">\n",
       "  <thead>\n",
       "    <tr style=\"text-align: right;\">\n",
       "      <th></th>\n",
       "      <th>rID</th>\n",
       "      <th>INDEX_HOSPITALIZATION</th>\n",
       "      <th>READMISSION_DAYS</th>\n",
       "      <th>LOS_DAYS</th>\n",
       "      <th>HOSP_CR</th>\n",
       "      <th>HOSP_INR</th>\n",
       "      <th>HOSP_NA</th>\n",
       "      <th>HOSP_EGFR</th>\n",
       "      <th>AGE_ADMISSION</th>\n",
       "      <th>ADMISSION_SOURCE</th>\n",
       "      <th>IPOP</th>\n",
       "      <th>PATIENT_TYPE_DESCRIPTION</th>\n",
       "      <th>DISPOSITION</th>\n",
       "      <th>CABG</th>\n",
       "      <th>CABG_DAYS</th>\n",
       "      <th>TAVR</th>\n",
       "      <th>TAVR_DAYS</th>\n",
       "      <th>SAVR_MECH</th>\n",
       "      <th>SAVR_MECH_DAYS</th>\n",
       "      <th>SAVR_BIO</th>\n",
       "      <th>SAVR_BIO_DAYS</th>\n",
       "      <th>SURG_AO_GRFT</th>\n",
       "      <th>SURG_AO_GRFT_DAYS</th>\n",
       "      <th>ENDO_AO_GRFT</th>\n",
       "      <th>ENDO_AO_GRFT_DAYS</th>\n",
       "      <th>...</th>\n",
       "      <th>VFIBFLAG</th>\n",
       "      <th>PCI</th>\n",
       "      <th>PCI_DAYS</th>\n",
       "      <th>IMPELLA</th>\n",
       "      <th>IMPELLA_DAYS</th>\n",
       "      <th>IABP</th>\n",
       "      <th>IABP_DAYS</th>\n",
       "      <th>ECMO</th>\n",
       "      <th>ECMO_DAYS</th>\n",
       "      <th>ABLATION</th>\n",
       "      <th>ABLATION_DAYS</th>\n",
       "      <th>PACEMAKER_IMPLANT</th>\n",
       "      <th>PACEMAKER_IMPLANT_DAYS</th>\n",
       "      <th>ICD_IMPLANT</th>\n",
       "      <th>ICD_IMPLANT_DAYS</th>\n",
       "      <th>BIV_ICD_IMPLANT</th>\n",
       "      <th>BIV_ICD_IMPLANT_DAYS</th>\n",
       "      <th>CRT_IMPLANT</th>\n",
       "      <th>CRT_IMPLANT_DAYS</th>\n",
       "      <th>admission_times</th>\n",
       "      <th>last_adm</th>\n",
       "      <th>readmission_days_btw</th>\n",
       "      <th>readmit_30_label</th>\n",
       "      <th>inhospital_ctb_label</th>\n",
       "      <th>ctb_label</th>\n",
       "    </tr>\n",
       "  </thead>\n",
       "  <tbody>\n",
       "    <tr>\n",
       "      <td>0</td>\n",
       "      <td>5</td>\n",
       "      <td>1</td>\n",
       "      <td>NaN</td>\n",
       "      <td>3.121</td>\n",
       "      <td>1.04</td>\n",
       "      <td>1.1</td>\n",
       "      <td>141.0</td>\n",
       "      <td>91.09</td>\n",
       "      <td>51</td>\n",
       "      <td>MEDICAL REFERRAL</td>\n",
       "      <td>IP</td>\n",
       "      <td>I  INPATIENT</td>\n",
       "      <td>HOME HEALTH AGENCY</td>\n",
       "      <td>0</td>\n",
       "      <td>NaN</td>\n",
       "      <td>0</td>\n",
       "      <td>NaN</td>\n",
       "      <td>0</td>\n",
       "      <td>NaN</td>\n",
       "      <td>0</td>\n",
       "      <td>NaN</td>\n",
       "      <td>0</td>\n",
       "      <td>NaN</td>\n",
       "      <td>0</td>\n",
       "      <td>NaN</td>\n",
       "      <td>...</td>\n",
       "      <td>0</td>\n",
       "      <td>0</td>\n",
       "      <td>NaN</td>\n",
       "      <td>0</td>\n",
       "      <td>NaN</td>\n",
       "      <td>0</td>\n",
       "      <td>NaN</td>\n",
       "      <td>0</td>\n",
       "      <td>NaN</td>\n",
       "      <td>0</td>\n",
       "      <td>NaN</td>\n",
       "      <td>0</td>\n",
       "      <td>NaN</td>\n",
       "      <td>0</td>\n",
       "      <td>NaN</td>\n",
       "      <td>0</td>\n",
       "      <td>NaN</td>\n",
       "      <td>0</td>\n",
       "      <td>NaN</td>\n",
       "      <td>1</td>\n",
       "      <td>0</td>\n",
       "      <td>58.847</td>\n",
       "      <td>0</td>\n",
       "      <td>0</td>\n",
       "      <td>0</td>\n",
       "    </tr>\n",
       "    <tr>\n",
       "      <td>1</td>\n",
       "      <td>5</td>\n",
       "      <td>0</td>\n",
       "      <td>58.847</td>\n",
       "      <td>2.394</td>\n",
       "      <td>1.13</td>\n",
       "      <td>1.0</td>\n",
       "      <td>143.0</td>\n",
       "      <td>82.71</td>\n",
       "      <td>51</td>\n",
       "      <td>MEDICAL REFERRAL</td>\n",
       "      <td>IP</td>\n",
       "      <td>I  INPATIENT</td>\n",
       "      <td>HOME HEALTH AGENCY</td>\n",
       "      <td>0</td>\n",
       "      <td>NaN</td>\n",
       "      <td>0</td>\n",
       "      <td>NaN</td>\n",
       "      <td>0</td>\n",
       "      <td>NaN</td>\n",
       "      <td>0</td>\n",
       "      <td>NaN</td>\n",
       "      <td>0</td>\n",
       "      <td>NaN</td>\n",
       "      <td>0</td>\n",
       "      <td>NaN</td>\n",
       "      <td>...</td>\n",
       "      <td>0</td>\n",
       "      <td>0</td>\n",
       "      <td>NaN</td>\n",
       "      <td>0</td>\n",
       "      <td>NaN</td>\n",
       "      <td>0</td>\n",
       "      <td>NaN</td>\n",
       "      <td>0</td>\n",
       "      <td>NaN</td>\n",
       "      <td>0</td>\n",
       "      <td>NaN</td>\n",
       "      <td>0</td>\n",
       "      <td>NaN</td>\n",
       "      <td>0</td>\n",
       "      <td>NaN</td>\n",
       "      <td>0</td>\n",
       "      <td>NaN</td>\n",
       "      <td>0</td>\n",
       "      <td>NaN</td>\n",
       "      <td>2</td>\n",
       "      <td>0</td>\n",
       "      <td>539.732</td>\n",
       "      <td>0</td>\n",
       "      <td>0</td>\n",
       "      <td>0</td>\n",
       "    </tr>\n",
       "    <tr>\n",
       "      <td>2</td>\n",
       "      <td>5</td>\n",
       "      <td>0</td>\n",
       "      <td>600.973</td>\n",
       "      <td>2.194</td>\n",
       "      <td>0.85</td>\n",
       "      <td>NaN</td>\n",
       "      <td>145.0</td>\n",
       "      <td>114.23</td>\n",
       "      <td>53</td>\n",
       "      <td>MEDICAL REFERRAL</td>\n",
       "      <td>IP</td>\n",
       "      <td>I  INPATIENT</td>\n",
       "      <td>HOME/SELF CARE</td>\n",
       "      <td>0</td>\n",
       "      <td>NaN</td>\n",
       "      <td>0</td>\n",
       "      <td>NaN</td>\n",
       "      <td>0</td>\n",
       "      <td>NaN</td>\n",
       "      <td>0</td>\n",
       "      <td>NaN</td>\n",
       "      <td>0</td>\n",
       "      <td>NaN</td>\n",
       "      <td>0</td>\n",
       "      <td>NaN</td>\n",
       "      <td>...</td>\n",
       "      <td>0</td>\n",
       "      <td>0</td>\n",
       "      <td>NaN</td>\n",
       "      <td>0</td>\n",
       "      <td>NaN</td>\n",
       "      <td>0</td>\n",
       "      <td>NaN</td>\n",
       "      <td>0</td>\n",
       "      <td>NaN</td>\n",
       "      <td>0</td>\n",
       "      <td>NaN</td>\n",
       "      <td>0</td>\n",
       "      <td>NaN</td>\n",
       "      <td>0</td>\n",
       "      <td>NaN</td>\n",
       "      <td>0</td>\n",
       "      <td>NaN</td>\n",
       "      <td>0</td>\n",
       "      <td>NaN</td>\n",
       "      <td>3</td>\n",
       "      <td>0</td>\n",
       "      <td>94.125</td>\n",
       "      <td>0</td>\n",
       "      <td>0</td>\n",
       "      <td>0</td>\n",
       "    </tr>\n",
       "  </tbody>\n",
       "</table>\n",
       "<p>3 rows × 92 columns</p>\n",
       "</div>"
      ],
      "text/plain": [
       "   rID  INDEX_HOSPITALIZATION  READMISSION_DAYS  LOS_DAYS  HOSP_CR  HOSP_INR  \\\n",
       "0    5                      1               NaN     3.121     1.04       1.1   \n",
       "1    5                      0            58.847     2.394     1.13       1.0   \n",
       "2    5                      0           600.973     2.194     0.85       NaN   \n",
       "\n",
       "   HOSP_NA  HOSP_EGFR  AGE_ADMISSION  ADMISSION_SOURCE IPOP  \\\n",
       "0    141.0      91.09             51  MEDICAL REFERRAL   IP   \n",
       "1    143.0      82.71             51  MEDICAL REFERRAL   IP   \n",
       "2    145.0     114.23             53  MEDICAL REFERRAL   IP   \n",
       "\n",
       "  PATIENT_TYPE_DESCRIPTION         DISPOSITION  CABG  CABG_DAYS  TAVR  \\\n",
       "0             I  INPATIENT  HOME HEALTH AGENCY     0        NaN     0   \n",
       "1             I  INPATIENT  HOME HEALTH AGENCY     0        NaN     0   \n",
       "2             I  INPATIENT      HOME/SELF CARE     0        NaN     0   \n",
       "\n",
       "   TAVR_DAYS  SAVR_MECH SAVR_MECH_DAYS  SAVR_BIO  SAVR_BIO_DAYS  SURG_AO_GRFT  \\\n",
       "0        NaN          0            NaN         0            NaN             0   \n",
       "1        NaN          0            NaN         0            NaN             0   \n",
       "2        NaN          0            NaN         0            NaN             0   \n",
       "\n",
       "  SURG_AO_GRFT_DAYS  ENDO_AO_GRFT  ENDO_AO_GRFT_DAYS  ...  VFIBFLAG  PCI  \\\n",
       "0               NaN             0                NaN  ...         0    0   \n",
       "1               NaN             0                NaN  ...         0    0   \n",
       "2               NaN             0                NaN  ...         0    0   \n",
       "\n",
       "   PCI_DAYS  IMPELLA  IMPELLA_DAYS  IABP  IABP_DAYS  ECMO  ECMO_DAYS  \\\n",
       "0       NaN        0           NaN     0        NaN     0        NaN   \n",
       "1       NaN        0           NaN     0        NaN     0        NaN   \n",
       "2       NaN        0           NaN     0        NaN     0        NaN   \n",
       "\n",
       "   ABLATION  ABLATION_DAYS  PACEMAKER_IMPLANT  PACEMAKER_IMPLANT_DAYS  \\\n",
       "0         0            NaN                  0                     NaN   \n",
       "1         0            NaN                  0                     NaN   \n",
       "2         0            NaN                  0                     NaN   \n",
       "\n",
       "   ICD_IMPLANT  ICD_IMPLANT_DAYS  BIV_ICD_IMPLANT  BIV_ICD_IMPLANT_DAYS  \\\n",
       "0            0               NaN                0                   NaN   \n",
       "1            0               NaN                0                   NaN   \n",
       "2            0               NaN                0                   NaN   \n",
       "\n",
       "   CRT_IMPLANT  CRT_IMPLANT_DAYS  admission_times  last_adm  \\\n",
       "0            0               NaN                1         0   \n",
       "1            0               NaN                2         0   \n",
       "2            0               NaN                3         0   \n",
       "\n",
       "   readmission_days_btw  readmit_30_label  inhospital_ctb_label  ctb_label  \n",
       "0                58.847                 0                     0          0  \n",
       "1               539.732                 0                     0          0  \n",
       "2                94.125                 0                     0          0  \n",
       "\n",
       "[3 rows x 92 columns]"
      ]
     },
     "execution_count": 46,
     "metadata": {},
     "output_type": "execute_result"
    }
   ],
   "source": [
    "admission_data1[admission_data1['rID']==5]"
   ]
  },
  {
   "cell_type": "code",
   "execution_count": 47,
   "metadata": {},
   "outputs": [],
   "source": [
    "X1 = [[0.5], [1.0], [-1.0], [0.42], [0.24]]\n",
    "X2 = [[2.4], [4.2], [0.5], [-0.24]]"
   ]
  },
  {
   "cell_type": "code",
   "execution_count": 48,
   "metadata": {},
   "outputs": [],
   "source": [
    "X = np.concatenate([X1, X2])"
   ]
  },
  {
   "cell_type": "code",
   "execution_count": 50,
   "metadata": {},
   "outputs": [
    {
     "data": {
      "text/plain": [
       "(9, 1)"
      ]
     },
     "execution_count": 50,
     "metadata": {},
     "output_type": "execute_result"
    }
   ],
   "source": [
    "X.shape"
   ]
  },
  {
   "cell_type": "code",
   "execution_count": 52,
   "metadata": {},
   "outputs": [
    {
     "data": {
      "text/plain": [
       "Unnamed: 0                          0\n",
       "rID                                 0\n",
       "LOS_DAYS                            0\n",
       "HOSP_CR                            15\n",
       "HOSP_BILI                         735\n",
       "HOSP_INR                          407\n",
       "HOSP_NA                            15\n",
       "HOSP_EGFR                          15\n",
       "PRIMARY_DIAGNOSIS_CODE              0\n",
       "PRIMARY_DIAGNOSIS_DESCRIPTION       0\n",
       "AGE_ADMISSION                       0\n",
       "FEMALE                              0\n",
       "RACE                               14\n",
       "BMI                               231\n",
       "DAYS_TO_CLOSEST_OFFICE_VISIT        0\n",
       "DEPARTMENT_SPECIALTY                0\n",
       "BP_SYSTOLIC                       154\n",
       "BP_DIASTOLIC                      181\n",
       "PULSE                             409\n",
       "FINANCIAL_CLASS_CODE                0\n",
       "FINANCIAL_CLASS                     0\n",
       "HOSP_ROLLUP_GROUPING1               0\n",
       "HOSP_ROLLUP_GROUPING2               0\n",
       "DC_MILRINONE                      171\n",
       "DC_DOBUTAMINE                     171\n",
       "DC_DOPAMINE                       171\n",
       "LVEF                              272\n",
       "CLOSEST_LVEF_DAYS                 272\n",
       "RV_FUNC                           376\n",
       "CLOSEST_RV_FUNC_DAYS              376\n",
       "AR                                484\n",
       "CLOSEST_AR_DAYS                   484\n",
       "MR                                322\n",
       "CLOSEST_MR_DAYS                   322\n",
       "PR                                490\n",
       "CLOSEST_PR_DAYS                   490\n",
       "TR                                329\n",
       "CLOSEST_TR_DAYS                   329\n",
       "PRE_CRT                             0\n",
       "PRIOR_STERNOTOMY                    0\n",
       "PRIOR_PCI                           0\n",
       "PRIOR_CABG                          0\n",
       "PRIOR_TAVR                          0\n",
       "PRIOR_SAVR_MECH                     0\n",
       "PRIOR_SAVR_BIO                      0\n",
       "PRIOR_SURG_AO_GRFT                  0\n",
       "PRIOR_ENDO_AO_GRFT                  0\n",
       "PRIOR_AO_VLV_REPAIR                 0\n",
       "PRIOR_SMVR                          0\n",
       "PRIOR_SPVR                          0\n",
       "PRIOR_STVR                          0\n",
       "HTN_HST                             0\n",
       "HYPERLIPIDEMIA_HST                  0\n",
       "DIAB_HST                            0\n",
       "COPD_HST                            0\n",
       "CAD_HST                             0\n",
       "CHF_HST                             0\n",
       "AFIB_HST                            0\n",
       "PH_HST                              0\n",
       "PE_HST                              0\n",
       "CARDIAC_ARREST_HST                  0\n",
       "VTVF_HST                            0\n",
       "VASCULARDISEASE_HST                 0\n",
       "DVT_HST                             0\n",
       "STROKE_HST                          0\n",
       "HEMO_STROKE_HST                     0\n",
       "MAJOR_BLEED_HST                     0\n",
       "CKD_HST                             0\n",
       "ESRD_HST                            0\n",
       "CIRRHOSIS_HST                       0\n",
       "TOBACCO_STATUS_LABEL                0\n",
       "HX_SEPTIC_SHOCK                     0\n",
       "HX_SEPSIS                           0\n",
       "HX_CAROTID_OCCLUSION                0\n",
       "HF_ETIOLOGY_LABEL                   0\n",
       "RESTRICTIVE_CARDIOMYOPATHY          0\n",
       "HYPERTROPHIC_CARDIOMYOPATHY         0\n",
       "ISCHEMIC_CARDIOMYOPATHY             0\n",
       "PERIPARTUM_CARDIOMYOPATHY           0\n",
       "VIRAL_CARDIOMYOPATHY                0\n",
       "DILATED_CARDIOMYOPATHY              0\n",
       "ALCOHOLIC_CARDIOMYOPATHY            0\n",
       "CCI_MI                              0\n",
       "CCI_CHF                             0\n",
       "CCI_PERIPHERAL_VASC                 0\n",
       "CCI_CEREBROVASCULAR                 0\n",
       "CCI_DEMENTIA                        0\n",
       "CCI_COPD                            0\n",
       "CCI_RHEUMATIC_DISEASE               0\n",
       "CCI_PEPTIC_ULCER                    0\n",
       "CCI_MILD_LIVER_DISEASE              0\n",
       "CCI_DM_NO_CC                        0\n",
       "CCI_DM_WITH_CC                      0\n",
       "CCI_HEMIPLEGIA                      0\n",
       "CCI_RENAL_DISEASE                   0\n",
       "CCI_AIDS_HIV                        0\n",
       "CCI_TOTAL_SCORE                     0\n",
       "MED_FOUND                           0\n",
       "ASA_00                              0\n",
       "WARFARIN_00                         0\n",
       "NOAC_00                             0\n",
       "APT_00                              0\n",
       "BB_00                               0\n",
       "ACE_ARB_00                          0\n",
       "AAD_CLASS_I_00                      0\n",
       "AAD_CLASS_III_00                    0\n",
       "INSULIN_00                          0\n",
       "METFORMIN_00                        0\n",
       "SGLT2_INHIBITORS_00                 0\n",
       "DPP4_INHIBTOR_00                    0\n",
       "TZD_00                              0\n",
       "GLP1_00                             0\n",
       "SULFONYLUREA_00                     0\n",
       "WBC                               261\n",
       "WBC_DAYS                          261\n",
       "HGB                               257\n",
       "HGB_DAYS                          257\n",
       "CR                                209\n",
       "CR_DAYS                           209\n",
       "EGFR                              222\n",
       "EGFR_DAYS                         209\n",
       "K                                 214\n",
       "K_DAYS                            214\n",
       "NA                                213\n",
       "NA_DAYS                           213\n",
       "GLUCOSE                           243\n",
       "GLUCOSE_DAYS                      243\n",
       "ALBUMIN                           658\n",
       "ALBUMIN_DAYS                      658\n",
       "PLATELETS                         260\n",
       "PLATELETS_DAYS                    260\n",
       "HCT                               258\n",
       "HCT_DAYS                          258\n",
       "BNP                               651\n",
       "BNP_DAYS                          651\n",
       "BILI                              705\n",
       "BILI_DAYS                         705\n",
       "INR                               537\n",
       "INR_DAYS                          537\n",
       "VERIFIED_MELD                     691\n",
       "RHC_FOUND                           0\n",
       "CTB                                 0\n",
       "FOLLOWUP_DAYS                       0\n",
       "CTB_days                         1428\n",
       "dtype: int64"
      ]
     },
     "execution_count": 52,
     "metadata": {},
     "output_type": "execute_result"
    }
   ],
   "source": [
    "baseline.isna().sum()"
   ]
  },
  {
   "cell_type": "code",
   "execution_count": null,
   "metadata": {},
   "outputs": [],
   "source": []
  }
 ],
 "metadata": {
  "kernelspec": {
   "display_name": "Python 3",
   "language": "python",
   "name": "python3"
  },
  "language_info": {
   "codemirror_mode": {
    "name": "ipython",
    "version": 3
   },
   "file_extension": ".py",
   "mimetype": "text/x-python",
   "name": "python",
   "nbconvert_exporter": "python",
   "pygments_lexer": "ipython3",
   "version": "3.6.9"
  },
  "toc": {
   "base_numbering": 1,
   "nav_menu": {},
   "number_sections": true,
   "sideBar": true,
   "skip_h1_title": false,
   "title_cell": "Table of Contents",
   "title_sidebar": "Contents",
   "toc_cell": true,
   "toc_position": {
    "height": "calc(100% - 180px)",
    "left": "10px",
    "top": "150px",
    "width": "295.625px"
   },
   "toc_section_display": true,
   "toc_window_display": true
  }
 },
 "nbformat": 4,
 "nbformat_minor": 4
}
