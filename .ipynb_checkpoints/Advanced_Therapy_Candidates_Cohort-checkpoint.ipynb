{
 "cells": [
  {
   "cell_type": "markdown",
   "metadata": {
    "toc": true
   },
   "source": [
    "<h1>Table of Contents<span class=\"tocSkip\"></span></h1>\n",
    "<div class=\"toc\"><ul class=\"toc-item\"><li><span><a href=\"#Import-Data\" data-toc-modified-id=\"Import-Data-1\"><span class=\"toc-item-num\">1&nbsp;&nbsp;</span>Import Data</a></span></li><li><span><a href=\"#Patients-age-<=-75\" data-toc-modified-id=\"Patients-age-<=-75-2\"><span class=\"toc-item-num\">2&nbsp;&nbsp;</span>Patients age &lt;= 75</a></span><ul class=\"toc-item\"><li><span><a href=\"#Baseline-Dataset\" data-toc-modified-id=\"Baseline-Dataset-2.1\"><span class=\"toc-item-num\">2.1&nbsp;&nbsp;</span>Baseline Dataset</a></span><ul class=\"toc-item\"><li><span><a href=\"#AGE_ADMISSION\" data-toc-modified-id=\"AGE_ADMISSION-2.1.1\"><span class=\"toc-item-num\">2.1.1&nbsp;&nbsp;</span>AGE_ADMISSION</a></span></li></ul></li><li><span><a href=\"#Admission-Dataset\" data-toc-modified-id=\"Admission-Dataset-2.2\"><span class=\"toc-item-num\">2.2&nbsp;&nbsp;</span>Admission Dataset</a></span><ul class=\"toc-item\"><li><span><a href=\"#AGE_ADMISSION\" data-toc-modified-id=\"AGE_ADMISSION-2.2.1\"><span class=\"toc-item-num\">2.2.1&nbsp;&nbsp;</span>AGE_ADMISSION</a></span></li></ul></li><li><span><a href=\"#Patients-after-AGE-criterion\" data-toc-modified-id=\"Patients-after-AGE-criterion-2.3\"><span class=\"toc-item-num\">2.3&nbsp;&nbsp;</span>Patients after AGE criterion</a></span></li></ul></li><li><span><a href=\"#Patients-without-metastatic-tumor\" data-toc-modified-id=\"Patients-without-metastatic-tumor-3\"><span class=\"toc-item-num\">3&nbsp;&nbsp;</span>Patients without metastatic tumor</a></span></li><li><span><a href=\"#Patients-without-malignancy-no-skin\" data-toc-modified-id=\"Patients-without-malignancy-no-skin-4\"><span class=\"toc-item-num\">4&nbsp;&nbsp;</span>Patients without malignancy no skin</a></span></li><li><span><a href=\"#Patients-without-severe-liver-disease\" data-toc-modified-id=\"Patients-without-severe-liver-disease-5\"><span class=\"toc-item-num\">5&nbsp;&nbsp;</span>Patients without severe liver disease</a></span></li><li><span><a href=\"#Patients-without-prior-VAD\" data-toc-modified-id=\"Patients-without-prior-VAD-6\"><span class=\"toc-item-num\">6&nbsp;&nbsp;</span>Patients without prior VAD</a></span></li><li><span><a href=\"#Patients-without-prior-heart-transplant\" data-toc-modified-id=\"Patients-without-prior-heart-transplant-7\"><span class=\"toc-item-num\">7&nbsp;&nbsp;</span>Patients without prior heart transplant</a></span></li><li><span><a href=\"#Patients-with-LVEF-<=-40\" data-toc-modified-id=\"Patients-with-LVEF-<=-40-8\"><span class=\"toc-item-num\">8&nbsp;&nbsp;</span>Patients with LVEF &lt;= 40</a></span></li><li><span><a href=\"#recover-point\" data-toc-modified-id=\"recover-point-9\"><span class=\"toc-item-num\">9&nbsp;&nbsp;</span>recover point</a></span></li><li><span><a href=\"#*Add-an-attribute-in-admission-dataset:-admission_count\" data-toc-modified-id=\"*Add-an-attribute-in-admission-dataset:-admission_count-10\"><span class=\"toc-item-num\">10&nbsp;&nbsp;</span>*Add an attribute in admission dataset: admission_count</a></span></li><li><span><a href=\"#*Add-an-attribute-&quot;last_adm&quot;-in-admission-dataset\" data-toc-modified-id=\"*Add-an-attribute-&quot;last_adm&quot;-in-admission-dataset-11\"><span class=\"toc-item-num\">11&nbsp;&nbsp;</span>*Add an attribute \"last_adm\" in admission dataset</a></span></li><li><span><a href=\"#Dealing-with-Abnormal-Admission-Records\" data-toc-modified-id=\"Dealing-with-Abnormal-Admission-Records-12\"><span class=\"toc-item-num\">12&nbsp;&nbsp;</span>Dealing with Abnormal Admission Records</a></span></li><li><span><a href=\"#Add-&quot;total_adms&quot;-attribute-in-baseline\" data-toc-modified-id=\"Add-&quot;total_adms&quot;-attribute-in-baseline-13\"><span class=\"toc-item-num\">13&nbsp;&nbsp;</span>Add \"total_adms\" attribute in baseline</a></span></li><li><span><a href=\"#In-hospital-Mortality-Rate\" data-toc-modified-id=\"In-hospital-Mortality-Rate-14\"><span class=\"toc-item-num\">14&nbsp;&nbsp;</span>In-hospital Mortality Rate</a></span><ul class=\"toc-item\"><li><span><a href=\"#create-the-&quot;in_CTB&quot;\" data-toc-modified-id=\"create-the-&quot;in_CTB&quot;-14.1\"><span class=\"toc-item-num\">14.1&nbsp;&nbsp;</span>create the \"in_CTB\"</a></span></li></ul></li><li><span><a href=\"#recover-point\" data-toc-modified-id=\"recover-point-15\"><span class=\"toc-item-num\">15&nbsp;&nbsp;</span>recover point</a></span></li><li><span><a href=\"#Add-&quot;30_day_CTB&quot;\" data-toc-modified-id=\"Add-&quot;30_day_CTB&quot;-16\"><span class=\"toc-item-num\">16&nbsp;&nbsp;</span>Add \"30_day_CTB\"</a></span></li><li><span><a href=\"#Remove-Admissions-after-VAD-taken-during-admission\" data-toc-modified-id=\"Remove-Admissions-after-VAD-taken-during-admission-17\"><span class=\"toc-item-num\">17&nbsp;&nbsp;</span>Remove Admissions after VAD taken during admission</a></span></li><li><span><a href=\"#Remove-admissions-after-tranplant-taken-during-admission\" data-toc-modified-id=\"Remove-admissions-after-tranplant-taken-during-admission-18\"><span class=\"toc-item-num\">18&nbsp;&nbsp;</span>Remove admissions after tranplant taken during admission</a></span></li><li><span><a href=\"#Export-the-Cohort-Baseline-and-Admission\" data-toc-modified-id=\"Export-the-Cohort-Baseline-and-Admission-19\"><span class=\"toc-item-num\">19&nbsp;&nbsp;</span>Export the Cohort Baseline and Admission</a></span></li><li><span><a href=\"#END\" data-toc-modified-id=\"END-20\"><span class=\"toc-item-num\">20&nbsp;&nbsp;</span>END</a></span></li><li><span><a href=\"#Patients-with-LVEF-<=-25\" data-toc-modified-id=\"Patients-with-LVEF-<=-25-21\"><span class=\"toc-item-num\">21&nbsp;&nbsp;</span>Patients with LVEF &lt;= 25</a></span><ul class=\"toc-item\"><li><span><a href=\"#without-other-restrictions,-how-many-patients-left\" data-toc-modified-id=\"without-other-restrictions,-how-many-patients-left-21.1\"><span class=\"toc-item-num\">21.1&nbsp;&nbsp;</span>without other restrictions, how many patients left</a></span></li><li><span><a href=\"#With-other-restrictions-in-place\" data-toc-modified-id=\"With-other-restrictions-in-place-21.2\"><span class=\"toc-item-num\">21.2&nbsp;&nbsp;</span>With other restrictions in place</a></span></li><li><span><a href=\"#What-if-using-30-as-threshold?\" data-toc-modified-id=\"What-if-using-30-as-threshold?-21.3\"><span class=\"toc-item-num\">21.3&nbsp;&nbsp;</span>What if using 30 as threshold?</a></span></li></ul></li><li><span><a href=\"#Extract-the-patients-with-no-EF-value\" data-toc-modified-id=\"Extract-the-patients-with-no-EF-value-22\"><span class=\"toc-item-num\">22&nbsp;&nbsp;</span>Extract the patients with no EF value</a></span><ul class=\"toc-item\"><li><span><a href=\"#Patients-with-missing-LVEF-in-baseline\" data-toc-modified-id=\"Patients-with-missing-LVEF-in-baseline-22.1\"><span class=\"toc-item-num\">22.1&nbsp;&nbsp;</span>Patients with missing LVEF in baseline</a></span></li><li><span><a href=\"#Admissions-with-missing-LVEF-in-admission\" data-toc-modified-id=\"Admissions-with-missing-LVEF-in-admission-22.2\"><span class=\"toc-item-num\">22.2&nbsp;&nbsp;</span>Admissions with missing LVEF in admission</a></span></li><li><span><a href=\"#Patients-with-no-LVEF-at-all-in-either-datasets\" data-toc-modified-id=\"Patients-with-no-LVEF-at-all-in-either-datasets-22.3\"><span class=\"toc-item-num\">22.3&nbsp;&nbsp;</span>Patients with no LVEF at all in either datasets</a></span></li></ul></li></ul></div>"
   ]
  },
  {
   "cell_type": "code",
   "execution_count": 1,
   "metadata": {},
   "outputs": [],
   "source": [
    "import pandas as pd\n",
    "import numpy as np\n",
    "from matplotlib import pyplot as plt"
   ]
  },
  {
   "cell_type": "code",
   "execution_count": 2,
   "metadata": {},
   "outputs": [],
   "source": [
    "pd.options.display.max_rows = 400\n",
    "pd.options.display.max_columns = 50"
   ]
  },
  {
   "cell_type": "markdown",
   "metadata": {},
   "source": [
    "# Import Data"
   ]
  },
  {
   "cell_type": "code",
   "execution_count": 3,
   "metadata": {},
   "outputs": [
    {
     "name": "stdout",
     "output_type": "stream",
     "text": [
      "/Users/jinchenxie/Desktop/datasets\n"
     ]
    }
   ],
   "source": [
    "%cd ~/desktop/datasets\n",
    "baseline = pd.read_excel('HF-Baseline.xlsx', '00480_Baseline_20200115_NA')\n",
    "admission = pd.read_excel('HF-Admissions.xlsx', '00480_Admissions_20200115_NA')"
   ]
  },
  {
   "cell_type": "code",
   "execution_count": 4,
   "metadata": {},
   "outputs": [
    {
     "data": {
      "text/plain": [
       "(12285, 321)"
      ]
     },
     "execution_count": 4,
     "metadata": {},
     "output_type": "execute_result"
    }
   ],
   "source": [
    "baseline.shape"
   ]
  },
  {
   "cell_type": "markdown",
   "metadata": {},
   "source": [
    "# Patients age <= 75"
   ]
  },
  {
   "cell_type": "markdown",
   "metadata": {},
   "source": [
    "## Baseline Dataset"
   ]
  },
  {
   "cell_type": "markdown",
   "metadata": {},
   "source": [
    "There are 3 attributes related to AGE in the baseline dataset.\n",
    "    - AGE_CENSOR\n",
    "    - AGE_ADMISSION\n",
    "    - AGE_OFFICE_VISIT"
   ]
  },
  {
   "cell_type": "code",
   "execution_count": 5,
   "metadata": {},
   "outputs": [],
   "source": [
    "age_admission_b = baseline['AGE_ADMISSION']\n",
    "age_office = baseline['AGE_OFFICE_VISIT']\n",
    "age_censor = baseline['AGE_CENSOR']"
   ]
  },
  {
   "cell_type": "markdown",
   "metadata": {},
   "source": [
    "### AGE_ADMISSION"
   ]
  },
  {
   "cell_type": "code",
   "execution_count": 6,
   "metadata": {
    "code_folding": []
   },
   "outputs": [
    {
     "data": {
      "text/plain": [
       "(array([  5.,   3.,   7.,   8.,   4.,   3.,   5.,   8.,  10.,   6.,   9.,\n",
       "          5.,  12.,  17.,  19.,   9.,  14.,  16.,  20.,  21.,  24.,  24.,\n",
       "         30.,  25.,  33.,  43.,  33.,  31.,  46.,  47.,  60.,  63.,  84.,\n",
       "         96.,  86., 118., 124., 144., 144., 145., 172., 179., 202., 209.,\n",
       "        202., 204., 228., 243., 241., 261., 260., 299., 252., 273., 266.,\n",
       "        285., 280., 318., 305., 339., 340., 354., 342., 361., 391., 392.,\n",
       "        438., 435., 406., 342., 335., 317., 262., 223., 181., 155.,  97.,\n",
       "         95.,  67.,  48.,  32.,  26.,  10.,   8.,   4.,   4.]),\n",
       " array([ 18,  19,  20,  21,  22,  23,  24,  25,  26,  27,  28,  29,  30,\n",
       "         31,  32,  33,  34,  35,  36,  37,  38,  39,  40,  41,  42,  43,\n",
       "         44,  45,  46,  47,  48,  49,  50,  51,  52,  53,  54,  55,  56,\n",
       "         57,  58,  59,  60,  61,  62,  63,  64,  65,  66,  67,  68,  69,\n",
       "         70,  71,  72,  73,  74,  75,  76,  77,  78,  79,  80,  81,  82,\n",
       "         83,  84,  85,  86,  87,  88,  89,  90,  91,  92,  93,  94,  95,\n",
       "         96,  97,  98,  99, 100, 101, 102, 103, 104]),\n",
       " <a list of 86 Patch objects>)"
      ]
     },
     "execution_count": 6,
     "metadata": {},
     "output_type": "execute_result"
    },
    {
     "data": {
      "image/png": "[encoded data removed]",
      "text/plain": [
       "<Figure size 432x288 with 1 Axes>"
      ]
     },
     "metadata": {
      "needs_background": "light"
     },
     "output_type": "display_data"
    }
   ],
   "source": [
    "# Examine age_admission attribute\n",
    "age_admission_b.isna().sum()\n",
    "plt.hist(age_admission_b, bins=np.arange(age_admission_b.min(), age_admission_b.max()))"
   ]
  },
  {
   "cell_type": "code",
   "execution_count": 7,
   "metadata": {},
   "outputs": [],
   "source": [
    "age_admission_b_75 = age_admission_b[age_admission_b<=75]"
   ]
  },
  {
   "cell_type": "markdown",
   "metadata": {},
   "source": [
    "-----------------\n",
    "\n",
    "patients_75_b: the rID of patients who are <=75 years old at their index admission"
   ]
  },
  {
   "cell_type": "code",
   "execution_count": 8,
   "metadata": {
    "code_folding": []
   },
   "outputs": [
    {
     "name": "stdout",
     "output_type": "stream",
     "text": [
      "5975 48.63654863654864\n"
     ]
    }
   ],
   "source": [
    "# age_admission <= 75\n",
    "print(age_admission_b_75.shape[0], len(age_admission_b_75)/baseline.shape[0]*100)\n",
    "\n",
    "patients_75_b = list(baseline.loc[baseline['AGE_ADMISSION']<=75].rID)"
   ]
  },
  {
   "cell_type": "markdown",
   "metadata": {},
   "source": [
    "## Admission Dataset"
   ]
  },
  {
   "cell_type": "markdown",
   "metadata": {},
   "source": [
    "There's only one attribute that is related to 'age' in admission dataset."
   ]
  },
  {
   "cell_type": "markdown",
   "metadata": {},
   "source": [
    "### AGE_ADMISSION"
   ]
  },
  {
   "cell_type": "code",
   "execution_count": 9,
   "metadata": {
    "code_folding": [
     0
    ]
   },
   "outputs": [
    {
     "name": "stdout",
     "output_type": "stream",
     "text": [
      "72.58948369272721 14.104451846510786\n"
     ]
    }
   ],
   "source": [
    "# examine the age_admission attribute\n",
    "age_admission_a = admission['AGE_ADMISSION']\n",
    "\n",
    "age_admission_a.isna().sum()\n",
    "\n",
    "print(age_admission_a.mean(), age_admission_a.std())"
   ]
  },
  {
   "cell_type": "code",
   "execution_count": 10,
   "metadata": {
    "code_folding": []
   },
   "outputs": [
    {
     "name": "stdout",
     "output_type": "stream",
     "text": [
      "29614 0.5312690610311793\n"
     ]
    }
   ],
   "source": [
    "# How many admission records out of the 55742 admissions have age <=75?\n",
    "age_admission_a_75 = admission.loc[admission['AGE_ADMISSION']<=75]\n",
    "\n",
    "print(age_admission_a_75.shape[0], age_admission_a_75.shape[0]/admission.shape[0])"
   ]
  },
  {
   "cell_type": "code",
   "execution_count": 11,
   "metadata": {
    "code_folding": [
     0
    ]
   },
   "outputs": [
    {
     "data": {
      "text/plain": [
       "5975"
      ]
     },
     "execution_count": 11,
     "metadata": {},
     "output_type": "execute_result"
    }
   ],
   "source": [
    "# How many unqiue patients do these 29614 admissions include?\n",
    "len(age_admission_a_75.rID.unique())"
   ]
  },
  {
   "cell_type": "code",
   "execution_count": 12,
   "metadata": {},
   "outputs": [],
   "source": [
    "patients_75_a = list(age_admission_a_75.rID.unique())"
   ]
  },
  {
   "cell_type": "code",
   "execution_count": 13,
   "metadata": {},
   "outputs": [
    {
     "data": {
      "text/plain": [
       "False"
      ]
     },
     "execution_count": 13,
     "metadata": {},
     "output_type": "execute_result"
    }
   ],
   "source": [
    "False in patients_75_a == patients_75_b"
   ]
  },
  {
   "cell_type": "markdown",
   "metadata": {},
   "source": [
    "Note: We see that baseline and admission datasets are consistent in the patients(rID) age <=75."
   ]
  },
  {
   "cell_type": "code",
   "execution_count": 14,
   "metadata": {},
   "outputs": [],
   "source": [
    "rID_75 = patients_75_b"
   ]
  },
  {
   "cell_type": "code",
   "execution_count": 15,
   "metadata": {
    "code_folding": []
   },
   "outputs": [
    {
     "name": "stdout",
     "output_type": "stream",
     "text": [
      "31600 0.5668974920167916\n"
     ]
    }
   ],
   "source": [
    "# How many admissions do these patients have in total (including those after they\n",
    "# passed 75 yrs)\n",
    "admissions_75 = admission[admission['rID'].isin(rID_75)]\n",
    "print(admissions_75.shape[0], admissions_75.shape[0]/admission.shape[0])"
   ]
  },
  {
   "cell_type": "markdown",
   "metadata": {},
   "source": [
    "## Patients after AGE criterion"
   ]
  },
  {
   "cell_type": "code",
   "execution_count": 16,
   "metadata": {},
   "outputs": [],
   "source": [
    "del([patients_75_a, patients_75_b])"
   ]
  },
  {
   "cell_type": "code",
   "execution_count": 17,
   "metadata": {
    "scrolled": true
   },
   "outputs": [],
   "source": [
    "patients_75 = baseline.loc[baseline['rID'].isin(rID_75)]"
   ]
  },
  {
   "cell_type": "code",
   "execution_count": 18,
   "metadata": {},
   "outputs": [
    {
     "data": {
      "text/plain": [
       "(5975, 321)"
      ]
     },
     "execution_count": 18,
     "metadata": {},
     "output_type": "execute_result"
    }
   ],
   "source": [
    "patients_75.shape"
   ]
  },
  {
   "cell_type": "markdown",
   "metadata": {},
   "source": [
    "- rID_75: the list of rID of patients who had age <= 75  \n",
    "- patients_75: the dataframe of patients <=75 in baseline dataset  \n",
    "- admissions_75: the dataframe of admission records of the 5975 patients  \n",
    ". . . .  .. . . . .with age <=75 at their index admission  "
   ]
  },
  {
   "cell_type": "markdown",
   "metadata": {},
   "source": [
    "# Patients without metastatic tumor"
   ]
  },
  {
   "cell_type": "markdown",
   "metadata": {},
   "source": [
    "CCI_MATASTATIC_TUMOR"
   ]
  },
  {
   "cell_type": "code",
   "execution_count": 19,
   "metadata": {},
   "outputs": [
    {
     "data": {
      "text/plain": [
       "0    12170\n",
       "1      115\n",
       "Name: CCI_MATASTATIC_TUMOR, dtype: int64"
      ]
     },
     "execution_count": 19,
     "metadata": {},
     "output_type": "execute_result"
    }
   ],
   "source": [
    "# examine the CCI_MATASTATIC_TUMOR attribute in original baseline data\n",
    "baseline['CCI_MATASTATIC_TUMOR'].isna().sum()\n",
    "baseline['CCI_MATASTATIC_TUMOR'].value_counts()"
   ]
  },
  {
   "cell_type": "code",
   "execution_count": 20,
   "metadata": {
    "code_folding": []
   },
   "outputs": [
    {
     "data": {
      "text/plain": [
       "0    5922\n",
       "1      53\n",
       "Name: CCI_MATASTATIC_TUMOR, dtype: int64"
      ]
     },
     "execution_count": 20,
     "metadata": {},
     "output_type": "execute_result"
    }
   ],
   "source": [
    "# examine the CCI_MATASTATIC_TUMOR attribute in patients_75 dataframe\n",
    "\n",
    "patients_75['CCI_MATASTATIC_TUMOR'].value_counts()"
   ]
  },
  {
   "cell_type": "code",
   "execution_count": 21,
   "metadata": {
    "code_folding": []
   },
   "outputs": [],
   "source": [
    "# extract patients without metastatic tumor\n",
    "patients_tumor = patients_75.loc[patients_75['CCI_MATASTATIC_TUMOR']==0]\n",
    "rID_tumor = list(patients_tumor['rID'])"
   ]
  },
  {
   "cell_type": "code",
   "execution_count": 22,
   "metadata": {
    "code_folding": []
   },
   "outputs": [
    {
     "name": "stdout",
     "output_type": "stream",
     "text": [
      "5922 0.48205128205128206\n"
     ]
    }
   ],
   "source": [
    "# how many patients remain\n",
    "print(patients_tumor.shape[0], patients_tumor.shape[0]/baseline.shape[0])"
   ]
  },
  {
   "cell_type": "code",
   "execution_count": 23,
   "metadata": {},
   "outputs": [
    {
     "name": "stdout",
     "output_type": "stream",
     "text": [
      "31328 0.562017868034875\n"
     ]
    }
   ],
   "source": [
    "# how many admissions remain\n",
    "print(admission[admission['rID'].isin(rID_tumor)].shape[0], \n",
    "admission[admission['rID'].isin(rID_tumor)].shape[0]/admission.shape[0])"
   ]
  },
  {
   "cell_type": "markdown",
   "metadata": {},
   "source": [
    "# Patients without malignancy no skin"
   ]
  },
  {
   "cell_type": "markdown",
   "metadata": {},
   "source": [
    "CCI_MALIG_NO_SKIN"
   ]
  },
  {
   "cell_type": "code",
   "execution_count": 24,
   "metadata": {},
   "outputs": [
    {
     "data": {
      "text/plain": [
       "0    10592\n",
       "1     1693\n",
       "Name: CCI_MALIG_NO_SKIN, dtype: int64"
      ]
     },
     "execution_count": 24,
     "metadata": {},
     "output_type": "execute_result"
    }
   ],
   "source": [
    "# examine the CCI_MALIG_NO_SKIN attribute in original baseline data\n",
    "baseline['CCI_MALIG_NO_SKIN'].value_counts()"
   ]
  },
  {
   "cell_type": "code",
   "execution_count": 25,
   "metadata": {},
   "outputs": [
    {
     "data": {
      "text/plain": [
       "0.1378103378103378"
      ]
     },
     "execution_count": 25,
     "metadata": {},
     "output_type": "execute_result"
    }
   ],
   "source": [
    "1693/baseline.shape[0]"
   ]
  },
  {
   "cell_type": "code",
   "execution_count": 26,
   "metadata": {},
   "outputs": [],
   "source": [
    "# extract patients without malignancy no skin\n",
    "patients_mal = patients_tumor.loc[patients_tumor['CCI_MALIG_NO_SKIN']==0]"
   ]
  },
  {
   "cell_type": "code",
   "execution_count": 27,
   "metadata": {},
   "outputs": [
    {
     "data": {
      "text/plain": [
       "0    5367\n",
       "1     555\n",
       "Name: CCI_MALIG_NO_SKIN, dtype: int64"
      ]
     },
     "execution_count": 27,
     "metadata": {},
     "output_type": "execute_result"
    }
   ],
   "source": [
    "patients_tumor['CCI_MALIG_NO_SKIN'].value_counts()"
   ]
  },
  {
   "cell_type": "code",
   "execution_count": 28,
   "metadata": {},
   "outputs": [
    {
     "name": "stdout",
     "output_type": "stream",
     "text": [
      "5367 0.4368742368742369\n"
     ]
    }
   ],
   "source": [
    "# how many patients remain\n",
    "print(patients_mal.shape[0], patients_mal.shape[0]/baseline.shape[0])\n",
    "rID_mal = list(patients_mal['rID'])"
   ]
  },
  {
   "cell_type": "code",
   "execution_count": 29,
   "metadata": {},
   "outputs": [
    {
     "name": "stdout",
     "output_type": "stream",
     "text": [
      "28287 0.5074629543252843\n"
     ]
    }
   ],
   "source": [
    "# how many admissions remain\n",
    "print(admission[admission['rID'].isin(rID_mal)].shape[0], \n",
    "admission[admission['rID'].isin(rID_mal)].shape[0]/admission.shape[0])"
   ]
  },
  {
   "cell_type": "markdown",
   "metadata": {},
   "source": [
    "# Patients without severe liver disease"
   ]
  },
  {
   "cell_type": "markdown",
   "metadata": {},
   "source": [
    "CCI_SEVERE_LIVER_DISEASE"
   ]
  },
  {
   "cell_type": "code",
   "execution_count": 30,
   "metadata": {},
   "outputs": [
    {
     "data": {
      "text/plain": [
       "0    12253\n",
       "1       32\n",
       "Name: CCI_SEVERE_LIVER_DISEASE, dtype: int64"
      ]
     },
     "execution_count": 30,
     "metadata": {},
     "output_type": "execute_result"
    }
   ],
   "source": [
    "# examine the CCI_SEVERE_LIVER_DISEASE attribute in orginal data\n",
    "baseline['CCI_SEVERE_LIVER_DISEASE'].value_counts()"
   ]
  },
  {
   "cell_type": "code",
   "execution_count": 31,
   "metadata": {},
   "outputs": [
    {
     "data": {
      "text/plain": [
       "0    5345\n",
       "1      22\n",
       "Name: CCI_SEVERE_LIVER_DISEASE, dtype: int64"
      ]
     },
     "execution_count": 31,
     "metadata": {},
     "output_type": "execute_result"
    }
   ],
   "source": [
    "patients_mal['CCI_SEVERE_LIVER_DISEASE'].value_counts()"
   ]
  },
  {
   "cell_type": "code",
   "execution_count": 32,
   "metadata": {},
   "outputs": [],
   "source": [
    "# extract patients without severe liver disease\n",
    "patients_liver = patients_mal[patients_mal['CCI_SEVERE_LIVER_DISEASE']==0] "
   ]
  },
  {
   "cell_type": "code",
   "execution_count": 33,
   "metadata": {},
   "outputs": [
    {
     "name": "stdout",
     "output_type": "stream",
     "text": [
      "5345 0.4350834350834351\n"
     ]
    }
   ],
   "source": [
    "# how many patients remain?\n",
    "rID_liver = list(patients_liver['rID'])\n",
    "print(len(rID_liver), len(rID_liver)/baseline.shape[0])"
   ]
  },
  {
   "cell_type": "code",
   "execution_count": 34,
   "metadata": {},
   "outputs": [
    {
     "name": "stdout",
     "output_type": "stream",
     "text": [
      "28173 0.5054178178034516\n"
     ]
    }
   ],
   "source": [
    "# how many admissions remain?\n",
    "print(admission[admission['rID'].isin(rID_liver)].shape[0], \n",
    "admission[admission['rID'].isin(rID_liver)].shape[0]/admission.shape[0])"
   ]
  },
  {
   "cell_type": "markdown",
   "metadata": {},
   "source": [
    "# Patients without prior VAD"
   ]
  },
  {
   "cell_type": "markdown",
   "metadata": {},
   "source": [
    "Attributes related PRE_VAD in baseline dataset"
   ]
  },
  {
   "cell_type": "code",
   "execution_count": 35,
   "metadata": {},
   "outputs": [
    {
     "data": {
      "text/plain": [
       "0    12261\n",
       "1       24\n",
       "Name: PRE_VAD, dtype: int64"
      ]
     },
     "execution_count": 35,
     "metadata": {},
     "output_type": "execute_result"
    }
   ],
   "source": [
    "# examine the attribute first\n",
    "baseline['PRE_VAD'].isna().sum()\n",
    "baseline['PRE_VAD'].value_counts()"
   ]
  },
  {
   "cell_type": "code",
   "execution_count": 36,
   "metadata": {},
   "outputs": [],
   "source": [
    "# extract patients without prior VAD surgery\n",
    "patients_vad = patients_liver[patients_liver['PRE_VAD']==0] \n",
    "rID_vad = patients_vad['rID']"
   ]
  },
  {
   "cell_type": "code",
   "execution_count": 37,
   "metadata": {},
   "outputs": [
    {
     "data": {
      "text/plain": [
       "0    5323\n",
       "1      22\n",
       "Name: PRE_VAD, dtype: int64"
      ]
     },
     "execution_count": 37,
     "metadata": {},
     "output_type": "execute_result"
    }
   ],
   "source": [
    "patients_liver['PRE_VAD'].value_counts()"
   ]
  },
  {
   "cell_type": "code",
   "execution_count": 38,
   "metadata": {},
   "outputs": [
    {
     "name": "stdout",
     "output_type": "stream",
     "text": [
      "5323 0.4332926332926333\n"
     ]
    }
   ],
   "source": [
    "# how many patients left\n",
    "print(len(rID_vad), len(rID_vad)/baseline.shape[0])"
   ]
  },
  {
   "cell_type": "code",
   "execution_count": 39,
   "metadata": {},
   "outputs": [
    {
     "name": "stdout",
     "output_type": "stream",
     "text": [
      "28064 0.5034623802518747\n"
     ]
    }
   ],
   "source": [
    "# how many admissions left\n",
    "admissions_vad = admission.loc[admission['rID'].isin(rID_vad)]\n",
    "print(admissions_vad.shape[0], admissions_vad.shape[0]/admission.shape[0])"
   ]
  },
  {
   "cell_type": "markdown",
   "metadata": {},
   "source": [
    "# Patients without prior heart transplant"
   ]
  },
  {
   "cell_type": "markdown",
   "metadata": {},
   "source": [
    "Attribute used to filter out prior transplant: PRE_TRANSPLANT"
   ]
  },
  {
   "cell_type": "code",
   "execution_count": 40,
   "metadata": {},
   "outputs": [
    {
     "data": {
      "text/plain": [
       "0    12256\n",
       "1       29\n",
       "Name: PRE_TRANSPLANT, dtype: int64"
      ]
     },
     "execution_count": 40,
     "metadata": {},
     "output_type": "execute_result"
    }
   ],
   "source": [
    "# examine the attribute first\n",
    "baseline['PRE_TRANSPLANT'].value_counts()"
   ]
  },
  {
   "cell_type": "code",
   "execution_count": 41,
   "metadata": {},
   "outputs": [
    {
     "data": {
      "text/plain": [
       "0    5301\n",
       "1      22\n",
       "Name: PRE_TRANSPLANT, dtype: int64"
      ]
     },
     "execution_count": 41,
     "metadata": {},
     "output_type": "execute_result"
    }
   ],
   "source": [
    "patients_vad['PRE_TRANSPLANT'].value_counts()"
   ]
  },
  {
   "cell_type": "code",
   "execution_count": 42,
   "metadata": {},
   "outputs": [],
   "source": [
    "# extract patients without prior VAD surgery\n",
    "patients_trans = patients_vad[patients_vad['PRE_TRANSPLANT']==0] \n",
    "rID_trans = patients_trans['rID']"
   ]
  },
  {
   "cell_type": "code",
   "execution_count": 43,
   "metadata": {},
   "outputs": [
    {
     "name": "stdout",
     "output_type": "stream",
     "text": [
      "5301 0.4315018315018315\n"
     ]
    }
   ],
   "source": [
    "# how many patients left\n",
    "print(len(rID_trans), len(rID_trans)/baseline.shape[0])"
   ]
  },
  {
   "cell_type": "code",
   "execution_count": 44,
   "metadata": {},
   "outputs": [
    {
     "name": "stdout",
     "output_type": "stream",
     "text": [
      "27949 0.5013993039359909\n"
     ]
    }
   ],
   "source": [
    "# how many admissions left\n",
    "admissions_trans = admission.loc[admission['rID'].isin(rID_trans)]\n",
    "print(admissions_trans.shape[0], admissions_trans.shape[0]/admission.shape[0])"
   ]
  },
  {
   "cell_type": "code",
   "execution_count": 45,
   "metadata": {},
   "outputs": [
    {
     "data": {
      "text/plain": [
       "(5301, 321)"
      ]
     },
     "execution_count": 45,
     "metadata": {},
     "output_type": "execute_result"
    }
   ],
   "source": [
    "patients_trans.shape"
   ]
  },
  {
   "cell_type": "markdown",
   "metadata": {},
   "source": [
    "# Patients with LVEF <= 40"
   ]
  },
  {
   "cell_type": "markdown",
   "metadata": {},
   "source": [
    "Patients in baseline records that had <=40 LVEF"
   ]
  },
  {
   "cell_type": "code",
   "execution_count": 46,
   "metadata": {},
   "outputs": [
    {
     "data": {
      "text/plain": [
       "3270"
      ]
     },
     "execution_count": 46,
     "metadata": {},
     "output_type": "execute_result"
    }
   ],
   "source": [
    "baseline['LVEF'].isna().sum()"
   ]
  },
  {
   "cell_type": "markdown",
   "metadata": {},
   "source": [
    "---------------------------------------\n",
    "- How many patients ever had LVEF<=40?"
   ]
  },
  {
   "cell_type": "code",
   "execution_count": 47,
   "metadata": {},
   "outputs": [],
   "source": [
    "def Union(lst1, lst2): \n",
    "    final_list = list(set(lst1) | set(lst2)) \n",
    "    return final_list "
   ]
  },
  {
   "cell_type": "code",
   "execution_count": 48,
   "metadata": {},
   "outputs": [],
   "source": [
    "b_lv_id = baseline.loc[baseline['LVEF']<=40].rID\n",
    "a_lv_id = admission.loc[admission['LVEF']<=40].rID.unique()\n",
    "union_lv_id = Union(b_lv_id, a_lv_id)"
   ]
  },
  {
   "cell_type": "code",
   "execution_count": 49,
   "metadata": {},
   "outputs": [
    {
     "name": "stdout",
     "output_type": "stream",
     "text": [
      "4045 4147 5059\n"
     ]
    }
   ],
   "source": [
    "print(len(b_lv_id), len(a_lv_id), len(union_lv_id))"
   ]
  },
  {
   "cell_type": "code",
   "execution_count": 50,
   "metadata": {},
   "outputs": [],
   "source": [
    "res_lvef_b = patients_trans[['rID', 'LVEF']]\n",
    "res_lvef_a = admissions_trans[['rID', 'LVEF']]"
   ]
  },
  {
   "cell_type": "code",
   "execution_count": 51,
   "metadata": {},
   "outputs": [
    {
     "name": "stderr",
     "output_type": "stream",
     "text": [
      "/Users/jinchenxie/miniconda3/envs/research_env/lib/python3.6/site-packages/ipykernel_launcher.py:1: SettingWithCopyWarning: \n",
      "A value is trying to be set on a copy of a slice from a DataFrame\n",
      "\n",
      "See the caveats in the documentation: http://pandas.pydata.org/pandas-docs/stable/user_guide/indexing.html#returning-a-view-versus-a-copy\n",
      "  \"\"\"Entry point for launching an IPython kernel.\n",
      "/Users/jinchenxie/miniconda3/envs/research_env/lib/python3.6/site-packages/ipykernel_launcher.py:2: SettingWithCopyWarning: \n",
      "A value is trying to be set on a copy of a slice from a DataFrame\n",
      "\n",
      "See the caveats in the documentation: http://pandas.pydata.org/pandas-docs/stable/user_guide/indexing.html#returning-a-view-versus-a-copy\n",
      "  \n"
     ]
    }
   ],
   "source": [
    "res_lvef_a.dropna(inplace=True)\n",
    "res_lvef_b.dropna(inplace=True)"
   ]
  },
  {
   "cell_type": "code",
   "execution_count": 52,
   "metadata": {},
   "outputs": [
    {
     "name": "stdout",
     "output_type": "stream",
     "text": [
      "5301 3894 7992\n"
     ]
    }
   ],
   "source": [
    "print(patients_trans.shape[0], res_lvef_b.shape[0], res_lvef_a.shape[0])"
   ]
  },
  {
   "cell_type": "code",
   "execution_count": 53,
   "metadata": {},
   "outputs": [],
   "source": [
    "res_lvef_a_rID = list(res_lvef_a.loc[res_lvef_a['LVEF']<=40].rID.unique())\n",
    "res_lvef_b_rID = list(res_lvef_b.loc[res_lvef_b['LVEF']<=40].rID)\n",
    "res_union_lvef_rID = Union(res_lvef_a_rID, res_lvef_b_rID)"
   ]
  },
  {
   "cell_type": "code",
   "execution_count": 54,
   "metadata": {},
   "outputs": [
    {
     "name": "stdout",
     "output_type": "stream",
     "text": [
      "2081 2025 2521\n"
     ]
    }
   ],
   "source": [
    "print(len(res_lvef_a_rID), len(res_lvef_b_rID), len(res_union_lvef_rID))"
   ]
  },
  {
   "cell_type": "code",
   "execution_count": 55,
   "metadata": {},
   "outputs": [],
   "source": [
    "patients_lvef = baseline[baseline['rID'].isin(res_union_lvef_rID)]\n",
    "admissions_lvef = admission[admission['rID'].isin(res_union_lvef_rID)]"
   ]
  },
  {
   "cell_type": "code",
   "execution_count": 56,
   "metadata": {},
   "outputs": [
    {
     "name": "stdout",
     "output_type": "stream",
     "text": [
      "14286 0.2562878978149331\n"
     ]
    }
   ],
   "source": [
    "print(admissions_lvef.shape[0], admissions_lvef.shape[0]/admission.shape[0])"
   ]
  },
  {
   "cell_type": "code",
   "execution_count": 57,
   "metadata": {},
   "outputs": [
    {
     "data": {
      "text/plain": [
       "(14286, 168)"
      ]
     },
     "execution_count": 57,
     "metadata": {},
     "output_type": "execute_result"
    }
   ],
   "source": [
    "admissions_lvef.shape"
   ]
  },
  {
   "cell_type": "markdown",
   "metadata": {},
   "source": [
    "# recover point"
   ]
  },
  {
   "cell_type": "code",
   "execution_count": 59,
   "metadata": {},
   "outputs": [],
   "source": [
    "admission_recover = admissions_lvef.copy()\n",
    "baseline_recover = patients_lvef.copy()"
   ]
  },
  {
   "cell_type": "code",
   "execution_count": 60,
   "metadata": {},
   "outputs": [],
   "source": [
    "admissions_lvef = admission_recover\n",
    "patients_lvef = baseline_recover"
   ]
  },
  {
   "cell_type": "code",
   "execution_count": 61,
   "metadata": {},
   "outputs": [
    {
     "data": {
      "text/plain": [
       "(14286, 168)"
      ]
     },
     "execution_count": 61,
     "metadata": {},
     "output_type": "execute_result"
    }
   ],
   "source": [
    "admissions_lvef.shape"
   ]
  },
  {
   "cell_type": "code",
   "execution_count": 62,
   "metadata": {},
   "outputs": [
    {
     "data": {
      "text/plain": [
       "(2521, 321)"
      ]
     },
     "execution_count": 62,
     "metadata": {},
     "output_type": "execute_result"
    }
   ],
   "source": [
    "patients_lvef.shape"
   ]
  },
  {
   "cell_type": "markdown",
   "metadata": {},
   "source": [
    "# *Add an attribute in admission dataset: admission_count"
   ]
  },
  {
   "cell_type": "markdown",
   "metadata": {},
   "source": [
    "admission_count: what number of times is this admission for a patient (e.g. first time, third times)"
   ]
  },
  {
   "cell_type": "markdown",
   "metadata": {},
   "source": [
    "work on the admissions_lvef dataframe"
   ]
  },
  {
   "cell_type": "code",
   "execution_count": 58,
   "metadata": {},
   "outputs": [],
   "source": [
    "admissions_lvef.reset_index(inplace=True, drop=True)"
   ]
  },
  {
   "cell_type": "code",
   "execution_count": 59,
   "metadata": {},
   "outputs": [
    {
     "name": "stderr",
     "output_type": "stream",
     "text": [
      "/Users/jinchenxie/miniconda3/envs/research_env/lib/python3.6/site-packages/ipykernel_launcher.py:4: FutureWarning: set_value is deprecated and will be removed in a future release. Please use .at[] or .iat[] accessors instead\n",
      "  after removing the cwd from sys.path.\n",
      "/Users/jinchenxie/miniconda3/envs/research_env/lib/python3.6/site-packages/pandas/core/indexing.py:376: SettingWithCopyWarning: \n",
      "A value is trying to be set on a copy of a slice from a DataFrame.\n",
      "Try using .loc[row_indexer,col_indexer] = value instead\n",
      "\n",
      "See the caveats in the documentation: http://pandas.pydata.org/pandas-docs/stable/user_guide/indexing.html#returning-a-view-versus-a-copy\n",
      "  self.obj[key] = _infer_fill_value(value)\n",
      "/Users/jinchenxie/miniconda3/envs/research_env/lib/python3.6/site-packages/pandas/core/indexing.py:494: SettingWithCopyWarning: \n",
      "A value is trying to be set on a copy of a slice from a DataFrame.\n",
      "Try using .loc[row_indexer,col_indexer] = value instead\n",
      "\n",
      "See the caveats in the documentation: http://pandas.pydata.org/pandas-docs/stable/user_guide/indexing.html#returning-a-view-versus-a-copy\n",
      "  self.obj[item] = s\n"
     ]
    }
   ],
   "source": [
    "for i in admissions_lvef.rID.unique():\n",
    "    index = admissions_lvef[admissions_lvef['rID'] == i].index\n",
    "    for j in range(len(index)):\n",
    "        admissions_lvef = admissions_lvef.set_value(index[j],'admission_count',j+1)"
   ]
  },
  {
   "cell_type": "code",
   "execution_count": 60,
   "metadata": {},
   "outputs": [
    {
     "data": {
      "text/plain": [
       "(14286, 169)"
      ]
     },
     "execution_count": 60,
     "metadata": {},
     "output_type": "execute_result"
    }
   ],
   "source": [
    "admissions_lvef.shape"
   ]
  },
  {
   "cell_type": "code",
   "execution_count": 66,
   "metadata": {},
   "outputs": [
    {
     "data": {
      "text/plain": [
       "(2521, 321)"
      ]
     },
     "execution_count": 66,
     "metadata": {},
     "output_type": "execute_result"
    }
   ],
   "source": [
    "patients_lvef.shape"
   ]
  },
  {
   "cell_type": "markdown",
   "metadata": {},
   "source": [
    "# *Add an attribute \"last_adm\" in admission dataset"
   ]
  },
  {
   "cell_type": "code",
   "execution_count": 61,
   "metadata": {},
   "outputs": [
    {
     "name": "stderr",
     "output_type": "stream",
     "text": [
      "/Users/jinchenxie/miniconda3/envs/research_env/lib/python3.6/site-packages/ipykernel_launcher.py:7: FutureWarning: set_value is deprecated and will be removed in a future release. Please use .at[] or .iat[] accessors instead\n",
      "  import sys\n",
      "/Users/jinchenxie/miniconda3/envs/research_env/lib/python3.6/site-packages/ipykernel_launcher.py:5: FutureWarning: set_value is deprecated and will be removed in a future release. Please use .at[] or .iat[] accessors instead\n",
      "  \"\"\"\n"
     ]
    }
   ],
   "source": [
    "for i in admissions_lvef.rID.unique():\n",
    "    index = admissions_lvef[admissions_lvef['rID'] == i].index\n",
    "    for j in range(len(index)):\n",
    "        if j+1 == len(index):\n",
    "            admissions_lvef = admissions_lvef.set_value(index[j],'last_adm',1)\n",
    "        else:\n",
    "            admissions_lvef = admissions_lvef.set_value(index[j],'last_adm',0)"
   ]
  },
  {
   "cell_type": "code",
   "execution_count": 62,
   "metadata": {},
   "outputs": [
    {
     "data": {
      "text/plain": [
       "(14286, 170)"
      ]
     },
     "execution_count": 62,
     "metadata": {},
     "output_type": "execute_result"
    }
   ],
   "source": [
    "admissions_lvef.shape"
   ]
  },
  {
   "cell_type": "code",
   "execution_count": 69,
   "metadata": {},
   "outputs": [
    {
     "data": {
      "text/plain": [
       "(2521, 321)"
      ]
     },
     "execution_count": 69,
     "metadata": {},
     "output_type": "execute_result"
    }
   ],
   "source": [
    "patients_lvef.shape"
   ]
  },
  {
   "cell_type": "markdown",
   "metadata": {},
   "source": [
    "# Dealing with Abnormal Admission Records"
   ]
  },
  {
   "cell_type": "code",
   "execution_count": 63,
   "metadata": {
    "code_folding": [
     0
    ]
   },
   "outputs": [
    {
     "name": "stderr",
     "output_type": "stream",
     "text": [
      "/Users/jinchenxie/miniconda3/envs/research_env/lib/python3.6/site-packages/ipykernel_launcher.py:3: FutureWarning: set_value is deprecated and will be removed in a future release. Please use .at[] or .iat[] accessors instead\n",
      "  This is separate from the ipykernel package so we can avoid doing imports until\n",
      "/Users/jinchenxie/miniconda3/envs/research_env/lib/python3.6/site-packages/ipykernel_launcher.py:5: FutureWarning: set_value is deprecated and will be removed in a future release. Please use .at[] or .iat[] accessors instead\n",
      "  \"\"\"\n",
      "/Users/jinchenxie/miniconda3/envs/research_env/lib/python3.6/site-packages/ipykernel_launcher.py:7: FutureWarning: set_value is deprecated and will be removed in a future release. Please use .at[] or .iat[] accessors instead\n",
      "  import sys\n",
      "/Users/jinchenxie/miniconda3/envs/research_env/lib/python3.6/site-packages/ipykernel_launcher.py:9: FutureWarning: set_value is deprecated and will be removed in a future release. Please use .at[] or .iat[] accessors instead\n",
      "  if __name__ == '__main__':\n",
      "/Users/jinchenxie/miniconda3/envs/research_env/lib/python3.6/site-packages/ipykernel_launcher.py:11: FutureWarning: set_value is deprecated and will be removed in a future release. Please use .at[] or .iat[] accessors instead\n",
      "  # This is added back by InteractiveShellApp.init_path()\n",
      "/Users/jinchenxie/miniconda3/envs/research_env/lib/python3.6/site-packages/ipykernel_launcher.py:13: FutureWarning: set_value is deprecated and will be removed in a future release. Please use .at[] or .iat[] accessors instead\n",
      "  del sys.path[0]\n",
      "/Users/jinchenxie/miniconda3/envs/research_env/lib/python3.6/site-packages/ipykernel_launcher.py:15: FutureWarning: set_value is deprecated and will be removed in a future release. Please use .at[] or .iat[] accessors instead\n",
      "  from ipykernel import kernelapp as app\n",
      "/Users/jinchenxie/miniconda3/envs/research_env/lib/python3.6/site-packages/ipykernel_launcher.py:17: FutureWarning: set_value is deprecated and will be removed in a future release. Please use .at[] or .iat[] accessors instead\n",
      "/Users/jinchenxie/miniconda3/envs/research_env/lib/python3.6/site-packages/ipykernel_launcher.py:19: FutureWarning: set_value is deprecated and will be removed in a future release. Please use .at[] or .iat[] accessors instead\n",
      "/Users/jinchenxie/miniconda3/envs/research_env/lib/python3.6/site-packages/ipykernel_launcher.py:21: FutureWarning: set_value is deprecated and will be removed in a future release. Please use .at[] or .iat[] accessors instead\n",
      "/Users/jinchenxie/miniconda3/envs/research_env/lib/python3.6/site-packages/ipykernel_launcher.py:23: FutureWarning: set_value is deprecated and will be removed in a future release. Please use .at[] or .iat[] accessors instead\n",
      "/Users/jinchenxie/miniconda3/envs/research_env/lib/python3.6/site-packages/ipykernel_launcher.py:25: FutureWarning: set_value is deprecated and will be removed in a future release. Please use .at[] or .iat[] accessors instead\n",
      "/Users/jinchenxie/miniconda3/envs/research_env/lib/python3.6/site-packages/ipykernel_launcher.py:27: FutureWarning: set_value is deprecated and will be removed in a future release. Please use .at[] or .iat[] accessors instead\n",
      "/Users/jinchenxie/miniconda3/envs/research_env/lib/python3.6/site-packages/ipykernel_launcher.py:29: FutureWarning: set_value is deprecated and will be removed in a future release. Please use .at[] or .iat[] accessors instead\n",
      "/Users/jinchenxie/miniconda3/envs/research_env/lib/python3.6/site-packages/ipykernel_launcher.py:31: FutureWarning: set_value is deprecated and will be removed in a future release. Please use .at[] or .iat[] accessors instead\n",
      "/Users/jinchenxie/miniconda3/envs/research_env/lib/python3.6/site-packages/ipykernel_launcher.py:33: FutureWarning: set_value is deprecated and will be removed in a future release. Please use .at[] or .iat[] accessors instead\n",
      "/Users/jinchenxie/miniconda3/envs/research_env/lib/python3.6/site-packages/ipykernel_launcher.py:35: FutureWarning: set_value is deprecated and will be removed in a future release. Please use .at[] or .iat[] accessors instead\n",
      "/Users/jinchenxie/miniconda3/envs/research_env/lib/python3.6/site-packages/ipykernel_launcher.py:38: FutureWarning: set_value is deprecated and will be removed in a future release. Please use .at[] or .iat[] accessors instead\n",
      "/Users/jinchenxie/miniconda3/envs/research_env/lib/python3.6/site-packages/ipykernel_launcher.py:41: FutureWarning: set_value is deprecated and will be removed in a future release. Please use .at[] or .iat[] accessors instead\n",
      "/Users/jinchenxie/miniconda3/envs/research_env/lib/python3.6/site-packages/ipykernel_launcher.py:43: FutureWarning: set_value is deprecated and will be removed in a future release. Please use .at[] or .iat[] accessors instead\n",
      "/Users/jinchenxie/miniconda3/envs/research_env/lib/python3.6/site-packages/ipykernel_launcher.py:45: FutureWarning: set_value is deprecated and will be removed in a future release. Please use .at[] or .iat[] accessors instead\n"
     ]
    }
   ],
   "source": [
    "# manually encoded abnormal orders of admission records\n",
    "admissions_lvef = admissions_lvef.set_value(admissions_lvef[admissions_lvef['rID']==167].index,'admission_count',\n",
    "                                 [2,1,3])\n",
    "admissions_lvef = admissions_lvef.set_value(admissions_lvef[admissions_lvef['rID']==167].index,'last_adm',\n",
    "                                 [0,0,1])\n",
    "admissions_lvef = admissions_lvef.set_value(admissions_lvef[admissions_lvef['rID']==480].index,'admission_count',\n",
    "                                 [5,1,2,3,4])\n",
    "admissions_lvef = admissions_lvef.set_value(admissions_lvef[admissions_lvef['rID']==480].index,'last_adm',\n",
    "                                 [1,0,0,0,0])\n",
    "admissions_lvef = admissions_lvef.set_value(admissions_lvef[admissions_lvef['rID']==718].index,'admission_count',\n",
    "                                 [17,1,2,3,4,5,6,7,8,9,10,11,12,13,14,15,16])\n",
    "admissions_lvef = admissions_lvef.set_value(admissions_lvef[admissions_lvef['rID']==718].index,'last_adm',\n",
    "                                 [1,0,0,0,0,0,0,0,0,0,0,0,0,0,0,0,0])\n",
    "admissions_lvef = admissions_lvef.set_value(admissions_lvef[admissions_lvef['rID']==1426].index,'admission_count',\n",
    "                                 [7,1,2,3,4,5,6])\n",
    "admissions_lvef = admissions_lvef.set_value(admissions_lvef[admissions_lvef['rID']==1426].index,'last_adm',\n",
    "                                 [1,0,0,0,0,0,0])\n",
    "admissions_lvef = admissions_lvef.set_value(admissions_lvef[admissions_lvef['rID']==1499].index,'admission_count',\n",
    "                                 [2,1,3,4,5,6,7])\n",
    "admissions_lvef = admissions_lvef.set_value(admissions_lvef[admissions_lvef['rID']==1942].index,'admission_count',\n",
    "                                 [3,1,2])\n",
    "admissions_lvef = admissions_lvef.set_value(admissions_lvef[admissions_lvef['rID']==1942].index,'last_adm',\n",
    "                                 [1,0,0])\n",
    "admissions_lvef = admissions_lvef.set_value(admissions_lvef[admissions_lvef['rID']==2916].index,'admission_count',\n",
    "                                 [8,1,2,3,4,5,6,7])\n",
    "admissions_lvef = admissions_lvef.set_value(admissions_lvef[admissions_lvef['rID']==2916].index,'last_adm',\n",
    "                                 [1,0,0,0,0,0,0,0])\n",
    "admissions_lvef = admissions_lvef.set_value(admissions_lvef[admissions_lvef['rID']==3305].index,'admission_count',\n",
    "                                 [10,1,2,3,4,5,6,7,8,9])\n",
    "admissions_lvef = admissions_lvef.set_value(admissions_lvef[admissions_lvef['rID']==3305].index,'last_adm',\n",
    "                                 [1,0,0,0,0,0,0,0,0,0])\n",
    "admissions_lvef = admissions_lvef.set_value(admissions_lvef[admissions_lvef['rID']==4894].index,'admission_count',\n",
    "                                 [3,1,2,4,5])\n",
    "admissions_lvef = admissions_lvef.set_value(admissions_lvef[admissions_lvef['rID']==7651].index,'admission_count',\n",
    "                                 [2,1,3])\n",
    "temp = [39]+ list(range(1,39))\n",
    "admissions_lvef = admissions_lvef.set_value(admissions_lvef[admissions_lvef['rID']==8405].index,'admission_count',\n",
    "                                temp)\n",
    "temp = [1] + [0]*38\n",
    "admissions_lvef = admissions_lvef.set_value(admissions_lvef[admissions_lvef['rID']==8405].index,'last_adm',\n",
    "                                 temp)\n",
    "admissions_lvef = admissions_lvef.set_value(admissions_lvef[admissions_lvef['rID']==234].index,'admission_count',\n",
    "                                 [2,1])\n",
    "admissions_lvef = admissions_lvef.set_value(admissions_lvef[admissions_lvef['rID']==234].index,'last_adm',\n",
    "                                 [1,0])"
   ]
  },
  {
   "cell_type": "code",
   "execution_count": 64,
   "metadata": {},
   "outputs": [
    {
     "data": {
      "text/plain": [
       "(14286, 170)"
      ]
     },
     "execution_count": 64,
     "metadata": {},
     "output_type": "execute_result"
    }
   ],
   "source": [
    "admissions_lvef.shape"
   ]
  },
  {
   "cell_type": "code",
   "execution_count": 72,
   "metadata": {},
   "outputs": [
    {
     "data": {
      "text/plain": [
       "(2521, 321)"
      ]
     },
     "execution_count": 72,
     "metadata": {},
     "output_type": "execute_result"
    }
   ],
   "source": [
    "patients_lvef.shape"
   ]
  },
  {
   "cell_type": "markdown",
   "metadata": {},
   "source": [
    "# Add \"total_adms\" attribute in baseline"
   ]
  },
  {
   "cell_type": "markdown",
   "metadata": {},
   "source": [
    "We add the \"total_adms\" as the total number of admissions for that patient."
   ]
  },
  {
   "cell_type": "code",
   "execution_count": 73,
   "metadata": {},
   "outputs": [],
   "source": [
    "patients_lvef.reset_index(inplace=True, drop=True)"
   ]
  },
  {
   "cell_type": "code",
   "execution_count": 74,
   "metadata": {},
   "outputs": [
    {
     "name": "stderr",
     "output_type": "stream",
     "text": [
      "/Users/jinchenxie/miniconda3/envs/research_env/lib/python3.6/site-packages/ipykernel_launcher.py:3: FutureWarning: set_value is deprecated and will be removed in a future release. Please use .at[] or .iat[] accessors instead\n",
      "  This is separate from the ipykernel package so we can avoid doing imports until\n"
     ]
    }
   ],
   "source": [
    "for index, i in enumerate(admissions_lvef.rID.unique()):\n",
    "    numbers = admissions_lvef[admissions_lvef['rID']==i].shape[0]\n",
    "    patients_lvef = patients_lvef.set_value(index,'total_adms',numbers)"
   ]
  },
  {
   "cell_type": "code",
   "execution_count": 75,
   "metadata": {},
   "outputs": [
    {
     "data": {
      "text/plain": [
       "2.0     413\n",
       "1.0     389\n",
       "3.0     332\n",
       "4.0     242\n",
       "5.0     198\n",
       "6.0     158\n",
       "7.0     157\n",
       "8.0     121\n",
       "9.0     101\n",
       "10.0     69\n",
       "11.0     60\n",
       "13.0     45\n",
       "12.0     39\n",
       "14.0     37\n",
       "15.0     31\n",
       "16.0     24\n",
       "17.0     21\n",
       "18.0     13\n",
       "20.0      9\n",
       "19.0      9\n",
       "21.0      8\n",
       "25.0      5\n",
       "23.0      5\n",
       "22.0      5\n",
       "27.0      4\n",
       "29.0      4\n",
       "24.0      4\n",
       "37.0      3\n",
       "30.0      2\n",
       "35.0      2\n",
       "26.0      2\n",
       "28.0      2\n",
       "45.0      2\n",
       "52.0      1\n",
       "36.0      1\n",
       "34.0      1\n",
       "43.0      1\n",
       "39.0      1\n",
       "Name: total_adms, dtype: int64"
      ]
     },
     "execution_count": 75,
     "metadata": {},
     "output_type": "execute_result"
    }
   ],
   "source": [
    "patients_lvef['total_adms'].value_counts()"
   ]
  },
  {
   "cell_type": "code",
   "execution_count": 76,
   "metadata": {},
   "outputs": [
    {
     "data": {
      "text/plain": [
       "<matplotlib.axes._subplots.AxesSubplot at 0x7fe493dc8128>"
      ]
     },
     "execution_count": 76,
     "metadata": {},
     "output_type": "execute_result"
    },
    {
     "data": {
      "image/png": "[encoded data removed]",
      "text/plain": [
       "<Figure size 432x288 with 1 Axes>"
      ]
     },
     "metadata": {
      "needs_background": "light"
     },
     "output_type": "display_data"
    }
   ],
   "source": [
    "patients_lvef['total_adms'].plot.hist(grid=False, bins=53)"
   ]
  },
  {
   "cell_type": "code",
   "execution_count": 77,
   "metadata": {},
   "outputs": [
    {
     "data": {
      "text/plain": [
       "(14286, 170)"
      ]
     },
     "execution_count": 77,
     "metadata": {},
     "output_type": "execute_result"
    }
   ],
   "source": [
    "admissions_lvef.shape"
   ]
  },
  {
   "cell_type": "code",
   "execution_count": 78,
   "metadata": {},
   "outputs": [
    {
     "data": {
      "text/plain": [
       "(2521, 322)"
      ]
     },
     "execution_count": 78,
     "metadata": {},
     "output_type": "execute_result"
    }
   ],
   "source": [
    "patients_lvef.shape"
   ]
  },
  {
   "cell_type": "markdown",
   "metadata": {},
   "source": [
    "# In-hospital Mortality Rate"
   ]
  },
  {
   "cell_type": "code",
   "execution_count": 79,
   "metadata": {},
   "outputs": [],
   "source": [
    "not_inmor = 0\n",
    "in_mor = 0\n",
    "in_mor_rID = []\n",
    "for i in admissions_lvef.rID.unique():\n",
    "    temp_df = admissions_lvef.loc[admissions_lvef['rID']==i]\n",
    "    if temp_df[temp_df['DISPOSITION']=='CTB'].shape[0] == 0:\n",
    "        not_inmor += 1\n",
    "    else:\n",
    "        in_mor += 1\n",
    "        in_mor_rID.append(i)"
   ]
  },
  {
   "cell_type": "code",
   "execution_count": 80,
   "metadata": {},
   "outputs": [
    {
     "name": "stdout",
     "output_type": "stream",
     "text": [
      "there are 475 patients CTB in hospital.\n",
      "In-hospital mortality rate of this cohort is 3.867%\n"
     ]
    }
   ],
   "source": [
    "print(\"there are %d patients CTB in hospital.\" %in_mor)\n",
    "print(\"In-hospital mortality rate of this cohort is %.3f%%\" %(in_mor/baseline.shape[0]*100))"
   ]
  },
  {
   "cell_type": "markdown",
   "metadata": {},
   "source": [
    "## create the \"in_CTB\" "
   ]
  },
  {
   "cell_type": "code",
   "execution_count": 81,
   "metadata": {},
   "outputs": [
    {
     "name": "stderr",
     "output_type": "stream",
     "text": [
      "/Users/jinchenxie/miniconda3/envs/research_env/lib/python3.6/site-packages/ipykernel_launcher.py:3: FutureWarning: set_value is deprecated and will be removed in a future release. Please use .at[] or .iat[] accessors instead\n",
      "  This is separate from the ipykernel package so we can avoid doing imports until\n"
     ]
    }
   ],
   "source": [
    "patients_lvef['in_CTB']=0\n",
    "patients_lvef = patients_lvef.set_value(patients_lvef[patients_lvef['rID'].isin(in_mor_rID)].index,\n",
    "                                        'in_CTB',1)"
   ]
  },
  {
   "cell_type": "code",
   "execution_count": 82,
   "metadata": {},
   "outputs": [
    {
     "data": {
      "text/plain": [
       "(475, 323)"
      ]
     },
     "execution_count": 82,
     "metadata": {},
     "output_type": "execute_result"
    }
   ],
   "source": [
    "patients_lvef[patients_lvef['in_CTB']==1].shape"
   ]
  },
  {
   "cell_type": "markdown",
   "metadata": {},
   "source": [
    "# recover point"
   ]
  },
  {
   "cell_type": "code",
   "execution_count": 83,
   "metadata": {},
   "outputs": [],
   "source": [
    "baseline_recover = patients_lvef.copy()\n",
    "admission_recover = admissions_lvef.copy()"
   ]
  },
  {
   "cell_type": "code",
   "execution_count": 84,
   "metadata": {},
   "outputs": [],
   "source": [
    "patients_lvef = baseline_recover.copy()"
   ]
  },
  {
   "cell_type": "code",
   "execution_count": 85,
   "metadata": {},
   "outputs": [
    {
     "data": {
      "text/plain": [
       "(2521, 323)"
      ]
     },
     "execution_count": 85,
     "metadata": {},
     "output_type": "execute_result"
    }
   ],
   "source": [
    "patients_lvef.shape"
   ]
  },
  {
   "cell_type": "code",
   "execution_count": 65,
   "metadata": {},
   "outputs": [
    {
     "data": {
      "text/plain": [
       "(14286, 170)"
      ]
     },
     "execution_count": 65,
     "metadata": {},
     "output_type": "execute_result"
    }
   ],
   "source": [
    "admissions_lvef.shape"
   ]
  },
  {
   "cell_type": "markdown",
   "metadata": {},
   "source": [
    "# Add \"30_day_CTB\""
   ]
  },
  {
   "cell_type": "code",
   "execution_count": 87,
   "metadata": {},
   "outputs": [
    {
     "name": "stderr",
     "output_type": "stream",
     "text": [
      "/Users/jinchenxie/miniconda3/envs/research_env/lib/python3.6/site-packages/ipykernel_launcher.py:4: FutureWarning: set_value is deprecated and will be removed in a future release. Please use .at[] or .iat[] accessors instead\n",
      "  after removing the cwd from sys.path.\n",
      "/Users/jinchenxie/miniconda3/envs/research_env/lib/python3.6/site-packages/pandas/core/frame.py:4244: SettingWithCopyWarning: \n",
      "A value is trying to be set on a copy of a slice from a DataFrame\n",
      "\n",
      "See the caveats in the documentation: http://pandas.pydata.org/pandas-docs/stable/user_guide/indexing.html#returning-a-view-versus-a-copy\n",
      "  **kwargs\n",
      "/Users/jinchenxie/miniconda3/envs/research_env/lib/python3.6/site-packages/ipykernel_launcher.py:25: SettingWithCopyWarning: \n",
      "A value is trying to be set on a copy of a slice from a DataFrame.\n",
      "Try using .loc[row_indexer,col_indexer] = value instead\n",
      "\n",
      "See the caveats in the documentation: http://pandas.pydata.org/pandas-docs/stable/user_guide/indexing.html#returning-a-view-versus-a-copy\n",
      "/Users/jinchenxie/miniconda3/envs/research_env/lib/python3.6/site-packages/ipykernel_launcher.py:31: SettingWithCopyWarning: \n",
      "A value is trying to be set on a copy of a slice from a DataFrame.\n",
      "Try using .loc[row_indexer,col_indexer] = value instead\n",
      "\n",
      "See the caveats in the documentation: http://pandas.pydata.org/pandas-docs/stable/user_guide/indexing.html#returning-a-view-versus-a-copy\n",
      "/Users/jinchenxie/miniconda3/envs/research_env/lib/python3.6/site-packages/ipykernel_launcher.py:35: SettingWithCopyWarning: \n",
      "A value is trying to be set on a copy of a slice from a DataFrame.\n",
      "Try using .loc[row_indexer,col_indexer] = value instead\n",
      "\n",
      "See the caveats in the documentation: http://pandas.pydata.org/pandas-docs/stable/user_guide/indexing.html#returning-a-view-versus-a-copy\n",
      "/Users/jinchenxie/miniconda3/envs/research_env/lib/python3.6/site-packages/ipykernel_launcher.py:37: FutureWarning: set_value is deprecated and will be removed in a future release. Please use .at[] or .iat[] accessors instead\n",
      "/Users/jinchenxie/miniconda3/envs/research_env/lib/python3.6/site-packages/ipykernel_launcher.py:48: SettingWithCopyWarning: \n",
      "A value is trying to be set on a copy of a slice from a DataFrame.\n",
      "Try using .loc[row_indexer,col_indexer] = value instead\n",
      "\n",
      "See the caveats in the documentation: http://pandas.pydata.org/pandas-docs/stable/user_guide/indexing.html#returning-a-view-versus-a-copy\n",
      "/Users/jinchenxie/miniconda3/envs/research_env/lib/python3.6/site-packages/ipykernel_launcher.py:52: FutureWarning: set_value is deprecated and will be removed in a future release. Please use .at[] or .iat[] accessors instead\n"
     ]
    },
    {
     "data": {
      "text/html": [
       "<div>\n",
       "<style scoped>\n",
       "    .dataframe tbody tr th:only-of-type {\n",
       "        vertical-align: middle;\n",
       "    }\n",
       "\n",
       "    .dataframe tbody tr th {\n",
       "        vertical-align: top;\n",
       "    }\n",
       "\n",
       "    .dataframe thead th {\n",
       "        text-align: right;\n",
       "    }\n",
       "</style>\n",
       "<table border=\"1\" class=\"dataframe\">\n",
       "  <thead>\n",
       "    <tr style=\"text-align: right;\">\n",
       "      <th></th>\n",
       "      <th>rID</th>\n",
       "      <th>LOS_DAYS</th>\n",
       "      <th>HOSP_CR</th>\n",
       "      <th>HOSP_BILI</th>\n",
       "      <th>HOSP_INR</th>\n",
       "      <th>HOSP_NA</th>\n",
       "      <th>HOSP_EGFR</th>\n",
       "      <th>PRIMARY_DIAGNOSIS_CODE</th>\n",
       "      <th>PRIMARY_DIAGNOSIS_DESCRIPTION</th>\n",
       "      <th>AGE_ADMISSION</th>\n",
       "      <th>AGE_OFFICE_VISIT</th>\n",
       "      <th>FEMALE</th>\n",
       "      <th>RACE</th>\n",
       "      <th>ETHNIC_GROUP</th>\n",
       "      <th>BMI</th>\n",
       "      <th>WEIGHT_KG</th>\n",
       "      <th>ORD</th>\n",
       "      <th>DAYS_TO_CLOSEST_OFFICE_VISIT</th>\n",
       "      <th>DEPARTMENT_NAME</th>\n",
       "      <th>EXTERNAL_DEPARTMENT_NAME</th>\n",
       "      <th>DEPARTMENT_SPECIALTY</th>\n",
       "      <th>BP_SYSTOLIC</th>\n",
       "      <th>BP_DIASTOLIC</th>\n",
       "      <th>PULSE</th>\n",
       "      <th>FINANCIAL_CLASS_CODE</th>\n",
       "      <th>...</th>\n",
       "      <th>INR_DAYS</th>\n",
       "      <th>BLOOD_TYPE</th>\n",
       "      <th>CLOSEST_MELD</th>\n",
       "      <th>VERIFIED_MELD</th>\n",
       "      <th>MELD_EST_MORTALITY</th>\n",
       "      <th>RHC_FOUND</th>\n",
       "      <th>RA_MEAN_PRESSURE</th>\n",
       "      <th>RA_MEAN_PRESSURE_DAYS</th>\n",
       "      <th>THERMAL_CARDIAC_INDEX</th>\n",
       "      <th>THERMAL_CARDIAC_INDEX_DAYS</th>\n",
       "      <th>FICK_CARDIAC_INDEX</th>\n",
       "      <th>FICK_CARDIAC_INDEX_DAYS</th>\n",
       "      <th>PA_SATURATION</th>\n",
       "      <th>PA_SATURATION_DAYS</th>\n",
       "      <th>WEDGE_MEAN_PRESSURE</th>\n",
       "      <th>WEDGE_MEAN_PRESSURE_DAYS</th>\n",
       "      <th>PULM_ART_SYS_PRESSURE</th>\n",
       "      <th>PULM_ART_SYS_PRESSURE_DAYS</th>\n",
       "      <th>CTB</th>\n",
       "      <th>FOLLOWUP_DAYS</th>\n",
       "      <th>AGE_CENSOR</th>\n",
       "      <th>Corrected_Followup_Days</th>\n",
       "      <th>total_adms</th>\n",
       "      <th>in_CTB</th>\n",
       "      <th>CTB_days</th>\n",
       "    </tr>\n",
       "  </thead>\n",
       "  <tbody>\n",
       "    <tr>\n",
       "      <td>0</td>\n",
       "      <td>5</td>\n",
       "      <td>3.121</td>\n",
       "      <td>1.04</td>\n",
       "      <td>1.00</td>\n",
       "      <td>1.1</td>\n",
       "      <td>141.0</td>\n",
       "      <td>91.09</td>\n",
       "      <td>I50.23</td>\n",
       "      <td>ACUTE ON CHRONIC SYSTOLIC</td>\n",
       "      <td>51</td>\n",
       "      <td>51.3</td>\n",
       "      <td>0</td>\n",
       "      <td>Black</td>\n",
       "      <td>Not Hispanic or Latino</td>\n",
       "      <td>44.74</td>\n",
       "      <td>153.77</td>\n",
       "      <td>1</td>\n",
       "      <td>-63</td>\n",
       "      <td>XHVI MERCY OFC</td>\n",
       "      <td>HVI at Mercy</td>\n",
       "      <td>Cardiology</td>\n",
       "      <td>140.0</td>\n",
       "      <td>100.0</td>\n",
       "      <td>78.0</td>\n",
       "      <td>UX</td>\n",
       "      <td>...</td>\n",
       "      <td>NaN</td>\n",
       "      <td>NaN</td>\n",
       "      <td>7.872816</td>\n",
       "      <td>-1.0</td>\n",
       "      <td>1.9</td>\n",
       "      <td>0</td>\n",
       "      <td>NaN</td>\n",
       "      <td>NaN</td>\n",
       "      <td>NaN</td>\n",
       "      <td>NaN</td>\n",
       "      <td>NaN</td>\n",
       "      <td>NaN</td>\n",
       "      <td>NaN</td>\n",
       "      <td>NaN</td>\n",
       "      <td>NaN</td>\n",
       "      <td>NaN</td>\n",
       "      <td>NaN</td>\n",
       "      <td>NaN</td>\n",
       "      <td>0</td>\n",
       "      <td>1407</td>\n",
       "      <td>55</td>\n",
       "      <td>1344.0</td>\n",
       "      <td>4.0</td>\n",
       "      <td>0</td>\n",
       "      <td>NaN</td>\n",
       "    </tr>\n",
       "    <tr>\n",
       "      <td>1</td>\n",
       "      <td>10</td>\n",
       "      <td>3.860</td>\n",
       "      <td>0.90</td>\n",
       "      <td>0.50</td>\n",
       "      <td>1.1</td>\n",
       "      <td>139.0</td>\n",
       "      <td>62.30</td>\n",
       "      <td>I50.43</td>\n",
       "      <td>ACUTE ON CHRONIC COMBINED</td>\n",
       "      <td>67</td>\n",
       "      <td>67.8</td>\n",
       "      <td>1</td>\n",
       "      <td>White</td>\n",
       "      <td>Not Hispanic or Latino</td>\n",
       "      <td>37.69</td>\n",
       "      <td>87.54</td>\n",
       "      <td>1</td>\n",
       "      <td>-3</td>\n",
       "      <td>PGH CARDIOLOGY SHDYS</td>\n",
       "      <td>PITTSBURGH CARDIOLOGY CONSULTANTS</td>\n",
       "      <td>Cardiology</td>\n",
       "      <td>110.0</td>\n",
       "      <td>76.0</td>\n",
       "      <td>87.0</td>\n",
       "      <td>M</td>\n",
       "      <td>...</td>\n",
       "      <td>3.0</td>\n",
       "      <td>NaN</td>\n",
       "      <td>7.497474</td>\n",
       "      <td>-1.0</td>\n",
       "      <td>1.9</td>\n",
       "      <td>1</td>\n",
       "      <td>14.0</td>\n",
       "      <td>-1.9771</td>\n",
       "      <td>NaN</td>\n",
       "      <td>NaN</td>\n",
       "      <td>2.72</td>\n",
       "      <td>-1.9771</td>\n",
       "      <td>58.0</td>\n",
       "      <td>-1.9771</td>\n",
       "      <td>NaN</td>\n",
       "      <td>NaN</td>\n",
       "      <td>47.0</td>\n",
       "      <td>-1.9771</td>\n",
       "      <td>0</td>\n",
       "      <td>1329</td>\n",
       "      <td>71</td>\n",
       "      <td>1326.0</td>\n",
       "      <td>2.0</td>\n",
       "      <td>0</td>\n",
       "      <td>NaN</td>\n",
       "    </tr>\n",
       "    <tr>\n",
       "      <td>2</td>\n",
       "      <td>16</td>\n",
       "      <td>9.145</td>\n",
       "      <td>1.35</td>\n",
       "      <td>0.80</td>\n",
       "      <td>1.1</td>\n",
       "      <td>139.0</td>\n",
       "      <td>51.64</td>\n",
       "      <td>428.43</td>\n",
       "      <td>AC-CHR COMB S/D HRT FAIL</td>\n",
       "      <td>74</td>\n",
       "      <td>74.1</td>\n",
       "      <td>0</td>\n",
       "      <td>White</td>\n",
       "      <td>Declined</td>\n",
       "      <td>37.02</td>\n",
       "      <td>117.03</td>\n",
       "      <td>1</td>\n",
       "      <td>0</td>\n",
       "      <td>HVI ST MARG OFFICE</td>\n",
       "      <td>HVI St Marg ofc</td>\n",
       "      <td>Cardiology</td>\n",
       "      <td>110.0</td>\n",
       "      <td>74.0</td>\n",
       "      <td>68.0</td>\n",
       "      <td>M</td>\n",
       "      <td>...</td>\n",
       "      <td>0.0</td>\n",
       "      <td>NaN</td>\n",
       "      <td>10.369475</td>\n",
       "      <td>-1.0</td>\n",
       "      <td>6.0</td>\n",
       "      <td>1</td>\n",
       "      <td>10.0</td>\n",
       "      <td>6.8313</td>\n",
       "      <td>2.39</td>\n",
       "      <td>6.8313</td>\n",
       "      <td>2.47</td>\n",
       "      <td>6.8313</td>\n",
       "      <td>59.0</td>\n",
       "      <td>6.8313</td>\n",
       "      <td>20.0</td>\n",
       "      <td>6.8313</td>\n",
       "      <td>67.0</td>\n",
       "      <td>6.8313</td>\n",
       "      <td>1</td>\n",
       "      <td>515</td>\n",
       "      <td>75</td>\n",
       "      <td>515.0</td>\n",
       "      <td>5.0</td>\n",
       "      <td>0</td>\n",
       "      <td>226.981</td>\n",
       "    </tr>\n",
       "    <tr>\n",
       "      <td>3</td>\n",
       "      <td>28</td>\n",
       "      <td>3.076</td>\n",
       "      <td>1.25</td>\n",
       "      <td>0.60</td>\n",
       "      <td>1.0</td>\n",
       "      <td>144.0</td>\n",
       "      <td>41.72</td>\n",
       "      <td>I50.23</td>\n",
       "      <td>ACUTE ON CHRONIC SYSTOLIC</td>\n",
       "      <td>75</td>\n",
       "      <td>75.5</td>\n",
       "      <td>1</td>\n",
       "      <td>White</td>\n",
       "      <td>Not Hispanic or Latino</td>\n",
       "      <td>30.68</td>\n",
       "      <td>86.18</td>\n",
       "      <td>1</td>\n",
       "      <td>6</td>\n",
       "      <td>RUSS MED NATRONA HGTS</td>\n",
       "      <td>Russelton Medical Group Natrona Heights</td>\n",
       "      <td>Internal Medicine</td>\n",
       "      <td>120.0</td>\n",
       "      <td>60.0</td>\n",
       "      <td>NaN</td>\n",
       "      <td>MS</td>\n",
       "      <td>...</td>\n",
       "      <td>-6.0</td>\n",
       "      <td>A+</td>\n",
       "      <td>8.565484</td>\n",
       "      <td>-1.0</td>\n",
       "      <td>1.9</td>\n",
       "      <td>1</td>\n",
       "      <td>4.0</td>\n",
       "      <td>1.0910</td>\n",
       "      <td>2.09</td>\n",
       "      <td>1.0910</td>\n",
       "      <td>NaN</td>\n",
       "      <td>NaN</td>\n",
       "      <td>68.0</td>\n",
       "      <td>1.0910</td>\n",
       "      <td>12.0</td>\n",
       "      <td>1.0910</td>\n",
       "      <td>37.0</td>\n",
       "      <td>1.0910</td>\n",
       "      <td>0</td>\n",
       "      <td>1514</td>\n",
       "      <td>79</td>\n",
       "      <td>1520.0</td>\n",
       "      <td>1.0</td>\n",
       "      <td>0</td>\n",
       "      <td>NaN</td>\n",
       "    </tr>\n",
       "    <tr>\n",
       "      <td>4</td>\n",
       "      <td>31</td>\n",
       "      <td>3.409</td>\n",
       "      <td>1.60</td>\n",
       "      <td>0.33</td>\n",
       "      <td>1.1</td>\n",
       "      <td>138.0</td>\n",
       "      <td>43.15</td>\n",
       "      <td>428.23</td>\n",
       "      <td>AC-CHR SYSTOL HRT FAIL</td>\n",
       "      <td>68</td>\n",
       "      <td>68.4</td>\n",
       "      <td>0</td>\n",
       "      <td>White</td>\n",
       "      <td>Not Hispanic or Latino</td>\n",
       "      <td>21.13</td>\n",
       "      <td>57.61</td>\n",
       "      <td>1</td>\n",
       "      <td>8</td>\n",
       "      <td>CA SHDYSD OFFICE</td>\n",
       "      <td>Cardiac Surgery- Shadyside Office</td>\n",
       "      <td>Cardiac Surgery</td>\n",
       "      <td>167.0</td>\n",
       "      <td>79.0</td>\n",
       "      <td>NaN</td>\n",
       "      <td>UM</td>\n",
       "      <td>...</td>\n",
       "      <td>0.0</td>\n",
       "      <td>A+</td>\n",
       "      <td>11.995409</td>\n",
       "      <td>-1.0</td>\n",
       "      <td>6.0</td>\n",
       "      <td>0</td>\n",
       "      <td>NaN</td>\n",
       "      <td>NaN</td>\n",
       "      <td>NaN</td>\n",
       "      <td>NaN</td>\n",
       "      <td>NaN</td>\n",
       "      <td>NaN</td>\n",
       "      <td>NaN</td>\n",
       "      <td>NaN</td>\n",
       "      <td>NaN</td>\n",
       "      <td>NaN</td>\n",
       "      <td>NaN</td>\n",
       "      <td>NaN</td>\n",
       "      <td>0</td>\n",
       "      <td>2017</td>\n",
       "      <td>73</td>\n",
       "      <td>2025.0</td>\n",
       "      <td>4.0</td>\n",
       "      <td>0</td>\n",
       "      <td>NaN</td>\n",
       "    </tr>\n",
       "    <tr>\n",
       "      <td>...</td>\n",
       "      <td>...</td>\n",
       "      <td>...</td>\n",
       "      <td>...</td>\n",
       "      <td>...</td>\n",
       "      <td>...</td>\n",
       "      <td>...</td>\n",
       "      <td>...</td>\n",
       "      <td>...</td>\n",
       "      <td>...</td>\n",
       "      <td>...</td>\n",
       "      <td>...</td>\n",
       "      <td>...</td>\n",
       "      <td>...</td>\n",
       "      <td>...</td>\n",
       "      <td>...</td>\n",
       "      <td>...</td>\n",
       "      <td>...</td>\n",
       "      <td>...</td>\n",
       "      <td>...</td>\n",
       "      <td>...</td>\n",
       "      <td>...</td>\n",
       "      <td>...</td>\n",
       "      <td>...</td>\n",
       "      <td>...</td>\n",
       "      <td>...</td>\n",
       "      <td>...</td>\n",
       "      <td>...</td>\n",
       "      <td>...</td>\n",
       "      <td>...</td>\n",
       "      <td>...</td>\n",
       "      <td>...</td>\n",
       "      <td>...</td>\n",
       "      <td>...</td>\n",
       "      <td>...</td>\n",
       "      <td>...</td>\n",
       "      <td>...</td>\n",
       "      <td>...</td>\n",
       "      <td>...</td>\n",
       "      <td>...</td>\n",
       "      <td>...</td>\n",
       "      <td>...</td>\n",
       "      <td>...</td>\n",
       "      <td>...</td>\n",
       "      <td>...</td>\n",
       "      <td>...</td>\n",
       "      <td>...</td>\n",
       "      <td>...</td>\n",
       "      <td>...</td>\n",
       "      <td>...</td>\n",
       "      <td>...</td>\n",
       "      <td>...</td>\n",
       "    </tr>\n",
       "    <tr>\n",
       "      <td>2516</td>\n",
       "      <td>12247</td>\n",
       "      <td>13.016</td>\n",
       "      <td>11.30</td>\n",
       "      <td>0.40</td>\n",
       "      <td>1.1</td>\n",
       "      <td>143.0</td>\n",
       "      <td>4.37</td>\n",
       "      <td>428.31</td>\n",
       "      <td>AC DIASTOL HEART FAIL</td>\n",
       "      <td>48</td>\n",
       "      <td>48.1</td>\n",
       "      <td>1</td>\n",
       "      <td>Black</td>\n",
       "      <td>Not Hispanic or Latino</td>\n",
       "      <td>32.97</td>\n",
       "      <td>100.52</td>\n",
       "      <td>1</td>\n",
       "      <td>-2</td>\n",
       "      <td>GLEASON MEDICAL ASSOC</td>\n",
       "      <td>Gleason Medical Associates Edgewood</td>\n",
       "      <td>Internal Medicine</td>\n",
       "      <td>180.0</td>\n",
       "      <td>96.0</td>\n",
       "      <td>94.0</td>\n",
       "      <td>B</td>\n",
       "      <td>...</td>\n",
       "      <td>2.0</td>\n",
       "      <td>O+</td>\n",
       "      <td>20.764311</td>\n",
       "      <td>-1.0</td>\n",
       "      <td>19.6</td>\n",
       "      <td>0</td>\n",
       "      <td>NaN</td>\n",
       "      <td>NaN</td>\n",
       "      <td>NaN</td>\n",
       "      <td>NaN</td>\n",
       "      <td>NaN</td>\n",
       "      <td>NaN</td>\n",
       "      <td>NaN</td>\n",
       "      <td>NaN</td>\n",
       "      <td>NaN</td>\n",
       "      <td>NaN</td>\n",
       "      <td>NaN</td>\n",
       "      <td>NaN</td>\n",
       "      <td>0</td>\n",
       "      <td>2557</td>\n",
       "      <td>55</td>\n",
       "      <td>2555.0</td>\n",
       "      <td>11.0</td>\n",
       "      <td>0</td>\n",
       "      <td>NaN</td>\n",
       "    </tr>\n",
       "    <tr>\n",
       "      <td>2517</td>\n",
       "      <td>12253</td>\n",
       "      <td>1.869</td>\n",
       "      <td>1.46</td>\n",
       "      <td>0.60</td>\n",
       "      <td>NaN</td>\n",
       "      <td>142.0</td>\n",
       "      <td>49.18</td>\n",
       "      <td>428.20</td>\n",
       "      <td>SYSTOL HEART FAILURE NOS</td>\n",
       "      <td>60</td>\n",
       "      <td>60.4</td>\n",
       "      <td>0</td>\n",
       "      <td>White</td>\n",
       "      <td>Not Hispanic or Latino</td>\n",
       "      <td>31.96</td>\n",
       "      <td>112.94</td>\n",
       "      <td>1</td>\n",
       "      <td>7</td>\n",
       "      <td>PRIMARY CARE PARTNERS</td>\n",
       "      <td>Primary Care Partners UPMC</td>\n",
       "      <td>Internal Medicine</td>\n",
       "      <td>118.0</td>\n",
       "      <td>86.0</td>\n",
       "      <td>NaN</td>\n",
       "      <td>BE</td>\n",
       "      <td>...</td>\n",
       "      <td>-9.0</td>\n",
       "      <td>O+</td>\n",
       "      <td>6.430000</td>\n",
       "      <td>0.0</td>\n",
       "      <td>1.9</td>\n",
       "      <td>0</td>\n",
       "      <td>NaN</td>\n",
       "      <td>NaN</td>\n",
       "      <td>NaN</td>\n",
       "      <td>NaN</td>\n",
       "      <td>NaN</td>\n",
       "      <td>NaN</td>\n",
       "      <td>NaN</td>\n",
       "      <td>NaN</td>\n",
       "      <td>NaN</td>\n",
       "      <td>NaN</td>\n",
       "      <td>NaN</td>\n",
       "      <td>NaN</td>\n",
       "      <td>1</td>\n",
       "      <td>215</td>\n",
       "      <td>60</td>\n",
       "      <td>222.0</td>\n",
       "      <td>2.0</td>\n",
       "      <td>0</td>\n",
       "      <td>20.791</td>\n",
       "    </tr>\n",
       "    <tr>\n",
       "      <td>2518</td>\n",
       "      <td>12260</td>\n",
       "      <td>6.540</td>\n",
       "      <td>0.90</td>\n",
       "      <td>0.46</td>\n",
       "      <td>1.2</td>\n",
       "      <td>143.0</td>\n",
       "      <td>61.00</td>\n",
       "      <td>I50.43</td>\n",
       "      <td>ACUTE ON CHRONIC COMBINED</td>\n",
       "      <td>75</td>\n",
       "      <td>75.4</td>\n",
       "      <td>1</td>\n",
       "      <td>White</td>\n",
       "      <td>Not Hispanic or Latino</td>\n",
       "      <td>43.26</td>\n",
       "      <td>121.56</td>\n",
       "      <td>1</td>\n",
       "      <td>51</td>\n",
       "      <td>S K NARLA MD MCK HBC</td>\n",
       "      <td>SUDHIR K NARLA MD-MCK HBC</td>\n",
       "      <td>Gastroenterology</td>\n",
       "      <td>98.0</td>\n",
       "      <td>70.0</td>\n",
       "      <td>98.0</td>\n",
       "      <td>S</td>\n",
       "      <td>...</td>\n",
       "      <td>17.0</td>\n",
       "      <td>O-</td>\n",
       "      <td>8.472001</td>\n",
       "      <td>-1.0</td>\n",
       "      <td>1.9</td>\n",
       "      <td>0</td>\n",
       "      <td>NaN</td>\n",
       "      <td>NaN</td>\n",
       "      <td>NaN</td>\n",
       "      <td>NaN</td>\n",
       "      <td>NaN</td>\n",
       "      <td>NaN</td>\n",
       "      <td>NaN</td>\n",
       "      <td>NaN</td>\n",
       "      <td>NaN</td>\n",
       "      <td>NaN</td>\n",
       "      <td>NaN</td>\n",
       "      <td>NaN</td>\n",
       "      <td>1</td>\n",
       "      <td>1153</td>\n",
       "      <td>78</td>\n",
       "      <td>1204.0</td>\n",
       "      <td>5.0</td>\n",
       "      <td>0</td>\n",
       "      <td>315.984</td>\n",
       "    </tr>\n",
       "    <tr>\n",
       "      <td>2519</td>\n",
       "      <td>12263</td>\n",
       "      <td>11.833</td>\n",
       "      <td>2.20</td>\n",
       "      <td>0.80</td>\n",
       "      <td>1.1</td>\n",
       "      <td>141.0</td>\n",
       "      <td>30.20</td>\n",
       "      <td>428.0</td>\n",
       "      <td>CONGESTVE HRT FAILUR NOS</td>\n",
       "      <td>64</td>\n",
       "      <td>65.0</td>\n",
       "      <td>0</td>\n",
       "      <td>White</td>\n",
       "      <td>Not Hispanic or Latino</td>\n",
       "      <td>21.31</td>\n",
       "      <td>67.36</td>\n",
       "      <td>1</td>\n",
       "      <td>61</td>\n",
       "      <td>XCA UNIVERSITY CENTER</td>\n",
       "      <td>Cardiac Surgery - University Center</td>\n",
       "      <td>Cardiac Surgery</td>\n",
       "      <td>116.0</td>\n",
       "      <td>82.0</td>\n",
       "      <td>68.0</td>\n",
       "      <td>2M</td>\n",
       "      <td>...</td>\n",
       "      <td>NaN</td>\n",
       "      <td>A+</td>\n",
       "      <td>15.043011</td>\n",
       "      <td>-1.0</td>\n",
       "      <td>6.0</td>\n",
       "      <td>1</td>\n",
       "      <td>9.0</td>\n",
       "      <td>1.7104</td>\n",
       "      <td>2.13</td>\n",
       "      <td>1.7104</td>\n",
       "      <td>2.18</td>\n",
       "      <td>1.7104</td>\n",
       "      <td>64.0</td>\n",
       "      <td>1.7104</td>\n",
       "      <td>33.0</td>\n",
       "      <td>1.7104</td>\n",
       "      <td>68.0</td>\n",
       "      <td>1.7104</td>\n",
       "      <td>1</td>\n",
       "      <td>708</td>\n",
       "      <td>66</td>\n",
       "      <td>769.0</td>\n",
       "      <td>3.0</td>\n",
       "      <td>1</td>\n",
       "      <td>0.000</td>\n",
       "    </tr>\n",
       "    <tr>\n",
       "      <td>2520</td>\n",
       "      <td>12280</td>\n",
       "      <td>11.696</td>\n",
       "      <td>1.40</td>\n",
       "      <td>0.80</td>\n",
       "      <td>1.2</td>\n",
       "      <td>139.0</td>\n",
       "      <td>50.83</td>\n",
       "      <td>428.22</td>\n",
       "      <td>CHR SYSTOL HEART FAILUR</td>\n",
       "      <td>65</td>\n",
       "      <td>65.2</td>\n",
       "      <td>0</td>\n",
       "      <td>White</td>\n",
       "      <td>Not Hispanic or Latino</td>\n",
       "      <td>26.69</td>\n",
       "      <td>84.37</td>\n",
       "      <td>1</td>\n",
       "      <td>24</td>\n",
       "      <td>HVI PUH HBC</td>\n",
       "      <td>HVI Outpatient Cardiology Center at PUH</td>\n",
       "      <td>Cardiology</td>\n",
       "      <td>92.0</td>\n",
       "      <td>60.0</td>\n",
       "      <td>64.0</td>\n",
       "      <td>2</td>\n",
       "      <td>...</td>\n",
       "      <td>7.0</td>\n",
       "      <td>NaN</td>\n",
       "      <td>11.692041</td>\n",
       "      <td>-1.0</td>\n",
       "      <td>6.0</td>\n",
       "      <td>1</td>\n",
       "      <td>11.0</td>\n",
       "      <td>10.3799</td>\n",
       "      <td>2.62</td>\n",
       "      <td>10.3799</td>\n",
       "      <td>2.35</td>\n",
       "      <td>10.3799</td>\n",
       "      <td>62.0</td>\n",
       "      <td>10.3799</td>\n",
       "      <td>26.0</td>\n",
       "      <td>10.3799</td>\n",
       "      <td>85.0</td>\n",
       "      <td>10.3799</td>\n",
       "      <td>0</td>\n",
       "      <td>2095</td>\n",
       "      <td>70</td>\n",
       "      <td>2119.0</td>\n",
       "      <td>9.0</td>\n",
       "      <td>0</td>\n",
       "      <td>NaN</td>\n",
       "    </tr>\n",
       "  </tbody>\n",
       "</table>\n",
       "<p>2521 rows × 324 columns</p>\n",
       "</div>"
      ],
      "text/plain": [
       "        rID  LOS_DAYS  HOSP_CR  HOSP_BILI  HOSP_INR  HOSP_NA  HOSP_EGFR  \\\n",
       "0         5     3.121     1.04       1.00       1.1    141.0      91.09   \n",
       "1        10     3.860     0.90       0.50       1.1    139.0      62.30   \n",
       "2        16     9.145     1.35       0.80       1.1    139.0      51.64   \n",
       "3        28     3.076     1.25       0.60       1.0    144.0      41.72   \n",
       "4        31     3.409     1.60       0.33       1.1    138.0      43.15   \n",
       "...     ...       ...      ...        ...       ...      ...        ...   \n",
       "2516  12247    13.016    11.30       0.40       1.1    143.0       4.37   \n",
       "2517  12253     1.869     1.46       0.60       NaN    142.0      49.18   \n",
       "2518  12260     6.540     0.90       0.46       1.2    143.0      61.00   \n",
       "2519  12263    11.833     2.20       0.80       1.1    141.0      30.20   \n",
       "2520  12280    11.696     1.40       0.80       1.2    139.0      50.83   \n",
       "\n",
       "     PRIMARY_DIAGNOSIS_CODE PRIMARY_DIAGNOSIS_DESCRIPTION  AGE_ADMISSION  \\\n",
       "0                    I50.23     ACUTE ON CHRONIC SYSTOLIC             51   \n",
       "1                    I50.43     ACUTE ON CHRONIC COMBINED             67   \n",
       "2                    428.43      AC-CHR COMB S/D HRT FAIL             74   \n",
       "3                    I50.23     ACUTE ON CHRONIC SYSTOLIC             75   \n",
       "4                    428.23        AC-CHR SYSTOL HRT FAIL             68   \n",
       "...                     ...                           ...            ...   \n",
       "2516                 428.31         AC DIASTOL HEART FAIL             48   \n",
       "2517                 428.20      SYSTOL HEART FAILURE NOS             60   \n",
       "2518                 I50.43     ACUTE ON CHRONIC COMBINED             75   \n",
       "2519                  428.0      CONGESTVE HRT FAILUR NOS             64   \n",
       "2520                 428.22       CHR SYSTOL HEART FAILUR             65   \n",
       "\n",
       "      AGE_OFFICE_VISIT  FEMALE   RACE            ETHNIC_GROUP    BMI  \\\n",
       "0                 51.3       0  Black  Not Hispanic or Latino  44.74   \n",
       "1                 67.8       1  White  Not Hispanic or Latino  37.69   \n",
       "2                 74.1       0  White                Declined  37.02   \n",
       "3                 75.5       1  White  Not Hispanic or Latino  30.68   \n",
       "4                 68.4       0  White  Not Hispanic or Latino  21.13   \n",
       "...                ...     ...    ...                     ...    ...   \n",
       "2516              48.1       1  Black  Not Hispanic or Latino  32.97   \n",
       "2517              60.4       0  White  Not Hispanic or Latino  31.96   \n",
       "2518              75.4       1  White  Not Hispanic or Latino  43.26   \n",
       "2519              65.0       0  White  Not Hispanic or Latino  21.31   \n",
       "2520              65.2       0  White  Not Hispanic or Latino  26.69   \n",
       "\n",
       "      WEIGHT_KG  ORD  DAYS_TO_CLOSEST_OFFICE_VISIT        DEPARTMENT_NAME  \\\n",
       "0        153.77    1                           -63         XHVI MERCY OFC   \n",
       "1         87.54    1                            -3   PGH CARDIOLOGY SHDYS   \n",
       "2        117.03    1                             0     HVI ST MARG OFFICE   \n",
       "3         86.18    1                             6  RUSS MED NATRONA HGTS   \n",
       "4         57.61    1                             8       CA SHDYSD OFFICE   \n",
       "...         ...  ...                           ...                    ...   \n",
       "2516     100.52    1                            -2  GLEASON MEDICAL ASSOC   \n",
       "2517     112.94    1                             7  PRIMARY CARE PARTNERS   \n",
       "2518     121.56    1                            51   S K NARLA MD MCK HBC   \n",
       "2519      67.36    1                            61  XCA UNIVERSITY CENTER   \n",
       "2520      84.37    1                            24            HVI PUH HBC   \n",
       "\n",
       "                     EXTERNAL_DEPARTMENT_NAME DEPARTMENT_SPECIALTY  \\\n",
       "0                                HVI at Mercy           Cardiology   \n",
       "1           PITTSBURGH CARDIOLOGY CONSULTANTS           Cardiology   \n",
       "2                             HVI St Marg ofc           Cardiology   \n",
       "3     Russelton Medical Group Natrona Heights    Internal Medicine   \n",
       "4           Cardiac Surgery- Shadyside Office      Cardiac Surgery   \n",
       "...                                       ...                  ...   \n",
       "2516      Gleason Medical Associates Edgewood    Internal Medicine   \n",
       "2517               Primary Care Partners UPMC    Internal Medicine   \n",
       "2518                SUDHIR K NARLA MD-MCK HBC     Gastroenterology   \n",
       "2519      Cardiac Surgery - University Center      Cardiac Surgery   \n",
       "2520  HVI Outpatient Cardiology Center at PUH           Cardiology   \n",
       "\n",
       "      BP_SYSTOLIC  BP_DIASTOLIC  PULSE FINANCIAL_CLASS_CODE  ... INR_DAYS  \\\n",
       "0           140.0         100.0   78.0                   UX  ...      NaN   \n",
       "1           110.0          76.0   87.0                    M  ...      3.0   \n",
       "2           110.0          74.0   68.0                    M  ...      0.0   \n",
       "3           120.0          60.0    NaN                   MS  ...     -6.0   \n",
       "4           167.0          79.0    NaN                   UM  ...      0.0   \n",
       "...           ...           ...    ...                  ...  ...      ...   \n",
       "2516        180.0          96.0   94.0                    B  ...      2.0   \n",
       "2517        118.0          86.0    NaN                   BE  ...     -9.0   \n",
       "2518         98.0          70.0   98.0                    S  ...     17.0   \n",
       "2519        116.0          82.0   68.0                   2M  ...      NaN   \n",
       "2520         92.0          60.0   64.0                    2  ...      7.0   \n",
       "\n",
       "     BLOOD_TYPE CLOSEST_MELD  VERIFIED_MELD  MELD_EST_MORTALITY  RHC_FOUND  \\\n",
       "0           NaN     7.872816           -1.0                 1.9          0   \n",
       "1           NaN     7.497474           -1.0                 1.9          1   \n",
       "2           NaN    10.369475           -1.0                 6.0          1   \n",
       "3            A+     8.565484           -1.0                 1.9          1   \n",
       "4            A+    11.995409           -1.0                 6.0          0   \n",
       "...         ...          ...            ...                 ...        ...   \n",
       "2516         O+    20.764311           -1.0                19.6          0   \n",
       "2517         O+     6.430000            0.0                 1.9          0   \n",
       "2518         O-     8.472001           -1.0                 1.9          0   \n",
       "2519         A+    15.043011           -1.0                 6.0          1   \n",
       "2520        NaN    11.692041           -1.0                 6.0          1   \n",
       "\n",
       "      RA_MEAN_PRESSURE  RA_MEAN_PRESSURE_DAYS  THERMAL_CARDIAC_INDEX  \\\n",
       "0                  NaN                    NaN                    NaN   \n",
       "1                 14.0                -1.9771                    NaN   \n",
       "2                 10.0                 6.8313                   2.39   \n",
       "3                  4.0                 1.0910                   2.09   \n",
       "4                  NaN                    NaN                    NaN   \n",
       "...                ...                    ...                    ...   \n",
       "2516               NaN                    NaN                    NaN   \n",
       "2517               NaN                    NaN                    NaN   \n",
       "2518               NaN                    NaN                    NaN   \n",
       "2519               9.0                 1.7104                   2.13   \n",
       "2520              11.0                10.3799                   2.62   \n",
       "\n",
       "      THERMAL_CARDIAC_INDEX_DAYS  FICK_CARDIAC_INDEX  FICK_CARDIAC_INDEX_DAYS  \\\n",
       "0                            NaN                 NaN                      NaN   \n",
       "1                            NaN                2.72                  -1.9771   \n",
       "2                         6.8313                2.47                   6.8313   \n",
       "3                         1.0910                 NaN                      NaN   \n",
       "4                            NaN                 NaN                      NaN   \n",
       "...                          ...                 ...                      ...   \n",
       "2516                         NaN                 NaN                      NaN   \n",
       "2517                         NaN                 NaN                      NaN   \n",
       "2518                         NaN                 NaN                      NaN   \n",
       "2519                      1.7104                2.18                   1.7104   \n",
       "2520                     10.3799                2.35                  10.3799   \n",
       "\n",
       "      PA_SATURATION  PA_SATURATION_DAYS  WEDGE_MEAN_PRESSURE  \\\n",
       "0               NaN                 NaN                  NaN   \n",
       "1              58.0             -1.9771                  NaN   \n",
       "2              59.0              6.8313                 20.0   \n",
       "3              68.0              1.0910                 12.0   \n",
       "4               NaN                 NaN                  NaN   \n",
       "...             ...                 ...                  ...   \n",
       "2516            NaN                 NaN                  NaN   \n",
       "2517            NaN                 NaN                  NaN   \n",
       "2518            NaN                 NaN                  NaN   \n",
       "2519           64.0              1.7104                 33.0   \n",
       "2520           62.0             10.3799                 26.0   \n",
       "\n",
       "      WEDGE_MEAN_PRESSURE_DAYS  PULM_ART_SYS_PRESSURE  \\\n",
       "0                          NaN                    NaN   \n",
       "1                          NaN                   47.0   \n",
       "2                       6.8313                   67.0   \n",
       "3                       1.0910                   37.0   \n",
       "4                          NaN                    NaN   \n",
       "...                        ...                    ...   \n",
       "2516                       NaN                    NaN   \n",
       "2517                       NaN                    NaN   \n",
       "2518                       NaN                    NaN   \n",
       "2519                    1.7104                   68.0   \n",
       "2520                   10.3799                   85.0   \n",
       "\n",
       "      PULM_ART_SYS_PRESSURE_DAYS  CTB  FOLLOWUP_DAYS  AGE_CENSOR  \\\n",
       "0                            NaN    0           1407          55   \n",
       "1                        -1.9771    0           1329          71   \n",
       "2                         6.8313    1            515          75   \n",
       "3                         1.0910    0           1514          79   \n",
       "4                            NaN    0           2017          73   \n",
       "...                          ...  ...            ...         ...   \n",
       "2516                         NaN    0           2557          55   \n",
       "2517                         NaN    1            215          60   \n",
       "2518                         NaN    1           1153          78   \n",
       "2519                      1.7104    1            708          66   \n",
       "2520                     10.3799    0           2095          70   \n",
       "\n",
       "      Corrected_Followup_Days  total_adms in_CTB  CTB_days  \n",
       "0                      1344.0         4.0      0       NaN  \n",
       "1                      1326.0         2.0      0       NaN  \n",
       "2                       515.0         5.0      0   226.981  \n",
       "3                      1520.0         1.0      0       NaN  \n",
       "4                      2025.0         4.0      0       NaN  \n",
       "...                       ...         ...    ...       ...  \n",
       "2516                   2555.0        11.0      0       NaN  \n",
       "2517                    222.0         2.0      0    20.791  \n",
       "2518                   1204.0         5.0      0   315.984  \n",
       "2519                    769.0         3.0      1     0.000  \n",
       "2520                   2119.0         9.0      0       NaN  \n",
       "\n",
       "[2521 rows x 324 columns]"
      ]
     },
     "execution_count": 87,
     "metadata": {},
     "output_type": "execute_result"
    }
   ],
   "source": [
    "patients_lvef['CTB_days'] = np.nan\n",
    "list_rid = admissions_lvef.loc[admissions_lvef['DISPOSITION']=='CTB'].rID.unique()\n",
    "inhos_ctb_baseline = patients_lvef.loc[patients_lvef['rID'].isin(list_rid)]\n",
    "patients_lvef.set_value(inhos_ctb_baseline.index, 'CTB_days', 0)\n",
    "\n",
    "# For mortality patients but not inhospital mortality, for more than 1 hospitalization CTB_days = FOLLOWUP_DAYS - (READMISSION_DAYS for last admission + LOS_DAYS for last admission)   \n",
    "# for only 1 hospitalization, CTB_days = FOLLOWUP_DAYS\n",
    "\n",
    "list_rid = list(admissions_lvef.loc[(admissions_lvef['INDEX_HOSPITALIZATION']==0) &\n",
    "                               (admissions_lvef['last_adm']==1) & (admissions_lvef['DISPOSITION']!='CTB')].rID)\n",
    "\n",
    "ctb_rid = list(patients_lvef.loc[patients_lvef['CTB']==1].rID)\n",
    "\n",
    "list_rid_2 = [i for i in list_rid if i in ctb_rid]\n",
    "\n",
    "out_ctb_baseline = patients_lvef.loc[patients_lvef['rID'].isin(list_rid_2)]\n",
    "\n",
    "out_ctb_admission = admissions_lvef.loc[(admissions_lvef['last_adm']==1) & \n",
    "                                        (admissions_lvef['rID'].isin(list_rid_2))]\n",
    "\n",
    "out_ctb_df = out_ctb_admission[['rID','LOS_DAYS','READMISSION_DAYS']]\n",
    "\n",
    "out_ctb_df.fillna(value=0, inplace=True)\n",
    "\n",
    "out_ctb_df['last_discharge_days'] = out_ctb_df['LOS_DAYS'] + out_ctb_df['READMISSION_DAYS']\n",
    "\n",
    "out_ctb_series = out_ctb_df['last_discharge_days']\n",
    "out_ctb_series.reset_index(drop=True, inplace=True)\n",
    "out_ctb_list = list(out_ctb_series)\n",
    "\n",
    "out_ctb_baseline['last_discharge_days'] = out_ctb_list\n",
    "\n",
    "out_ctb_baseline[['rID','Corrected_Followup_Days','last_discharge_days']]\n",
    "\n",
    "out_ctb_baseline['ctb_days'] = out_ctb_baseline['Corrected_Followup_Days'] - out_ctb_baseline['last_discharge_days']\n",
    "\n",
    "patients_lvef.set_value(out_ctb_baseline.index, 'CTB_days', out_ctb_baseline['ctb_days'])\n",
    "\n",
    "list_rid = list(admissions_lvef.loc[(admissions_lvef['INDEX_HOSPITALIZATION']==1) &\n",
    "                               (admissions_lvef['last_adm']==1) & (admissions_lvef['DISPOSITION']!='CTB')].rID)\n",
    "\n",
    "list_rid_2 = [i for i in list_rid if i in ctb_rid]\n",
    "\n",
    "out_ctb_baseline_only1 = patients_lvef.loc[patients_lvef['rID'].isin(list_rid_2)]\n",
    "out_ctb_admission_only1 = admissions_lvef.loc[(admissions_lvef['last_adm']==1) & \n",
    "                                              (admissions_lvef['rID'].isin(list_rid_2))]\n",
    "\n",
    "out_ctb_baseline_only1['ctb_days'] = out_ctb_baseline_only1['Corrected_Followup_Days']\n",
    "\n",
    "out_ctb_baseline_only1[['rID','Corrected_Followup_Days','ctb_days']]\n",
    "\n",
    "patients_lvef.set_value(out_ctb_baseline_only1.index, 'CTB_days', out_ctb_baseline_only1['ctb_days'])"
   ]
  },
  {
   "cell_type": "code",
   "execution_count": 88,
   "metadata": {},
   "outputs": [
    {
     "name": "stderr",
     "output_type": "stream",
     "text": [
      "/Users/jinchenxie/miniconda3/envs/research_env/lib/python3.6/site-packages/ipykernel_launcher.py:12: FutureWarning: set_value is deprecated and will be removed in a future release. Please use .at[] or .iat[] accessors instead\n",
      "  if sys.path[0] == '':\n"
     ]
    }
   ],
   "source": [
    "temp1 = list(patients_lvef[patients_lvef.CTB_days.isna()].rID)\n",
    "len(temp1)\n",
    "\n",
    "temp2 = list(patients_lvef[patients_lvef.CTB==0].rID)\n",
    "len(temp2)\n",
    "\n",
    "temp3 =[i for i in temp2 if i not in temp1]\n",
    "\n",
    "temp3\n",
    "\n",
    "patients_lvef = patients_lvef.set_value(patients_lvef[patients_lvef['rID'].isin(temp3)].index,\n",
    "                                        'CTB',1)"
   ]
  },
  {
   "cell_type": "code",
   "execution_count": 89,
   "metadata": {},
   "outputs": [
    {
     "name": "stderr",
     "output_type": "stream",
     "text": [
      "/Users/jinchenxie/miniconda3/envs/research_env/lib/python3.6/site-packages/ipykernel_launcher.py:4: FutureWarning: set_value is deprecated and will be removed in a future release. Please use .at[] or .iat[] accessors instead\n",
      "  after removing the cwd from sys.path.\n"
     ]
    }
   ],
   "source": [
    "temp4 = list(patients_lvef[patients_lvef.CTB_days<0].rID)\n",
    "\n",
    "patients_lvef = patients_lvef.set_value(patients_lvef[patients_lvef['rID'].isin(temp4)].index,\n",
    "                                        'CTB_days',0)"
   ]
  },
  {
   "cell_type": "code",
   "execution_count": 90,
   "metadata": {},
   "outputs": [
    {
     "name": "stderr",
     "output_type": "stream",
     "text": [
      "/Users/jinchenxie/miniconda3/envs/research_env/lib/python3.6/site-packages/ipykernel_launcher.py:3: FutureWarning: set_value is deprecated and will be removed in a future release. Please use .at[] or .iat[] accessors instead\n",
      "  This is separate from the ipykernel package so we can avoid doing imports until\n",
      "/Users/jinchenxie/miniconda3/envs/research_env/lib/python3.6/site-packages/ipykernel_launcher.py:6: FutureWarning: set_value is deprecated and will be removed in a future release. Please use .at[] or .iat[] accessors instead\n",
      "  \n",
      "/Users/jinchenxie/miniconda3/envs/research_env/lib/python3.6/site-packages/ipykernel_launcher.py:9: FutureWarning: set_value is deprecated and will be removed in a future release. Please use .at[] or .iat[] accessors instead\n",
      "  if __name__ == '__main__':\n"
     ]
    }
   ],
   "source": [
    "patients_lvef['30_day_CTB'] = 0\n",
    "patients_lvef = patients_lvef.set_value(patients_lvef[patients_lvef['CTB_days']<=30].index,\n",
    "                                        '30_day_CTB',1)\n",
    "patients_lvef['60_day_CTB'] = 0\n",
    "patients_lvef = patients_lvef.set_value(patients_lvef[patients_lvef['CTB_days']<=60].index,\n",
    "                                        '60_day_CTB',1)\n",
    "patients_lvef['90_day_CTB'] = 0\n",
    "patients_lvef = patients_lvef.set_value(patients_lvef[patients_lvef['CTB_days']<=90].index,\n",
    "                                        '90_day_CTB',1)"
   ]
  },
  {
   "cell_type": "code",
   "execution_count": 91,
   "metadata": {},
   "outputs": [
    {
     "name": "stderr",
     "output_type": "stream",
     "text": [
      "/Users/jinchenxie/miniconda3/envs/research_env/lib/python3.6/site-packages/ipykernel_launcher.py:3: FutureWarning: set_value is deprecated and will be removed in a future release. Please use .at[] or .iat[] accessors instead\n",
      "  This is separate from the ipykernel package so we can avoid doing imports until\n"
     ]
    }
   ],
   "source": [
    "patients_lvef['1_year_CTB'] = 0\n",
    "patients_lvef = patients_lvef.set_value(patients_lvef[patients_lvef['CTB_days']<=365].index,\n",
    "                                        '1_year_CTB',1)"
   ]
  },
  {
   "cell_type": "code",
   "execution_count": 92,
   "metadata": {},
   "outputs": [
    {
     "data": {
      "text/plain": [
       "0    1401\n",
       "1    1120\n",
       "Name: 1_year_CTB, dtype: int64"
      ]
     },
     "execution_count": 92,
     "metadata": {},
     "output_type": "execute_result"
    }
   ],
   "source": [
    "patients_lvef['1_year_CTB'].value_counts()"
   ]
  },
  {
   "cell_type": "markdown",
   "metadata": {},
   "source": [
    "# Remove Admissions after VAD taken during admission"
   ]
  },
  {
   "cell_type": "markdown",
   "metadata": {},
   "source": [
    "Attribute used: POST_VAD in the admission dataset\n",
    "We continue to work on the admissions_lvef"
   ]
  },
  {
   "cell_type": "code",
   "execution_count": 93,
   "metadata": {},
   "outputs": [
    {
     "data": {
      "text/plain": [
       "0    55530\n",
       "1      212\n",
       "Name: POST_VAD, dtype: int64"
      ]
     },
     "execution_count": 93,
     "metadata": {},
     "output_type": "execute_result"
    }
   ],
   "source": [
    "# examine the attribute first\n",
    "admission['POST_VAD'].isna().sum()\n",
    "admission['POST_VAD'].value_counts()"
   ]
  },
  {
   "cell_type": "code",
   "execution_count": 94,
   "metadata": {},
   "outputs": [],
   "source": [
    "# patients ever had POST_VAD == 1\n",
    "admissions_postvad = admission[admission['POST_VAD']==1]"
   ]
  },
  {
   "cell_type": "code",
   "execution_count": 95,
   "metadata": {},
   "outputs": [
    {
     "data": {
      "text/plain": [
       "179"
      ]
     },
     "execution_count": 95,
     "metadata": {},
     "output_type": "execute_result"
    }
   ],
   "source": [
    "len(admissions_postvad.rID.unique())"
   ]
  },
  {
   "cell_type": "code",
   "execution_count": 96,
   "metadata": {},
   "outputs": [
    {
     "name": "stdout",
     "output_type": "stream",
     "text": [
      "1\n",
      "3\n",
      "24\n",
      "151\n"
     ]
    }
   ],
   "source": [
    "print((admissions_postvad.rID.value_counts()==4).sum())\n",
    "print((admissions_postvad.rID.value_counts()==3).sum())\n",
    "print((admissions_postvad.rID.value_counts()==2).sum())\n",
    "print((admissions_postvad.rID.value_counts()==1).sum())"
   ]
  },
  {
   "cell_type": "code",
   "execution_count": 97,
   "metadata": {},
   "outputs": [
    {
     "data": {
      "text/html": [
       "<div>\n",
       "<style scoped>\n",
       "    .dataframe tbody tr th:only-of-type {\n",
       "        vertical-align: middle;\n",
       "    }\n",
       "\n",
       "    .dataframe tbody tr th {\n",
       "        vertical-align: top;\n",
       "    }\n",
       "\n",
       "    .dataframe thead th {\n",
       "        text-align: right;\n",
       "    }\n",
       "</style>\n",
       "<table border=\"1\" class=\"dataframe\">\n",
       "  <thead>\n",
       "    <tr style=\"text-align: right;\">\n",
       "      <th></th>\n",
       "      <th>rID</th>\n",
       "      <th>INDEX_HOSPITALIZATION</th>\n",
       "      <th>HOSPITAL</th>\n",
       "      <th>READMISSION_DAYS</th>\n",
       "      <th>LOS_DAYS</th>\n",
       "      <th>HOSP_CR</th>\n",
       "      <th>HOSP_BILI</th>\n",
       "      <th>HOSP_INR</th>\n",
       "      <th>HOSP_NA</th>\n",
       "      <th>HOSP_EGFR</th>\n",
       "      <th>AGE_ADMISSION</th>\n",
       "      <th>ADMISSION_SOURCE</th>\n",
       "      <th>IPOP</th>\n",
       "      <th>PATIENT_TYPE_CODE</th>\n",
       "      <th>PATIENT_TYPE_DESCRIPTION</th>\n",
       "      <th>PATIENT_TYPE_GROUP</th>\n",
       "      <th>DISPOSITION</th>\n",
       "      <th>FINANCIAL_CLASS_CODE</th>\n",
       "      <th>FINANCIAL_CLASS</th>\n",
       "      <th>HOSP_ROLLUP_GROUPING1</th>\n",
       "      <th>HOSP_ROLLUP_GROUPING2</th>\n",
       "      <th>DC_MILRINONE</th>\n",
       "      <th>DC_DOBUTAMINE</th>\n",
       "      <th>DC_DOPAMINE</th>\n",
       "      <th>LVEF</th>\n",
       "      <th>...</th>\n",
       "      <th>I_STROKEFLAG</th>\n",
       "      <th>BLEEDFLAG</th>\n",
       "      <th>AFIBFLAG</th>\n",
       "      <th>CKDFLAG</th>\n",
       "      <th>ARRESTFLAG</th>\n",
       "      <th>VTACHFLAG</th>\n",
       "      <th>VFIBFLAG</th>\n",
       "      <th>PCI</th>\n",
       "      <th>PCI_DAYS</th>\n",
       "      <th>IMPELLA</th>\n",
       "      <th>IMPELLA_DAYS</th>\n",
       "      <th>IABP</th>\n",
       "      <th>IABP_DAYS</th>\n",
       "      <th>ECMO</th>\n",
       "      <th>ECMO_DAYS</th>\n",
       "      <th>ABLATION</th>\n",
       "      <th>ABLATION_DAYS</th>\n",
       "      <th>PACEMAKER_IMPLANT</th>\n",
       "      <th>PACEMAKER_IMPLANT_DAYS</th>\n",
       "      <th>ICD_IMPLANT</th>\n",
       "      <th>ICD_IMPLANT_DAYS</th>\n",
       "      <th>BIV_ICD_IMPLANT</th>\n",
       "      <th>BIV_ICD_IMPLANT_DAYS</th>\n",
       "      <th>CRT_IMPLANT</th>\n",
       "      <th>CRT_IMPLANT_DAYS</th>\n",
       "    </tr>\n",
       "  </thead>\n",
       "  <tbody>\n",
       "    <tr>\n",
       "      <td>15561</td>\n",
       "      <td>3447</td>\n",
       "      <td>1</td>\n",
       "      <td>PUH</td>\n",
       "      <td>NaN</td>\n",
       "      <td>26.585</td>\n",
       "      <td>2.2</td>\n",
       "      <td>1.6</td>\n",
       "      <td>3.2</td>\n",
       "      <td>150.0</td>\n",
       "      <td>28.66</td>\n",
       "      <td>49</td>\n",
       "      <td>MEDICAL REFERRAL</td>\n",
       "      <td>IP</td>\n",
       "      <td>I</td>\n",
       "      <td>I  INPATIENT</td>\n",
       "      <td>IP ACUTE</td>\n",
       "      <td>HOME HEALTH AGENCY</td>\n",
       "      <td>M</td>\n",
       "      <td>MEDICARE PART A</td>\n",
       "      <td>Medicare</td>\n",
       "      <td>Medicare</td>\n",
       "      <td>0.0</td>\n",
       "      <td>0.0</td>\n",
       "      <td>0.0</td>\n",
       "      <td>NaN</td>\n",
       "      <td>...</td>\n",
       "      <td>0</td>\n",
       "      <td>0</td>\n",
       "      <td>0</td>\n",
       "      <td>0</td>\n",
       "      <td>0</td>\n",
       "      <td>0</td>\n",
       "      <td>0</td>\n",
       "      <td>0</td>\n",
       "      <td>NaN</td>\n",
       "      <td>0</td>\n",
       "      <td>NaN</td>\n",
       "      <td>0</td>\n",
       "      <td>NaN</td>\n",
       "      <td>0</td>\n",
       "      <td>NaN</td>\n",
       "      <td>0</td>\n",
       "      <td>NaN</td>\n",
       "      <td>0</td>\n",
       "      <td>NaN</td>\n",
       "      <td>0</td>\n",
       "      <td>NaN</td>\n",
       "      <td>0</td>\n",
       "      <td>NaN</td>\n",
       "      <td>0</td>\n",
       "      <td>NaN</td>\n",
       "    </tr>\n",
       "    <tr>\n",
       "      <td>24912</td>\n",
       "      <td>5572</td>\n",
       "      <td>0</td>\n",
       "      <td>PUH</td>\n",
       "      <td>21.731</td>\n",
       "      <td>97.219</td>\n",
       "      <td>2.6</td>\n",
       "      <td>4.3</td>\n",
       "      <td>4.0</td>\n",
       "      <td>147.0</td>\n",
       "      <td>24.49</td>\n",
       "      <td>70</td>\n",
       "      <td>MEDICAL REFERRAL</td>\n",
       "      <td>IP</td>\n",
       "      <td>I</td>\n",
       "      <td>I  INPATIENT</td>\n",
       "      <td>IP ACUTE</td>\n",
       "      <td>REHAB/INPT REHAB UNT</td>\n",
       "      <td>UH</td>\n",
       "      <td>UPMC HEALTH NETWORK</td>\n",
       "      <td>UPMC Commercial</td>\n",
       "      <td>Commercial</td>\n",
       "      <td>NaN</td>\n",
       "      <td>NaN</td>\n",
       "      <td>NaN</td>\n",
       "      <td>NaN</td>\n",
       "      <td>...</td>\n",
       "      <td>0</td>\n",
       "      <td>0</td>\n",
       "      <td>0</td>\n",
       "      <td>0</td>\n",
       "      <td>0</td>\n",
       "      <td>0</td>\n",
       "      <td>0</td>\n",
       "      <td>0</td>\n",
       "      <td>NaN</td>\n",
       "      <td>0</td>\n",
       "      <td>NaN</td>\n",
       "      <td>0</td>\n",
       "      <td>NaN</td>\n",
       "      <td>0</td>\n",
       "      <td>NaN</td>\n",
       "      <td>0</td>\n",
       "      <td>NaN</td>\n",
       "      <td>0</td>\n",
       "      <td>NaN</td>\n",
       "      <td>0</td>\n",
       "      <td>NaN</td>\n",
       "      <td>0</td>\n",
       "      <td>NaN</td>\n",
       "      <td>0</td>\n",
       "      <td>NaN</td>\n",
       "    </tr>\n",
       "    <tr>\n",
       "      <td>28625</td>\n",
       "      <td>6352</td>\n",
       "      <td>1</td>\n",
       "      <td>PUH</td>\n",
       "      <td>NaN</td>\n",
       "      <td>3.431</td>\n",
       "      <td>2.0</td>\n",
       "      <td>2.4</td>\n",
       "      <td>2.8</td>\n",
       "      <td>150.0</td>\n",
       "      <td>24.84</td>\n",
       "      <td>67</td>\n",
       "      <td>MEDICAL REFERRAL</td>\n",
       "      <td>IP</td>\n",
       "      <td>I</td>\n",
       "      <td>I  INPATIENT</td>\n",
       "      <td>IP ACUTE</td>\n",
       "      <td>CTB</td>\n",
       "      <td>2S</td>\n",
       "      <td>SECURITY BLUE HMO T</td>\n",
       "      <td>Security Blue</td>\n",
       "      <td>Medicare</td>\n",
       "      <td>NaN</td>\n",
       "      <td>NaN</td>\n",
       "      <td>NaN</td>\n",
       "      <td>NaN</td>\n",
       "      <td>...</td>\n",
       "      <td>0</td>\n",
       "      <td>0</td>\n",
       "      <td>0</td>\n",
       "      <td>0</td>\n",
       "      <td>0</td>\n",
       "      <td>0</td>\n",
       "      <td>0</td>\n",
       "      <td>0</td>\n",
       "      <td>NaN</td>\n",
       "      <td>0</td>\n",
       "      <td>NaN</td>\n",
       "      <td>0</td>\n",
       "      <td>NaN</td>\n",
       "      <td>0</td>\n",
       "      <td>NaN</td>\n",
       "      <td>0</td>\n",
       "      <td>NaN</td>\n",
       "      <td>0</td>\n",
       "      <td>NaN</td>\n",
       "      <td>0</td>\n",
       "      <td>NaN</td>\n",
       "      <td>0</td>\n",
       "      <td>NaN</td>\n",
       "      <td>0</td>\n",
       "      <td>NaN</td>\n",
       "    </tr>\n",
       "    <tr>\n",
       "      <td>39264</td>\n",
       "      <td>8652</td>\n",
       "      <td>0</td>\n",
       "      <td>PUH</td>\n",
       "      <td>23.048</td>\n",
       "      <td>16.929</td>\n",
       "      <td>2.0</td>\n",
       "      <td>0.8</td>\n",
       "      <td>2.3</td>\n",
       "      <td>141.0</td>\n",
       "      <td>42.49</td>\n",
       "      <td>53</td>\n",
       "      <td>MEDICAL REFERRAL</td>\n",
       "      <td>IP</td>\n",
       "      <td>I</td>\n",
       "      <td>I  INPATIENT</td>\n",
       "      <td>IP ACUTE</td>\n",
       "      <td>HOME/SELF CARE</td>\n",
       "      <td>Q</td>\n",
       "      <td>B/C KEYSTONE</td>\n",
       "      <td>Highmark Commercia</td>\n",
       "      <td>Commercial</td>\n",
       "      <td>NaN</td>\n",
       "      <td>NaN</td>\n",
       "      <td>NaN</td>\n",
       "      <td>NaN</td>\n",
       "      <td>...</td>\n",
       "      <td>0</td>\n",
       "      <td>0</td>\n",
       "      <td>0</td>\n",
       "      <td>0</td>\n",
       "      <td>0</td>\n",
       "      <td>0</td>\n",
       "      <td>0</td>\n",
       "      <td>0</td>\n",
       "      <td>NaN</td>\n",
       "      <td>0</td>\n",
       "      <td>NaN</td>\n",
       "      <td>0</td>\n",
       "      <td>NaN</td>\n",
       "      <td>0</td>\n",
       "      <td>NaN</td>\n",
       "      <td>0</td>\n",
       "      <td>NaN</td>\n",
       "      <td>0</td>\n",
       "      <td>NaN</td>\n",
       "      <td>0</td>\n",
       "      <td>NaN</td>\n",
       "      <td>0</td>\n",
       "      <td>NaN</td>\n",
       "      <td>0</td>\n",
       "      <td>NaN</td>\n",
       "    </tr>\n",
       "    <tr>\n",
       "      <td>39266</td>\n",
       "      <td>8652</td>\n",
       "      <td>0</td>\n",
       "      <td>PUH</td>\n",
       "      <td>130.063</td>\n",
       "      <td>43.023</td>\n",
       "      <td>5.7</td>\n",
       "      <td>2.9</td>\n",
       "      <td>2.7</td>\n",
       "      <td>156.0</td>\n",
       "      <td>12.67</td>\n",
       "      <td>53</td>\n",
       "      <td>MEDICAL REFERRAL</td>\n",
       "      <td>IP</td>\n",
       "      <td>I</td>\n",
       "      <td>I  INPATIENT</td>\n",
       "      <td>IP ACUTE</td>\n",
       "      <td>SKILLED NURS FACIL</td>\n",
       "      <td>Q</td>\n",
       "      <td>B/C KEYSTONE</td>\n",
       "      <td>Highmark Commercia</td>\n",
       "      <td>Commercial</td>\n",
       "      <td>NaN</td>\n",
       "      <td>NaN</td>\n",
       "      <td>NaN</td>\n",
       "      <td>NaN</td>\n",
       "      <td>...</td>\n",
       "      <td>0</td>\n",
       "      <td>1</td>\n",
       "      <td>0</td>\n",
       "      <td>0</td>\n",
       "      <td>0</td>\n",
       "      <td>0</td>\n",
       "      <td>0</td>\n",
       "      <td>0</td>\n",
       "      <td>NaN</td>\n",
       "      <td>0</td>\n",
       "      <td>NaN</td>\n",
       "      <td>0</td>\n",
       "      <td>NaN</td>\n",
       "      <td>0</td>\n",
       "      <td>NaN</td>\n",
       "      <td>0</td>\n",
       "      <td>NaN</td>\n",
       "      <td>0</td>\n",
       "      <td>NaN</td>\n",
       "      <td>0</td>\n",
       "      <td>NaN</td>\n",
       "      <td>0</td>\n",
       "      <td>NaN</td>\n",
       "      <td>0</td>\n",
       "      <td>NaN</td>\n",
       "    </tr>\n",
       "    <tr>\n",
       "      <td>55007</td>\n",
       "      <td>12121</td>\n",
       "      <td>0</td>\n",
       "      <td>PUH</td>\n",
       "      <td>36.007</td>\n",
       "      <td>22.075</td>\n",
       "      <td>4.4</td>\n",
       "      <td>5.0</td>\n",
       "      <td>4.4</td>\n",
       "      <td>141.0</td>\n",
       "      <td>13.33</td>\n",
       "      <td>70</td>\n",
       "      <td>MEDICAL REFERRAL</td>\n",
       "      <td>IP</td>\n",
       "      <td>I</td>\n",
       "      <td>I  INPATIENT</td>\n",
       "      <td>IP ACUTE</td>\n",
       "      <td>HOME HEALTH AGENCY</td>\n",
       "      <td>2</td>\n",
       "      <td>MEDICARE TRANSPLANT</td>\n",
       "      <td>Medicare</td>\n",
       "      <td>Medicare</td>\n",
       "      <td>NaN</td>\n",
       "      <td>NaN</td>\n",
       "      <td>NaN</td>\n",
       "      <td>55.0</td>\n",
       "      <td>...</td>\n",
       "      <td>0</td>\n",
       "      <td>1</td>\n",
       "      <td>0</td>\n",
       "      <td>0</td>\n",
       "      <td>0</td>\n",
       "      <td>0</td>\n",
       "      <td>0</td>\n",
       "      <td>0</td>\n",
       "      <td>NaN</td>\n",
       "      <td>0</td>\n",
       "      <td>NaN</td>\n",
       "      <td>0</td>\n",
       "      <td>NaN</td>\n",
       "      <td>0</td>\n",
       "      <td>NaN</td>\n",
       "      <td>0</td>\n",
       "      <td>NaN</td>\n",
       "      <td>0</td>\n",
       "      <td>NaN</td>\n",
       "      <td>0</td>\n",
       "      <td>NaN</td>\n",
       "      <td>0</td>\n",
       "      <td>NaN</td>\n",
       "      <td>0</td>\n",
       "      <td>NaN</td>\n",
       "    </tr>\n",
       "  </tbody>\n",
       "</table>\n",
       "<p>6 rows × 168 columns</p>\n",
       "</div>"
      ],
      "text/plain": [
       "         rID  INDEX_HOSPITALIZATION HOSPITAL  READMISSION_DAYS  LOS_DAYS  \\\n",
       "15561   3447                      1      PUH               NaN    26.585   \n",
       "24912   5572                      0      PUH            21.731    97.219   \n",
       "28625   6352                      1      PUH               NaN     3.431   \n",
       "39264   8652                      0      PUH            23.048    16.929   \n",
       "39266   8652                      0      PUH           130.063    43.023   \n",
       "55007  12121                      0      PUH            36.007    22.075   \n",
       "\n",
       "       HOSP_CR  HOSP_BILI  HOSP_INR  HOSP_NA  HOSP_EGFR  AGE_ADMISSION  \\\n",
       "15561      2.2        1.6       3.2    150.0      28.66             49   \n",
       "24912      2.6        4.3       4.0    147.0      24.49             70   \n",
       "28625      2.0        2.4       2.8    150.0      24.84             67   \n",
       "39264      2.0        0.8       2.3    141.0      42.49             53   \n",
       "39266      5.7        2.9       2.7    156.0      12.67             53   \n",
       "55007      4.4        5.0       4.4    141.0      13.33             70   \n",
       "\n",
       "       ADMISSION_SOURCE IPOP PATIENT_TYPE_CODE PATIENT_TYPE_DESCRIPTION  \\\n",
       "15561  MEDICAL REFERRAL   IP                 I             I  INPATIENT   \n",
       "24912  MEDICAL REFERRAL   IP                 I             I  INPATIENT   \n",
       "28625  MEDICAL REFERRAL   IP                 I             I  INPATIENT   \n",
       "39264  MEDICAL REFERRAL   IP                 I             I  INPATIENT   \n",
       "39266  MEDICAL REFERRAL   IP                 I             I  INPATIENT   \n",
       "55007  MEDICAL REFERRAL   IP                 I             I  INPATIENT   \n",
       "\n",
       "      PATIENT_TYPE_GROUP           DISPOSITION FINANCIAL_CLASS_CODE  \\\n",
       "15561           IP ACUTE    HOME HEALTH AGENCY                    M   \n",
       "24912           IP ACUTE  REHAB/INPT REHAB UNT                   UH   \n",
       "28625           IP ACUTE                   CTB                   2S   \n",
       "39264           IP ACUTE        HOME/SELF CARE                    Q   \n",
       "39266           IP ACUTE    SKILLED NURS FACIL                    Q   \n",
       "55007           IP ACUTE    HOME HEALTH AGENCY                    2   \n",
       "\n",
       "           FINANCIAL_CLASS HOSP_ROLLUP_GROUPING1 HOSP_ROLLUP_GROUPING2  \\\n",
       "15561      MEDICARE PART A              Medicare              Medicare   \n",
       "24912  UPMC HEALTH NETWORK       UPMC Commercial            Commercial   \n",
       "28625  SECURITY BLUE HMO T         Security Blue              Medicare   \n",
       "39264         B/C KEYSTONE    Highmark Commercia            Commercial   \n",
       "39266         B/C KEYSTONE    Highmark Commercia            Commercial   \n",
       "55007  MEDICARE TRANSPLANT              Medicare              Medicare   \n",
       "\n",
       "       DC_MILRINONE  DC_DOBUTAMINE  DC_DOPAMINE  LVEF  ...  I_STROKEFLAG  \\\n",
       "15561           0.0            0.0          0.0   NaN  ...             0   \n",
       "24912           NaN            NaN          NaN   NaN  ...             0   \n",
       "28625           NaN            NaN          NaN   NaN  ...             0   \n",
       "39264           NaN            NaN          NaN   NaN  ...             0   \n",
       "39266           NaN            NaN          NaN   NaN  ...             0   \n",
       "55007           NaN            NaN          NaN  55.0  ...             0   \n",
       "\n",
       "       BLEEDFLAG  AFIBFLAG  CKDFLAG  ARRESTFLAG  VTACHFLAG  VFIBFLAG  PCI  \\\n",
       "15561          0         0        0           0          0         0    0   \n",
       "24912          0         0        0           0          0         0    0   \n",
       "28625          0         0        0           0          0         0    0   \n",
       "39264          0         0        0           0          0         0    0   \n",
       "39266          1         0        0           0          0         0    0   \n",
       "55007          1         0        0           0          0         0    0   \n",
       "\n",
       "       PCI_DAYS  IMPELLA  IMPELLA_DAYS  IABP  IABP_DAYS  ECMO  ECMO_DAYS  \\\n",
       "15561       NaN        0           NaN     0        NaN     0        NaN   \n",
       "24912       NaN        0           NaN     0        NaN     0        NaN   \n",
       "28625       NaN        0           NaN     0        NaN     0        NaN   \n",
       "39264       NaN        0           NaN     0        NaN     0        NaN   \n",
       "39266       NaN        0           NaN     0        NaN     0        NaN   \n",
       "55007       NaN        0           NaN     0        NaN     0        NaN   \n",
       "\n",
       "       ABLATION  ABLATION_DAYS  PACEMAKER_IMPLANT  PACEMAKER_IMPLANT_DAYS  \\\n",
       "15561         0            NaN                  0                     NaN   \n",
       "24912         0            NaN                  0                     NaN   \n",
       "28625         0            NaN                  0                     NaN   \n",
       "39264         0            NaN                  0                     NaN   \n",
       "39266         0            NaN                  0                     NaN   \n",
       "55007         0            NaN                  0                     NaN   \n",
       "\n",
       "       ICD_IMPLANT  ICD_IMPLANT_DAYS  BIV_ICD_IMPLANT  BIV_ICD_IMPLANT_DAYS  \\\n",
       "15561            0               NaN                0                   NaN   \n",
       "24912            0               NaN                0                   NaN   \n",
       "28625            0               NaN                0                   NaN   \n",
       "39264            0               NaN                0                   NaN   \n",
       "39266            0               NaN                0                   NaN   \n",
       "55007            0               NaN                0                   NaN   \n",
       "\n",
       "       CRT_IMPLANT CRT_IMPLANT_DAYS  \n",
       "15561            0              NaN  \n",
       "24912            0              NaN  \n",
       "28625            0              NaN  \n",
       "39264            0              NaN  \n",
       "39266            0              NaN  \n",
       "55007            0              NaN  \n",
       "\n",
       "[6 rows x 168 columns]"
      ]
     },
     "execution_count": 97,
     "metadata": {},
     "output_type": "execute_result"
    }
   ],
   "source": [
    "temp = baseline[baseline['PRE_VAD']==1].rID\n",
    "admission[admission['rID'].isin(temp) & admission['POST_VAD']==1]"
   ]
  },
  {
   "cell_type": "code",
   "execution_count": 98,
   "metadata": {},
   "outputs": [],
   "source": [
    "# patients ever had POST_VAD == 1\n",
    "admissions_postvad = admissions_lvef[admissions_lvef['POST_VAD']==1]\n",
    "rID_postvad = admissions_postvad.rID.unique()"
   ]
  },
  {
   "cell_type": "code",
   "execution_count": 99,
   "metadata": {
    "scrolled": true
   },
   "outputs": [
    {
     "data": {
      "text/plain": [
       "155"
      ]
     },
     "execution_count": 99,
     "metadata": {},
     "output_type": "execute_result"
    }
   ],
   "source": [
    "len(rID_postvad)"
   ]
  },
  {
   "cell_type": "code",
   "execution_count": 100,
   "metadata": {},
   "outputs": [],
   "source": [
    "# patients who got VAD during their index admission\n",
    "rID_postvad_0 = list(admissions_postvad.loc[\n",
    "    (admissions_postvad['INDEX_HOSPITALIZATION']==1) & \n",
    "    (admissions_postvad['POST_VAD']==1)].rID.unique())"
   ]
  },
  {
   "cell_type": "code",
   "execution_count": 101,
   "metadata": {},
   "outputs": [
    {
     "data": {
      "text/plain": [
       "52"
      ]
     },
     "execution_count": 101,
     "metadata": {},
     "output_type": "execute_result"
    }
   ],
   "source": [
    "len(rID_postvad_0)"
   ]
  },
  {
   "cell_type": "code",
   "execution_count": 102,
   "metadata": {},
   "outputs": [],
   "source": [
    "# Remove readmissions records of 52 patients who got VAD during index admission\n",
    "adm_postvad = admissions_lvef.drop(\n",
    "    admissions_lvef[admissions_lvef['rID'].isin(rID_postvad_0) & \n",
    "                    (admissions_lvef['INDEX_HOSPITALIZATION']==0)].index)"
   ]
  },
  {
   "cell_type": "code",
   "execution_count": 103,
   "metadata": {},
   "outputs": [],
   "source": [
    "rID_postvad_1 = [i for i in rID_postvad if i not in rID_postvad_0]"
   ]
  },
  {
   "cell_type": "code",
   "execution_count": 104,
   "metadata": {},
   "outputs": [
    {
     "data": {
      "text/plain": [
       "103"
      ]
     },
     "execution_count": 104,
     "metadata": {},
     "output_type": "execute_result"
    }
   ],
   "source": [
    "len(rID_postvad_1)"
   ]
  },
  {
   "cell_type": "code",
   "execution_count": 105,
   "metadata": {},
   "outputs": [],
   "source": [
    "adm_postvad_1 = admissions_lvef.loc[admissions_lvef['rID'].isin(rID_postvad_1)]"
   ]
  },
  {
   "cell_type": "code",
   "execution_count": 106,
   "metadata": {},
   "outputs": [],
   "source": [
    "adm_postvad_1 = adm_postvad_1[['rID', 'POST_VAD']]"
   ]
  },
  {
   "cell_type": "code",
   "execution_count": 107,
   "metadata": {},
   "outputs": [
    {
     "data": {
      "text/plain": [
       "103"
      ]
     },
     "execution_count": 107,
     "metadata": {},
     "output_type": "execute_result"
    }
   ],
   "source": [
    "len(adm_postvad_1.rID.unique())"
   ]
  },
  {
   "cell_type": "code",
   "execution_count": 108,
   "metadata": {},
   "outputs": [
    {
     "data": {
      "text/plain": [
       "(14082, 170)"
      ]
     },
     "execution_count": 108,
     "metadata": {},
     "output_type": "execute_result"
    }
   ],
   "source": [
    "adm_postvad.shape"
   ]
  },
  {
   "cell_type": "code",
   "execution_count": 109,
   "metadata": {
    "code_folding": []
   },
   "outputs": [],
   "source": [
    "rID_adm_2 = []\n",
    "for i in adm_postvad_1.rID.unique():\n",
    "    for j in range(adm_postvad_1.loc[adm_postvad_1['rID']==i].shape[0]):\n",
    "        if adm_postvad_1.loc[adm_postvad_1['rID']==i].iloc[j].POST_VAD == 1:\n",
    "            rID_adm_2.append((i,j+1))\n",
    "            break"
   ]
  },
  {
   "cell_type": "code",
   "execution_count": 110,
   "metadata": {},
   "outputs": [],
   "source": [
    "for t in rID_adm_2:\n",
    "    adm_postvad.drop(\n",
    "        adm_postvad[(adm_postvad['rID']==t[0])&\n",
    "                    (adm_postvad['admission_count']>t[1])].index, inplace=True\n",
    "    )"
   ]
  },
  {
   "cell_type": "code",
   "execution_count": 111,
   "metadata": {
    "scrolled": true
   },
   "outputs": [
    {
     "data": {
      "text/plain": [
       "(13476, 170)"
      ]
     },
     "execution_count": 111,
     "metadata": {},
     "output_type": "execute_result"
    }
   ],
   "source": [
    "adm_postvad.shape"
   ]
  },
  {
   "cell_type": "code",
   "execution_count": 112,
   "metadata": {},
   "outputs": [
    {
     "data": {
      "text/plain": [
       "0.24175666463349002"
      ]
     },
     "execution_count": 112,
     "metadata": {},
     "output_type": "execute_result"
    }
   ],
   "source": [
    "adm_postvad.shape[0]/admission.shape[0]"
   ]
  },
  {
   "cell_type": "code",
   "execution_count": 113,
   "metadata": {},
   "outputs": [
    {
     "data": {
      "text/plain": [
       "810"
      ]
     },
     "execution_count": 113,
     "metadata": {},
     "output_type": "execute_result"
    }
   ],
   "source": [
    "admissions_lvef.shape[0] - adm_postvad.shape[0]"
   ]
  },
  {
   "cell_type": "markdown",
   "metadata": {},
   "source": [
    "# Remove admissions after tranplant taken during admission"
   ]
  },
  {
   "cell_type": "markdown",
   "metadata": {},
   "source": [
    "Attribute use: POST_TRANSPLANT  \n",
    "Work on adm_postvad"
   ]
  },
  {
   "cell_type": "code",
   "execution_count": 114,
   "metadata": {
    "scrolled": true
   },
   "outputs": [
    {
     "data": {
      "text/plain": [
       "0    55562\n",
       "1      180\n",
       "Name: POST_TRANSPLANT, dtype: int64"
      ]
     },
     "execution_count": 114,
     "metadata": {},
     "output_type": "execute_result"
    }
   ],
   "source": [
    "admission['POST_TRANSPLANT'].value_counts()"
   ]
  },
  {
   "cell_type": "code",
   "execution_count": 115,
   "metadata": {},
   "outputs": [
    {
     "data": {
      "text/plain": [
       "180"
      ]
     },
     "execution_count": 115,
     "metadata": {},
     "output_type": "execute_result"
    }
   ],
   "source": [
    "admissions_postrans = admission[admission['POST_TRANSPLANT']==1]\n",
    "len(admissions_postrans.rID.unique())"
   ]
  },
  {
   "cell_type": "code",
   "execution_count": 116,
   "metadata": {},
   "outputs": [],
   "source": [
    "# patients ever had POST_TRANSPLANT == 1\n",
    "admissions_postrans = adm_postvad[adm_postvad['POST_TRANSPLANT']==1]\n",
    "rID_postrans = admissions_postrans.rID.unique()"
   ]
  },
  {
   "cell_type": "code",
   "execution_count": 117,
   "metadata": {
    "scrolled": true
   },
   "outputs": [
    {
     "data": {
      "text/plain": [
       "69"
      ]
     },
     "execution_count": 117,
     "metadata": {},
     "output_type": "execute_result"
    }
   ],
   "source": [
    "len(rID_postrans)"
   ]
  },
  {
   "cell_type": "code",
   "execution_count": 118,
   "metadata": {},
   "outputs": [
    {
     "data": {
      "text/plain": [
       "3"
      ]
     },
     "execution_count": 118,
     "metadata": {},
     "output_type": "execute_result"
    }
   ],
   "source": [
    "# patients who got heart transplant in their index admission\n",
    "rID_postrans_0 = list(admissions_postrans.loc[\n",
    "    (admissions_postrans['INDEX_HOSPITALIZATION']==1) & \n",
    "    (admissions_postrans['POST_TRANSPLANT']==1)].rID)\n",
    "\n",
    "len(rID_postrans_0)"
   ]
  },
  {
   "cell_type": "code",
   "execution_count": 119,
   "metadata": {},
   "outputs": [],
   "source": [
    "adm_postrans = adm_postvad.drop(\n",
    "    adm_postvad[adm_postvad['rID'].isin(rID_postrans_0) & \n",
    "                    (adm_postvad['INDEX_HOSPITALIZATION']==0)].index)"
   ]
  },
  {
   "cell_type": "code",
   "execution_count": 120,
   "metadata": {},
   "outputs": [
    {
     "data": {
      "text/plain": [
       "66"
      ]
     },
     "execution_count": 120,
     "metadata": {},
     "output_type": "execute_result"
    }
   ],
   "source": [
    "# patients who got heart transplant in follow up admissions\n",
    "rID_postrans_1 = [i for i in rID_postrans if i not in rID_postrans_0]\n",
    "len(rID_postrans_1)"
   ]
  },
  {
   "cell_type": "code",
   "execution_count": 121,
   "metadata": {},
   "outputs": [],
   "source": [
    "adm_postrans_1 = adm_postvad.loc[adm_postvad['rID'].isin(rID_postrans_1)]\n",
    "adm_postrans_1 = adm_postrans_1[['rID', 'POST_TRANSPLANT']]"
   ]
  },
  {
   "cell_type": "code",
   "execution_count": 122,
   "metadata": {},
   "outputs": [],
   "source": [
    "rID_adm_3 = []\n",
    "for i in adm_postrans_1.rID.unique():\n",
    "    for j in range(adm_postrans_1.loc[adm_postrans_1['rID']==i].shape[0]):\n",
    "        if adm_postrans_1.loc[adm_postrans_1['rID']==i].iloc[j].POST_TRANSPLANT == 1:\n",
    "            rID_adm_3.append((i,j+1))\n",
    "            break"
   ]
  },
  {
   "cell_type": "code",
   "execution_count": 123,
   "metadata": {},
   "outputs": [
    {
     "data": {
      "text/plain": [
       "(13472, 170)"
      ]
     },
     "execution_count": 123,
     "metadata": {},
     "output_type": "execute_result"
    }
   ],
   "source": [
    "adm_postrans.shape"
   ]
  },
  {
   "cell_type": "code",
   "execution_count": 124,
   "metadata": {},
   "outputs": [
    {
     "data": {
      "text/plain": [
       "66"
      ]
     },
     "execution_count": 124,
     "metadata": {},
     "output_type": "execute_result"
    }
   ],
   "source": [
    "len(rID_adm_3)"
   ]
  },
  {
   "cell_type": "code",
   "execution_count": 125,
   "metadata": {},
   "outputs": [],
   "source": [
    "for t in rID_adm_3:\n",
    "    adm_postrans.drop(\n",
    "        adm_postrans[(adm_postrans['rID']==t[0])&\n",
    "                     (adm_postrans['admission_count']>t[1])].index, inplace=True\n",
    "    )"
   ]
  },
  {
   "cell_type": "code",
   "execution_count": 126,
   "metadata": {},
   "outputs": [
    {
     "name": "stdout",
     "output_type": "stream",
     "text": [
      "13311 0.2387965986150479\n"
     ]
    }
   ],
   "source": [
    "print(adm_postrans.shape[0], adm_postrans.shape[0]/admission.shape[0])"
   ]
  },
  {
   "cell_type": "code",
   "execution_count": 127,
   "metadata": {},
   "outputs": [
    {
     "data": {
      "text/plain": [
       "165"
      ]
     },
     "execution_count": 127,
     "metadata": {},
     "output_type": "execute_result"
    }
   ],
   "source": [
    "adm_postvad.shape[0] - adm_postrans.shape[0]"
   ]
  },
  {
   "cell_type": "markdown",
   "metadata": {},
   "source": [
    "# Export the Cohort Baseline and Admission"
   ]
  },
  {
   "cell_type": "markdown",
   "metadata": {},
   "source": [
    "The baseline for this cohort: patients_lvef  \n",
    "The admission for this cohort: adm_postrans"
   ]
  },
  {
   "cell_type": "code",
   "execution_count": 128,
   "metadata": {},
   "outputs": [
    {
     "data": {
      "text/plain": [
       "(2521, 328)"
      ]
     },
     "execution_count": 128,
     "metadata": {},
     "output_type": "execute_result"
    }
   ],
   "source": [
    "patients_lvef.shape"
   ]
  },
  {
   "cell_type": "code",
   "execution_count": 129,
   "metadata": {},
   "outputs": [
    {
     "data": {
      "text/plain": [
       "(13311, 170)"
      ]
     },
     "execution_count": 129,
     "metadata": {},
     "output_type": "execute_result"
    }
   ],
   "source": [
    "adm_postrans.shape"
   ]
  },
  {
   "cell_type": "code",
   "execution_count": 130,
   "metadata": {},
   "outputs": [
    {
     "data": {
      "text/plain": [
       "32"
      ]
     },
     "execution_count": 130,
     "metadata": {},
     "output_type": "execute_result"
    }
   ],
   "source": [
    "13343-13311"
   ]
  },
  {
   "cell_type": "code",
   "execution_count": 67,
   "metadata": {},
   "outputs": [
    {
     "name": "stdout",
     "output_type": "stream",
     "text": [
      "/Users/jinchenxie/Desktop/datasets/processed\n"
     ]
    }
   ],
   "source": [
    "%cd processed"
   ]
  },
  {
   "cell_type": "code",
   "execution_count": 131,
   "metadata": {},
   "outputs": [
    {
     "name": "stdout",
     "output_type": "stream",
     "text": [
      "DataFrame is written successfully to Excel File.\n"
     ]
    }
   ],
   "source": [
    "writer = pd.ExcelWriter('Advanced Therapy Potential Cohort.xlsx')\n",
    "patients_lvef.to_excel(writer, 'cohort baseline')\n",
    "adm_postrans.to_excel(writer, 'cohort admission')\n",
    "writer.save()\n",
    "print('DataFrame is written successfully to Excel File.')"
   ]
  },
  {
   "cell_type": "code",
   "execution_count": 68,
   "metadata": {},
   "outputs": [
    {
     "name": "stdout",
     "output_type": "stream",
     "text": [
      "DataFrame is written successfully to Excel File.\n"
     ]
    }
   ],
   "source": [
    "writer = pd.ExcelWriter('VAD potential cohort admissions V2.xlsx')\n",
    "admissions_lvef.to_excel(writer, 'cohort admission')\n",
    "writer.save()\n",
    "print('DataFrame is written successfully to Excel File.')"
   ]
  },
  {
   "cell_type": "markdown",
   "metadata": {},
   "source": [
    "# END"
   ]
  },
  {
   "cell_type": "markdown",
   "metadata": {},
   "source": [
    "# Patients with LVEF <= 25"
   ]
  },
  {
   "cell_type": "markdown",
   "metadata": {},
   "source": [
    "The attributes related to ejection fraction are: LVEF, CLOSEST_LVEF_DAYS  \n",
    "These 2 attributes appear in both baseline and admission datasets"
   ]
  },
  {
   "cell_type": "code",
   "execution_count": null,
   "metadata": {},
   "outputs": [],
   "source": [
    "# first, examine these two attributes missing values in baseline dataset\n",
    "print('LVEF missing values:', baseline['LVEF'].isna().sum(), \n",
    "      baseline['LVEF'].isna().sum()/baseline.shape[0])\n",
    "print('CLOSEST_LVEF_DAYS missing values:', baseline['CLOSEST_LVEF_DAYS'].isna().sum(), \n",
    "      baseline['CLOSEST_LVEF_DAYS'].isna().sum()/baseline.shape[0])"
   ]
  },
  {
   "cell_type": "code",
   "execution_count": null,
   "metadata": {},
   "outputs": [],
   "source": [
    "# examine these two attributes in admission dataset\n",
    "print('LVEF missing values:', admission['LVEF'].isna().sum(), \n",
    "      admission['LVEF'].isna().sum()/admission.shape[0])\n",
    "print('CLOSEST_LVEF_DAYS missing values:', admission['CLOSEST_LVEF_DAYS'].isna().sum(), \n",
    "      admission['CLOSEST_LVEF_DAYS'].isna().sum()/admission.shape[0])"
   ]
  },
  {
   "cell_type": "markdown",
   "metadata": {},
   "source": [
    "【同个病人的LVEF in baseline和admission的data都和在一起，只要有<=25的value就算上。】"
   ]
  },
  {
   "cell_type": "code",
   "execution_count": null,
   "metadata": {},
   "outputs": [],
   "source": [
    "# combine baseline and admission LVEF data together\n",
    "lvef_b = baseline[['rID', 'LVEF']]\n",
    "lvef_a = admission[['rID', 'LVEF']]"
   ]
  },
  {
   "cell_type": "code",
   "execution_count": null,
   "metadata": {},
   "outputs": [],
   "source": [
    "lvef_a.dropna(inplace=True)\n",
    "lvef_b.dropna(inplace=True)"
   ]
  },
  {
   "cell_type": "markdown",
   "metadata": {},
   "source": [
    "## without other restrictions, how many patients left"
   ]
  },
  {
   "cell_type": "code",
   "execution_count": null,
   "metadata": {},
   "outputs": [],
   "source": [
    "lvef_a_rID = list(lvef_a.loc[lvef_a['LVEF']<=40].rID)\n",
    "lvef_b_rID = list(lvef_b.loc[lvef_b['LVEF']<=40].rID)"
   ]
  },
  {
   "cell_type": "code",
   "execution_count": null,
   "metadata": {},
   "outputs": [],
   "source": [
    "print(len(lvef_a_rID),len(lvef_b_rID))"
   ]
  },
  {
   "cell_type": "code",
   "execution_count": null,
   "metadata": {},
   "outputs": [],
   "source": [
    "def Union(lst1, lst2): \n",
    "    final_list = list(set(lst1) | set(lst2)) \n",
    "    return final_list "
   ]
  },
  {
   "cell_type": "code",
   "execution_count": null,
   "metadata": {},
   "outputs": [],
   "source": [
    "union_lvef_rID = Union(lvef_a_rID, lvef_b_rID)\n",
    "print(len(union_lvef_rID), len(union_lvef_rID)/baseline.shape[0])"
   ]
  },
  {
   "cell_type": "markdown",
   "metadata": {},
   "source": [
    "## With other restrictions in place"
   ]
  },
  {
   "cell_type": "markdown",
   "metadata": {},
   "source": [
    "We use the list of rID: rID_liver, patients_liver and admission_liver"
   ]
  },
  {
   "cell_type": "code",
   "execution_count": null,
   "metadata": {},
   "outputs": [],
   "source": [
    "res_lvef_b = patients_vad[['rID', 'LVEF']]\n",
    "res_lvef_a = admissions_vad[['rID', 'LVEF']]\n",
    "print(res_lvef_a.isna().sum()/admission.shape[0], res_lvef_b.isna().sum()/baseline.shape[0])"
   ]
  },
  {
   "cell_type": "code",
   "execution_count": null,
   "metadata": {},
   "outputs": [],
   "source": [
    "res_lvef_a.dropna(inplace=True)\n",
    "res_lvef_b.dropna(inplace=True)"
   ]
  },
  {
   "cell_type": "code",
   "execution_count": null,
   "metadata": {},
   "outputs": [],
   "source": [
    "res_lvef_a_rID = list(res_lvef_a.loc[res_lvef_a['LVEF']<=25].rID)\n",
    "res_lvef_b_rID = list(res_lvef_b.loc[res_lvef_b['LVEF']<=25].rID)"
   ]
  },
  {
   "cell_type": "code",
   "execution_count": null,
   "metadata": {},
   "outputs": [],
   "source": [
    "print(len(res_lvef_a_rID),len(res_lvef_b_rID))"
   ]
  },
  {
   "cell_type": "code",
   "execution_count": null,
   "metadata": {},
   "outputs": [],
   "source": [
    "res_union_lvef_rID = Union(res_lvef_a_rID, res_lvef_b_rID)\n",
    "print(len(res_union_lvef_rID), len(res_union_lvef_rID)/baseline.shape[0])"
   ]
  },
  {
   "cell_type": "code",
   "execution_count": null,
   "metadata": {},
   "outputs": [],
   "source": [
    "patients_lvef = baseline[baseline['rID'].isin(res_union_lvef_rID)]\n",
    "admissions_lvef = admission[admission['rID'].isin(res_union_lvef_rID)]"
   ]
  },
  {
   "cell_type": "code",
   "execution_count": null,
   "metadata": {},
   "outputs": [],
   "source": [
    "print(admissions_lvef.shape[0], admissions_lvef.shape[0]/admission.shape[0])"
   ]
  },
  {
   "cell_type": "markdown",
   "metadata": {},
   "source": [
    "## What if using 30 as threshold?"
   ]
  },
  {
   "cell_type": "code",
   "execution_count": null,
   "metadata": {},
   "outputs": [],
   "source": [
    "res_lvef_b = patients_vad[['rID', 'LVEF']]\n",
    "res_lvef_a = admissions_vad[['rID', 'LVEF']]"
   ]
  },
  {
   "cell_type": "code",
   "execution_count": null,
   "metadata": {},
   "outputs": [],
   "source": [
    "res_lvef_a.dropna(inplace=True)\n",
    "res_lvef_b.dropna(inplace=True)\n",
    "lvef_a_rID = list(res_lvef_a.loc[lvef_a['LVEF']<=40].rID)\n",
    "lvef_b_rID = list(res_lvef_b.loc[lvef_b['LVEF']<=40].rID)"
   ]
  },
  {
   "cell_type": "code",
   "execution_count": null,
   "metadata": {},
   "outputs": [],
   "source": [
    "union_lvef_rID = Union(lvef_a_rID, lvef_b_rID)\n",
    "print(len(union_lvef_rID), len(union_lvef_rID)/baseline.shape[0])"
   ]
  },
  {
   "cell_type": "markdown",
   "metadata": {},
   "source": [
    "# Extract the patients with no EF value"
   ]
  },
  {
   "cell_type": "markdown",
   "metadata": {},
   "source": [
    "## Patients with missing LVEF in baseline"
   ]
  },
  {
   "cell_type": "code",
   "execution_count": null,
   "metadata": {},
   "outputs": [],
   "source": [
    "pat_noef_b = baseline.loc[baseline['LVEF'].isna()]"
   ]
  },
  {
   "cell_type": "code",
   "execution_count": null,
   "metadata": {},
   "outputs": [],
   "source": [
    "pat_noef_b_part = pat_noef_b[['rID', 'LVEF']]"
   ]
  },
  {
   "cell_type": "code",
   "execution_count": null,
   "metadata": {},
   "outputs": [],
   "source": [
    "id_noef_b = pat_noef_b_part['rID']"
   ]
  },
  {
   "cell_type": "code",
   "execution_count": null,
   "metadata": {},
   "outputs": [],
   "source": [
    "len(id_noef_b)"
   ]
  },
  {
   "cell_type": "markdown",
   "metadata": {},
   "source": [
    "## Admissions with missing LVEF in admission"
   ]
  },
  {
   "cell_type": "code",
   "execution_count": null,
   "metadata": {},
   "outputs": [],
   "source": [
    "adm_noef = admission.loc[admission['LVEF'].isna()]"
   ]
  },
  {
   "cell_type": "code",
   "execution_count": null,
   "metadata": {},
   "outputs": [],
   "source": [
    "# how many time LVEF is not missing for each patient in the admission dataset\n",
    "id_times_adm = admission[['rID','LVEF']].groupby(['rID']).count()"
   ]
  },
  {
   "cell_type": "code",
   "execution_count": null,
   "metadata": {},
   "outputs": [],
   "source": [
    "# patients with no LVEF values in admission dataset\n",
    "pat_noef_a_part = id_times_adm[id_times_adm['LVEF']==0]"
   ]
  },
  {
   "cell_type": "code",
   "execution_count": null,
   "metadata": {},
   "outputs": [],
   "source": [
    "id_noef_a = list(pat_noef_a_part.index.values)"
   ]
  },
  {
   "cell_type": "code",
   "execution_count": null,
   "metadata": {},
   "outputs": [],
   "source": [
    "len(id_noef_a)"
   ]
  },
  {
   "cell_type": "markdown",
   "metadata": {},
   "source": [
    "## Patients with no LVEF at all in either datasets"
   ]
  },
  {
   "cell_type": "code",
   "execution_count": null,
   "metadata": {},
   "outputs": [],
   "source": [
    "def intersection(lst1, lst2): \n",
    "    return list(set(lst1) & set(lst2)) "
   ]
  },
  {
   "cell_type": "code",
   "execution_count": null,
   "metadata": {},
   "outputs": [],
   "source": [
    "id_noef = intersection(id_noef_b, id_noef_a)"
   ]
  },
  {
   "cell_type": "code",
   "execution_count": null,
   "metadata": {},
   "outputs": [],
   "source": [
    "len(id_noef)"
   ]
  },
  {
   "cell_type": "code",
   "execution_count": null,
   "metadata": {},
   "outputs": [],
   "source": [
    "pat_noef = baseline[baseline['rID'].isin(id_noef)][['rID', 'LVEF']]"
   ]
  },
  {
   "cell_type": "markdown",
   "metadata": {},
   "source": [
    "Export to xlsx file:"
   ]
  },
  {
   "cell_type": "code",
   "execution_count": null,
   "metadata": {},
   "outputs": [],
   "source": [
    "%pwd"
   ]
  },
  {
   "cell_type": "code",
   "execution_count": null,
   "metadata": {},
   "outputs": [],
   "source": [
    "writer = pd.ExcelWriter('missing_LVEF.xlsx')\n",
    "pat_noef_b_part.to_excel(writer, 'in_baseline')\n",
    "pat_noef_a_part.to_excel(writer, 'in_admission')\n",
    "pat_noef.to_excel(writer, 'in_both')\n",
    "\n",
    "writer.save()\n",
    "print('DataFrame is written successfully to Excel File.')"
   ]
  }
 ],
 "metadata": {
  "kernelspec": {
   "display_name": "Python 3",
   "language": "python",
   "name": "python3"
  },
  "language_info": {
   "codemirror_mode": {
    "name": "ipython",
    "version": 3
   },
   "file_extension": ".py",
   "mimetype": "text/x-python",
   "name": "python",
   "nbconvert_exporter": "python",
   "pygments_lexer": "ipython3",
   "version": "3.6.9"
  },
  "toc": {
   "base_numbering": 1,
   "nav_menu": {},
   "number_sections": true,
   "sideBar": true,
   "skip_h1_title": false,
   "title_cell": "Table of Contents",
   "title_sidebar": "Contents",
   "toc_cell": true,
   "toc_position": {
    "height": "700px",
    "left": "66px",
    "top": "144.591px",
    "width": "349.091px"
   },
   "toc_section_display": true,
   "toc_window_display": true
  }
 },
 "nbformat": 4,
 "nbformat_minor": 4
}
