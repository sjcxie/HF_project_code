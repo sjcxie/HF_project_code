{
 "cells": [
  {
   "cell_type": "markdown",
   "metadata": {
    "toc": true
   },
   "source": [
    "<h1>Table of Contents<span class=\"tocSkip\"></span></h1>\n",
    "<div class=\"toc\"><ul class=\"toc-item\"><li><span><a href=\"#Import-Data\" data-toc-modified-id=\"Import-Data-1\"><span class=\"toc-item-num\">1&nbsp;&nbsp;</span>Import Data</a></span></li><li><span><a href=\"#Patients-age-<=-75\" data-toc-modified-id=\"Patients-age-<=-75-2\"><span class=\"toc-item-num\">2&nbsp;&nbsp;</span>Patients age &lt;= 75</a></span><ul class=\"toc-item\"><li><span><a href=\"#Baseline-Dataset\" data-toc-modified-id=\"Baseline-Dataset-2.1\"><span class=\"toc-item-num\">2.1&nbsp;&nbsp;</span>Baseline Dataset</a></span><ul class=\"toc-item\"><li><span><a href=\"#AGE_ADMISSION\" data-toc-modified-id=\"AGE_ADMISSION-2.1.1\"><span class=\"toc-item-num\">2.1.1&nbsp;&nbsp;</span>AGE_ADMISSION</a></span></li><li><span><a href=\"#AGE_OFFICE_VISIT\" data-toc-modified-id=\"AGE_OFFICE_VISIT-2.1.2\"><span class=\"toc-item-num\">2.1.2&nbsp;&nbsp;</span>AGE_OFFICE_VISIT</a></span></li><li><span><a href=\"#AGE_CENSOR\" data-toc-modified-id=\"AGE_CENSOR-2.1.3\"><span class=\"toc-item-num\">2.1.3&nbsp;&nbsp;</span>AGE_CENSOR</a></span></li></ul></li><li><span><a href=\"#Admission-Dataset\" data-toc-modified-id=\"Admission-Dataset-2.2\"><span class=\"toc-item-num\">2.2&nbsp;&nbsp;</span>Admission Dataset</a></span><ul class=\"toc-item\"><li><span><a href=\"#AGE_ADMISSION\" data-toc-modified-id=\"AGE_ADMISSION-2.2.1\"><span class=\"toc-item-num\">2.2.1&nbsp;&nbsp;</span>AGE_ADMISSION</a></span></li></ul></li><li><span><a href=\"#Patients-after-AGE-criterion\" data-toc-modified-id=\"Patients-after-AGE-criterion-2.3\"><span class=\"toc-item-num\">2.3&nbsp;&nbsp;</span>Patients after AGE criterion</a></span></li></ul></li><li><span><a href=\"#Patients-without-metastatic-tumor\" data-toc-modified-id=\"Patients-without-metastatic-tumor-3\"><span class=\"toc-item-num\">3&nbsp;&nbsp;</span>Patients without metastatic tumor</a></span></li><li><span><a href=\"#Patients-without-malignancy-no-skin\" data-toc-modified-id=\"Patients-without-malignancy-no-skin-4\"><span class=\"toc-item-num\">4&nbsp;&nbsp;</span>Patients without malignancy no skin</a></span></li><li><span><a href=\"#Patients-without-severe-liver-disease\" data-toc-modified-id=\"Patients-without-severe-liver-disease-5\"><span class=\"toc-item-num\">5&nbsp;&nbsp;</span>Patients without severe liver disease</a></span></li><li><span><a href=\"#Patients-without-prior-VAD\" data-toc-modified-id=\"Patients-without-prior-VAD-6\"><span class=\"toc-item-num\">6&nbsp;&nbsp;</span>Patients without prior VAD</a></span></li><li><span><a href=\"#Patients-without-prior-heart-transplant\" data-toc-modified-id=\"Patients-without-prior-heart-transplant-7\"><span class=\"toc-item-num\">7&nbsp;&nbsp;</span>Patients without prior heart transplant</a></span></li><li><span><a href=\"#Patients-with-LVEF-<=-40\" data-toc-modified-id=\"Patients-with-LVEF-<=-40-8\"><span class=\"toc-item-num\">8&nbsp;&nbsp;</span>Patients with LVEF &lt;= 40</a></span></li><li><span><a href=\"#*Add-a-attribute-in-admission-dataset:-admission_times\" data-toc-modified-id=\"*Add-a-attribute-in-admission-dataset:-admission_times-9\"><span class=\"toc-item-num\">9&nbsp;&nbsp;</span>*Add a attribute in admission dataset: admission_times</a></span></li><li><span><a href=\"#*Add-an-attribute-&quot;last_adm&quot;-in-admission-dataset\" data-toc-modified-id=\"*Add-an-attribute-&quot;last_adm&quot;-in-admission-dataset-10\"><span class=\"toc-item-num\">10&nbsp;&nbsp;</span>*Add an attribute \"last_adm\" in admission dataset</a></span></li><li><span><a href=\"#Remove-Admissions-after-VAD-taken-during-admission\" data-toc-modified-id=\"Remove-Admissions-after-VAD-taken-during-admission-11\"><span class=\"toc-item-num\">11&nbsp;&nbsp;</span>Remove Admissions after VAD taken during admission</a></span></li><li><span><a href=\"#Remove-admissions-after-tranplant-taken-during-admission\" data-toc-modified-id=\"Remove-admissions-after-tranplant-taken-during-admission-12\"><span class=\"toc-item-num\">12&nbsp;&nbsp;</span>Remove admissions after tranplant taken during admission</a></span></li><li><span><a href=\"#Export-the-Cohort-Baseline-and-Admission\" data-toc-modified-id=\"Export-the-Cohort-Baseline-and-Admission-13\"><span class=\"toc-item-num\">13&nbsp;&nbsp;</span>Export the Cohort Baseline and Admission</a></span></li><li><span><a href=\"#END\" data-toc-modified-id=\"END-14\"><span class=\"toc-item-num\">14&nbsp;&nbsp;</span>END</a></span></li><li><span><a href=\"#Patients-with-LVEF-<=-25\" data-toc-modified-id=\"Patients-with-LVEF-<=-25-15\"><span class=\"toc-item-num\">15&nbsp;&nbsp;</span>Patients with LVEF &lt;= 25</a></span><ul class=\"toc-item\"><li><span><a href=\"#without-other-restrictions,-how-many-patients-left\" data-toc-modified-id=\"without-other-restrictions,-how-many-patients-left-15.1\"><span class=\"toc-item-num\">15.1&nbsp;&nbsp;</span>without other restrictions, how many patients left</a></span></li><li><span><a href=\"#With-other-restrictions-in-place\" data-toc-modified-id=\"With-other-restrictions-in-place-15.2\"><span class=\"toc-item-num\">15.2&nbsp;&nbsp;</span>With other restrictions in place</a></span></li><li><span><a href=\"#What-if-using-30-as-threshold?\" data-toc-modified-id=\"What-if-using-30-as-threshold?-15.3\"><span class=\"toc-item-num\">15.3&nbsp;&nbsp;</span>What if using 30 as threshold?</a></span></li></ul></li><li><span><a href=\"#Extract-the-patients-with-no-EF-value\" data-toc-modified-id=\"Extract-the-patients-with-no-EF-value-16\"><span class=\"toc-item-num\">16&nbsp;&nbsp;</span>Extract the patients with no EF value</a></span><ul class=\"toc-item\"><li><span><a href=\"#Patients-with-missing-LVEF-in-baseline\" data-toc-modified-id=\"Patients-with-missing-LVEF-in-baseline-16.1\"><span class=\"toc-item-num\">16.1&nbsp;&nbsp;</span>Patients with missing LVEF in baseline</a></span></li><li><span><a href=\"#Admissions-with-missing-LVEF-in-admission\" data-toc-modified-id=\"Admissions-with-missing-LVEF-in-admission-16.2\"><span class=\"toc-item-num\">16.2&nbsp;&nbsp;</span>Admissions with missing LVEF in admission</a></span></li><li><span><a href=\"#Patients-with-no-LVEF-at-all-in-either-datasets\" data-toc-modified-id=\"Patients-with-no-LVEF-at-all-in-either-datasets-16.3\"><span class=\"toc-item-num\">16.3&nbsp;&nbsp;</span>Patients with no LVEF at all in either datasets</a></span></li></ul></li></ul></div>"
   ]
  },
  {
   "cell_type": "code",
   "execution_count": 1,
   "metadata": {},
   "outputs": [],
   "source": [
    "import pandas as pd\n",
    "import numpy as np\n",
    "from matplotlib import pyplot as plt"
   ]
  },
  {
   "cell_type": "code",
   "execution_count": 2,
   "metadata": {},
   "outputs": [],
   "source": [
    "pd.options.display.max_rows = 400\n",
    "pd.options.display.max_columns = 50"
   ]
  },
  {
   "cell_type": "markdown",
   "metadata": {},
   "source": [
    "# Import Data"
   ]
  },
  {
   "cell_type": "code",
   "execution_count": 3,
   "metadata": {},
   "outputs": [
    {
     "name": "stdout",
     "output_type": "stream",
     "text": [
      "/Users/jinchenxie/Desktop/HF_Research/datasets\n"
     ]
    }
   ],
   "source": [
    "%cd ~/desktop/hf_research/datasets\n",
    "baseline = pd.read_excel('HF-Baseline.xlsx', '00480_Baseline_20200115_NA')\n",
    "admission = pd.read_excel('HF-Admissions.xlsx', '00480_Admissions_20200115_NA')"
   ]
  },
  {
   "cell_type": "code",
   "execution_count": 96,
   "metadata": {},
   "outputs": [
    {
     "data": {
      "text/plain": [
       "43570    0\n",
       "43571    0\n",
       "43572    0\n",
       "43573    0\n",
       "Name: POST_TRANSPLANT, dtype: int64"
      ]
     },
     "execution_count": 96,
     "metadata": {},
     "output_type": "execute_result"
    }
   ],
   "source": [
    "admission[admission['rID']==9597].POST_TRANSPLANT"
   ]
  },
  {
   "cell_type": "code",
   "execution_count": 97,
   "metadata": {},
   "outputs": [
    {
     "data": {
      "text/plain": [
       "43570    0\n",
       "43571    0\n",
       "43572    0\n",
       "43573    0\n",
       "Name: POST_VAD, dtype: int64"
      ]
     },
     "execution_count": 97,
     "metadata": {},
     "output_type": "execute_result"
    }
   ],
   "source": [
    "admission[admission['rID']==9597].POST_VAD"
   ]
  },
  {
   "cell_type": "markdown",
   "metadata": {},
   "source": [
    "# Patients age <= 75"
   ]
  },
  {
   "cell_type": "markdown",
   "metadata": {},
   "source": [
    "## Baseline Dataset"
   ]
  },
  {
   "cell_type": "markdown",
   "metadata": {},
   "source": [
    "There are 3 attributes related to AGE in the baseline dataset.\n",
    "    - AGE_CENSOR\n",
    "    - AGE_ADMISSION\n",
    "    - AGE_OFFICE_VISIT"
   ]
  },
  {
   "cell_type": "code",
   "execution_count": 4,
   "metadata": {},
   "outputs": [],
   "source": [
    "age_admission_b = baseline['AGE_ADMISSION']\n",
    "age_office = baseline['AGE_OFFICE_VISIT']\n",
    "age_censor = baseline['AGE_CENSOR']"
   ]
  },
  {
   "cell_type": "markdown",
   "metadata": {},
   "source": [
    "### AGE_ADMISSION"
   ]
  },
  {
   "cell_type": "code",
   "execution_count": 5,
   "metadata": {
    "code_folding": [
     0
    ]
   },
   "outputs": [
    {
     "name": "stdout",
     "output_type": "stream",
     "text": [
      "73.70166870166871 13.91819618122537\n"
     ]
    },
    {
     "data": {
      "text/plain": [
       "(array([  5.,   3.,   7.,   8.,   4.,   3.,   5.,   8.,  10.,   6.,   9.,\n",
       "          5.,  12.,  17.,  19.,   9.,  14.,  16.,  20.,  21.,  24.,  24.,\n",
       "         30.,  25.,  33.,  43.,  33.,  31.,  46.,  47.,  60.,  63.,  84.,\n",
       "         96.,  86., 118., 124., 144., 144., 145., 172., 179., 202., 209.,\n",
       "        202., 204., 228., 243., 241., 261., 260., 299., 252., 273., 266.,\n",
       "        285., 280., 318., 305., 339., 340., 354., 342., 361., 391., 392.,\n",
       "        438., 435., 406., 342., 335., 317., 262., 223., 181., 155.,  97.,\n",
       "         95.,  67.,  48.,  32.,  26.,  10.,   8.,   4.,   4.]),\n",
       " array([ 18,  19,  20,  21,  22,  23,  24,  25,  26,  27,  28,  29,  30,\n",
       "         31,  32,  33,  34,  35,  36,  37,  38,  39,  40,  41,  42,  43,\n",
       "         44,  45,  46,  47,  48,  49,  50,  51,  52,  53,  54,  55,  56,\n",
       "         57,  58,  59,  60,  61,  62,  63,  64,  65,  66,  67,  68,  69,\n",
       "         70,  71,  72,  73,  74,  75,  76,  77,  78,  79,  80,  81,  82,\n",
       "         83,  84,  85,  86,  87,  88,  89,  90,  91,  92,  93,  94,  95,\n",
       "         96,  97,  98,  99, 100, 101, 102, 103, 104]),\n",
       " <a list of 86 Patch objects>)"
      ]
     },
     "execution_count": 5,
     "metadata": {},
     "output_type": "execute_result"
    },
    {
     "data": {
      "image/png": "[encoded data removed]",
      "text/plain": [
       "<Figure size 432x288 with 1 Axes>"
      ]
     },
     "metadata": {
      "needs_background": "light"
     },
     "output_type": "display_data"
    }
   ],
   "source": [
    "# Examine age_admission attribute\n",
    "age_admission_b.isna().sum()\n",
    "\n",
    "print(age_admission_b.mean(), age_admission_b.std())\n",
    "\n",
    "plt.hist(age_admission_b, bins=np.arange(age_admission_b.min(), age_admission_b.max()))"
   ]
  },
  {
   "cell_type": "code",
   "execution_count": 6,
   "metadata": {},
   "outputs": [],
   "source": [
    "age_admission_b_75 = age_admission_b[age_admission_b<=75]"
   ]
  },
  {
   "cell_type": "code",
   "execution_count": 7,
   "metadata": {
    "code_folding": [
     0
    ]
   },
   "outputs": [
    {
     "name": "stdout",
     "output_type": "stream",
     "text": [
      "5975 48.63654863654864\n"
     ]
    }
   ],
   "source": [
    "# age_admission <= 75\n",
    "print(age_admission_b_75.shape[0], len(age_admission_b_75)/baseline.shape[0]*100)\n",
    "\n",
    "patients_75_b = list(baseline.loc[baseline['AGE_ADMISSION']<=75].rID)"
   ]
  },
  {
   "cell_type": "markdown",
   "metadata": {},
   "source": [
    "### AGE_OFFICE_VISIT"
   ]
  },
  {
   "cell_type": "code",
   "execution_count": 8,
   "metadata": {
    "code_folding": [
     0
    ]
   },
   "outputs": [
    {
     "name": "stdout",
     "output_type": "stream",
     "text": [
      "74.2631339031339 13.918739705541453\n"
     ]
    }
   ],
   "source": [
    "#  examine the AGE_OFFICE_VISIT attri\n",
    "age_office.isna().sum()\n",
    "\n",
    "print(age_office.mean(), age_office.std())"
   ]
  },
  {
   "cell_type": "markdown",
   "metadata": {},
   "source": [
    "Notice: The mean of age at office visit is lower than the mean of age at admission."
   ]
  },
  {
   "cell_type": "code",
   "execution_count": 9,
   "metadata": {
    "code_folding": [
     0
    ]
   },
   "outputs": [
    {
     "name": "stdout",
     "output_type": "stream",
     "text": [
      "5655 0.4603174603174603\n"
     ]
    }
   ],
   "source": [
    "# age_office_visit <=75\n",
    "age_office_75 = age_office[age_office<=75]\n",
    "\n",
    "print(len(age_office_75), len(age_office_75)/baseline.shape[0])"
   ]
  },
  {
   "cell_type": "markdown",
   "metadata": {},
   "source": [
    "### AGE_CENSOR\n",
    "(first of mortality date and last day of mortality data available)"
   ]
  },
  {
   "cell_type": "code",
   "execution_count": 10,
   "metadata": {
    "code_folding": [
     0
    ]
   },
   "outputs": [
    {
     "name": "stdout",
     "output_type": "stream",
     "text": [
      "76.65063085063085 13.459257803202464\n"
     ]
    }
   ],
   "source": [
    "#  examine the age_censor attri\n",
    "age_censor.isna().sum()\n",
    "\n",
    "print(age_censor.mean(), age_censor.std())"
   ]
  },
  {
   "cell_type": "code",
   "execution_count": 11,
   "metadata": {
    "code_folding": [
     0
    ]
   },
   "outputs": [
    {
     "name": "stdout",
     "output_type": "stream",
     "text": [
      "5046 0.41074481074481073\n"
     ]
    }
   ],
   "source": [
    "# age_censor <=75\n",
    "age_censor_75 = age_censor[age_censor<=75]\n",
    "\n",
    "print(len(age_censor_75), len(age_censor_75)/baseline.shape[0])"
   ]
  },
  {
   "cell_type": "markdown",
   "metadata": {},
   "source": [
    "## Admission Dataset"
   ]
  },
  {
   "cell_type": "markdown",
   "metadata": {},
   "source": [
    "There's only one attribute that is related to 'age' in admission dataset."
   ]
  },
  {
   "cell_type": "markdown",
   "metadata": {},
   "source": [
    "### AGE_ADMISSION"
   ]
  },
  {
   "cell_type": "code",
   "execution_count": 12,
   "metadata": {
    "code_folding": [
     0
    ]
   },
   "outputs": [
    {
     "name": "stdout",
     "output_type": "stream",
     "text": [
      "72.58948369272721 14.104451846510786\n"
     ]
    }
   ],
   "source": [
    "# examine the age_admission attribute\n",
    "age_admission_a = admission['AGE_ADMISSION']\n",
    "\n",
    "age_admission_a.isna().sum()\n",
    "\n",
    "print(age_admission_a.mean(), age_admission_a.std())"
   ]
  },
  {
   "cell_type": "code",
   "execution_count": 13,
   "metadata": {
    "code_folding": [
     0
    ]
   },
   "outputs": [
    {
     "name": "stdout",
     "output_type": "stream",
     "text": [
      "29614 0.5312690610311793\n"
     ]
    }
   ],
   "source": [
    "# How many admission records out of the 55742 admissions have age <=75?\n",
    "age_admission_a_75 = admission.loc[admission['AGE_ADMISSION']<=75]\n",
    "\n",
    "print(age_admission_a_75.shape[0], age_admission_a_75.shape[0]/admission.shape[0])"
   ]
  },
  {
   "cell_type": "code",
   "execution_count": 14,
   "metadata": {
    "code_folding": [
     0
    ]
   },
   "outputs": [
    {
     "data": {
      "text/plain": [
       "5975"
      ]
     },
     "execution_count": 14,
     "metadata": {},
     "output_type": "execute_result"
    }
   ],
   "source": [
    "# How many unqiue patients do these 29614 admissions include?\n",
    "len(age_admission_a_75.rID.unique())"
   ]
  },
  {
   "cell_type": "code",
   "execution_count": 15,
   "metadata": {},
   "outputs": [],
   "source": [
    "patients_75_a = list(age_admission_a_75.rID.unique())"
   ]
  },
  {
   "cell_type": "code",
   "execution_count": 16,
   "metadata": {},
   "outputs": [
    {
     "data": {
      "text/plain": [
       "False"
      ]
     },
     "execution_count": 16,
     "metadata": {},
     "output_type": "execute_result"
    }
   ],
   "source": [
    "False in patients_75_a == patients_75_b"
   ]
  },
  {
   "cell_type": "markdown",
   "metadata": {},
   "source": [
    "Note: We see that baseline and admission datasets are consistent in the patients(rID) age <=75."
   ]
  },
  {
   "cell_type": "code",
   "execution_count": 17,
   "metadata": {},
   "outputs": [],
   "source": [
    "rID_75 = patients_75_b"
   ]
  },
  {
   "cell_type": "code",
   "execution_count": 18,
   "metadata": {
    "code_folding": []
   },
   "outputs": [
    {
     "name": "stdout",
     "output_type": "stream",
     "text": [
      "31600 0.5668974920167916\n"
     ]
    }
   ],
   "source": [
    "# How many admissions do these patients have in total (including those after they\n",
    "# passed 75 yrs)\n",
    "admissions_75 = admission[admission['rID'].isin(rID_75)]\n",
    "print(admissions_75.shape[0], admissions_75.shape[0]/admission.shape[0])"
   ]
  },
  {
   "cell_type": "markdown",
   "metadata": {},
   "source": [
    "## Patients after AGE criterion"
   ]
  },
  {
   "cell_type": "code",
   "execution_count": 19,
   "metadata": {},
   "outputs": [],
   "source": [
    "del([patients_75_a, patients_75_b])"
   ]
  },
  {
   "cell_type": "code",
   "execution_count": 20,
   "metadata": {
    "scrolled": true
   },
   "outputs": [],
   "source": [
    "patients_75 = baseline.loc[baseline['rID'].isin(rID_75)]"
   ]
  },
  {
   "cell_type": "markdown",
   "metadata": {},
   "source": [
    "- rID_75: the list of rID of patients who had age <= 75  \n",
    "- patients_75: the dataframe of patients <=75 in baseline dataset  \n",
    "- admissions_75: the dataframe of admission records of the 5975 patients  \n",
    ". . . .  .. . . . .with age <=75 at their index admission  "
   ]
  },
  {
   "cell_type": "markdown",
   "metadata": {},
   "source": [
    "# Patients without metastatic tumor"
   ]
  },
  {
   "cell_type": "markdown",
   "metadata": {},
   "source": [
    "CCI_MATASTATIC_TUMOR"
   ]
  },
  {
   "cell_type": "code",
   "execution_count": 21,
   "metadata": {},
   "outputs": [
    {
     "data": {
      "text/plain": [
       "0    12170\n",
       "1      115\n",
       "Name: CCI_MATASTATIC_TUMOR, dtype: int64"
      ]
     },
     "execution_count": 21,
     "metadata": {},
     "output_type": "execute_result"
    }
   ],
   "source": [
    "# examine the CCI_MATASTATIC_TUMOR attribute in original baseline data\n",
    "\n",
    "baseline['CCI_MATASTATIC_TUMOR'].isna().sum()\n",
    "baseline['CCI_MATASTATIC_TUMOR'].value_counts()"
   ]
  },
  {
   "cell_type": "code",
   "execution_count": 22,
   "metadata": {
    "code_folding": []
   },
   "outputs": [
    {
     "data": {
      "text/plain": [
       "0    5922\n",
       "1      53\n",
       "Name: CCI_MATASTATIC_TUMOR, dtype: int64"
      ]
     },
     "execution_count": 22,
     "metadata": {},
     "output_type": "execute_result"
    }
   ],
   "source": [
    "# examine the CCI_MATASTATIC_TUMOR attribute in patients_75 dataframe\n",
    "\n",
    "patients_75['CCI_MATASTATIC_TUMOR'].value_counts()"
   ]
  },
  {
   "cell_type": "code",
   "execution_count": 23,
   "metadata": {
    "code_folding": []
   },
   "outputs": [],
   "source": [
    "# extract patients without metastatic tumor\n",
    "patients_tumor = patients_75.loc[patients_75['CCI_MATASTATIC_TUMOR']==0]\n",
    "rID_tumor = list(patients_tumor['rID'])"
   ]
  },
  {
   "cell_type": "code",
   "execution_count": 24,
   "metadata": {
    "code_folding": []
   },
   "outputs": [
    {
     "name": "stdout",
     "output_type": "stream",
     "text": [
      "5922 0.48205128205128206\n"
     ]
    }
   ],
   "source": [
    "# how many patients remain\n",
    "print(patients_tumor.shape[0], patients_tumor.shape[0]/baseline.shape[0])"
   ]
  },
  {
   "cell_type": "code",
   "execution_count": 25,
   "metadata": {},
   "outputs": [
    {
     "name": "stdout",
     "output_type": "stream",
     "text": [
      "31328 0.562017868034875\n"
     ]
    }
   ],
   "source": [
    "# how many admissions remain\n",
    "print(admission[admission['rID'].isin(rID_tumor)].shape[0], \n",
    "admission[admission['rID'].isin(rID_tumor)].shape[0]/admission.shape[0])"
   ]
  },
  {
   "cell_type": "markdown",
   "metadata": {},
   "source": [
    "# Patients without malignancy no skin"
   ]
  },
  {
   "cell_type": "markdown",
   "metadata": {},
   "source": [
    "CCI_MALIG_NO_SKIN"
   ]
  },
  {
   "cell_type": "code",
   "execution_count": 26,
   "metadata": {},
   "outputs": [
    {
     "data": {
      "text/plain": [
       "0    10592\n",
       "1     1693\n",
       "Name: CCI_MALIG_NO_SKIN, dtype: int64"
      ]
     },
     "execution_count": 26,
     "metadata": {},
     "output_type": "execute_result"
    }
   ],
   "source": [
    "# examine the CCI_MALIG_NO_SKIN attribute in original baseline data\n",
    "baseline['CCI_MALIG_NO_SKIN'].value_counts()"
   ]
  },
  {
   "cell_type": "code",
   "execution_count": 27,
   "metadata": {},
   "outputs": [],
   "source": [
    "# extract patients without malignancy no skin\n",
    "patients_mal = patients_tumor.loc[patients_tumor['CCI_MALIG_NO_SKIN']==0]"
   ]
  },
  {
   "cell_type": "code",
   "execution_count": 28,
   "metadata": {},
   "outputs": [
    {
     "name": "stdout",
     "output_type": "stream",
     "text": [
      "5367 0.4368742368742369\n"
     ]
    }
   ],
   "source": [
    "# how many patients remain\n",
    "print(patients_mal.shape[0], patients_mal.shape[0]/baseline.shape[0])\n",
    "rID_mal = list(patients_mal['rID'])"
   ]
  },
  {
   "cell_type": "code",
   "execution_count": 29,
   "metadata": {},
   "outputs": [
    {
     "name": "stdout",
     "output_type": "stream",
     "text": [
      "28287 0.5074629543252843\n"
     ]
    }
   ],
   "source": [
    "# how many admissions remain\n",
    "print(admission[admission['rID'].isin(rID_mal)].shape[0], \n",
    "admission[admission['rID'].isin(rID_mal)].shape[0]/admission.shape[0])"
   ]
  },
  {
   "cell_type": "markdown",
   "metadata": {},
   "source": [
    "# Patients without severe liver disease"
   ]
  },
  {
   "cell_type": "markdown",
   "metadata": {},
   "source": [
    "CCI_SEVERE_LIVER_DISEASE"
   ]
  },
  {
   "cell_type": "code",
   "execution_count": 30,
   "metadata": {},
   "outputs": [
    {
     "data": {
      "text/plain": [
       "0    12253\n",
       "1       32\n",
       "Name: CCI_SEVERE_LIVER_DISEASE, dtype: int64"
      ]
     },
     "execution_count": 30,
     "metadata": {},
     "output_type": "execute_result"
    }
   ],
   "source": [
    "# examine the CCI_SEVERE_LIVER_DISEASE attribute in orginal data\n",
    "baseline['CCI_SEVERE_LIVER_DISEASE'].value_counts()"
   ]
  },
  {
   "cell_type": "code",
   "execution_count": 31,
   "metadata": {},
   "outputs": [],
   "source": [
    "# extract patients without severe liver disease\n",
    "patients_liver = patients_mal[patients_mal['CCI_SEVERE_LIVER_DISEASE']==0] "
   ]
  },
  {
   "cell_type": "code",
   "execution_count": 32,
   "metadata": {},
   "outputs": [
    {
     "name": "stdout",
     "output_type": "stream",
     "text": [
      "5345 0.4350834350834351\n"
     ]
    }
   ],
   "source": [
    "# how many patients remain?\n",
    "rID_liver = list(patients_liver['rID'])\n",
    "print(len(rID_liver), len(rID_liver)/baseline.shape[0])"
   ]
  },
  {
   "cell_type": "code",
   "execution_count": 33,
   "metadata": {},
   "outputs": [
    {
     "name": "stdout",
     "output_type": "stream",
     "text": [
      "28173 0.5054178178034516\n"
     ]
    }
   ],
   "source": [
    "# how many admissions remain?\n",
    "print(admission[admission['rID'].isin(rID_liver)].shape[0], \n",
    "admission[admission['rID'].isin(rID_liver)].shape[0]/admission.shape[0])"
   ]
  },
  {
   "cell_type": "markdown",
   "metadata": {},
   "source": [
    "# Patients without prior VAD"
   ]
  },
  {
   "cell_type": "markdown",
   "metadata": {},
   "source": [
    "Attributes related PRE_VAD in baseline dataset"
   ]
  },
  {
   "cell_type": "code",
   "execution_count": 34,
   "metadata": {},
   "outputs": [
    {
     "data": {
      "text/plain": [
       "0    12261\n",
       "1       24\n",
       "Name: PRE_VAD, dtype: int64"
      ]
     },
     "execution_count": 34,
     "metadata": {},
     "output_type": "execute_result"
    }
   ],
   "source": [
    "# examine the attribute first\n",
    "baseline['PRE_VAD'].isna().sum()\n",
    "baseline['PRE_VAD'].value_counts()"
   ]
  },
  {
   "cell_type": "code",
   "execution_count": 35,
   "metadata": {},
   "outputs": [],
   "source": [
    "# extract patients without prior VAD surgery\n",
    "patients_vad = patients_liver[patients_liver['PRE_VAD']==0] \n",
    "rID_vad = patients_vad['rID']"
   ]
  },
  {
   "cell_type": "code",
   "execution_count": 36,
   "metadata": {},
   "outputs": [
    {
     "name": "stdout",
     "output_type": "stream",
     "text": [
      "5323 0.4332926332926333\n"
     ]
    }
   ],
   "source": [
    "# how many patients left\n",
    "print(len(rID_vad), len(rID_vad)/baseline.shape[0])"
   ]
  },
  {
   "cell_type": "code",
   "execution_count": 37,
   "metadata": {},
   "outputs": [
    {
     "name": "stdout",
     "output_type": "stream",
     "text": [
      "28064 0.5034623802518747\n"
     ]
    }
   ],
   "source": [
    "# how many admissions left\n",
    "admissions_vad = admission.loc[admission['rID'].isin(rID_vad)]\n",
    "print(admissions_vad.shape[0], admissions_vad.shape[0]/admission.shape[0])"
   ]
  },
  {
   "cell_type": "markdown",
   "metadata": {},
   "source": [
    "# Patients without prior heart transplant"
   ]
  },
  {
   "cell_type": "markdown",
   "metadata": {},
   "source": [
    "Attribute used to filter out prior transplant: PRE_TRANSPLANT"
   ]
  },
  {
   "cell_type": "code",
   "execution_count": 38,
   "metadata": {},
   "outputs": [
    {
     "data": {
      "text/plain": [
       "0    12256\n",
       "1       29\n",
       "Name: PRE_TRANSPLANT, dtype: int64"
      ]
     },
     "execution_count": 38,
     "metadata": {},
     "output_type": "execute_result"
    }
   ],
   "source": [
    "# examine the attribute first\n",
    "baseline['PRE_TRANSPLANT'].value_counts()"
   ]
  },
  {
   "cell_type": "code",
   "execution_count": 39,
   "metadata": {},
   "outputs": [],
   "source": [
    "# extract patients without prior VAD surgery\n",
    "patients_trans = patients_vad[patients_vad['PRE_TRANSPLANT']==0] \n",
    "rID_trans = patients_trans['rID']"
   ]
  },
  {
   "cell_type": "code",
   "execution_count": 40,
   "metadata": {},
   "outputs": [
    {
     "name": "stdout",
     "output_type": "stream",
     "text": [
      "5301 0.4315018315018315\n"
     ]
    }
   ],
   "source": [
    "# how many patients left\n",
    "print(len(rID_trans), len(rID_trans)/baseline.shape[0])"
   ]
  },
  {
   "cell_type": "code",
   "execution_count": 41,
   "metadata": {},
   "outputs": [
    {
     "name": "stdout",
     "output_type": "stream",
     "text": [
      "27949 0.5013993039359909\n"
     ]
    }
   ],
   "source": [
    "# how many admissions left\n",
    "admissions_trans = admission.loc[admission['rID'].isin(rID_trans)]\n",
    "print(admissions_trans.shape[0], admissions_trans.shape[0]/admission.shape[0])"
   ]
  },
  {
   "cell_type": "markdown",
   "metadata": {},
   "source": [
    "# Patients with LVEF <= 40"
   ]
  },
  {
   "cell_type": "code",
   "execution_count": 42,
   "metadata": {},
   "outputs": [],
   "source": [
    "res_lvef_b = patients_trans[['rID', 'LVEF']]\n",
    "res_lvef_a = admissions_trans[['rID', 'LVEF']]"
   ]
  },
  {
   "cell_type": "code",
   "execution_count": 43,
   "metadata": {},
   "outputs": [
    {
     "name": "stderr",
     "output_type": "stream",
     "text": [
      "/Users/jinchenxie/miniconda3/envs/research_env/lib/python3.6/site-packages/ipykernel_launcher.py:1: SettingWithCopyWarning: \n",
      "A value is trying to be set on a copy of a slice from a DataFrame\n",
      "\n",
      "See the caveats in the documentation: http://pandas.pydata.org/pandas-docs/stable/user_guide/indexing.html#returning-a-view-versus-a-copy\n",
      "  \"\"\"Entry point for launching an IPython kernel.\n",
      "/Users/jinchenxie/miniconda3/envs/research_env/lib/python3.6/site-packages/ipykernel_launcher.py:2: SettingWithCopyWarning: \n",
      "A value is trying to be set on a copy of a slice from a DataFrame\n",
      "\n",
      "See the caveats in the documentation: http://pandas.pydata.org/pandas-docs/stable/user_guide/indexing.html#returning-a-view-versus-a-copy\n",
      "  \n"
     ]
    }
   ],
   "source": [
    "res_lvef_a.dropna(inplace=True)\n",
    "res_lvef_b.dropna(inplace=True)"
   ]
  },
  {
   "cell_type": "code",
   "execution_count": 44,
   "metadata": {},
   "outputs": [],
   "source": [
    "res_lvef_a_rID = list(res_lvef_a.loc[res_lvef_a['LVEF']<=40].rID)\n",
    "res_lvef_b_rID = list(res_lvef_b.loc[res_lvef_b['LVEF']<=40].rID)"
   ]
  },
  {
   "cell_type": "code",
   "execution_count": 45,
   "metadata": {},
   "outputs": [
    {
     "name": "stdout",
     "output_type": "stream",
     "text": [
      "3608 2025\n"
     ]
    }
   ],
   "source": [
    "print(len(res_lvef_a_rID),len(res_lvef_b_rID))"
   ]
  },
  {
   "cell_type": "code",
   "execution_count": 46,
   "metadata": {},
   "outputs": [],
   "source": [
    "def Union(lst1, lst2): \n",
    "    final_list = list(set(lst1) | set(lst2)) \n",
    "    return final_list "
   ]
  },
  {
   "cell_type": "code",
   "execution_count": 47,
   "metadata": {},
   "outputs": [
    {
     "name": "stdout",
     "output_type": "stream",
     "text": [
      "2521 0.2052096052096052\n"
     ]
    }
   ],
   "source": [
    "res_union_lvef_rID = Union(res_lvef_a_rID, res_lvef_b_rID)\n",
    "print(len(res_union_lvef_rID), len(res_union_lvef_rID)/baseline.shape[0])"
   ]
  },
  {
   "cell_type": "code",
   "execution_count": 48,
   "metadata": {},
   "outputs": [],
   "source": [
    "patients_lvef = baseline[baseline['rID'].isin(res_union_lvef_rID)]\n",
    "admissions_lvef = admission[admission['rID'].isin(res_union_lvef_rID)]"
   ]
  },
  {
   "cell_type": "code",
   "execution_count": 49,
   "metadata": {},
   "outputs": [
    {
     "name": "stdout",
     "output_type": "stream",
     "text": [
      "14286 0.2562878978149331\n"
     ]
    }
   ],
   "source": [
    "print(admissions_lvef.shape[0], admissions_lvef.shape[0]/admission.shape[0])"
   ]
  },
  {
   "cell_type": "code",
   "execution_count": 50,
   "metadata": {},
   "outputs": [
    {
     "data": {
      "text/plain": [
       "2774"
      ]
     },
     "execution_count": 50,
     "metadata": {},
     "output_type": "execute_result"
    }
   ],
   "source": [
    "5301-2527"
   ]
  },
  {
   "cell_type": "markdown",
   "metadata": {},
   "source": [
    "# *Add a attribute in admission dataset: admission_times"
   ]
  },
  {
   "cell_type": "markdown",
   "metadata": {},
   "source": [
    "admission_times: what number of times is this admission for a patient (e.g. first time, third times)"
   ]
  },
  {
   "cell_type": "markdown",
   "metadata": {},
   "source": [
    "work on the admissions_lvef dataframe"
   ]
  },
  {
   "cell_type": "code",
   "execution_count": 52,
   "metadata": {},
   "outputs": [],
   "source": [
    "admissions_lvef.reset_index(inplace=True)"
   ]
  },
  {
   "cell_type": "code",
   "execution_count": 53,
   "metadata": {},
   "outputs": [
    {
     "name": "stderr",
     "output_type": "stream",
     "text": [
      "/Users/jinchenxie/miniconda3/envs/research_env/lib/python3.6/site-packages/ipykernel_launcher.py:4: FutureWarning: set_value is deprecated and will be removed in a future release. Please use .at[] or .iat[] accessors instead\n",
      "  after removing the cwd from sys.path.\n",
      "/Users/jinchenxie/miniconda3/envs/research_env/lib/python3.6/site-packages/pandas/core/indexing.py:376: SettingWithCopyWarning: \n",
      "A value is trying to be set on a copy of a slice from a DataFrame.\n",
      "Try using .loc[row_indexer,col_indexer] = value instead\n",
      "\n",
      "See the caveats in the documentation: http://pandas.pydata.org/pandas-docs/stable/user_guide/indexing.html#returning-a-view-versus-a-copy\n",
      "  self.obj[key] = _infer_fill_value(value)\n",
      "/Users/jinchenxie/miniconda3/envs/research_env/lib/python3.6/site-packages/pandas/core/indexing.py:494: SettingWithCopyWarning: \n",
      "A value is trying to be set on a copy of a slice from a DataFrame.\n",
      "Try using .loc[row_indexer,col_indexer] = value instead\n",
      "\n",
      "See the caveats in the documentation: http://pandas.pydata.org/pandas-docs/stable/user_guide/indexing.html#returning-a-view-versus-a-copy\n",
      "  self.obj[item] = s\n"
     ]
    }
   ],
   "source": [
    "for i in admissions_lvef.rID.unique():\n",
    "    index = admissions_lvef[admissions_lvef['rID'] == i].index\n",
    "    for j in range(len(index)):\n",
    "        admissions_lvef = admissions_lvef.set_value(index[j],'admission_times',j+1)"
   ]
  },
  {
   "cell_type": "markdown",
   "metadata": {},
   "source": [
    "# *Add an attribute \"last_adm\" in admission dataset"
   ]
  },
  {
   "cell_type": "code",
   "execution_count": 98,
   "metadata": {},
   "outputs": [
    {
     "name": "stderr",
     "output_type": "stream",
     "text": [
      "/Users/jinchenxie/miniconda3/envs/research_env/lib/python3.6/site-packages/ipykernel_launcher.py:7: FutureWarning: set_value is deprecated and will be removed in a future release. Please use .at[] or .iat[] accessors instead\n",
      "  import sys\n",
      "/Users/jinchenxie/miniconda3/envs/research_env/lib/python3.6/site-packages/ipykernel_launcher.py:5: FutureWarning: set_value is deprecated and will be removed in a future release. Please use .at[] or .iat[] accessors instead\n",
      "  \"\"\"\n"
     ]
    }
   ],
   "source": [
    "for i in admissions_lvef.rID.unique():\n",
    "    index = admissions_lvef[admissions_lvef['rID'] == i].index\n",
    "    for j in range(len(index)):\n",
    "        if j+1 == len(index):\n",
    "            admissions_lvef = admissions_lvef.set_value(index[j],'last_adm',1)\n",
    "        else:\n",
    "            admissions_lvef = admissions_lvef.set_value(index[j],'last_adm',0)"
   ]
  },
  {
   "cell_type": "code",
   "execution_count": 100,
   "metadata": {},
   "outputs": [
    {
     "data": {
      "text/html": [
       "<div>\n",
       "<style scoped>\n",
       "    .dataframe tbody tr th:only-of-type {\n",
       "        vertical-align: middle;\n",
       "    }\n",
       "\n",
       "    .dataframe tbody tr th {\n",
       "        vertical-align: top;\n",
       "    }\n",
       "\n",
       "    .dataframe thead th {\n",
       "        text-align: right;\n",
       "    }\n",
       "</style>\n",
       "<table border=\"1\" class=\"dataframe\">\n",
       "  <thead>\n",
       "    <tr style=\"text-align: right;\">\n",
       "      <th></th>\n",
       "      <th>rID</th>\n",
       "      <th>last_adm</th>\n",
       "    </tr>\n",
       "  </thead>\n",
       "  <tbody>\n",
       "    <tr>\n",
       "      <td>0</td>\n",
       "      <td>5</td>\n",
       "      <td>0.0</td>\n",
       "    </tr>\n",
       "    <tr>\n",
       "      <td>1</td>\n",
       "      <td>5</td>\n",
       "      <td>0.0</td>\n",
       "    </tr>\n",
       "    <tr>\n",
       "      <td>2</td>\n",
       "      <td>5</td>\n",
       "      <td>0.0</td>\n",
       "    </tr>\n",
       "    <tr>\n",
       "      <td>3</td>\n",
       "      <td>5</td>\n",
       "      <td>1.0</td>\n",
       "    </tr>\n",
       "    <tr>\n",
       "      <td>4</td>\n",
       "      <td>10</td>\n",
       "      <td>0.0</td>\n",
       "    </tr>\n",
       "    <tr>\n",
       "      <td>5</td>\n",
       "      <td>10</td>\n",
       "      <td>1.0</td>\n",
       "    </tr>\n",
       "    <tr>\n",
       "      <td>6</td>\n",
       "      <td>16</td>\n",
       "      <td>0.0</td>\n",
       "    </tr>\n",
       "    <tr>\n",
       "      <td>7</td>\n",
       "      <td>16</td>\n",
       "      <td>0.0</td>\n",
       "    </tr>\n",
       "    <tr>\n",
       "      <td>8</td>\n",
       "      <td>16</td>\n",
       "      <td>0.0</td>\n",
       "    </tr>\n",
       "    <tr>\n",
       "      <td>9</td>\n",
       "      <td>16</td>\n",
       "      <td>0.0</td>\n",
       "    </tr>\n",
       "    <tr>\n",
       "      <td>10</td>\n",
       "      <td>16</td>\n",
       "      <td>1.0</td>\n",
       "    </tr>\n",
       "    <tr>\n",
       "      <td>11</td>\n",
       "      <td>28</td>\n",
       "      <td>1.0</td>\n",
       "    </tr>\n",
       "    <tr>\n",
       "      <td>12</td>\n",
       "      <td>31</td>\n",
       "      <td>0.0</td>\n",
       "    </tr>\n",
       "    <tr>\n",
       "      <td>13</td>\n",
       "      <td>31</td>\n",
       "      <td>0.0</td>\n",
       "    </tr>\n",
       "    <tr>\n",
       "      <td>14</td>\n",
       "      <td>31</td>\n",
       "      <td>0.0</td>\n",
       "    </tr>\n",
       "    <tr>\n",
       "      <td>15</td>\n",
       "      <td>31</td>\n",
       "      <td>1.0</td>\n",
       "    </tr>\n",
       "    <tr>\n",
       "      <td>16</td>\n",
       "      <td>36</td>\n",
       "      <td>0.0</td>\n",
       "    </tr>\n",
       "    <tr>\n",
       "      <td>17</td>\n",
       "      <td>36</td>\n",
       "      <td>1.0</td>\n",
       "    </tr>\n",
       "    <tr>\n",
       "      <td>18</td>\n",
       "      <td>40</td>\n",
       "      <td>0.0</td>\n",
       "    </tr>\n",
       "    <tr>\n",
       "      <td>19</td>\n",
       "      <td>40</td>\n",
       "      <td>0.0</td>\n",
       "    </tr>\n",
       "    <tr>\n",
       "      <td>20</td>\n",
       "      <td>40</td>\n",
       "      <td>1.0</td>\n",
       "    </tr>\n",
       "    <tr>\n",
       "      <td>21</td>\n",
       "      <td>45</td>\n",
       "      <td>0.0</td>\n",
       "    </tr>\n",
       "    <tr>\n",
       "      <td>22</td>\n",
       "      <td>45</td>\n",
       "      <td>0.0</td>\n",
       "    </tr>\n",
       "    <tr>\n",
       "      <td>23</td>\n",
       "      <td>45</td>\n",
       "      <td>0.0</td>\n",
       "    </tr>\n",
       "    <tr>\n",
       "      <td>24</td>\n",
       "      <td>45</td>\n",
       "      <td>0.0</td>\n",
       "    </tr>\n",
       "    <tr>\n",
       "      <td>25</td>\n",
       "      <td>45</td>\n",
       "      <td>0.0</td>\n",
       "    </tr>\n",
       "    <tr>\n",
       "      <td>26</td>\n",
       "      <td>45</td>\n",
       "      <td>0.0</td>\n",
       "    </tr>\n",
       "    <tr>\n",
       "      <td>27</td>\n",
       "      <td>45</td>\n",
       "      <td>0.0</td>\n",
       "    </tr>\n",
       "    <tr>\n",
       "      <td>28</td>\n",
       "      <td>45</td>\n",
       "      <td>1.0</td>\n",
       "    </tr>\n",
       "    <tr>\n",
       "      <td>29</td>\n",
       "      <td>52</td>\n",
       "      <td>0.0</td>\n",
       "    </tr>\n",
       "  </tbody>\n",
       "</table>\n",
       "</div>"
      ],
      "text/plain": [
       "    rID  last_adm\n",
       "0     5       0.0\n",
       "1     5       0.0\n",
       "2     5       0.0\n",
       "3     5       1.0\n",
       "4    10       0.0\n",
       "5    10       1.0\n",
       "6    16       0.0\n",
       "7    16       0.0\n",
       "8    16       0.0\n",
       "9    16       0.0\n",
       "10   16       1.0\n",
       "11   28       1.0\n",
       "12   31       0.0\n",
       "13   31       0.0\n",
       "14   31       0.0\n",
       "15   31       1.0\n",
       "16   36       0.0\n",
       "17   36       1.0\n",
       "18   40       0.0\n",
       "19   40       0.0\n",
       "20   40       1.0\n",
       "21   45       0.0\n",
       "22   45       0.0\n",
       "23   45       0.0\n",
       "24   45       0.0\n",
       "25   45       0.0\n",
       "26   45       0.0\n",
       "27   45       0.0\n",
       "28   45       1.0\n",
       "29   52       0.0"
      ]
     },
     "execution_count": 100,
     "metadata": {},
     "output_type": "execute_result"
    }
   ],
   "source": [
    "admissions_lvef[['rID','last_adm']][:30]"
   ]
  },
  {
   "cell_type": "markdown",
   "metadata": {},
   "source": [
    "# Remove Admissions after VAD taken during admission"
   ]
  },
  {
   "cell_type": "markdown",
   "metadata": {},
   "source": [
    "Attribute used: POST_VAD in the admission dataset\n",
    "We continue to work on the admissions_lvef"
   ]
  },
  {
   "cell_type": "code",
   "execution_count": 101,
   "metadata": {},
   "outputs": [
    {
     "data": {
      "text/plain": [
       "0    55530\n",
       "1      212\n",
       "Name: POST_VAD, dtype: int64"
      ]
     },
     "execution_count": 101,
     "metadata": {},
     "output_type": "execute_result"
    }
   ],
   "source": [
    "# examine the attribute first\n",
    "admission['POST_VAD'].isna().sum()\n",
    "admission['POST_VAD'].value_counts()"
   ]
  },
  {
   "cell_type": "code",
   "execution_count": 102,
   "metadata": {},
   "outputs": [],
   "source": [
    "# patients ever had POST_VAD == 1\n",
    "admissions_postvad = admissions_lvef[admissions_lvef['POST_VAD']==1]\n",
    "rID_postvad = admissions_postvad.rID.unique()"
   ]
  },
  {
   "cell_type": "code",
   "execution_count": 103,
   "metadata": {
    "scrolled": true
   },
   "outputs": [
    {
     "data": {
      "text/plain": [
       "155"
      ]
     },
     "execution_count": 103,
     "metadata": {},
     "output_type": "execute_result"
    }
   ],
   "source": [
    "len(rID_postvad)"
   ]
  },
  {
   "cell_type": "code",
   "execution_count": 104,
   "metadata": {},
   "outputs": [],
   "source": [
    "# patients who got VAD during their index admission\n",
    "rID_postvad_0 = list(admissions_postvad.loc[\n",
    "    (admissions_postvad['INDEX_HOSPITALIZATION']==1) & \n",
    "    (admissions_postvad['POST_VAD']==1)].rID)"
   ]
  },
  {
   "cell_type": "code",
   "execution_count": 105,
   "metadata": {},
   "outputs": [
    {
     "data": {
      "text/plain": [
       "52"
      ]
     },
     "execution_count": 105,
     "metadata": {},
     "output_type": "execute_result"
    }
   ],
   "source": [
    "len(rID_postvad_0)"
   ]
  },
  {
   "cell_type": "code",
   "execution_count": 106,
   "metadata": {},
   "outputs": [],
   "source": [
    "rID_postvad_1 = [i for i in rID_postvad if i not in rID_postvad_0]"
   ]
  },
  {
   "cell_type": "code",
   "execution_count": 107,
   "metadata": {},
   "outputs": [
    {
     "data": {
      "text/plain": [
       "103"
      ]
     },
     "execution_count": 107,
     "metadata": {},
     "output_type": "execute_result"
    }
   ],
   "source": [
    "len(rID_postvad_1)"
   ]
  },
  {
   "cell_type": "code",
   "execution_count": 108,
   "metadata": {},
   "outputs": [],
   "source": [
    "adm_postvad_1 = admissions_lvef.loc[admissions_lvef['rID'].isin(rID_postvad_1)]"
   ]
  },
  {
   "cell_type": "code",
   "execution_count": 109,
   "metadata": {},
   "outputs": [],
   "source": [
    "adm_postvad_1 = adm_postvad_1[['rID', 'POST_VAD']]"
   ]
  },
  {
   "cell_type": "code",
   "execution_count": 110,
   "metadata": {},
   "outputs": [],
   "source": [
    "rID_adm_2 = []\n",
    "for i in adm_postvad_1.rID.unique():\n",
    "    for j in range(adm_postvad_1.loc[adm_postvad_1['rID']==i].shape[0]):\n",
    "        if adm_postvad_1.loc[adm_postvad_1['rID']==i].iloc[j].POST_VAD == 1:\n",
    "            rID_adm_2.append((i,j+1))\n",
    "            break"
   ]
  },
  {
   "cell_type": "code",
   "execution_count": 111,
   "metadata": {},
   "outputs": [
    {
     "data": {
      "text/plain": [
       "[(242, 5),\n",
       " (264, 2),\n",
       " (327, 6),\n",
       " (385, 8),\n",
       " (509, 3),\n",
       " (716, 5),\n",
       " (752, 5),\n",
       " (834, 6),\n",
       " (836, 3),\n",
       " (843, 2),\n",
       " (873, 2),\n",
       " (1326, 3),\n",
       " (1505, 4),\n",
       " (1624, 2),\n",
       " (1744, 4),\n",
       " (1782, 5),\n",
       " (2031, 7),\n",
       " (2151, 4),\n",
       " (2578, 8),\n",
       " (2656, 4),\n",
       " (2680, 7),\n",
       " (2713, 5),\n",
       " (3076, 8),\n",
       " (3132, 7),\n",
       " (3305, 6),\n",
       " (3392, 10),\n",
       " (3486, 2),\n",
       " (3536, 2),\n",
       " (3781, 2),\n",
       " (3862, 6),\n",
       " (3864, 4),\n",
       " (3987, 2),\n",
       " (4245, 2),\n",
       " (4628, 2),\n",
       " (4762, 4),\n",
       " (4844, 6),\n",
       " (4871, 2),\n",
       " (5557, 2),\n",
       " (5750, 2),\n",
       " (5843, 2),\n",
       " (5865, 2),\n",
       " (5999, 4),\n",
       " (6178, 3),\n",
       " (6195, 5),\n",
       " (6274, 5),\n",
       " (6386, 4),\n",
       " (6754, 8),\n",
       " (6799, 6),\n",
       " (6933, 2),\n",
       " (6935, 3),\n",
       " (6937, 7),\n",
       " (7126, 4),\n",
       " (7199, 5),\n",
       " (7340, 3),\n",
       " (7462, 4),\n",
       " (7565, 3),\n",
       " (7576, 2),\n",
       " (8052, 3),\n",
       " (8103, 4),\n",
       " (8154, 10),\n",
       " (8378, 3),\n",
       " (8430, 5),\n",
       " (8520, 3),\n",
       " (8637, 6),\n",
       " (8840, 6),\n",
       " (8950, 3),\n",
       " (8984, 2),\n",
       " (9031, 2),\n",
       " (9121, 8),\n",
       " (9331, 6),\n",
       " (9406, 2),\n",
       " (9438, 9),\n",
       " (9553, 2),\n",
       " (9596, 2),\n",
       " (9636, 2),\n",
       " (9808, 7),\n",
       " (9917, 3),\n",
       " (9995, 2),\n",
       " (10059, 3),\n",
       " (10128, 2),\n",
       " (10263, 2),\n",
       " (10339, 8),\n",
       " (10342, 3),\n",
       " (10363, 5),\n",
       " (10540, 4),\n",
       " (10602, 3),\n",
       " (10628, 6),\n",
       " (10747, 2),\n",
       " (10965, 2),\n",
       " (11135, 5),\n",
       " (11136, 2),\n",
       " (11174, 4),\n",
       " (11396, 2),\n",
       " (11522, 2),\n",
       " (11530, 2),\n",
       " (11593, 14),\n",
       " (11594, 3),\n",
       " (11643, 10),\n",
       " (11655, 10),\n",
       " (11766, 5),\n",
       " (12147, 2),\n",
       " (12222, 2),\n",
       " (12226, 2)]"
      ]
     },
     "execution_count": 111,
     "metadata": {},
     "output_type": "execute_result"
    }
   ],
   "source": [
    "rID_adm_2"
   ]
  },
  {
   "cell_type": "code",
   "execution_count": 112,
   "metadata": {},
   "outputs": [],
   "source": [
    "adm_postvad = admissions_lvef.drop(\n",
    "    admissions_lvef[admissions_lvef['rID'].isin(rID_postvad_0) & \n",
    "                    (admissions_lvef['INDEX_HOSPITALIZATION']==0)].index)"
   ]
  },
  {
   "cell_type": "code",
   "execution_count": 113,
   "metadata": {},
   "outputs": [
    {
     "data": {
      "text/plain": [
       "(14082, 171)"
      ]
     },
     "execution_count": 113,
     "metadata": {},
     "output_type": "execute_result"
    }
   ],
   "source": [
    "adm_postvad.shape"
   ]
  },
  {
   "cell_type": "code",
   "execution_count": 114,
   "metadata": {},
   "outputs": [],
   "source": [
    "for t in rID_adm_2:\n",
    "    adm_postvad.drop(\n",
    "        adm_postvad[(adm_postvad['rID']==t[0])&(adm_postvad['admission_times']>t[1])].index, inplace=True\n",
    "    )"
   ]
  },
  {
   "cell_type": "code",
   "execution_count": 115,
   "metadata": {
    "scrolled": true
   },
   "outputs": [
    {
     "data": {
      "text/plain": [
       "(13476, 171)"
      ]
     },
     "execution_count": 115,
     "metadata": {},
     "output_type": "execute_result"
    }
   ],
   "source": [
    "adm_postvad.shape"
   ]
  },
  {
   "cell_type": "code",
   "execution_count": 116,
   "metadata": {},
   "outputs": [
    {
     "data": {
      "text/plain": [
       "0.24175666463349002"
      ]
     },
     "execution_count": 116,
     "metadata": {},
     "output_type": "execute_result"
    }
   ],
   "source": [
    "adm_postvad.shape[0]/admission.shape[0]"
   ]
  },
  {
   "cell_type": "code",
   "execution_count": 117,
   "metadata": {},
   "outputs": [
    {
     "data": {
      "text/plain": [
       "810"
      ]
     },
     "execution_count": 117,
     "metadata": {},
     "output_type": "execute_result"
    }
   ],
   "source": [
    "admissions_lvef.shape[0] - adm_postvad.shape[0]"
   ]
  },
  {
   "cell_type": "markdown",
   "metadata": {},
   "source": [
    "# Remove admissions after tranplant taken during admission"
   ]
  },
  {
   "cell_type": "markdown",
   "metadata": {},
   "source": [
    "Attribute use: POST_TRANSPLANT  \n",
    "Work on adm_postvad"
   ]
  },
  {
   "cell_type": "code",
   "execution_count": 118,
   "metadata": {},
   "outputs": [
    {
     "data": {
      "text/plain": [
       "0    55562\n",
       "1      180\n",
       "Name: POST_TRANSPLANT, dtype: int64"
      ]
     },
     "execution_count": 118,
     "metadata": {},
     "output_type": "execute_result"
    }
   ],
   "source": [
    "admission['POST_TRANSPLANT'].value_counts()"
   ]
  },
  {
   "cell_type": "code",
   "execution_count": 119,
   "metadata": {},
   "outputs": [],
   "source": [
    "# patients ever had POST_TRANSPLANT == 1\n",
    "admissions_postrans = adm_postvad[adm_postvad['POST_TRANSPLANT']==1]\n",
    "rID_postrans = admissions_postrans.rID.unique()"
   ]
  },
  {
   "cell_type": "code",
   "execution_count": 120,
   "metadata": {
    "scrolled": true
   },
   "outputs": [
    {
     "data": {
      "text/plain": [
       "69"
      ]
     },
     "execution_count": 120,
     "metadata": {},
     "output_type": "execute_result"
    }
   ],
   "source": [
    "len(rID_postrans)"
   ]
  },
  {
   "cell_type": "code",
   "execution_count": 121,
   "metadata": {},
   "outputs": [
    {
     "data": {
      "text/plain": [
       "3"
      ]
     },
     "execution_count": 121,
     "metadata": {},
     "output_type": "execute_result"
    }
   ],
   "source": [
    "# patients who got heart transplant in their index admission\n",
    "rID_postrans_0 = list(admissions_postrans.loc[\n",
    "    (admissions_postrans['INDEX_HOSPITALIZATION']==1) & \n",
    "    (admissions_postrans['POST_TRANSPLANT']==1)].rID)\n",
    "\n",
    "len(rID_postrans_0)"
   ]
  },
  {
   "cell_type": "code",
   "execution_count": 122,
   "metadata": {},
   "outputs": [
    {
     "data": {
      "text/plain": [
       "66"
      ]
     },
     "execution_count": 122,
     "metadata": {},
     "output_type": "execute_result"
    }
   ],
   "source": [
    "# patients who got heart transplant in follow up admissions\n",
    "rID_postrans_1 = [i for i in rID_postrans if i not in rID_postrans_0]\n",
    "len(rID_postrans_1)"
   ]
  },
  {
   "cell_type": "code",
   "execution_count": 123,
   "metadata": {},
   "outputs": [],
   "source": [
    "adm_postrans_1 = adm_postvad.loc[adm_postvad['rID'].isin(rID_postrans_1)]\n",
    "adm_postrans_1 = adm_postrans_1[['rID', 'POST_TRANSPLANT']]"
   ]
  },
  {
   "cell_type": "code",
   "execution_count": 124,
   "metadata": {},
   "outputs": [],
   "source": [
    "rID_adm_3 = []\n",
    "for i in adm_postrans_1.rID.unique():\n",
    "    for j in range(adm_postrans_1.loc[adm_postrans_1['rID']==i].shape[0]):\n",
    "        if adm_postrans_1.loc[adm_postrans_1['rID']==i].iloc[j].POST_TRANSPLANT == 1:\n",
    "            rID_adm_3.append((i,j+1))\n",
    "            break"
   ]
  },
  {
   "cell_type": "code",
   "execution_count": 125,
   "metadata": {},
   "outputs": [
    {
     "data": {
      "text/plain": [
       "[(174, 3),\n",
       " (394, 2),\n",
       " (423, 7),\n",
       " (565, 2),\n",
       " (760, 4),\n",
       " (904, 4),\n",
       " (1179, 2),\n",
       " (1273, 3),\n",
       " (1286, 2),\n",
       " (1347, 3),\n",
       " (1462, 6),\n",
       " (1498, 8),\n",
       " (2097, 4),\n",
       " (2178, 2),\n",
       " (2947, 5),\n",
       " (3324, 3),\n",
       " (3411, 2),\n",
       " (3609, 3),\n",
       " (3760, 5),\n",
       " (3852, 3),\n",
       " (4437, 2),\n",
       " (4653, 4),\n",
       " (4727, 3),\n",
       " (4840, 2),\n",
       " (4901, 3),\n",
       " (5064, 2),\n",
       " (5223, 2),\n",
       " (5291, 3),\n",
       " (5460, 2),\n",
       " (5585, 3),\n",
       " (5793, 8),\n",
       " (5876, 10),\n",
       " (6052, 6),\n",
       " (6387, 5),\n",
       " (6625, 6),\n",
       " (6635, 2),\n",
       " (7278, 7),\n",
       " (7351, 3),\n",
       " (7416, 4),\n",
       " (7446, 2),\n",
       " (7461, 4),\n",
       " (7550, 3),\n",
       " (7760, 5),\n",
       " (7905, 2),\n",
       " (8274, 8),\n",
       " (8276, 2),\n",
       " (8533, 3),\n",
       " (8552, 2),\n",
       " (8572, 2),\n",
       " (8835, 5),\n",
       " (9032, 6),\n",
       " (9767, 3),\n",
       " (9851, 5),\n",
       " (10163, 4),\n",
       " (10270, 8),\n",
       " (10296, 4),\n",
       " (10394, 3),\n",
       " (10765, 14),\n",
       " (10828, 2),\n",
       " (10945, 4),\n",
       " (11003, 2),\n",
       " (11023, 4),\n",
       " (11154, 4),\n",
       " (11297, 5),\n",
       " (11383, 2),\n",
       " (11484, 2)]"
      ]
     },
     "execution_count": 125,
     "metadata": {},
     "output_type": "execute_result"
    }
   ],
   "source": [
    "rID_adm_3"
   ]
  },
  {
   "cell_type": "code",
   "execution_count": 126,
   "metadata": {},
   "outputs": [],
   "source": [
    "adm_postrans = adm_postvad.drop(\n",
    "    adm_postvad[adm_postvad['rID'].isin(rID_postrans_0) & \n",
    "                    (adm_postvad['INDEX_HOSPITALIZATION']==0)].index)"
   ]
  },
  {
   "cell_type": "code",
   "execution_count": 127,
   "metadata": {},
   "outputs": [
    {
     "data": {
      "text/plain": [
       "(13472, 171)"
      ]
     },
     "execution_count": 127,
     "metadata": {},
     "output_type": "execute_result"
    }
   ],
   "source": [
    "adm_postrans.shape"
   ]
  },
  {
   "cell_type": "code",
   "execution_count": 128,
   "metadata": {},
   "outputs": [],
   "source": [
    "for t in rID_adm_3:\n",
    "    adm_postrans.drop(\n",
    "        adm_postrans[(adm_postrans['rID']==t[0])&\n",
    "                     (adm_postrans['admission_times']>t[1])].index, inplace=True\n",
    "    )"
   ]
  },
  {
   "cell_type": "code",
   "execution_count": 129,
   "metadata": {},
   "outputs": [
    {
     "name": "stdout",
     "output_type": "stream",
     "text": [
      "13311 0.2387965986150479\n"
     ]
    }
   ],
   "source": [
    "print(adm_postrans.shape[0], adm_postrans.shape[0]/admission.shape[0])"
   ]
  },
  {
   "cell_type": "code",
   "execution_count": 130,
   "metadata": {},
   "outputs": [
    {
     "data": {
      "text/plain": [
       "165"
      ]
     },
     "execution_count": 130,
     "metadata": {},
     "output_type": "execute_result"
    }
   ],
   "source": [
    "adm_postvad.shape[0] - adm_postrans.shape[0]"
   ]
  },
  {
   "cell_type": "markdown",
   "metadata": {},
   "source": [
    "# Export the Cohort Baseline and Admission"
   ]
  },
  {
   "cell_type": "markdown",
   "metadata": {},
   "source": [
    "The baseline for this cohort: patients_lvef  \n",
    "The admission for this cohort: adm_postrans"
   ]
  },
  {
   "cell_type": "code",
   "execution_count": 131,
   "metadata": {},
   "outputs": [
    {
     "data": {
      "text/plain": [
       "(2521, 320)"
      ]
     },
     "execution_count": 131,
     "metadata": {},
     "output_type": "execute_result"
    }
   ],
   "source": [
    "patients_lvef.shape"
   ]
  },
  {
   "cell_type": "code",
   "execution_count": 132,
   "metadata": {},
   "outputs": [
    {
     "data": {
      "text/plain": [
       "(13311, 171)"
      ]
     },
     "execution_count": 132,
     "metadata": {},
     "output_type": "execute_result"
    }
   ],
   "source": [
    "adm_postrans.shape"
   ]
  },
  {
   "cell_type": "code",
   "execution_count": null,
   "metadata": {},
   "outputs": [],
   "source": []
  },
  {
   "cell_type": "code",
   "execution_count": 133,
   "metadata": {},
   "outputs": [
    {
     "name": "stdout",
     "output_type": "stream",
     "text": [
      "DataFrame is written successfully to Excel File.\n"
     ]
    }
   ],
   "source": [
    "writer = pd.ExcelWriter('Advanced Therapy Potential Cohort.xlsx')\n",
    "patients_lvef.to_excel(writer, 'cohort baseline')\n",
    "adm_postrans.to_excel(writer, 'cohort admission')\n",
    "writer.save()\n",
    "print('DataFrame is written successfully to Excel File.')"
   ]
  },
  {
   "cell_type": "markdown",
   "metadata": {},
   "source": [
    "# END"
   ]
  },
  {
   "cell_type": "markdown",
   "metadata": {},
   "source": [
    "# Patients with LVEF <= 25"
   ]
  },
  {
   "cell_type": "markdown",
   "metadata": {},
   "source": [
    "The attributes related to ejection fraction are: LVEF, CLOSEST_LVEF_DAYS  \n",
    "These 2 attributes appear in both baseline and admission datasets"
   ]
  },
  {
   "cell_type": "code",
   "execution_count": 68,
   "metadata": {},
   "outputs": [
    {
     "name": "stdout",
     "output_type": "stream",
     "text": [
      "LVEF missing values: 3270 0.2661782661782662\n",
      "CLOSEST_LVEF_DAYS missing values: 3270 0.2661782661782662\n"
     ]
    }
   ],
   "source": [
    "# first, examine these two attributes missing values in baseline dataset\n",
    "print('LVEF missing values:', baseline['LVEF'].isna().sum(), \n",
    "      baseline['LVEF'].isna().sum()/baseline.shape[0])\n",
    "print('CLOSEST_LVEF_DAYS missing values:', baseline['CLOSEST_LVEF_DAYS'].isna().sum(), \n",
    "      baseline['CLOSEST_LVEF_DAYS'].isna().sum()/baseline.shape[0])"
   ]
  },
  {
   "cell_type": "code",
   "execution_count": 69,
   "metadata": {},
   "outputs": [
    {
     "name": "stdout",
     "output_type": "stream",
     "text": [
      "LVEF missing values: 39411 0.7070252233504359\n",
      "CLOSEST_LVEF_DAYS missing values: 39411 0.7070252233504359\n"
     ]
    }
   ],
   "source": [
    "# examine these two attributes in admission dataset\n",
    "print('LVEF missing values:', admission['LVEF'].isna().sum(), \n",
    "      admission['LVEF'].isna().sum()/admission.shape[0])\n",
    "print('CLOSEST_LVEF_DAYS missing values:', admission['CLOSEST_LVEF_DAYS'].isna().sum(), \n",
    "      admission['CLOSEST_LVEF_DAYS'].isna().sum()/admission.shape[0])"
   ]
  },
  {
   "cell_type": "markdown",
   "metadata": {},
   "source": [
    "【同个病人的LVEF in baseline和admission的data都和在一起，只要有<=25的value就算上。】"
   ]
  },
  {
   "cell_type": "code",
   "execution_count": 70,
   "metadata": {},
   "outputs": [],
   "source": [
    "# combine baseline and admission LVEF data together\n",
    "lvef_b = baseline[['rID', 'LVEF']]\n",
    "lvef_a = admission[['rID', 'LVEF']]"
   ]
  },
  {
   "cell_type": "code",
   "execution_count": 71,
   "metadata": {},
   "outputs": [
    {
     "name": "stderr",
     "output_type": "stream",
     "text": [
      "/Users/jinchenxie/miniconda3/envs/research_env/lib/python3.6/site-packages/ipykernel_launcher.py:1: SettingWithCopyWarning: \n",
      "A value is trying to be set on a copy of a slice from a DataFrame\n",
      "\n",
      "See the caveats in the documentation: http://pandas.pydata.org/pandas-docs/stable/user_guide/indexing.html#returning-a-view-versus-a-copy\n",
      "  \"\"\"Entry point for launching an IPython kernel.\n",
      "/Users/jinchenxie/miniconda3/envs/research_env/lib/python3.6/site-packages/ipykernel_launcher.py:2: SettingWithCopyWarning: \n",
      "A value is trying to be set on a copy of a slice from a DataFrame\n",
      "\n",
      "See the caveats in the documentation: http://pandas.pydata.org/pandas-docs/stable/user_guide/indexing.html#returning-a-view-versus-a-copy\n",
      "  \n"
     ]
    }
   ],
   "source": [
    "lvef_a.dropna(inplace=True)\n",
    "lvef_b.dropna(inplace=True)"
   ]
  },
  {
   "cell_type": "markdown",
   "metadata": {},
   "source": [
    "## without other restrictions, how many patients left"
   ]
  },
  {
   "cell_type": "code",
   "execution_count": 304,
   "metadata": {},
   "outputs": [],
   "source": [
    "lvef_a_rID = list(lvef_a.loc[lvef_a['LVEF']<=40].rID)\n",
    "lvef_b_rID = list(lvef_b.loc[lvef_b['LVEF']<=40].rID)"
   ]
  },
  {
   "cell_type": "code",
   "execution_count": 305,
   "metadata": {},
   "outputs": [
    {
     "name": "stdout",
     "output_type": "stream",
     "text": [
      "6771 4045\n"
     ]
    }
   ],
   "source": [
    "print(len(lvef_a_rID),len(lvef_b_rID))"
   ]
  },
  {
   "cell_type": "code",
   "execution_count": 306,
   "metadata": {},
   "outputs": [],
   "source": [
    "def Union(lst1, lst2): \n",
    "    final_list = list(set(lst1) | set(lst2)) \n",
    "    return final_list "
   ]
  },
  {
   "cell_type": "code",
   "execution_count": 307,
   "metadata": {},
   "outputs": [
    {
     "name": "stdout",
     "output_type": "stream",
     "text": [
      "5059 0.4118030118030118\n"
     ]
    }
   ],
   "source": [
    "union_lvef_rID = Union(lvef_a_rID, lvef_b_rID)\n",
    "print(len(union_lvef_rID), len(union_lvef_rID)/baseline.shape[0])"
   ]
  },
  {
   "cell_type": "markdown",
   "metadata": {},
   "source": [
    "## With other restrictions in place"
   ]
  },
  {
   "cell_type": "markdown",
   "metadata": {},
   "source": [
    "We use the list of rID: rID_liver, patients_liver and admission_liver"
   ]
  },
  {
   "cell_type": "code",
   "execution_count": 77,
   "metadata": {},
   "outputs": [
    {
     "name": "stdout",
     "output_type": "stream",
     "text": [
      "rID     0.000000\n",
      "LVEF    0.359334\n",
      "dtype: float64 rID     0.00000\n",
      "LVEF    0.11453\n",
      "dtype: float64\n"
     ]
    }
   ],
   "source": [
    "res_lvef_b = patients_vad[['rID', 'LVEF']]\n",
    "res_lvef_a = admissions_vad[['rID', 'LVEF']]\n",
    "print(res_lvef_a.isna().sum()/admission.shape[0], res_lvef_b.isna().sum()/baseline.shape[0])"
   ]
  },
  {
   "cell_type": "code",
   "execution_count": 78,
   "metadata": {},
   "outputs": [
    {
     "name": "stderr",
     "output_type": "stream",
     "text": [
      "/Users/jinchenxie/miniconda3/envs/research_env/lib/python3.6/site-packages/ipykernel_launcher.py:1: SettingWithCopyWarning: \n",
      "A value is trying to be set on a copy of a slice from a DataFrame\n",
      "\n",
      "See the caveats in the documentation: http://pandas.pydata.org/pandas-docs/stable/user_guide/indexing.html#returning-a-view-versus-a-copy\n",
      "  \"\"\"Entry point for launching an IPython kernel.\n",
      "/Users/jinchenxie/miniconda3/envs/research_env/lib/python3.6/site-packages/ipykernel_launcher.py:2: SettingWithCopyWarning: \n",
      "A value is trying to be set on a copy of a slice from a DataFrame\n",
      "\n",
      "See the caveats in the documentation: http://pandas.pydata.org/pandas-docs/stable/user_guide/indexing.html#returning-a-view-versus-a-copy\n",
      "  \n"
     ]
    }
   ],
   "source": [
    "res_lvef_a.dropna(inplace=True)\n",
    "res_lvef_b.dropna(inplace=True)"
   ]
  },
  {
   "cell_type": "code",
   "execution_count": 79,
   "metadata": {},
   "outputs": [],
   "source": [
    "res_lvef_a_rID = list(res_lvef_a.loc[res_lvef_a['LVEF']<=25].rID)\n",
    "res_lvef_b_rID = list(res_lvef_b.loc[res_lvef_b['LVEF']<=25].rID)"
   ]
  },
  {
   "cell_type": "code",
   "execution_count": 80,
   "metadata": {},
   "outputs": [
    {
     "name": "stdout",
     "output_type": "stream",
     "text": [
      "2219 1321\n"
     ]
    }
   ],
   "source": [
    "print(len(res_lvef_a_rID),len(res_lvef_b_rID))"
   ]
  },
  {
   "cell_type": "code",
   "execution_count": 81,
   "metadata": {},
   "outputs": [
    {
     "name": "stdout",
     "output_type": "stream",
     "text": [
      "1705 0.13878713878713878\n"
     ]
    }
   ],
   "source": [
    "res_union_lvef_rID = Union(res_lvef_a_rID, res_lvef_b_rID)\n",
    "print(len(res_union_lvef_rID), len(res_union_lvef_rID)/baseline.shape[0])"
   ]
  },
  {
   "cell_type": "code",
   "execution_count": 82,
   "metadata": {},
   "outputs": [],
   "source": [
    "patients_lvef = baseline[baseline['rID'].isin(res_union_lvef_rID)]\n",
    "admissions_lvef = admission[admission['rID'].isin(res_union_lvef_rID)]"
   ]
  },
  {
   "cell_type": "code",
   "execution_count": 83,
   "metadata": {},
   "outputs": [
    {
     "name": "stdout",
     "output_type": "stream",
     "text": [
      "9578 0.1718273474220516\n"
     ]
    }
   ],
   "source": [
    "print(admissions_lvef.shape[0], admissions_lvef.shape[0]/admission.shape[0])"
   ]
  },
  {
   "cell_type": "markdown",
   "metadata": {},
   "source": [
    "## What if using 30 as threshold?"
   ]
  },
  {
   "cell_type": "code",
   "execution_count": 84,
   "metadata": {},
   "outputs": [],
   "source": [
    "res_lvef_b = patients_vad[['rID', 'LVEF']]\n",
    "res_lvef_a = admissions_vad[['rID', 'LVEF']]"
   ]
  },
  {
   "cell_type": "code",
   "execution_count": 85,
   "metadata": {},
   "outputs": [
    {
     "name": "stderr",
     "output_type": "stream",
     "text": [
      "/Users/jinchenxie/miniconda3/envs/research_env/lib/python3.6/site-packages/ipykernel_launcher.py:1: SettingWithCopyWarning: \n",
      "A value is trying to be set on a copy of a slice from a DataFrame\n",
      "\n",
      "See the caveats in the documentation: http://pandas.pydata.org/pandas-docs/stable/user_guide/indexing.html#returning-a-view-versus-a-copy\n",
      "  \"\"\"Entry point for launching an IPython kernel.\n",
      "/Users/jinchenxie/miniconda3/envs/research_env/lib/python3.6/site-packages/ipykernel_launcher.py:2: SettingWithCopyWarning: \n",
      "A value is trying to be set on a copy of a slice from a DataFrame\n",
      "\n",
      "See the caveats in the documentation: http://pandas.pydata.org/pandas-docs/stable/user_guide/indexing.html#returning-a-view-versus-a-copy\n",
      "  \n"
     ]
    }
   ],
   "source": [
    "res_lvef_a.dropna(inplace=True)\n",
    "res_lvef_b.dropna(inplace=True)\n",
    "lvef_a_rID = list(res_lvef_a.loc[lvef_a['LVEF']<=40].rID)\n",
    "lvef_b_rID = list(res_lvef_b.loc[lvef_b['LVEF']<=40].rID)"
   ]
  },
  {
   "cell_type": "code",
   "execution_count": 86,
   "metadata": {},
   "outputs": [
    {
     "name": "stdout",
     "output_type": "stream",
     "text": [
      "2527 0.2056980056980057\n"
     ]
    }
   ],
   "source": [
    "union_lvef_rID = Union(lvef_a_rID, lvef_b_rID)\n",
    "print(len(union_lvef_rID), len(union_lvef_rID)/baseline.shape[0])"
   ]
  },
  {
   "cell_type": "markdown",
   "metadata": {},
   "source": [
    "# Extract the patients with no EF value"
   ]
  },
  {
   "cell_type": "markdown",
   "metadata": {},
   "source": [
    "## Patients with missing LVEF in baseline"
   ]
  },
  {
   "cell_type": "code",
   "execution_count": 87,
   "metadata": {},
   "outputs": [],
   "source": [
    "pat_noef_b = baseline.loc[baseline['LVEF'].isna()]"
   ]
  },
  {
   "cell_type": "code",
   "execution_count": 88,
   "metadata": {},
   "outputs": [],
   "source": [
    "pat_noef_b_part = pat_noef_b[['rID', 'LVEF']]"
   ]
  },
  {
   "cell_type": "code",
   "execution_count": 89,
   "metadata": {},
   "outputs": [],
   "source": [
    "id_noef_b = pat_noef_b_part['rID']"
   ]
  },
  {
   "cell_type": "code",
   "execution_count": 90,
   "metadata": {},
   "outputs": [
    {
     "data": {
      "text/plain": [
       "3270"
      ]
     },
     "execution_count": 90,
     "metadata": {},
     "output_type": "execute_result"
    }
   ],
   "source": [
    "len(id_noef_b)"
   ]
  },
  {
   "cell_type": "markdown",
   "metadata": {},
   "source": [
    "## Admissions with missing LVEF in admission"
   ]
  },
  {
   "cell_type": "code",
   "execution_count": 91,
   "metadata": {},
   "outputs": [],
   "source": [
    "adm_noef = admission.loc[admission['LVEF'].isna()]"
   ]
  },
  {
   "cell_type": "code",
   "execution_count": 92,
   "metadata": {},
   "outputs": [],
   "source": [
    "# how many time LVEF is not missing for each patient in the admission dataset\n",
    "id_times_adm = admission[['rID','LVEF']].groupby(['rID']).count()"
   ]
  },
  {
   "cell_type": "code",
   "execution_count": 93,
   "metadata": {},
   "outputs": [],
   "source": [
    "# patients with no LVEF values in admission dataset\n",
    "pat_noef_a_part = id_times_adm[id_times_adm['LVEF']==0]"
   ]
  },
  {
   "cell_type": "code",
   "execution_count": 94,
   "metadata": {},
   "outputs": [],
   "source": [
    "id_noef_a = list(pat_noef_a_part.index.values)"
   ]
  },
  {
   "cell_type": "code",
   "execution_count": 95,
   "metadata": {},
   "outputs": [
    {
     "data": {
      "text/plain": [
       "3747"
      ]
     },
     "execution_count": 95,
     "metadata": {},
     "output_type": "execute_result"
    }
   ],
   "source": [
    "len(id_noef_a)"
   ]
  },
  {
   "cell_type": "markdown",
   "metadata": {},
   "source": [
    "## Patients with no LVEF at all in either datasets"
   ]
  },
  {
   "cell_type": "code",
   "execution_count": 96,
   "metadata": {},
   "outputs": [],
   "source": [
    "def intersection(lst1, lst2): \n",
    "    return list(set(lst1) & set(lst2)) "
   ]
  },
  {
   "cell_type": "code",
   "execution_count": 97,
   "metadata": {},
   "outputs": [],
   "source": [
    "id_noef = intersection(id_noef_b, id_noef_a)"
   ]
  },
  {
   "cell_type": "code",
   "execution_count": 98,
   "metadata": {},
   "outputs": [
    {
     "data": {
      "text/plain": [
       "2167"
      ]
     },
     "execution_count": 98,
     "metadata": {},
     "output_type": "execute_result"
    }
   ],
   "source": [
    "len(id_noef)"
   ]
  },
  {
   "cell_type": "code",
   "execution_count": 99,
   "metadata": {},
   "outputs": [],
   "source": [
    "pat_noef = baseline[baseline['rID'].isin(id_noef)][['rID', 'LVEF']]"
   ]
  },
  {
   "cell_type": "markdown",
   "metadata": {},
   "source": [
    "Export to xlsx file:"
   ]
  },
  {
   "cell_type": "code",
   "execution_count": 100,
   "metadata": {},
   "outputs": [
    {
     "data": {
      "text/plain": [
       "'/Users/jinchenxie/Desktop/HF_Research/datasets'"
      ]
     },
     "execution_count": 100,
     "metadata": {},
     "output_type": "execute_result"
    }
   ],
   "source": [
    "%pwd"
   ]
  },
  {
   "cell_type": "code",
   "execution_count": 101,
   "metadata": {},
   "outputs": [
    {
     "name": "stdout",
     "output_type": "stream",
     "text": [
      "DataFrame is written successfully to Excel File.\n"
     ]
    }
   ],
   "source": [
    "writer = pd.ExcelWriter('missing_LVEF.xlsx')\n",
    "pat_noef_b_part.to_excel(writer, 'in_baseline')\n",
    "pat_noef_a_part.to_excel(writer, 'in_admission')\n",
    "pat_noef.to_excel(writer, 'in_both')\n",
    "\n",
    "writer.save()\n",
    "print('DataFrame is written successfully to Excel File.')"
   ]
  }
 ],
 "metadata": {
  "kernelspec": {
   "display_name": "Python 3",
   "language": "python",
   "name": "python3"
  },
  "language_info": {
   "codemirror_mode": {
    "name": "ipython",
    "version": 3
   },
   "file_extension": ".py",
   "mimetype": "text/x-python",
   "name": "python",
   "nbconvert_exporter": "python",
   "pygments_lexer": "ipython3",
   "version": "3.6.9"
  },
  "toc": {
   "base_numbering": 1,
   "nav_menu": {},
   "number_sections": true,
   "sideBar": true,
   "skip_h1_title": false,
   "title_cell": "Table of Contents",
   "title_sidebar": "Contents",
   "toc_cell": true,
   "toc_position": {},
   "toc_section_display": true,
   "toc_window_display": true
  }
 },
 "nbformat": 4,
 "nbformat_minor": 4
}
